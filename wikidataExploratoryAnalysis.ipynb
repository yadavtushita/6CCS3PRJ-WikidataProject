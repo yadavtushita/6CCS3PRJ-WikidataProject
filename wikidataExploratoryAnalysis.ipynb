{
 "cells": [
  {
   "cell_type": "code",
   "execution_count": 1,
   "metadata": {},
   "outputs": [],
   "source": [
    "import pandas as pd\n",
    "from pandas import DataFrame\n",
    "import matplotlib.pyplot as plt\n",
    "import numpy as np"
   ]
  },
  {
   "cell_type": "code",
   "execution_count": 2,
   "metadata": {},
   "outputs": [],
   "source": [
    "data_count = pd.read_csv('/Users/tushi/PRJ/WikidataParsing/no_of_edits_all.csv')"
   ]
  },
  {
   "cell_type": "code",
   "execution_count": 3,
   "metadata": {},
   "outputs": [
    {
     "data": {
      "text/html": [
       "<div>\n",
       "<style scoped>\n",
       "    .dataframe tbody tr th:only-of-type {\n",
       "        vertical-align: middle;\n",
       "    }\n",
       "\n",
       "    .dataframe tbody tr th {\n",
       "        vertical-align: top;\n",
       "    }\n",
       "\n",
       "    .dataframe thead th {\n",
       "        text-align: right;\n",
       "    }\n",
       "</style>\n",
       "<table border=\"1\" class=\"dataframe\">\n",
       "  <thead>\n",
       "    <tr style=\"text-align: right;\">\n",
       "      <th></th>\n",
       "      <th>Unnamed: 0</th>\n",
       "      <th>pagetitle</th>\n",
       "    </tr>\n",
       "  </thead>\n",
       "  <tbody>\n",
       "    <tr>\n",
       "      <th>0</th>\n",
       "      <td>Q27335409</td>\n",
       "      <td>4231</td>\n",
       "    </tr>\n",
       "    <tr>\n",
       "      <th>1</th>\n",
       "      <td>Q27335792</td>\n",
       "      <td>4096</td>\n",
       "    </tr>\n",
       "    <tr>\n",
       "      <th>2</th>\n",
       "      <td>Q27336022</td>\n",
       "      <td>4042</td>\n",
       "    </tr>\n",
       "    <tr>\n",
       "      <th>3</th>\n",
       "      <td>Q27336098</td>\n",
       "      <td>4007</td>\n",
       "    </tr>\n",
       "    <tr>\n",
       "      <th>4</th>\n",
       "      <td>Q27336831</td>\n",
       "      <td>3874</td>\n",
       "    </tr>\n",
       "  </tbody>\n",
       "</table>\n",
       "</div>"
      ],
      "text/plain": [
       "  Unnamed: 0  pagetitle\n",
       "0  Q27335409       4231\n",
       "1  Q27335792       4096\n",
       "2  Q27336022       4042\n",
       "3  Q27336098       4007\n",
       "4  Q27336831       3874"
      ]
     },
     "execution_count": 3,
     "metadata": {},
     "output_type": "execute_result"
    }
   ],
   "source": [
    "data_count.head()"
   ]
  },
  {
   "cell_type": "code",
   "execution_count": 4,
   "metadata": {},
   "outputs": [
    {
     "data": {
      "text/html": [
       "<div>\n",
       "<style scoped>\n",
       "    .dataframe tbody tr th:only-of-type {\n",
       "        vertical-align: middle;\n",
       "    }\n",
       "\n",
       "    .dataframe tbody tr th {\n",
       "        vertical-align: top;\n",
       "    }\n",
       "\n",
       "    .dataframe thead th {\n",
       "        text-align: right;\n",
       "    }\n",
       "</style>\n",
       "<table border=\"1\" class=\"dataframe\">\n",
       "  <thead>\n",
       "    <tr style=\"text-align: right;\">\n",
       "      <th></th>\n",
       "      <th>Unnamed: 0</th>\n",
       "      <th>pagetitle</th>\n",
       "    </tr>\n",
       "  </thead>\n",
       "  <tbody>\n",
       "    <tr>\n",
       "      <th>8365809</th>\n",
       "      <td>Q19561471</td>\n",
       "      <td>1</td>\n",
       "    </tr>\n",
       "    <tr>\n",
       "      <th>8365810</th>\n",
       "      <td>Q10606187</td>\n",
       "      <td>1</td>\n",
       "    </tr>\n",
       "    <tr>\n",
       "      <th>8365811</th>\n",
       "      <td>Q612146</td>\n",
       "      <td>1</td>\n",
       "    </tr>\n",
       "    <tr>\n",
       "      <th>8365812</th>\n",
       "      <td>Q9197261</td>\n",
       "      <td>1</td>\n",
       "    </tr>\n",
       "    <tr>\n",
       "      <th>8365813</th>\n",
       "      <td>Q1918053</td>\n",
       "      <td>1</td>\n",
       "    </tr>\n",
       "  </tbody>\n",
       "</table>\n",
       "</div>"
      ],
      "text/plain": [
       "        Unnamed: 0  pagetitle\n",
       "8365809  Q19561471          1\n",
       "8365810  Q10606187          1\n",
       "8365811    Q612146          1\n",
       "8365812   Q9197261          1\n",
       "8365813   Q1918053          1"
      ]
     },
     "execution_count": 4,
     "metadata": {},
     "output_type": "execute_result"
    }
   ],
   "source": [
    "data_count.tail()"
   ]
  },
  {
   "cell_type": "code",
   "execution_count": 6,
   "metadata": {},
   "outputs": [
    {
     "data": {
      "text/plain": [
       "(8365814, 2)"
      ]
     },
     "execution_count": 6,
     "metadata": {},
     "output_type": "execute_result"
    }
   ],
   "source": [
    "data_count.shape"
   ]
  },
  {
   "cell_type": "markdown",
   "metadata": {},
   "source": [
    "Data contains 8,365,814 unique Wikidata items alongside the \n",
    "number of occurrences of each that is the number of revisions/edits\n",
    "within the selected timespan of Oct-Nov-Dec 2016"
   ]
  },
  {
   "cell_type": "code",
   "execution_count": 8,
   "metadata": {},
   "outputs": [
    {
     "name": "stdout",
     "output_type": "stream",
     "text": [
      "<class 'pandas.core.frame.DataFrame'>\n",
      "RangeIndex: 8365814 entries, 0 to 8365813\n",
      "Data columns (total 2 columns):\n",
      " #   Column      Dtype \n",
      "---  ------      ----- \n",
      " 0   Unnamed: 0  object\n",
      " 1   pagetitle   int64 \n",
      "dtypes: int64(1), object(1)\n",
      "memory usage: 127.7+ MB\n"
     ]
    }
   ],
   "source": [
    "data_count.info()"
   ]
  },
  {
   "cell_type": "markdown",
   "metadata": {},
   "source": [
    "The dataframe contains 2 columns. Column 1 is of type object that is the values are used as is (as per documentation) and the values of the second column are of type int64. It does not contain any null or missing values."
   ]
  },
  {
   "cell_type": "code",
   "execution_count": 9,
   "metadata": {},
   "outputs": [
    {
     "data": {
      "text/html": [
       "<div>\n",
       "<style scoped>\n",
       "    .dataframe tbody tr th:only-of-type {\n",
       "        vertical-align: middle;\n",
       "    }\n",
       "\n",
       "    .dataframe tbody tr th {\n",
       "        vertical-align: top;\n",
       "    }\n",
       "\n",
       "    .dataframe thead th {\n",
       "        text-align: right;\n",
       "    }\n",
       "</style>\n",
       "<table border=\"1\" class=\"dataframe\">\n",
       "  <thead>\n",
       "    <tr style=\"text-align: right;\">\n",
       "      <th></th>\n",
       "      <th>pagetitle</th>\n",
       "    </tr>\n",
       "  </thead>\n",
       "  <tbody>\n",
       "    <tr>\n",
       "      <th>count</th>\n",
       "      <td>8.365814e+06</td>\n",
       "    </tr>\n",
       "    <tr>\n",
       "      <th>mean</th>\n",
       "      <td>4.720471e+00</td>\n",
       "    </tr>\n",
       "    <tr>\n",
       "      <th>std</th>\n",
       "      <td>1.435651e+01</td>\n",
       "    </tr>\n",
       "    <tr>\n",
       "      <th>min</th>\n",
       "      <td>1.000000e+00</td>\n",
       "    </tr>\n",
       "    <tr>\n",
       "      <th>25%</th>\n",
       "      <td>1.000000e+00</td>\n",
       "    </tr>\n",
       "    <tr>\n",
       "      <th>50%</th>\n",
       "      <td>2.000000e+00</td>\n",
       "    </tr>\n",
       "    <tr>\n",
       "      <th>75%</th>\n",
       "      <td>4.000000e+00</td>\n",
       "    </tr>\n",
       "    <tr>\n",
       "      <th>max</th>\n",
       "      <td>4.231000e+03</td>\n",
       "    </tr>\n",
       "  </tbody>\n",
       "</table>\n",
       "</div>"
      ],
      "text/plain": [
       "          pagetitle\n",
       "count  8.365814e+06\n",
       "mean   4.720471e+00\n",
       "std    1.435651e+01\n",
       "min    1.000000e+00\n",
       "25%    1.000000e+00\n",
       "50%    2.000000e+00\n",
       "75%    4.000000e+00\n",
       "max    4.231000e+03"
      ]
     },
     "execution_count": 9,
     "metadata": {},
     "output_type": "execute_result"
    }
   ],
   "source": [
    "data_count.describe()"
   ]
  },
  {
   "cell_type": "markdown",
   "metadata": {},
   "source": [
    "Count: 8,365,814\n",
    "\n",
    "Mean: 4.720471\n",
    "\n",
    "Standard Deviation: 14.35651\n",
    "\n",
    "Minimum: 1\n",
    "\n",
    "25th Percentile: 1\n",
    "\n",
    "50th Percentile (Median): 2\n",
    "\n",
    "75th Percentile: 4\n",
    "\n",
    "Maximum: 4231"
   ]
  },
  {
   "cell_type": "markdown",
   "metadata": {},
   "source": [
    "# Observations\n",
    "\n",
    "The Mean value of the occurrences of edits for the Wikidata items is 4.720471. This is the average number of edits for items in the dataset. (Remember mean is significantly influenced by outliers)\n",
    "\n",
    "Standard deviation is the spread of data as compared to the mean. (How much does individual data differ from the mean of the dataset?) \n",
    "\n",
    "Range is the maximum - minimum however that does not tell us much about the data.\n",
    "\n",
    "25th percentile tells us that about 25% of the wikidata items in the dataset have no of edits that \n",
    "\n",
    "50th percentile or the median of the data tells us that 50% of the no of edits were at or below the value 2\n",
    "\n",
    "75th percentile tells us that 75% of the no of edits in the dataset were at or below the value of 4\n",
    "\n",
    "Thus as per this, since we are interested in wikidata items that are highly edited, the data that we are interested lies above the 75th percentile. (Only about 25% of the total number of wikidata items that have been collected are useful to the analysis)\n"
   ]
  },
  {
   "cell_type": "code",
   "execution_count": 12,
   "metadata": {},
   "outputs": [
    {
     "data": {
      "text/plain": [
       "array([4231, 4096, 4042, 4007, 3874, 2610, 2097, 1759, 1618, 1611, 1607,\n",
       "       1462, 1437, 1288, 1283, 1276, 1269, 1266, 1257, 1233, 1222, 1221,\n",
       "       1199, 1187, 1186, 1178, 1174, 1147, 1101, 1096, 1071, 1049, 1044,\n",
       "       1032, 1026, 1020, 1004,  975,  966,  948,  930,  924,  920,  913,\n",
       "        895,  892,  890,  862,  860,  859,  858,  857,  838,  837,  834,\n",
       "        829,  812,  807,  754,  745,  744,  736,  730,  714,  704,  669,\n",
       "        661,  617,  616,  589,  586,  578,  570,  568,  556,  555,  552,\n",
       "        546,  545,  542,  537,  536,  531,  523,  520,  510,  494,  492,\n",
       "        490,  484,  476,  474,  473,  472,  471,  470,  468,  467,  466,\n",
       "        461,  458,  457,  455,  449,  446,  442,  439,  438,  437,  436,\n",
       "        435,  429,  428,  427,  426,  425,  423,  422,  421,  420,  417,\n",
       "        416,  415,  414,  413,  412,  411,  410,  408,  406,  405,  404,\n",
       "        403,  402,  399,  398,  396,  394,  392,  391,  390,  387,  386,\n",
       "        385,  384,  382,  378,  377,  376,  372,  371,  369,  367,  366,\n",
       "        365,  363,  362,  360,  359,  358,  357,  356,  355,  352,  350,\n",
       "        348,  347,  346,  345,  341,  340,  339,  338,  337,  336,  335,\n",
       "        334,  333,  332,  331,  330,  329,  328,  327,  326,  325,  324,\n",
       "        323,  322,  321,  320,  319,  318,  317,  316,  315,  314,  313,\n",
       "        312,  311,  310,  309,  308,  307,  306,  305,  304,  303,  302,\n",
       "        301,  300,  299,  298,  297,  296,  295,  294,  293,  292,  291,\n",
       "        290,  289,  288,  287,  286,  285,  284,  283,  282,  281,  280,\n",
       "        279,  278,  277,  276,  275,  274,  273,  272,  271,  270,  269,\n",
       "        268,  267,  266,  265,  264,  263,  262,  261,  260,  259,  258,\n",
       "        257,  256,  255,  254,  253,  252,  251,  250,  249,  248,  247,\n",
       "        246,  245,  244,  243,  242,  241,  240,  239,  238,  237,  236,\n",
       "        235,  234,  233,  232,  231,  230,  229,  228,  227,  226,  225,\n",
       "        224,  223,  222,  221,  220,  219,  218,  217,  216,  215,  214,\n",
       "        213,  212,  211,  210,  209,  208,  207,  206,  205,  204,  203,\n",
       "        202,  201,  200,  199,  198,  197,  196,  195,  194,  193,  192,\n",
       "        191,  190,  189,  188,  187,  186,  185,  184,  183,  182,  181,\n",
       "        180,  179,  178,  177,  176,  175,  174,  173,  172,  171,  170,\n",
       "        169,  168,  167,  166,  165,  164,  163,  162,  161,  160,  159,\n",
       "        158,  157,  156,  155,  154,  153,  152,  151,  150,  149,  148,\n",
       "        147,  146,  145,  144,  143,  142,  141,  140,  139,  138,  137,\n",
       "        136,  135,  134,  133,  132,  131,  130,  129,  128,  127,  126,\n",
       "        125,  124,  123,  122,  121,  120,  119,  118,  117,  116,  115,\n",
       "        114,  113,  112,  111,  110,  109,  108,  107,  106,  105,  104,\n",
       "        103,  102,  101,  100,   99,   98,   97,   96,   95,   94,   93,\n",
       "         92,   91,   90,   89,   88,   87,   86,   85,   84,   83,   82,\n",
       "         81,   80,   79,   78,   77,   76,   75,   74,   73,   72,   71,\n",
       "         70,   69,   68,   67,   66,   65,   64,   63,   62,   61,   60,\n",
       "         59,   58,   57,   56,   55,   54,   53,   52,   51,   50,   49,\n",
       "         48,   47,   46,   45,   44,   43,   42,   41,   40,   39,   38,\n",
       "         37,   36,   35,   34,   33,   32,   31,   30,   29,   28,   27,\n",
       "         26,   25,   24,   23,   22,   21,   20,   19,   18,   17,   16,\n",
       "         15,   14,   13,   12,   11,   10,    9,    8,    7,    6,    5,\n",
       "          4,    3,    2,    1], dtype=int64)"
      ]
     },
     "execution_count": 12,
     "metadata": {},
     "output_type": "execute_result"
    }
   ],
   "source": [
    "# Number of revisions in the data i.e. the unique values of the \n",
    "# no of edits for wikidata items\n",
    "data_count.pagetitle.unique()"
   ]
  },
  {
   "cell_type": "code",
   "execution_count": null,
   "metadata": {},
   "outputs": [],
   "source": [
    "# Need to create a frequency table as per the above values\n",
    "# To understand things like how many items had an occurence of 1, 2, 3 and so on\n",
    "# Similarly to see how many items fall above a range of ceratin edits\n",
    "# (ex: greater than 5 as though before cause then we would want to get rid of it)\n",
    "# one link specified how to calculate the ranges mathematically"
   ]
  },
  {
   "cell_type": "code",
   "execution_count": 74,
   "metadata": {},
   "outputs": [
    {
     "name": "stdout",
     "output_type": "stream",
     "text": [
      "<class 'pandas.core.series.Series'>\n"
     ]
    },
    {
     "data": {
      "image/png": "[encoded data removed]",
      "text/plain": [
       "<Figure size 432x288 with 1 Axes>"
      ]
     },
     "metadata": {
      "needs_background": "light"
     },
     "output_type": "display_data"
    }
   ],
   "source": [
    "data_item_count = data_count.groupby('pagetitle')['pagetitle'].count()\n",
    "# data_item_count.columns = ['Edit Values', 'NoOfWikidataItems']\n",
    "# print(data_item_count.columns)\n",
    "print(type(data_item_count))\n",
    "plt.plot(data_item_count.index, data_item_count.values)\n",
    "ax = plt.gca()\n",
    "# ax.set_xlim([xmin, xmax])\n",
    "ymin = 1\n",
    "ymax = 10\n",
    "ax.set_ylim([ymin, ymax])\n",
    "plt.show()\n",
    "# Just a rough idea; \n",
    "# TODO: Create an informative plot of edits vs no of wikidata items for those edits"
   ]
  },
  {
   "cell_type": "markdown",
   "metadata": {},
   "source": [
    "Above plot does not show anything useful due to the large range of values, however note that the values go upto 4231 which is the max no of edits for one of the wikidata items"
   ]
  },
  {
   "cell_type": "markdown",
   "metadata": {},
   "source": [
    "Above calculates the number of items(right) which have a specific number of edits(left)\n",
    "\n",
    "2 million+ items in the datatset of 8million+ unique wikidata items have no of edits as 1.\n",
    "2 million+ items have no of edits as 2 and similarly as given above. \n",
    "\n",
    "More than half the dataset (4 million+ out of 8million+) has edits that fall under a very low value that is less than 5 or 4 as to be chosen according to research later on (this is what needs to be eliminated as we would not be interested in these values as they have a very low number of edits)"
   ]
  },
  {
   "cell_type": "code",
   "execution_count": 39,
   "metadata": {},
   "outputs": [],
   "source": [
    "data_item_count.to_csv('wikidata_items_editvalues.csv',\n",
    "                       header=['NoOfWikidataItems'])"
   ]
  },
  {
   "cell_type": "code",
   "execution_count": 49,
   "metadata": {},
   "outputs": [
    {
     "name": "stdout",
     "output_type": "stream",
     "text": [
      "[2939993 2087685  960710  556612  396137  240110  215929  135406   94671\n",
      "  122156   64831   62210   36218   32223   29415   41450   34475   27366\n",
      "   21009   16174   28364   11537    8349   10014    6216    5597    6085\n",
      "    6697    5449    5964    5919    6681    5989    5230    6033    4883\n",
      "    4479    3971    4403    2903    3161    2772    2377    2111    2093\n",
      "    1525    1835    1546    1576    1386    1448    1212    1283    1222\n",
      "    1189    1052    1147    1016    1108    1187    1546    2213    3901\n",
      "    5995    6505    5866    3205    1560    1018     750     636     673\n",
      "     574     510     539     483     476     494     461     510     569\n",
      "     576     508     619     634     661     634     717     705     712\n",
      "     685     753    1348    1502    1383    1066     956     838     788\n",
      "     680     639     606     562     437     410     417     400     358\n",
      "     348     300     291     252     249     242     171     198     158\n",
      "     170     140     152     116     173     112     143     138     183\n",
      "     151     119     120      98     118      85      81      89      67\n",
      "      97      70      78      61      64      59      49      55      56\n",
      "      53      42      49      38      39      38      38      34      50\n",
      "      26      34      21      30      27      21      20      26      16\n",
      "      10      20      16      17      16      25      23      17      16\n",
      "      17      16      17      15      10      15      10      11      13\n",
      "      19      10      16      21       9      19      10       8       8\n",
      "      13       9      20      21      12      14      22       7      11\n",
      "      17      17      15      26      13      24      20       9      14\n",
      "      21       6      11      16      15      20      22       9      19\n",
      "      24      14      17      18      17      10      19       9      16\n",
      "      23      14      14      29      14      15      39      22      14\n",
      "      41      16      10      36      13      17      50      15      23\n",
      "      40      16      16      37      16      24      36      18      22\n",
      "      57      15      20      40       8      19      45      14      21\n",
      "      44      20      21      45      18      30      54      14      18\n",
      "      38      14      18      41      23      27      43      24      25\n",
      "      39      22      34      53      16      24      54      15      35\n",
      "      51      18      29      41      23      39      52      19      31\n",
      "      51      29      32      60      31      50      62      32      67\n",
      "     108      94      90     141     121     175     213     206     218\n",
      "     255     275     269     201     178     223     172      80     100\n",
      "     119      64      98     136      99     226     504     120     446\n",
      "    1063     156     288     199      34      41       5       4       1\n",
      "       2       1       1       3       1       4       1       1       1\n",
      "       2       1       3       1       1       1       2       1       1\n",
      "       1       1       1       2       1       2       1       1       2\n",
      "       1       2       1       2       2       2       1       2       1\n",
      "       1       2       1       1       2       1       3       1       3\n",
      "       1       2       2       1       2       2       2       2       1\n",
      "       1       2       1       1       1       1       1       1       1\n",
      "       1       1       1       1       1       1       1       1       1\n",
      "       1       1       1       1       2       1       1       1       1\n",
      "       1       1       1       1       2       1       1       1       1\n",
      "       1       1       1       1       1       1       1       1       1\n",
      "       1       1       1       1       1       1       1       1       2\n",
      "       1       1       1       1       1       1       1       1       1\n",
      "       1       1       1       1       1       1       1       1       1\n",
      "       1       1       1       1       1       2       1       1       1\n",
      "       1       1       1       1       1       1       1       1       1\n",
      "       1       1       2       1       1       1       1       1       1\n",
      "       1       1       1       1       1       1       1       1       1\n",
      "       1       1       1       1       1       1]\n"
     ]
    }
   ],
   "source": [
    "# Want to create a plot with the number of edits vs no of wikidata items\n",
    "# Find most suitable one\n",
    "# editvalues_x = data_item_count.to_numpy()\n",
    "# print(editvalues_x)"
   ]
  },
  {
   "cell_type": "markdown",
   "metadata": {},
   "source": [
    "Can also label the data to see how many edits were done by the diferent types of users"
   ]
  }
 ],
 "metadata": {
  "kernelspec": {
   "display_name": "Python 3",
   "language": "python",
   "name": "python3"
  },
  "language_info": {
   "codemirror_mode": {
    "name": "ipython",
    "version": 3
   },
   "file_extension": ".py",
   "mimetype": "text/x-python",
   "name": "python",
   "nbconvert_exporter": "python",
   "pygments_lexer": "ipython3",
   "version": "3.8.3"
  }
 },
 "nbformat": 4,
 "nbformat_minor": 4
}
