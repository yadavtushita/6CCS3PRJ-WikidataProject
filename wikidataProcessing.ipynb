{
 "cells": [
  {
   "cell_type": "markdown",
   "metadata": {},
   "source": [
    "# Wikidata Processing\n",
    "\n",
    "After completing Wikidata Parsing from XML files to CSV files the next stage is to load up the data, process it and clean it prior to the visualisation and analysis phase. This will be called Wikidata Processing.\n",
    "\n",
    "Number of XML Files Parsed: 26/27\n",
    "\n",
    "Number of Revisions Collected: 38,901,405\n",
    "\n",
    "Size of Data Collected in CSV Files: 6.3GB\n"
   ]
  },
  {
   "cell_type": "code",
   "execution_count": 1,
   "metadata": {},
   "outputs": [],
   "source": [
    "import pandas as pd\n",
    "from pandas import DataFrame\n",
    "import glob\n",
    "import time"
   ]
  },
  {
   "cell_type": "code",
   "execution_count": 2,
   "metadata": {},
   "outputs": [
    {
     "data": {
      "text/plain": [
       "['/Users/tushi/PRJ/WikidataParsing/data\\\\wikidata-20220217-104520.csv',\n",
       " '/Users/tushi/PRJ/WikidataParsing/data\\\\wikidata-20220217-120013.csv',\n",
       " '/Users/tushi/PRJ/WikidataParsing/data\\\\wikidata-20220217-162441.csv',\n",
       " '/Users/tushi/PRJ/WikidataParsing/data\\\\wikidata-20220217-211644.csv',\n",
       " '/Users/tushi/PRJ/WikidataParsing/data\\\\wikidata-20220217-230521.csv',\n",
       " '/Users/tushi/PRJ/WikidataParsing/data\\\\wikidata-20220218-094616.csv',\n",
       " '/Users/tushi/PRJ/WikidataParsing/data\\\\wikidata-20220218-120701.csv',\n",
       " '/Users/tushi/PRJ/WikidataParsing/data\\\\wikidata-20220218-131204.csv',\n",
       " '/Users/tushi/PRJ/WikidataParsing/data\\\\wikidata-20220218-165015.csv',\n",
       " '/Users/tushi/PRJ/WikidataParsing/data\\\\wikidata-20220219-115534.csv',\n",
       " '/Users/tushi/PRJ/WikidataParsing/data\\\\wikidata-20220219-144048.csv',\n",
       " '/Users/tushi/PRJ/WikidataParsing/data\\\\wikidata-20220219-161541.csv',\n",
       " '/Users/tushi/PRJ/WikidataParsing/data\\\\wikidata-20220219-175709.csv',\n",
       " '/Users/tushi/PRJ/WikidataParsing/data\\\\wikidata-20220220-125511.csv',\n",
       " '/Users/tushi/PRJ/WikidataParsing/data\\\\wikidata-20220220-143948.csv',\n",
       " '/Users/tushi/PRJ/WikidataParsing/data\\\\wikidata-20220220-163104.csv',\n",
       " '/Users/tushi/PRJ/WikidataParsing/data\\\\wikidata-20220221-090920.csv',\n",
       " '/Users/tushi/PRJ/WikidataParsing/data\\\\wikidata.20220217-112229.csv',\n",
       " '/Users/tushi/PRJ/WikidataParsing/data\\\\wikidata.20220217-122549.csv',\n",
       " '/Users/tushi/PRJ/WikidataParsing/data\\\\wikidata.20220217-125014.csv',\n",
       " '/Users/tushi/PRJ/WikidataParsing/data\\\\wikidata.20220217-165541.csv',\n",
       " '/Users/tushi/PRJ/WikidataParsing/data\\\\wikidata.20220217-171759.csv',\n",
       " '/Users/tushi/PRJ/WikidataParsing/data\\\\wikidata.20220217-213315.csv',\n",
       " '/Users/tushi/PRJ/WikidataParsing/data\\\\wikidata.20220217-215738.csv',\n",
       " '/Users/tushi/PRJ/WikidataParsing/data\\\\wikidata.20220218-000349.csv',\n",
       " '/Users/tushi/PRJ/WikidataParsing/data\\\\wikidata.20220218-104149.csv',\n",
       " '/Users/tushi/PRJ/WikidataParsing/data\\\\wikidata.20220218-125712.csv',\n",
       " '/Users/tushi/PRJ/WikidataParsing/data\\\\wikidata.20220218-175836.csv',\n",
       " '/Users/tushi/PRJ/WikidataParsing/data\\\\wikidata.20220219-151757.csv',\n",
       " '/Users/tushi/PRJ/WikidataParsing/data\\\\wikidata.20220219-165412.csv',\n",
       " '/Users/tushi/PRJ/WikidataParsing/data\\\\wikidata.20220219-182519.csv',\n",
       " '/Users/tushi/PRJ/WikidataParsing/data\\\\wikidata.20220220-132216.csv',\n",
       " '/Users/tushi/PRJ/WikidataParsing/data\\\\wikidata.20220220-144639.csv',\n",
       " '/Users/tushi/PRJ/WikidataParsing/data\\\\wikidata.20220220-145402.csv',\n",
       " '/Users/tushi/PRJ/WikidataParsing/data\\\\wikidata.20220220-151319.csv',\n",
       " '/Users/tushi/PRJ/WikidataParsing/data\\\\wikidata.20220220-152657.csv',\n",
       " '/Users/tushi/PRJ/WikidataParsing/data\\\\wikidata.20220220-165951.csv',\n",
       " '/Users/tushi/PRJ/WikidataParsing/data\\\\wikidata.20220220-170740.csv',\n",
       " '/Users/tushi/PRJ/WikidataParsing/data\\\\wikidata.20220220-171126.csv',\n",
       " '/Users/tushi/PRJ/WikidataParsing/data\\\\wikidata.20220220-171536.csv',\n",
       " '/Users/tushi/PRJ/WikidataParsing/data\\\\wikidata.20220220-171847.csv',\n",
       " '/Users/tushi/PRJ/WikidataParsing/data\\\\wikidata.20220220-172216.csv',\n",
       " '/Users/tushi/PRJ/WikidataParsing/data\\\\wikidata.20220220-172624.csv',\n",
       " '/Users/tushi/PRJ/WikidataParsing/data\\\\wikidata.20220220-173020.csv',\n",
       " '/Users/tushi/PRJ/WikidataParsing/data\\\\wikidata.20220220-173351.csv',\n",
       " '/Users/tushi/PRJ/WikidataParsing/data\\\\wikidata.20220220-173930.csv',\n",
       " '/Users/tushi/PRJ/WikidataParsing/data\\\\wikidata.20220221-091411.csv',\n",
       " '/Users/tushi/PRJ/WikidataParsing/data\\\\wikidata.20220221-091858.csv']"
      ]
     },
     "execution_count": 2,
     "metadata": {},
     "output_type": "execute_result"
    }
   ],
   "source": [
    "glob.glob('/Users/tushi/PRJ/WikidataParsing/data/*.csv')"
   ]
  },
  {
   "cell_type": "code",
   "execution_count": 3,
   "metadata": {},
   "outputs": [
    {
     "name": "stdout",
     "output_type": "stream",
     "text": [
      "Loading /Users/tushi/PRJ/WikidataParsing/data\\wikidata-20220217-104520.csv\n",
      "1\n",
      "Loading /Users/tushi/PRJ/WikidataParsing/data\\wikidata-20220217-120013.csv\n",
      "2\n",
      "Loading /Users/tushi/PRJ/WikidataParsing/data\\wikidata-20220217-162441.csv\n",
      "3\n",
      "Loading /Users/tushi/PRJ/WikidataParsing/data\\wikidata-20220217-211644.csv\n",
      "4\n",
      "Loading /Users/tushi/PRJ/WikidataParsing/data\\wikidata-20220217-230521.csv\n",
      "5\n",
      "Loading /Users/tushi/PRJ/WikidataParsing/data\\wikidata-20220218-094616.csv\n",
      "6\n",
      "Loading /Users/tushi/PRJ/WikidataParsing/data\\wikidata-20220218-120701.csv\n",
      "7\n",
      "Loading /Users/tushi/PRJ/WikidataParsing/data\\wikidata-20220218-131204.csv\n",
      "8\n",
      "Loading /Users/tushi/PRJ/WikidataParsing/data\\wikidata-20220218-165015.csv\n",
      "9\n",
      "Loading /Users/tushi/PRJ/WikidataParsing/data\\wikidata-20220219-115534.csv\n",
      "10\n",
      "Loading /Users/tushi/PRJ/WikidataParsing/data\\wikidata-20220219-144048.csv\n",
      "11\n",
      "Loading /Users/tushi/PRJ/WikidataParsing/data\\wikidata-20220219-161541.csv\n",
      "12\n",
      "Loading /Users/tushi/PRJ/WikidataParsing/data\\wikidata-20220219-175709.csv\n",
      "13\n",
      "Loading /Users/tushi/PRJ/WikidataParsing/data\\wikidata-20220220-125511.csv\n",
      "14\n",
      "Loading /Users/tushi/PRJ/WikidataParsing/data\\wikidata-20220220-143948.csv\n",
      "15\n",
      "Loading /Users/tushi/PRJ/WikidataParsing/data\\wikidata-20220220-163104.csv\n",
      "16\n",
      "Loading /Users/tushi/PRJ/WikidataParsing/data\\wikidata-20220221-090920.csv\n",
      "17\n",
      "Loading /Users/tushi/PRJ/WikidataParsing/data\\wikidata.20220217-112229.csv\n",
      "18\n",
      "Loading /Users/tushi/PRJ/WikidataParsing/data\\wikidata.20220217-122549.csv\n",
      "19\n",
      "Loading /Users/tushi/PRJ/WikidataParsing/data\\wikidata.20220217-125014.csv\n",
      "20\n",
      "Loading /Users/tushi/PRJ/WikidataParsing/data\\wikidata.20220217-165541.csv\n",
      "21\n",
      "Loading /Users/tushi/PRJ/WikidataParsing/data\\wikidata.20220217-171759.csv\n",
      "22\n",
      "Loading /Users/tushi/PRJ/WikidataParsing/data\\wikidata.20220217-213315.csv\n",
      "23\n",
      "Loading /Users/tushi/PRJ/WikidataParsing/data\\wikidata.20220217-215738.csv\n",
      "24\n",
      "Loading /Users/tushi/PRJ/WikidataParsing/data\\wikidata.20220218-000349.csv\n",
      "25\n",
      "Loading /Users/tushi/PRJ/WikidataParsing/data\\wikidata.20220218-104149.csv\n",
      "26\n",
      "Loading /Users/tushi/PRJ/WikidataParsing/data\\wikidata.20220218-125712.csv\n",
      "27\n",
      "Loading /Users/tushi/PRJ/WikidataParsing/data\\wikidata.20220218-175836.csv\n",
      "28\n",
      "Loading /Users/tushi/PRJ/WikidataParsing/data\\wikidata.20220219-151757.csv\n",
      "29\n",
      "Loading /Users/tushi/PRJ/WikidataParsing/data\\wikidata.20220219-165412.csv\n",
      "30\n",
      "Loading /Users/tushi/PRJ/WikidataParsing/data\\wikidata.20220219-182519.csv\n",
      "31\n",
      "Loading /Users/tushi/PRJ/WikidataParsing/data\\wikidata.20220220-132216.csv\n",
      "32\n",
      "Loading /Users/tushi/PRJ/WikidataParsing/data\\wikidata.20220220-144639.csv\n",
      "33\n",
      "Loading /Users/tushi/PRJ/WikidataParsing/data\\wikidata.20220220-145402.csv\n",
      "34\n",
      "Loading /Users/tushi/PRJ/WikidataParsing/data\\wikidata.20220220-151319.csv\n",
      "35\n",
      "Loading /Users/tushi/PRJ/WikidataParsing/data\\wikidata.20220220-152657.csv\n",
      "36\n",
      "Loading /Users/tushi/PRJ/WikidataParsing/data\\wikidata.20220220-165951.csv\n",
      "37\n",
      "Loading /Users/tushi/PRJ/WikidataParsing/data\\wikidata.20220220-170740.csv\n",
      "38\n",
      "Loading /Users/tushi/PRJ/WikidataParsing/data\\wikidata.20220220-171126.csv\n",
      "39\n",
      "Loading /Users/tushi/PRJ/WikidataParsing/data\\wikidata.20220220-171536.csv\n",
      "40\n",
      "Loading /Users/tushi/PRJ/WikidataParsing/data\\wikidata.20220220-171847.csv\n",
      "41\n",
      "Loading /Users/tushi/PRJ/WikidataParsing/data\\wikidata.20220220-172216.csv\n",
      "42\n",
      "Loading /Users/tushi/PRJ/WikidataParsing/data\\wikidata.20220220-172624.csv\n",
      "43\n",
      "Loading /Users/tushi/PRJ/WikidataParsing/data\\wikidata.20220220-173020.csv\n",
      "44\n",
      "Loading /Users/tushi/PRJ/WikidataParsing/data\\wikidata.20220220-173351.csv\n",
      "45\n",
      "Loading /Users/tushi/PRJ/WikidataParsing/data\\wikidata.20220220-173930.csv\n",
      "46\n",
      "Loading /Users/tushi/PRJ/WikidataParsing/data\\wikidata.20220221-091411.csv\n",
      "47\n",
      "Loading /Users/tushi/PRJ/WikidataParsing/data\\wikidata.20220221-091858.csv\n",
      "48\n",
      "82.71875\n"
     ]
    }
   ],
   "source": [
    "all_dfs = []\n",
    "file_counter = 0\n",
    "start = time.process_time()\n",
    "for one_csv_file in glob.glob('/Users/tushi/PRJ/WikidataParsing/data/*.csv'):\n",
    "    print(f'Loading {one_csv_file}')\n",
    "    new_df = pd.read_csv(one_csv_file)\n",
    "    all_dfs.append(new_df)\n",
    "    file_counter += 1\n",
    "    print(file_counter)\n",
    "#     print(time.process_time() - start)\n",
    "    \n",
    "print(time.process_time() - start)"
   ]
  },
  {
   "cell_type": "code",
   "execution_count": 4,
   "metadata": {},
   "outputs": [
    {
     "data": {
      "text/plain": [
       "48"
      ]
     },
     "execution_count": 4,
     "metadata": {},
     "output_type": "execute_result"
    }
   ],
   "source": [
    "len(all_dfs)"
   ]
  },
  {
   "cell_type": "code",
   "execution_count": 5,
   "metadata": {},
   "outputs": [],
   "source": [
    "del new_df"
   ]
  },
  {
   "cell_type": "code",
   "execution_count": 6,
   "metadata": {},
   "outputs": [],
   "source": [
    "df = pd.concat(all_dfs)"
   ]
  },
  {
   "cell_type": "code",
   "execution_count": 7,
   "metadata": {},
   "outputs": [
    {
     "data": {
      "text/plain": [
       "(39490585, 10)"
      ]
     },
     "execution_count": 7,
     "metadata": {},
     "output_type": "execute_result"
    }
   ],
   "source": [
    "df.shape"
   ]
  },
  {
   "cell_type": "code",
   "execution_count": 8,
   "metadata": {},
   "outputs": [],
   "source": [
    "# (df['pagetitle'].value_counts()).to_csv('no_of_edits_all.csv')\n",
    "df_edits_count = df['pagetitle'].value_counts()"
   ]
  },
  {
   "cell_type": "code",
   "execution_count": 9,
   "metadata": {},
   "outputs": [
    {
     "data": {
      "text/plain": [
       "(8365814,)"
      ]
     },
     "execution_count": 9,
     "metadata": {},
     "output_type": "execute_result"
    }
   ],
   "source": [
    "df_edits_count.shape"
   ]
  },
  {
   "cell_type": "code",
   "execution_count": 10,
   "metadata": {},
   "outputs": [
    {
     "data": {
      "text/plain": [
       "Q27335409    4231\n",
       "Q27335792    4096\n",
       "Q27336022    4042\n",
       "Q27336098    4007\n",
       "Q27336831    3874\n",
       "Name: pagetitle, dtype: int64"
      ]
     },
     "execution_count": 10,
     "metadata": {},
     "output_type": "execute_result"
    }
   ],
   "source": [
    "df_edits_count.head()"
   ]
  },
  {
   "cell_type": "code",
   "execution_count": 11,
   "metadata": {},
   "outputs": [
    {
     "data": {
      "text/plain": [
       "count    8.365814e+06\n",
       "mean     4.720471e+00\n",
       "std      1.435651e+01\n",
       "min      1.000000e+00\n",
       "25%      1.000000e+00\n",
       "50%      2.000000e+00\n",
       "75%      4.000000e+00\n",
       "max      4.231000e+03\n",
       "Name: pagetitle, dtype: float64"
      ]
     },
     "execution_count": 11,
     "metadata": {},
     "output_type": "execute_result"
    }
   ],
   "source": [
    "df_edits_count.describe()"
   ]
  },
  {
   "cell_type": "code",
   "execution_count": 12,
   "metadata": {},
   "outputs": [
    {
     "data": {
      "text/plain": [
       "Index(['Q27335409', 'Q27335792', 'Q27336022', 'Q27336098', 'Q27336831',\n",
       "       'Q27345502', 'Q27335465', 'Q27347646', 'Q27338841', 'Q27340473',\n",
       "       ...\n",
       "       'Q2894035', 'Q14872096', 'Q20761173', 'Q4968138', 'Q11776788',\n",
       "       'Q13572250', 'Q11924144', 'Q16647678', 'Q14887958', 'Q22130170'],\n",
       "      dtype='object', length=8365814)"
      ]
     },
     "execution_count": 12,
     "metadata": {},
     "output_type": "execute_result"
    }
   ],
   "source": [
    "df_edits_count.index"
   ]
  },
  {
   "cell_type": "code",
   "execution_count": 13,
   "metadata": {},
   "outputs": [],
   "source": [
    "# converting to a dataframe so that it can be compared/merged with the dataframes for each topic\n",
    "dfec = pd.DataFrame({'qid':df_edits_count.index, 'editscount':df_edits_count.values})"
   ]
  },
  {
   "cell_type": "code",
   "execution_count": 14,
   "metadata": {},
   "outputs": [
    {
     "data": {
      "text/plain": [
       "(8365814, 2)"
      ]
     },
     "execution_count": 14,
     "metadata": {},
     "output_type": "execute_result"
    }
   ],
   "source": [
    "dfec.shape"
   ]
  },
  {
   "cell_type": "code",
   "execution_count": 15,
   "metadata": {},
   "outputs": [
    {
     "data": {
      "text/html": [
       "<div>\n",
       "<style scoped>\n",
       "    .dataframe tbody tr th:only-of-type {\n",
       "        vertical-align: middle;\n",
       "    }\n",
       "\n",
       "    .dataframe tbody tr th {\n",
       "        vertical-align: top;\n",
       "    }\n",
       "\n",
       "    .dataframe thead th {\n",
       "        text-align: right;\n",
       "    }\n",
       "</style>\n",
       "<table border=\"1\" class=\"dataframe\">\n",
       "  <thead>\n",
       "    <tr style=\"text-align: right;\">\n",
       "      <th></th>\n",
       "      <th>qid</th>\n",
       "      <th>editscount</th>\n",
       "    </tr>\n",
       "  </thead>\n",
       "  <tbody>\n",
       "    <tr>\n",
       "      <th>0</th>\n",
       "      <td>Q27335409</td>\n",
       "      <td>4231</td>\n",
       "    </tr>\n",
       "    <tr>\n",
       "      <th>1</th>\n",
       "      <td>Q27335792</td>\n",
       "      <td>4096</td>\n",
       "    </tr>\n",
       "    <tr>\n",
       "      <th>2</th>\n",
       "      <td>Q27336022</td>\n",
       "      <td>4042</td>\n",
       "    </tr>\n",
       "    <tr>\n",
       "      <th>3</th>\n",
       "      <td>Q27336098</td>\n",
       "      <td>4007</td>\n",
       "    </tr>\n",
       "    <tr>\n",
       "      <th>4</th>\n",
       "      <td>Q27336831</td>\n",
       "      <td>3874</td>\n",
       "    </tr>\n",
       "  </tbody>\n",
       "</table>\n",
       "</div>"
      ],
      "text/plain": [
       "         qid  editscount\n",
       "0  Q27335409        4231\n",
       "1  Q27335792        4096\n",
       "2  Q27336022        4042\n",
       "3  Q27336098        4007\n",
       "4  Q27336831        3874"
      ]
     },
     "execution_count": 15,
     "metadata": {},
     "output_type": "execute_result"
    }
   ],
   "source": [
    "dfec.head()"
   ]
  },
  {
   "cell_type": "code",
   "execution_count": 16,
   "metadata": {},
   "outputs": [
    {
     "data": {
      "text/html": [
       "<div>\n",
       "<style scoped>\n",
       "    .dataframe tbody tr th:only-of-type {\n",
       "        vertical-align: middle;\n",
       "    }\n",
       "\n",
       "    .dataframe tbody tr th {\n",
       "        vertical-align: top;\n",
       "    }\n",
       "\n",
       "    .dataframe thead th {\n",
       "        text-align: right;\n",
       "    }\n",
       "</style>\n",
       "<table border=\"1\" class=\"dataframe\">\n",
       "  <thead>\n",
       "    <tr style=\"text-align: right;\">\n",
       "      <th></th>\n",
       "      <th>qid</th>\n",
       "      <th>editscount</th>\n",
       "    </tr>\n",
       "  </thead>\n",
       "  <tbody>\n",
       "    <tr>\n",
       "      <th>8365809</th>\n",
       "      <td>Q13572250</td>\n",
       "      <td>1</td>\n",
       "    </tr>\n",
       "    <tr>\n",
       "      <th>8365810</th>\n",
       "      <td>Q11924144</td>\n",
       "      <td>1</td>\n",
       "    </tr>\n",
       "    <tr>\n",
       "      <th>8365811</th>\n",
       "      <td>Q16647678</td>\n",
       "      <td>1</td>\n",
       "    </tr>\n",
       "    <tr>\n",
       "      <th>8365812</th>\n",
       "      <td>Q14887958</td>\n",
       "      <td>1</td>\n",
       "    </tr>\n",
       "    <tr>\n",
       "      <th>8365813</th>\n",
       "      <td>Q22130170</td>\n",
       "      <td>1</td>\n",
       "    </tr>\n",
       "  </tbody>\n",
       "</table>\n",
       "</div>"
      ],
      "text/plain": [
       "               qid  editscount\n",
       "8365809  Q13572250           1\n",
       "8365810  Q11924144           1\n",
       "8365811  Q16647678           1\n",
       "8365812  Q14887958           1\n",
       "8365813  Q22130170           1"
      ]
     },
     "execution_count": 16,
     "metadata": {},
     "output_type": "execute_result"
    }
   ],
   "source": [
    "dfec.tail()"
   ]
  },
  {
   "cell_type": "code",
   "execution_count": 17,
   "metadata": {},
   "outputs": [
    {
     "data": {
      "text/html": [
       "<div>\n",
       "<style scoped>\n",
       "    .dataframe tbody tr th:only-of-type {\n",
       "        vertical-align: middle;\n",
       "    }\n",
       "\n",
       "    .dataframe tbody tr th {\n",
       "        vertical-align: top;\n",
       "    }\n",
       "\n",
       "    .dataframe thead th {\n",
       "        text-align: right;\n",
       "    }\n",
       "</style>\n",
       "<table border=\"1\" class=\"dataframe\">\n",
       "  <thead>\n",
       "    <tr style=\"text-align: right;\">\n",
       "      <th></th>\n",
       "      <th>editscount</th>\n",
       "    </tr>\n",
       "  </thead>\n",
       "  <tbody>\n",
       "    <tr>\n",
       "      <th>count</th>\n",
       "      <td>8.365814e+06</td>\n",
       "    </tr>\n",
       "    <tr>\n",
       "      <th>mean</th>\n",
       "      <td>4.720471e+00</td>\n",
       "    </tr>\n",
       "    <tr>\n",
       "      <th>std</th>\n",
       "      <td>1.435651e+01</td>\n",
       "    </tr>\n",
       "    <tr>\n",
       "      <th>min</th>\n",
       "      <td>1.000000e+00</td>\n",
       "    </tr>\n",
       "    <tr>\n",
       "      <th>25%</th>\n",
       "      <td>1.000000e+00</td>\n",
       "    </tr>\n",
       "    <tr>\n",
       "      <th>50%</th>\n",
       "      <td>2.000000e+00</td>\n",
       "    </tr>\n",
       "    <tr>\n",
       "      <th>75%</th>\n",
       "      <td>4.000000e+00</td>\n",
       "    </tr>\n",
       "    <tr>\n",
       "      <th>max</th>\n",
       "      <td>4.231000e+03</td>\n",
       "    </tr>\n",
       "  </tbody>\n",
       "</table>\n",
       "</div>"
      ],
      "text/plain": [
       "         editscount\n",
       "count  8.365814e+06\n",
       "mean   4.720471e+00\n",
       "std    1.435651e+01\n",
       "min    1.000000e+00\n",
       "25%    1.000000e+00\n",
       "50%    2.000000e+00\n",
       "75%    4.000000e+00\n",
       "max    4.231000e+03"
      ]
     },
     "execution_count": 17,
     "metadata": {},
     "output_type": "execute_result"
    }
   ],
   "source": [
    "dfec.describe()"
   ]
  },
  {
   "cell_type": "code",
   "execution_count": 19,
   "metadata": {},
   "outputs": [],
   "source": [
    "# qid is equivalent to pagetitle\n",
    "# renaming it for convenience\n",
    "df.rename(columns={\"pagetitle\": \"qid\"} ,inplace=True)"
   ]
  },
  {
   "cell_type": "markdown",
   "metadata": {},
   "source": [
    "# Topics"
   ]
  },
  {
   "cell_type": "markdown",
   "metadata": {},
   "source": [
    "## Politics"
   ]
  },
  {
   "cell_type": "code",
   "execution_count": 21,
   "metadata": {},
   "outputs": [],
   "source": [
    "# Reading the qids of items that fall under Politics\n",
    "politics_filename = '/Users/tushi/PRJ/WikidataParsing/topics/topics_all/politics_all.csv'\n",
    "politics_all = pd.read_csv(politics_filename, usecols=['qid'])\n",
    "\n",
    "# Extracting common wikidata items\n",
    "politics = pd.merge(dfec, politics_all, how='inner', on=['qid'])\n",
    "# politics.to_csv('/Users/tushi/PRJ/WikidataParsing/topics/data/politics.csv')\n",
    "\n",
    "# Extracting revisions of the common wikidata items\n",
    "politics_revisions = pd.merge(df, politics, how='inner', on=['qid'])\n",
    "# politics_revisions.to_csv('/Users/tushi/PRJ/WikidataParsing/topics/data_with_revisions/politics_revisions.csv')"
   ]
  },
  {
   "cell_type": "markdown",
   "metadata": {},
   "source": [
    "# Countries"
   ]
  },
  {
   "cell_type": "code",
   "execution_count": 27,
   "metadata": {},
   "outputs": [],
   "source": [
    "# Reading the qids of items that fall under Countries\n",
    "countries_filename = '/Users/tushi/PRJ/WikidataParsing/topics/topics_all/countries_all.csv'\n",
    "countries_all = pd.read_csv(countries_filename, usecols=['qid'])\n",
    "\n",
    "# Extracting common wikidata items\n",
    "countries = pd.merge(dfec, countries_all, how='inner', on=['qid'])\n",
    "countries.to_csv('/Users/tushi/PRJ/WikidataParsing/topics/data/countries.csv')\n",
    "\n",
    "# Extracting revisions of the common wikidata items\n",
    "countries_revisions = pd.merge(df, countries, how='inner', on=['qid'])\n",
    "countries_revisions.to_csv('/Users/tushi/PRJ/WikidataParsing/topics/data_with_revisions/countries_revisions.csv')"
   ]
  },
  {
   "cell_type": "markdown",
   "metadata": {},
   "source": [
    "# Religion"
   ]
  },
  {
   "cell_type": "code",
   "execution_count": 32,
   "metadata": {},
   "outputs": [],
   "source": [
    "# Reading the qids of items that fall under Religion\n",
    "religion_filename = '/Users/tushi/PRJ/WikidataParsing/topics/topics_all/religion_all.csv'\n",
    "religion_all = pd.read_csv(religion_filename, usecols=['qid'])\n",
    "\n",
    "# Extracting common wikidata items\n",
    "religion = pd.merge(dfec, religion_all, how='inner', on=['qid'])\n",
    "religion.to_csv('/Users/tushi/PRJ/WikidataParsing/topics/data/religion.csv')\n",
    "\n",
    "# Extracting revisions of the common wikidata items\n",
    "religion_revisions = pd.merge(df, religion, how='inner', on=['qid'])\n",
    "religion_revisions.to_csv('/Users/tushi/PRJ/WikidataParsing/topics/data_with_revisions/religion_revisions.csv')"
   ]
  },
  {
   "cell_type": "markdown",
   "metadata": {},
   "source": [
    "# History"
   ]
  },
  {
   "cell_type": "code",
   "execution_count": 37,
   "metadata": {},
   "outputs": [],
   "source": [
    "# Reading the qids of items that fall under History\n",
    "history_filename = '/Users/tushi/PRJ/WikidataParsing/topics/topics_all/history_all.csv'\n",
    "history_all = pd.read_csv(history_filename, usecols=['qid'])\n",
    "\n",
    "# Extracting common wikidata items\n",
    "history = pd.merge(dfec, history_all, how='inner', on=['qid'])\n",
    "history.to_csv('/Users/tushi/PRJ/WikidataParsing/topics/data/history.csv')\n",
    "\n",
    "# Extracting revisions of the common wikidata items\n",
    "history_revisions = pd.merge(df, history, how='inner', on=['qid'])\n",
    "history_revisions.to_csv('/Users/tushi/PRJ/WikidataParsing/topics/data_with_revisions/history_revisions.csv')"
   ]
  },
  {
   "cell_type": "markdown",
   "metadata": {},
   "source": [
    "# Social & Environmental Issues / Sex & Gender"
   ]
  },
  {
   "cell_type": "code",
   "execution_count": 73,
   "metadata": {},
   "outputs": [],
   "source": [
    "# Reading the qids of items that fall under Social & Environmental Issues\n",
    "social_environmental_filename = '/Users/tushi/PRJ/WikidataParsing/topics/topics_all/social_environmental_all.csv'\n",
    "social_environmental_all = pd.read_csv(social_environmental_filename, usecols=['qid'])\n",
    "\n",
    "# Extracting common wikidata items\n",
    "social_environmental = pd.merge(dfec, social_environmental_all, how='inner', on=['qid'])\n",
    "social_environmental.to_csv('/Users/tushi/PRJ/WikidataParsing/topics/data/social_environmental.csv')\n",
    "\n",
    "# Extracting revisions of the common wikidata items\n",
    "social_environmental_revisions = pd.merge(df, social_environmental, how='inner', on=['qid'])\n",
    "social_environmental_revisions.to_csv('/Users/tushi/PRJ/WikidataParsing/topics/data_with_revisions/social_environmental_revisions.csv')"
   ]
  },
  {
   "cell_type": "markdown",
   "metadata": {},
   "source": [
    "# Science"
   ]
  },
  {
   "cell_type": "code",
   "execution_count": 60,
   "metadata": {},
   "outputs": [],
   "source": [
    "# Reading the qids of items that fall under Science\n",
    "science_filename = '/Users/tushi/PRJ/WikidataParsing/topics/topics_all/science_all.csv'\n",
    "science_all = pd.read_csv(science_filename, usecols=['qid'])\n",
    "\n",
    "# Extracting common wikidata items\n",
    "science = pd.merge(dfec, science_all, how='inner', on=['qid'])\n",
    "science.to_csv('/Users/tushi/PRJ/WikidataParsing/topics/data/science.csv')\n",
    "\n",
    "# Extracting revisions of the common wikidata items\n",
    "science_revisions = pd.merge(df, science, how='inner', on=['qid'])\n",
    "science_revisions.to_csv('/Users/tushi/PRJ/WikidataParsing/topics/data_with_revisions/science_revisions.csv')"
   ]
  },
  {
   "cell_type": "markdown",
   "metadata": {},
   "source": [
    "# Sports"
   ]
  },
  {
   "cell_type": "code",
   "execution_count": 65,
   "metadata": {},
   "outputs": [],
   "source": [
    "# Reading the qids of items that fall under Sports\n",
    "sports_filename = '/Users/tushi/PRJ/WikidataParsing/topics/topics_all/sports_all.csv'\n",
    "sports_all = pd.read_csv(sports_filename, usecols=['qid'])\n",
    "\n",
    "# Extracting common wikidata items\n",
    "sports = pd.merge(dfec, sports_all, how='inner', on=['qid'])\n",
    "sports.to_csv('/Users/tushi/PRJ/WikidataParsing/topics/data/sports.csv')\n",
    "\n",
    "# Extracting revisions of the common wikidata items\n",
    "sports_revisions = pd.merge(df, sports, how='inner', on=['qid'])\n",
    "sports_revisions.to_csv('/Users/tushi/PRJ/WikidataParsing/topics/data_with_revisions/sports_revisions.csv')"
   ]
  },
  {
   "cell_type": "markdown",
   "metadata": {},
   "source": [
    "# Literature"
   ]
  },
  {
   "cell_type": "code",
   "execution_count": 80,
   "metadata": {},
   "outputs": [],
   "source": [
    "# Reading the qids of items that fall under Literature\n",
    "literature_filename = '/Users/tushi/PRJ/WikidataParsing/topics/topics_all/literature_all.csv'\n",
    "literature_all = pd.read_csv(literature_filename, usecols=['qid'])\n",
    "\n",
    "# Extracting common wikidata items\n",
    "literature = pd.merge(dfec, literature_all, how='inner', on=['qid'])\n",
    "literature.to_csv('/Users/tushi/PRJ/WikidataParsing/topics/data/literature.csv')\n",
    "\n",
    "# Extracting revisions of the common wikidata items\n",
    "literature_revisions = pd.merge(df, literature, how='inner', on=['qid'])\n",
    "literature_revisions.to_csv('/Users/tushi/PRJ/WikidataParsing/topics/data_with_revisions/literature_revisions.csv')"
   ]
  },
  {
   "cell_type": "markdown",
   "metadata": {},
   "source": [
    "# Movies"
   ]
  },
  {
   "cell_type": "code",
   "execution_count": 87,
   "metadata": {},
   "outputs": [],
   "source": [
    "# Reading the qids of items that fall under Movies\n",
    "movies_filename = '/Users/tushi/PRJ/WikidataParsing/topics/topics_all/movies_all.csv'\n",
    "movies_all = pd.read_csv(movies_filename, usecols=['qid'])\n",
    "\n",
    "# Extracting common wikidata items\n",
    "movies = pd.merge(dfec, movies_all, how='inner', on=['qid'])\n",
    "movies.to_csv('/Users/tushi/PRJ/WikidataParsing/topics/data/movies.csv')\n",
    "\n",
    "# Extracting revisions of the common wikidata items\n",
    "movies_revisions = pd.merge(df, movies, how='inner', on=['qid'])\n",
    "movies_revisions.to_csv('/Users/tushi/PRJ/WikidataParsing/topics/data_with_revisions/movies_revisions.csv')"
   ]
  },
  {
   "cell_type": "markdown",
   "metadata": {},
   "source": [
    "# Music"
   ]
  },
  {
   "cell_type": "code",
   "execution_count": 94,
   "metadata": {},
   "outputs": [],
   "source": [
    "# Reading the qids of items that fall under Music\n",
    "music_filename = '/Users/tushi/PRJ/WikidataParsing/topics/topics_all/music_all.csv'\n",
    "music_all = pd.read_csv(music_filename, usecols=['qid'])\n",
    "\n",
    "# Extracting common wikidata items\n",
    "music = pd.merge(dfec, music_all, how='inner', on=['qid'])\n",
    "music.to_csv('/Users/tushi/PRJ/WikidataParsing/topics/data/music.csv')\n",
    "\n",
    "# Extracting revisions of the common wikidata items\n",
    "music_revisions = pd.merge(df, music, how='inner', on=['qid'])\n",
    "music_revisions.to_csv('/Users/tushi/PRJ/WikidataParsing/topics/data_with_revisions/music_revisions.csv')"
   ]
  }
 ],
 "metadata": {
  "kernelspec": {
   "display_name": "Python 3",
   "language": "python",
   "name": "python3"
  },
  "language_info": {
   "codemirror_mode": {
    "name": "ipython",
    "version": 3
   },
   "file_extension": ".py",
   "mimetype": "text/x-python",
   "name": "python",
   "nbconvert_exporter": "python",
   "pygments_lexer": "ipython3",
   "version": "3.8.3"
  }
 },
 "nbformat": 4,
 "nbformat_minor": 4
}
