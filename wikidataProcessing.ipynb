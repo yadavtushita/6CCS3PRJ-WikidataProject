{
 "cells": [
  {
   "cell_type": "markdown",
   "metadata": {},
   "source": [
    "# Wikidata Processing\n",
    "\n",
    "After completing Wikidata Parsing from XML files to CSV files the next stage is to load up the data, process it and clean it prior to the visualisation and analysis phase. This will be called Wikidata Processing.\n",
    "\n",
    "Number of XML Files Parsed: 26/27\n",
    "\n",
    "Number of Revisions Collected: 38,901,405\n",
    "\n",
    "Size of Data Collected in CSV Files: 6.3GB\n"
   ]
  },
  {
   "cell_type": "code",
   "execution_count": 17,
   "metadata": {},
   "outputs": [],
   "source": [
    "import pandas as pd\n",
    "from pandas import DataFrame\n",
    "import glob\n",
    "import time"
   ]
  },
  {
   "cell_type": "code",
   "execution_count": 28,
   "metadata": {},
   "outputs": [
    {
     "data": {
      "text/plain": [
       "['/Users/tushi/PRJ/WikidataParsing/data\\\\wikidata-20220217-104520.csv',\n",
       " '/Users/tushi/PRJ/WikidataParsing/data\\\\wikidata-20220217-120013.csv',\n",
       " '/Users/tushi/PRJ/WikidataParsing/data\\\\wikidata-20220217-162441.csv',\n",
       " '/Users/tushi/PRJ/WikidataParsing/data\\\\wikidata-20220217-211644.csv',\n",
       " '/Users/tushi/PRJ/WikidataParsing/data\\\\wikidata-20220217-230521.csv',\n",
       " '/Users/tushi/PRJ/WikidataParsing/data\\\\wikidata-20220218-094616.csv',\n",
       " '/Users/tushi/PRJ/WikidataParsing/data\\\\wikidata-20220218-120701.csv',\n",
       " '/Users/tushi/PRJ/WikidataParsing/data\\\\wikidata-20220218-131204.csv',\n",
       " '/Users/tushi/PRJ/WikidataParsing/data\\\\wikidata-20220218-165015.csv',\n",
       " '/Users/tushi/PRJ/WikidataParsing/data\\\\wikidata-20220219-115534.csv',\n",
       " '/Users/tushi/PRJ/WikidataParsing/data\\\\wikidata-20220219-144048.csv',\n",
       " '/Users/tushi/PRJ/WikidataParsing/data\\\\wikidata-20220219-161541.csv',\n",
       " '/Users/tushi/PRJ/WikidataParsing/data\\\\wikidata-20220219-175709.csv',\n",
       " '/Users/tushi/PRJ/WikidataParsing/data\\\\wikidata-20220220-125511.csv',\n",
       " '/Users/tushi/PRJ/WikidataParsing/data\\\\wikidata-20220220-143948.csv',\n",
       " '/Users/tushi/PRJ/WikidataParsing/data\\\\wikidata-20220220-163104.csv',\n",
       " '/Users/tushi/PRJ/WikidataParsing/data\\\\wikidata-20220221-090920.csv',\n",
       " '/Users/tushi/PRJ/WikidataParsing/data\\\\wikidata.20220217-112229.csv',\n",
       " '/Users/tushi/PRJ/WikidataParsing/data\\\\wikidata.20220217-122549.csv',\n",
       " '/Users/tushi/PRJ/WikidataParsing/data\\\\wikidata.20220217-125014.csv',\n",
       " '/Users/tushi/PRJ/WikidataParsing/data\\\\wikidata.20220217-165541.csv',\n",
       " '/Users/tushi/PRJ/WikidataParsing/data\\\\wikidata.20220217-171759.csv',\n",
       " '/Users/tushi/PRJ/WikidataParsing/data\\\\wikidata.20220217-213315.csv',\n",
       " '/Users/tushi/PRJ/WikidataParsing/data\\\\wikidata.20220217-215738.csv',\n",
       " '/Users/tushi/PRJ/WikidataParsing/data\\\\wikidata.20220218-000349.csv',\n",
       " '/Users/tushi/PRJ/WikidataParsing/data\\\\wikidata.20220218-104149.csv',\n",
       " '/Users/tushi/PRJ/WikidataParsing/data\\\\wikidata.20220218-125712.csv',\n",
       " '/Users/tushi/PRJ/WikidataParsing/data\\\\wikidata.20220218-175836.csv',\n",
       " '/Users/tushi/PRJ/WikidataParsing/data\\\\wikidata.20220219-151757.csv',\n",
       " '/Users/tushi/PRJ/WikidataParsing/data\\\\wikidata.20220219-165412.csv',\n",
       " '/Users/tushi/PRJ/WikidataParsing/data\\\\wikidata.20220219-182519.csv',\n",
       " '/Users/tushi/PRJ/WikidataParsing/data\\\\wikidata.20220220-132216.csv',\n",
       " '/Users/tushi/PRJ/WikidataParsing/data\\\\wikidata.20220220-144639.csv',\n",
       " '/Users/tushi/PRJ/WikidataParsing/data\\\\wikidata.20220220-145402.csv',\n",
       " '/Users/tushi/PRJ/WikidataParsing/data\\\\wikidata.20220220-151319.csv',\n",
       " '/Users/tushi/PRJ/WikidataParsing/data\\\\wikidata.20220220-152657.csv',\n",
       " '/Users/tushi/PRJ/WikidataParsing/data\\\\wikidata.20220220-165951.csv',\n",
       " '/Users/tushi/PRJ/WikidataParsing/data\\\\wikidata.20220220-170740.csv',\n",
       " '/Users/tushi/PRJ/WikidataParsing/data\\\\wikidata.20220220-171126.csv',\n",
       " '/Users/tushi/PRJ/WikidataParsing/data\\\\wikidata.20220220-171536.csv',\n",
       " '/Users/tushi/PRJ/WikidataParsing/data\\\\wikidata.20220220-171847.csv',\n",
       " '/Users/tushi/PRJ/WikidataParsing/data\\\\wikidata.20220220-172216.csv',\n",
       " '/Users/tushi/PRJ/WikidataParsing/data\\\\wikidata.20220220-172624.csv',\n",
       " '/Users/tushi/PRJ/WikidataParsing/data\\\\wikidata.20220220-173020.csv',\n",
       " '/Users/tushi/PRJ/WikidataParsing/data\\\\wikidata.20220220-173351.csv',\n",
       " '/Users/tushi/PRJ/WikidataParsing/data\\\\wikidata.20220220-173930.csv',\n",
       " '/Users/tushi/PRJ/WikidataParsing/data\\\\wikidata.20220221-091411.csv',\n",
       " '/Users/tushi/PRJ/WikidataParsing/data\\\\wikidata.20220221-091858.csv']"
      ]
     },
     "execution_count": 28,
     "metadata": {},
     "output_type": "execute_result"
    }
   ],
   "source": [
    "glob.glob('/Users/tushi/PRJ/WikidataParsing/data/*.csv')"
   ]
  },
  {
   "cell_type": "code",
   "execution_count": 29,
   "metadata": {},
   "outputs": [
    {
     "name": "stdout",
     "output_type": "stream",
     "text": [
      "Loading /Users/tushi/PRJ/WikidataParsing/data\\wikidata-20220217-104520.csv\n",
      "1\n",
      "Loading /Users/tushi/PRJ/WikidataParsing/data\\wikidata-20220217-120013.csv\n",
      "2\n",
      "Loading /Users/tushi/PRJ/WikidataParsing/data\\wikidata-20220217-162441.csv\n",
      "3\n",
      "Loading /Users/tushi/PRJ/WikidataParsing/data\\wikidata-20220217-211644.csv\n",
      "4\n",
      "Loading /Users/tushi/PRJ/WikidataParsing/data\\wikidata-20220217-230521.csv\n",
      "5\n",
      "Loading /Users/tushi/PRJ/WikidataParsing/data\\wikidata-20220218-094616.csv\n",
      "6\n",
      "Loading /Users/tushi/PRJ/WikidataParsing/data\\wikidata-20220218-120701.csv\n",
      "7\n",
      "Loading /Users/tushi/PRJ/WikidataParsing/data\\wikidata-20220218-131204.csv\n",
      "8\n",
      "Loading /Users/tushi/PRJ/WikidataParsing/data\\wikidata-20220218-165015.csv\n",
      "9\n",
      "Loading /Users/tushi/PRJ/WikidataParsing/data\\wikidata-20220219-115534.csv\n",
      "10\n",
      "Loading /Users/tushi/PRJ/WikidataParsing/data\\wikidata-20220219-144048.csv\n",
      "11\n",
      "Loading /Users/tushi/PRJ/WikidataParsing/data\\wikidata-20220219-161541.csv\n",
      "12\n",
      "Loading /Users/tushi/PRJ/WikidataParsing/data\\wikidata-20220219-175709.csv\n",
      "13\n",
      "Loading /Users/tushi/PRJ/WikidataParsing/data\\wikidata-20220220-125511.csv\n",
      "14\n",
      "Loading /Users/tushi/PRJ/WikidataParsing/data\\wikidata-20220220-143948.csv\n",
      "15\n",
      "Loading /Users/tushi/PRJ/WikidataParsing/data\\wikidata-20220220-163104.csv\n",
      "16\n",
      "Loading /Users/tushi/PRJ/WikidataParsing/data\\wikidata-20220221-090920.csv\n",
      "17\n",
      "Loading /Users/tushi/PRJ/WikidataParsing/data\\wikidata.20220217-112229.csv\n",
      "18\n",
      "Loading /Users/tushi/PRJ/WikidataParsing/data\\wikidata.20220217-122549.csv\n",
      "19\n",
      "Loading /Users/tushi/PRJ/WikidataParsing/data\\wikidata.20220217-125014.csv\n",
      "20\n",
      "Loading /Users/tushi/PRJ/WikidataParsing/data\\wikidata.20220217-165541.csv\n",
      "21\n",
      "Loading /Users/tushi/PRJ/WikidataParsing/data\\wikidata.20220217-171759.csv\n",
      "22\n",
      "Loading /Users/tushi/PRJ/WikidataParsing/data\\wikidata.20220217-213315.csv\n",
      "23\n",
      "Loading /Users/tushi/PRJ/WikidataParsing/data\\wikidata.20220217-215738.csv\n",
      "24\n",
      "Loading /Users/tushi/PRJ/WikidataParsing/data\\wikidata.20220218-000349.csv\n",
      "25\n",
      "Loading /Users/tushi/PRJ/WikidataParsing/data\\wikidata.20220218-104149.csv\n",
      "26\n",
      "Loading /Users/tushi/PRJ/WikidataParsing/data\\wikidata.20220218-125712.csv\n",
      "27\n",
      "Loading /Users/tushi/PRJ/WikidataParsing/data\\wikidata.20220218-175836.csv\n",
      "28\n",
      "Loading /Users/tushi/PRJ/WikidataParsing/data\\wikidata.20220219-151757.csv\n",
      "29\n",
      "Loading /Users/tushi/PRJ/WikidataParsing/data\\wikidata.20220219-165412.csv\n",
      "30\n",
      "Loading /Users/tushi/PRJ/WikidataParsing/data\\wikidata.20220219-182519.csv\n",
      "31\n",
      "Loading /Users/tushi/PRJ/WikidataParsing/data\\wikidata.20220220-132216.csv\n",
      "32\n",
      "Loading /Users/tushi/PRJ/WikidataParsing/data\\wikidata.20220220-144639.csv\n",
      "33\n",
      "Loading /Users/tushi/PRJ/WikidataParsing/data\\wikidata.20220220-145402.csv\n",
      "34\n",
      "Loading /Users/tushi/PRJ/WikidataParsing/data\\wikidata.20220220-151319.csv\n",
      "35\n",
      "Loading /Users/tushi/PRJ/WikidataParsing/data\\wikidata.20220220-152657.csv\n",
      "36\n",
      "Loading /Users/tushi/PRJ/WikidataParsing/data\\wikidata.20220220-165951.csv\n",
      "37\n",
      "Loading /Users/tushi/PRJ/WikidataParsing/data\\wikidata.20220220-170740.csv\n",
      "38\n",
      "Loading /Users/tushi/PRJ/WikidataParsing/data\\wikidata.20220220-171126.csv\n",
      "39\n",
      "Loading /Users/tushi/PRJ/WikidataParsing/data\\wikidata.20220220-171536.csv\n",
      "40\n",
      "Loading /Users/tushi/PRJ/WikidataParsing/data\\wikidata.20220220-171847.csv\n",
      "41\n",
      "Loading /Users/tushi/PRJ/WikidataParsing/data\\wikidata.20220220-172216.csv\n",
      "42\n",
      "Loading /Users/tushi/PRJ/WikidataParsing/data\\wikidata.20220220-172624.csv\n",
      "43\n",
      "Loading /Users/tushi/PRJ/WikidataParsing/data\\wikidata.20220220-173020.csv\n",
      "44\n",
      "Loading /Users/tushi/PRJ/WikidataParsing/data\\wikidata.20220220-173351.csv\n",
      "45\n",
      "Loading /Users/tushi/PRJ/WikidataParsing/data\\wikidata.20220220-173930.csv\n",
      "46\n",
      "Loading /Users/tushi/PRJ/WikidataParsing/data\\wikidata.20220221-091411.csv\n",
      "47\n",
      "Loading /Users/tushi/PRJ/WikidataParsing/data\\wikidata.20220221-091858.csv\n",
      "48\n",
      "117.375\n"
     ]
    }
   ],
   "source": [
    "all_dfs = []\n",
    "file_counter = 0\n",
    "start = time.process_time()\n",
    "for one_csv_file in glob.glob('/Users/tushi/PRJ/WikidataParsing/data/*.csv'):\n",
    "    print(f'Loading {one_csv_file}')\n",
    "    new_df = pd.read_csv(one_csv_file)\n",
    "    all_dfs.append(new_df)\n",
    "    file_counter += 1\n",
    "    print(file_counter)\n",
    "#     print(time.process_time() - start)\n",
    "    \n",
    "print(time.process_time() - start)"
   ]
  },
  {
   "cell_type": "code",
   "execution_count": 30,
   "metadata": {},
   "outputs": [
    {
     "data": {
      "text/plain": [
       "48"
      ]
     },
     "execution_count": 30,
     "metadata": {},
     "output_type": "execute_result"
    }
   ],
   "source": [
    "len(all_dfs)"
   ]
  },
  {
   "cell_type": "code",
   "execution_count": 32,
   "metadata": {},
   "outputs": [],
   "source": [
    "del new_df"
   ]
  },
  {
   "cell_type": "code",
   "execution_count": 36,
   "metadata": {},
   "outputs": [],
   "source": [
    "df = pd.concat(all_dfs)"
   ]
  },
  {
   "cell_type": "code",
   "execution_count": 37,
   "metadata": {},
   "outputs": [
    {
     "data": {
      "text/plain": [
       "(39490585, 10)"
      ]
     },
     "execution_count": 37,
     "metadata": {},
     "output_type": "execute_result"
    }
   ],
   "source": [
    "df.shape"
   ]
  },
  {
   "cell_type": "code",
   "execution_count": 38,
   "metadata": {},
   "outputs": [],
   "source": [
    "(df['pagetitle'].value_counts()).to_csv('no_of_edits_all.csv')"
   ]
  },
  {
   "cell_type": "code",
   "execution_count": null,
   "metadata": {},
   "outputs": [],
   "source": []
  }
 ],
 "metadata": {
  "kernelspec": {
   "display_name": "Python 3",
   "language": "python",
   "name": "python3"
  },
  "language_info": {
   "codemirror_mode": {
    "name": "ipython",
    "version": 3
   },
   "file_extension": ".py",
   "mimetype": "text/x-python",
   "name": "python",
   "nbconvert_exporter": "python",
   "pygments_lexer": "ipython3",
   "version": "3.8.3"
  }
 },
 "nbformat": 4,
 "nbformat_minor": 4
}
