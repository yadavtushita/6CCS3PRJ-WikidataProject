{
 "cells": [
  {
   "cell_type": "markdown",
   "metadata": {},
   "source": [
    "# Wikidata Processing\n",
    "\n",
    "After completing Wikidata Parsing from XML files to CSV files the next stage is to load up the data, process it and clean it prior to the visualisation and analysis phase. This will be called Wikidata Processing.\n",
    "\n",
    "Number of XML Files Parsed: 26/27\n",
    "\n",
    "Number of Revisions Collected: 38,901,405\n",
    "\n",
    "Size of Data Collected in CSV Files: 6.3GB\n"
   ]
  },
  {
   "cell_type": "code",
   "execution_count": 1,
   "metadata": {},
   "outputs": [],
   "source": [
    "import pandas as pd\n",
    "from pandas import DataFrame\n",
    "import glob\n",
    "import time"
   ]
  },
  {
   "cell_type": "code",
   "execution_count": 2,
   "metadata": {},
   "outputs": [
    {
     "data": {
      "text/plain": [
       "['/Users/tushi/PRJ/WikidataParsing/data\\\\wikidata-20220217-104520.csv',\n",
       " '/Users/tushi/PRJ/WikidataParsing/data\\\\wikidata-20220217-120013.csv',\n",
       " '/Users/tushi/PRJ/WikidataParsing/data\\\\wikidata-20220217-162441.csv',\n",
       " '/Users/tushi/PRJ/WikidataParsing/data\\\\wikidata-20220217-211644.csv',\n",
       " '/Users/tushi/PRJ/WikidataParsing/data\\\\wikidata-20220217-230521.csv',\n",
       " '/Users/tushi/PRJ/WikidataParsing/data\\\\wikidata-20220218-094616.csv',\n",
       " '/Users/tushi/PRJ/WikidataParsing/data\\\\wikidata-20220218-120701.csv',\n",
       " '/Users/tushi/PRJ/WikidataParsing/data\\\\wikidata-20220218-131204.csv',\n",
       " '/Users/tushi/PRJ/WikidataParsing/data\\\\wikidata-20220218-165015.csv',\n",
       " '/Users/tushi/PRJ/WikidataParsing/data\\\\wikidata-20220219-115534.csv',\n",
       " '/Users/tushi/PRJ/WikidataParsing/data\\\\wikidata-20220219-144048.csv',\n",
       " '/Users/tushi/PRJ/WikidataParsing/data\\\\wikidata-20220219-161541.csv',\n",
       " '/Users/tushi/PRJ/WikidataParsing/data\\\\wikidata-20220219-175709.csv',\n",
       " '/Users/tushi/PRJ/WikidataParsing/data\\\\wikidata-20220220-125511.csv',\n",
       " '/Users/tushi/PRJ/WikidataParsing/data\\\\wikidata-20220220-143948.csv',\n",
       " '/Users/tushi/PRJ/WikidataParsing/data\\\\wikidata-20220220-163104.csv',\n",
       " '/Users/tushi/PRJ/WikidataParsing/data\\\\wikidata-20220221-090920.csv',\n",
       " '/Users/tushi/PRJ/WikidataParsing/data\\\\wikidata.20220217-112229.csv',\n",
       " '/Users/tushi/PRJ/WikidataParsing/data\\\\wikidata.20220217-122549.csv',\n",
       " '/Users/tushi/PRJ/WikidataParsing/data\\\\wikidata.20220217-125014.csv',\n",
       " '/Users/tushi/PRJ/WikidataParsing/data\\\\wikidata.20220217-165541.csv',\n",
       " '/Users/tushi/PRJ/WikidataParsing/data\\\\wikidata.20220217-171759.csv',\n",
       " '/Users/tushi/PRJ/WikidataParsing/data\\\\wikidata.20220217-213315.csv',\n",
       " '/Users/tushi/PRJ/WikidataParsing/data\\\\wikidata.20220217-215738.csv',\n",
       " '/Users/tushi/PRJ/WikidataParsing/data\\\\wikidata.20220218-000349.csv',\n",
       " '/Users/tushi/PRJ/WikidataParsing/data\\\\wikidata.20220218-104149.csv',\n",
       " '/Users/tushi/PRJ/WikidataParsing/data\\\\wikidata.20220218-125712.csv',\n",
       " '/Users/tushi/PRJ/WikidataParsing/data\\\\wikidata.20220218-175836.csv',\n",
       " '/Users/tushi/PRJ/WikidataParsing/data\\\\wikidata.20220219-151757.csv',\n",
       " '/Users/tushi/PRJ/WikidataParsing/data\\\\wikidata.20220219-165412.csv',\n",
       " '/Users/tushi/PRJ/WikidataParsing/data\\\\wikidata.20220219-182519.csv',\n",
       " '/Users/tushi/PRJ/WikidataParsing/data\\\\wikidata.20220220-132216.csv',\n",
       " '/Users/tushi/PRJ/WikidataParsing/data\\\\wikidata.20220220-144639.csv',\n",
       " '/Users/tushi/PRJ/WikidataParsing/data\\\\wikidata.20220220-145402.csv',\n",
       " '/Users/tushi/PRJ/WikidataParsing/data\\\\wikidata.20220220-151319.csv',\n",
       " '/Users/tushi/PRJ/WikidataParsing/data\\\\wikidata.20220220-152657.csv',\n",
       " '/Users/tushi/PRJ/WikidataParsing/data\\\\wikidata.20220220-165951.csv',\n",
       " '/Users/tushi/PRJ/WikidataParsing/data\\\\wikidata.20220220-170740.csv',\n",
       " '/Users/tushi/PRJ/WikidataParsing/data\\\\wikidata.20220220-171126.csv',\n",
       " '/Users/tushi/PRJ/WikidataParsing/data\\\\wikidata.20220220-171536.csv',\n",
       " '/Users/tushi/PRJ/WikidataParsing/data\\\\wikidata.20220220-171847.csv',\n",
       " '/Users/tushi/PRJ/WikidataParsing/data\\\\wikidata.20220220-172216.csv',\n",
       " '/Users/tushi/PRJ/WikidataParsing/data\\\\wikidata.20220220-172624.csv',\n",
       " '/Users/tushi/PRJ/WikidataParsing/data\\\\wikidata.20220220-173020.csv',\n",
       " '/Users/tushi/PRJ/WikidataParsing/data\\\\wikidata.20220220-173351.csv',\n",
       " '/Users/tushi/PRJ/WikidataParsing/data\\\\wikidata.20220220-173930.csv',\n",
       " '/Users/tushi/PRJ/WikidataParsing/data\\\\wikidata.20220221-091411.csv',\n",
       " '/Users/tushi/PRJ/WikidataParsing/data\\\\wikidata.20220221-091858.csv']"
      ]
     },
     "execution_count": 2,
     "metadata": {},
     "output_type": "execute_result"
    }
   ],
   "source": [
    "glob.glob('/Users/tushi/PRJ/WikidataParsing/data/*.csv')"
   ]
  },
  {
   "cell_type": "code",
   "execution_count": 3,
   "metadata": {},
   "outputs": [
    {
     "name": "stdout",
     "output_type": "stream",
     "text": [
      "Loading /Users/tushi/PRJ/WikidataParsing/data\\wikidata-20220217-104520.csv\n",
      "1\n",
      "Loading /Users/tushi/PRJ/WikidataParsing/data\\wikidata-20220217-120013.csv\n",
      "2\n",
      "Loading /Users/tushi/PRJ/WikidataParsing/data\\wikidata-20220217-162441.csv\n",
      "3\n",
      "Loading /Users/tushi/PRJ/WikidataParsing/data\\wikidata-20220217-211644.csv\n",
      "4\n",
      "Loading /Users/tushi/PRJ/WikidataParsing/data\\wikidata-20220217-230521.csv\n",
      "5\n",
      "Loading /Users/tushi/PRJ/WikidataParsing/data\\wikidata-20220218-094616.csv\n",
      "6\n",
      "Loading /Users/tushi/PRJ/WikidataParsing/data\\wikidata-20220218-120701.csv\n",
      "7\n",
      "Loading /Users/tushi/PRJ/WikidataParsing/data\\wikidata-20220218-131204.csv\n",
      "8\n",
      "Loading /Users/tushi/PRJ/WikidataParsing/data\\wikidata-20220218-165015.csv\n",
      "9\n",
      "Loading /Users/tushi/PRJ/WikidataParsing/data\\wikidata-20220219-115534.csv\n",
      "10\n",
      "Loading /Users/tushi/PRJ/WikidataParsing/data\\wikidata-20220219-144048.csv\n",
      "11\n",
      "Loading /Users/tushi/PRJ/WikidataParsing/data\\wikidata-20220219-161541.csv\n",
      "12\n",
      "Loading /Users/tushi/PRJ/WikidataParsing/data\\wikidata-20220219-175709.csv\n",
      "13\n",
      "Loading /Users/tushi/PRJ/WikidataParsing/data\\wikidata-20220220-125511.csv\n",
      "14\n",
      "Loading /Users/tushi/PRJ/WikidataParsing/data\\wikidata-20220220-143948.csv\n",
      "15\n",
      "Loading /Users/tushi/PRJ/WikidataParsing/data\\wikidata-20220220-163104.csv\n",
      "16\n",
      "Loading /Users/tushi/PRJ/WikidataParsing/data\\wikidata-20220221-090920.csv\n",
      "17\n",
      "Loading /Users/tushi/PRJ/WikidataParsing/data\\wikidata.20220217-112229.csv\n",
      "18\n",
      "Loading /Users/tushi/PRJ/WikidataParsing/data\\wikidata.20220217-122549.csv\n",
      "19\n",
      "Loading /Users/tushi/PRJ/WikidataParsing/data\\wikidata.20220217-125014.csv\n",
      "20\n",
      "Loading /Users/tushi/PRJ/WikidataParsing/data\\wikidata.20220217-165541.csv\n",
      "21\n",
      "Loading /Users/tushi/PRJ/WikidataParsing/data\\wikidata.20220217-171759.csv\n",
      "22\n",
      "Loading /Users/tushi/PRJ/WikidataParsing/data\\wikidata.20220217-213315.csv\n",
      "23\n",
      "Loading /Users/tushi/PRJ/WikidataParsing/data\\wikidata.20220217-215738.csv\n",
      "24\n",
      "Loading /Users/tushi/PRJ/WikidataParsing/data\\wikidata.20220218-000349.csv\n",
      "25\n",
      "Loading /Users/tushi/PRJ/WikidataParsing/data\\wikidata.20220218-104149.csv\n",
      "26\n",
      "Loading /Users/tushi/PRJ/WikidataParsing/data\\wikidata.20220218-125712.csv\n",
      "27\n",
      "Loading /Users/tushi/PRJ/WikidataParsing/data\\wikidata.20220218-175836.csv\n",
      "28\n",
      "Loading /Users/tushi/PRJ/WikidataParsing/data\\wikidata.20220219-151757.csv\n",
      "29\n",
      "Loading /Users/tushi/PRJ/WikidataParsing/data\\wikidata.20220219-165412.csv\n",
      "30\n",
      "Loading /Users/tushi/PRJ/WikidataParsing/data\\wikidata.20220219-182519.csv\n",
      "31\n",
      "Loading /Users/tushi/PRJ/WikidataParsing/data\\wikidata.20220220-132216.csv\n",
      "32\n",
      "Loading /Users/tushi/PRJ/WikidataParsing/data\\wikidata.20220220-144639.csv\n",
      "33\n",
      "Loading /Users/tushi/PRJ/WikidataParsing/data\\wikidata.20220220-145402.csv\n",
      "34\n",
      "Loading /Users/tushi/PRJ/WikidataParsing/data\\wikidata.20220220-151319.csv\n",
      "35\n",
      "Loading /Users/tushi/PRJ/WikidataParsing/data\\wikidata.20220220-152657.csv\n",
      "36\n",
      "Loading /Users/tushi/PRJ/WikidataParsing/data\\wikidata.20220220-165951.csv\n",
      "37\n",
      "Loading /Users/tushi/PRJ/WikidataParsing/data\\wikidata.20220220-170740.csv\n",
      "38\n",
      "Loading /Users/tushi/PRJ/WikidataParsing/data\\wikidata.20220220-171126.csv\n",
      "39\n",
      "Loading /Users/tushi/PRJ/WikidataParsing/data\\wikidata.20220220-171536.csv\n",
      "40\n",
      "Loading /Users/tushi/PRJ/WikidataParsing/data\\wikidata.20220220-171847.csv\n",
      "41\n",
      "Loading /Users/tushi/PRJ/WikidataParsing/data\\wikidata.20220220-172216.csv\n",
      "42\n",
      "Loading /Users/tushi/PRJ/WikidataParsing/data\\wikidata.20220220-172624.csv\n",
      "43\n",
      "Loading /Users/tushi/PRJ/WikidataParsing/data\\wikidata.20220220-173020.csv\n",
      "44\n",
      "Loading /Users/tushi/PRJ/WikidataParsing/data\\wikidata.20220220-173351.csv\n",
      "45\n",
      "Loading /Users/tushi/PRJ/WikidataParsing/data\\wikidata.20220220-173930.csv\n",
      "46\n",
      "Loading /Users/tushi/PRJ/WikidataParsing/data\\wikidata.20220221-091411.csv\n",
      "47\n",
      "Loading /Users/tushi/PRJ/WikidataParsing/data\\wikidata.20220221-091858.csv\n",
      "48\n",
      "212.34375\n"
     ]
    }
   ],
   "source": [
    "all_dfs = []\n",
    "file_counter = 0\n",
    "start = time.process_time()\n",
    "for one_csv_file in glob.glob('/Users/tushi/PRJ/WikidataParsing/data/*.csv'):\n",
    "    print(f'Loading {one_csv_file}')\n",
    "    new_df = pd.read_csv(one_csv_file)\n",
    "    all_dfs.append(new_df)\n",
    "    file_counter += 1\n",
    "    print(file_counter)\n",
    "#     print(time.process_time() - start)\n",
    "    \n",
    "print(time.process_time() - start)"
   ]
  },
  {
   "cell_type": "code",
   "execution_count": 4,
   "metadata": {},
   "outputs": [
    {
     "data": {
      "text/plain": [
       "48"
      ]
     },
     "execution_count": 4,
     "metadata": {},
     "output_type": "execute_result"
    }
   ],
   "source": [
    "len(all_dfs)"
   ]
  },
  {
   "cell_type": "code",
   "execution_count": 5,
   "metadata": {},
   "outputs": [],
   "source": [
    "del new_df"
   ]
  },
  {
   "cell_type": "code",
   "execution_count": 6,
   "metadata": {},
   "outputs": [],
   "source": [
    "df = pd.concat(all_dfs)"
   ]
  },
  {
   "cell_type": "code",
   "execution_count": 7,
   "metadata": {},
   "outputs": [
    {
     "data": {
      "text/plain": [
       "(39490585, 10)"
      ]
     },
     "execution_count": 7,
     "metadata": {},
     "output_type": "execute_result"
    }
   ],
   "source": [
    "df.shape"
   ]
  },
  {
   "cell_type": "code",
   "execution_count": 12,
   "metadata": {},
   "outputs": [],
   "source": [
    "# (df['pagetitle'].value_counts()).to_csv('no_of_edits_all.csv')\n",
    "df_edits_count = df['pagetitle'].value_counts()"
   ]
  },
  {
   "cell_type": "code",
   "execution_count": 13,
   "metadata": {},
   "outputs": [
    {
     "data": {
      "text/plain": [
       "(8365814,)"
      ]
     },
     "execution_count": 13,
     "metadata": {},
     "output_type": "execute_result"
    }
   ],
   "source": [
    "df_edits_count.shape"
   ]
  },
  {
   "cell_type": "code",
   "execution_count": 14,
   "metadata": {},
   "outputs": [
    {
     "data": {
      "text/plain": [
       "Q27335409    4231\n",
       "Q27335792    4096\n",
       "Q27336022    4042\n",
       "Q27336098    4007\n",
       "Q27336831    3874\n",
       "Name: pagetitle, dtype: int64"
      ]
     },
     "execution_count": 14,
     "metadata": {},
     "output_type": "execute_result"
    }
   ],
   "source": [
    "df_edits_count.head()"
   ]
  },
  {
   "cell_type": "code",
   "execution_count": 17,
   "metadata": {},
   "outputs": [
    {
     "data": {
      "text/plain": [
       "count    8.365814e+06\n",
       "mean     4.720471e+00\n",
       "std      1.435651e+01\n",
       "min      1.000000e+00\n",
       "25%      1.000000e+00\n",
       "50%      2.000000e+00\n",
       "75%      4.000000e+00\n",
       "max      4.231000e+03\n",
       "Name: pagetitle, dtype: float64"
      ]
     },
     "execution_count": 17,
     "metadata": {},
     "output_type": "execute_result"
    }
   ],
   "source": [
    "df_edits_count.describe()"
   ]
  },
  {
   "cell_type": "code",
   "execution_count": 25,
   "metadata": {},
   "outputs": [
    {
     "data": {
      "text/plain": [
       "Index(['Q27335409', 'Q27335792', 'Q27336022', 'Q27336098', 'Q27336831',\n",
       "       'Q27345502', 'Q27335465', 'Q27347646', 'Q27338841', 'Q27340473',\n",
       "       ...\n",
       "       'Q5353169', 'Q22015546', 'Q14574863', 'Q10735380', 'Q23624735',\n",
       "       'Q20525943', 'Q16335553', 'Q2684728', 'Q13501280', 'Q5003662'],\n",
       "      dtype='object', length=8365814)"
      ]
     },
     "execution_count": 25,
     "metadata": {},
     "output_type": "execute_result"
    }
   ],
   "source": [
    "df_edits_count.index"
   ]
  },
  {
   "cell_type": "code",
   "execution_count": 28,
   "metadata": {},
   "outputs": [],
   "source": [
    "# converting to a datafram so that it can be compared/merged with the dataframes for each topic\n",
    "dfec = pd.DataFrame({'qid':df_edits_count.index, 'editscount':df_edits_count.values})"
   ]
  },
  {
   "cell_type": "code",
   "execution_count": 29,
   "metadata": {},
   "outputs": [
    {
     "data": {
      "text/plain": [
       "(8365814, 2)"
      ]
     },
     "execution_count": 29,
     "metadata": {},
     "output_type": "execute_result"
    }
   ],
   "source": [
    "dfec.shape"
   ]
  },
  {
   "cell_type": "code",
   "execution_count": 30,
   "metadata": {},
   "outputs": [
    {
     "data": {
      "text/html": [
       "<div>\n",
       "<style scoped>\n",
       "    .dataframe tbody tr th:only-of-type {\n",
       "        vertical-align: middle;\n",
       "    }\n",
       "\n",
       "    .dataframe tbody tr th {\n",
       "        vertical-align: top;\n",
       "    }\n",
       "\n",
       "    .dataframe thead th {\n",
       "        text-align: right;\n",
       "    }\n",
       "</style>\n",
       "<table border=\"1\" class=\"dataframe\">\n",
       "  <thead>\n",
       "    <tr style=\"text-align: right;\">\n",
       "      <th></th>\n",
       "      <th>qid</th>\n",
       "      <th>editscount</th>\n",
       "    </tr>\n",
       "  </thead>\n",
       "  <tbody>\n",
       "    <tr>\n",
       "      <th>0</th>\n",
       "      <td>Q27335409</td>\n",
       "      <td>4231</td>\n",
       "    </tr>\n",
       "    <tr>\n",
       "      <th>1</th>\n",
       "      <td>Q27335792</td>\n",
       "      <td>4096</td>\n",
       "    </tr>\n",
       "    <tr>\n",
       "      <th>2</th>\n",
       "      <td>Q27336022</td>\n",
       "      <td>4042</td>\n",
       "    </tr>\n",
       "    <tr>\n",
       "      <th>3</th>\n",
       "      <td>Q27336098</td>\n",
       "      <td>4007</td>\n",
       "    </tr>\n",
       "    <tr>\n",
       "      <th>4</th>\n",
       "      <td>Q27336831</td>\n",
       "      <td>3874</td>\n",
       "    </tr>\n",
       "  </tbody>\n",
       "</table>\n",
       "</div>"
      ],
      "text/plain": [
       "         qid  editscount\n",
       "0  Q27335409        4231\n",
       "1  Q27335792        4096\n",
       "2  Q27336022        4042\n",
       "3  Q27336098        4007\n",
       "4  Q27336831        3874"
      ]
     },
     "execution_count": 30,
     "metadata": {},
     "output_type": "execute_result"
    }
   ],
   "source": [
    "dfec.head()"
   ]
  },
  {
   "cell_type": "code",
   "execution_count": 31,
   "metadata": {},
   "outputs": [
    {
     "data": {
      "text/html": [
       "<div>\n",
       "<style scoped>\n",
       "    .dataframe tbody tr th:only-of-type {\n",
       "        vertical-align: middle;\n",
       "    }\n",
       "\n",
       "    .dataframe tbody tr th {\n",
       "        vertical-align: top;\n",
       "    }\n",
       "\n",
       "    .dataframe thead th {\n",
       "        text-align: right;\n",
       "    }\n",
       "</style>\n",
       "<table border=\"1\" class=\"dataframe\">\n",
       "  <thead>\n",
       "    <tr style=\"text-align: right;\">\n",
       "      <th></th>\n",
       "      <th>qid</th>\n",
       "      <th>editscount</th>\n",
       "    </tr>\n",
       "  </thead>\n",
       "  <tbody>\n",
       "    <tr>\n",
       "      <th>8365809</th>\n",
       "      <td>Q20525943</td>\n",
       "      <td>1</td>\n",
       "    </tr>\n",
       "    <tr>\n",
       "      <th>8365810</th>\n",
       "      <td>Q16335553</td>\n",
       "      <td>1</td>\n",
       "    </tr>\n",
       "    <tr>\n",
       "      <th>8365811</th>\n",
       "      <td>Q2684728</td>\n",
       "      <td>1</td>\n",
       "    </tr>\n",
       "    <tr>\n",
       "      <th>8365812</th>\n",
       "      <td>Q13501280</td>\n",
       "      <td>1</td>\n",
       "    </tr>\n",
       "    <tr>\n",
       "      <th>8365813</th>\n",
       "      <td>Q5003662</td>\n",
       "      <td>1</td>\n",
       "    </tr>\n",
       "  </tbody>\n",
       "</table>\n",
       "</div>"
      ],
      "text/plain": [
       "               qid  editscount\n",
       "8365809  Q20525943           1\n",
       "8365810  Q16335553           1\n",
       "8365811   Q2684728           1\n",
       "8365812  Q13501280           1\n",
       "8365813   Q5003662           1"
      ]
     },
     "execution_count": 31,
     "metadata": {},
     "output_type": "execute_result"
    }
   ],
   "source": [
    "dfec.tail()"
   ]
  },
  {
   "cell_type": "code",
   "execution_count": 34,
   "metadata": {},
   "outputs": [
    {
     "data": {
      "text/html": [
       "<div>\n",
       "<style scoped>\n",
       "    .dataframe tbody tr th:only-of-type {\n",
       "        vertical-align: middle;\n",
       "    }\n",
       "\n",
       "    .dataframe tbody tr th {\n",
       "        vertical-align: top;\n",
       "    }\n",
       "\n",
       "    .dataframe thead th {\n",
       "        text-align: right;\n",
       "    }\n",
       "</style>\n",
       "<table border=\"1\" class=\"dataframe\">\n",
       "  <thead>\n",
       "    <tr style=\"text-align: right;\">\n",
       "      <th></th>\n",
       "      <th>editscount</th>\n",
       "    </tr>\n",
       "  </thead>\n",
       "  <tbody>\n",
       "    <tr>\n",
       "      <th>count</th>\n",
       "      <td>8.365814e+06</td>\n",
       "    </tr>\n",
       "    <tr>\n",
       "      <th>mean</th>\n",
       "      <td>4.720471e+00</td>\n",
       "    </tr>\n",
       "    <tr>\n",
       "      <th>std</th>\n",
       "      <td>1.435651e+01</td>\n",
       "    </tr>\n",
       "    <tr>\n",
       "      <th>min</th>\n",
       "      <td>1.000000e+00</td>\n",
       "    </tr>\n",
       "    <tr>\n",
       "      <th>25%</th>\n",
       "      <td>1.000000e+00</td>\n",
       "    </tr>\n",
       "    <tr>\n",
       "      <th>50%</th>\n",
       "      <td>2.000000e+00</td>\n",
       "    </tr>\n",
       "    <tr>\n",
       "      <th>75%</th>\n",
       "      <td>4.000000e+00</td>\n",
       "    </tr>\n",
       "    <tr>\n",
       "      <th>max</th>\n",
       "      <td>4.231000e+03</td>\n",
       "    </tr>\n",
       "  </tbody>\n",
       "</table>\n",
       "</div>"
      ],
      "text/plain": [
       "         editscount\n",
       "count  8.365814e+06\n",
       "mean   4.720471e+00\n",
       "std    1.435651e+01\n",
       "min    1.000000e+00\n",
       "25%    1.000000e+00\n",
       "50%    2.000000e+00\n",
       "75%    4.000000e+00\n",
       "max    4.231000e+03"
      ]
     },
     "execution_count": 34,
     "metadata": {},
     "output_type": "execute_result"
    }
   ],
   "source": [
    "dfec.describe()"
   ]
  },
  {
   "cell_type": "markdown",
   "metadata": {},
   "source": [
    "# Topics"
   ]
  },
  {
   "cell_type": "markdown",
   "metadata": {},
   "source": [
    "## Politics"
   ]
  },
  {
   "cell_type": "code",
   "execution_count": 38,
   "metadata": {},
   "outputs": [],
   "source": [
    "# Need only the qids thus will read only them from the politics csv which also contains the url for each item\n",
    "politics_filename = '/Users/tushi/PRJ/WikidataParsing/topics/topics_all/politics_all.csv'\n",
    "politics_all = pd.read_csv(politics_filename, usecols=['qid'])"
   ]
  },
  {
   "cell_type": "code",
   "execution_count": 39,
   "metadata": {},
   "outputs": [
    {
     "data": {
      "text/plain": [
       "(1462482, 1)"
      ]
     },
     "execution_count": 39,
     "metadata": {},
     "output_type": "execute_result"
    }
   ],
   "source": [
    "politics_all.shape"
   ]
  },
  {
   "cell_type": "code",
   "execution_count": 41,
   "metadata": {},
   "outputs": [
    {
     "data": {
      "text/plain": [
       "<bound method NDFrame.head of                 qid\n",
       "0         Q11509566\n",
       "1          Q7064145\n",
       "2         Q20058819\n",
       "3         Q20059126\n",
       "4         Q20103919\n",
       "...             ...\n",
       "1462477  Q108442068\n",
       "1462478  Q108455809\n",
       "1462479  Q108462476\n",
       "1462480  Q109332800\n",
       "1462481  Q111049844\n",
       "\n",
       "[1462482 rows x 1 columns]>"
      ]
     },
     "execution_count": 41,
     "metadata": {},
     "output_type": "execute_result"
    }
   ],
   "source": [
    "politics_all.head"
   ]
  },
  {
   "cell_type": "code",
   "execution_count": 45,
   "metadata": {},
   "outputs": [],
   "source": [
    "# Find common elements in dfec(dataframe for the qids and their respective edit counts in the wikidata revision history) \n",
    "# and politics_all(qids of items that fall under the topics politics as per the wikidata generic tree/ontology)\n",
    "politics = pd.merge(dfec, politics_all, how='inner', on=['qid'])\n",
    "politics.to_csv('/Users/tushi/PRJ/WikidataParsing/topics/data/politics.csv')"
   ]
  },
  {
   "cell_type": "code",
   "execution_count": 46,
   "metadata": {},
   "outputs": [
    {
     "data": {
      "text/plain": [
       "<bound method NDFrame.head of               qid  editscount\n",
       "0        Q4115189        1437\n",
       "1        Q3642765         920\n",
       "2        Q3964154         745\n",
       "3        Q4504204         730\n",
       "4         Q534197         704\n",
       "...           ...         ...\n",
       "414458  Q20685272           1\n",
       "414459   Q2206138           1\n",
       "414460  Q10853490           1\n",
       "414461  Q26853790           1\n",
       "414462   Q4744826           1\n",
       "\n",
       "[414463 rows x 2 columns]>"
      ]
     },
     "execution_count": 46,
     "metadata": {},
     "output_type": "execute_result"
    }
   ],
   "source": [
    "politics.head"
   ]
  },
  {
   "cell_type": "code",
   "execution_count": 50,
   "metadata": {},
   "outputs": [
    {
     "data": {
      "text/plain": [
       "(39490585, 10)"
      ]
     },
     "execution_count": 50,
     "metadata": {},
     "output_type": "execute_result"
    }
   ],
   "source": [
    "df.shape"
   ]
  },
  {
   "cell_type": "code",
   "execution_count": 48,
   "metadata": {},
   "outputs": [
    {
     "data": {
      "text/plain": [
       "Index(['pageid', 'pagetitle', 'revisionid', 'timestamp', 'comment', 'type',\n",
       "       'editentity', 'parentid', 'userid', 'username'],\n",
       "      dtype='object')"
      ]
     },
     "execution_count": 48,
     "metadata": {},
     "output_type": "execute_result"
    }
   ],
   "source": [
    "df.columns"
   ]
  },
  {
   "cell_type": "code",
   "execution_count": 53,
   "metadata": {},
   "outputs": [],
   "source": [
    "# qid is equivalent to pagetitle\n",
    "# renaming it for convenience\n",
    "df.rename(columns={\"pagetitle\": \"qid\"} ,inplace=True)"
   ]
  },
  {
   "cell_type": "code",
   "execution_count": 54,
   "metadata": {},
   "outputs": [
    {
     "data": {
      "text/plain": [
       "Index(['pageid', 'qid', 'revisionid', 'timestamp', 'comment', 'type',\n",
       "       'editentity', 'parentid', 'userid', 'username'],\n",
       "      dtype='object')"
      ]
     },
     "execution_count": 54,
     "metadata": {},
     "output_type": "execute_result"
    }
   ],
   "source": [
    "df.columns"
   ]
  },
  {
   "cell_type": "code",
   "execution_count": 55,
   "metadata": {},
   "outputs": [],
   "source": [
    "politics_revisions = pd.merge(df, politics, how='inner', on=['qid'])"
   ]
  },
  {
   "cell_type": "code",
   "execution_count": 59,
   "metadata": {},
   "outputs": [
    {
     "data": {
      "text/plain": [
       "Q4115189     1437\n",
       "Q3642765      920\n",
       "Q3964154      745\n",
       "Q4504204      730\n",
       "Q534197       704\n",
       "             ... \n",
       "Q3703500        1\n",
       "Q17100094       1\n",
       "Q12199591       1\n",
       "Q6045647        1\n",
       "Q4162140        1\n",
       "Name: qid, Length: 414463, dtype: int64"
      ]
     },
     "execution_count": 59,
     "metadata": {},
     "output_type": "execute_result"
    }
   ],
   "source": [
    "politics_revisions['qid'].value_counts()\n",
    "# to verify"
   ]
  },
  {
   "cell_type": "code",
   "execution_count": 58,
   "metadata": {},
   "outputs": [],
   "source": [
    "politics_revisions.to_csv('/Users/tushi/PRJ/WikidataParsing/topics/data_with_revisions/politics_revisions.csv')"
   ]
  }
 ],
 "metadata": {
  "kernelspec": {
   "display_name": "Python 3",
   "language": "python",
   "name": "python3"
  },
  "language_info": {
   "codemirror_mode": {
    "name": "ipython",
    "version": 3
   },
   "file_extension": ".py",
   "mimetype": "text/x-python",
   "name": "python",
   "nbconvert_exporter": "python",
   "pygments_lexer": "ipython3",
   "version": "3.8.3"
  }
 },
 "nbformat": 4,
 "nbformat_minor": 4
}
