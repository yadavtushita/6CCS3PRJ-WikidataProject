{
 "cells": [
  {
   "cell_type": "markdown",
   "metadata": {},
   "source": [
    "# Wikidata Processing\n",
    "\n",
    "After completing Wikidata Parsing from XML files to CSV files the next stage is to load up the data, process it and clean it prior to the visualisation and analysis phase. This will be called Wikidata Processing.\n",
    "\n",
    "Number of XML Files Parsed: 26/27\n",
    "\n",
    "Number of Revisions Collected: 38,901,405\n",
    "\n",
    "Size of Data Collected in CSV Files: 6.3GB\n"
   ]
  },
  {
   "cell_type": "code",
   "execution_count": 17,
   "metadata": {},
   "outputs": [],
   "source": [
    "import pandas as pd\n",
    "from pandas import DataFrame\n",
    "import glob\n",
    "import time"
   ]
  },
  {
   "cell_type": "code",
   "execution_count": 18,
   "metadata": {},
   "outputs": [
    {
     "data": {
      "text/plain": [
       "['/Users/tushi/PRJ/WikidataParsing/wd_16\\\\wikidata-20220220-163104.csv',\n",
       " '/Users/tushi/PRJ/WikidataParsing/wd_16\\\\wikidata.20220220-165951.csv',\n",
       " '/Users/tushi/PRJ/WikidataParsing/wd_16\\\\wikidata.20220220-170740.csv',\n",
       " '/Users/tushi/PRJ/WikidataParsing/wd_16\\\\wikidata.20220220-171126.csv',\n",
       " '/Users/tushi/PRJ/WikidataParsing/wd_16\\\\wikidata.20220220-171536.csv',\n",
       " '/Users/tushi/PRJ/WikidataParsing/wd_16\\\\wikidata.20220220-171847.csv',\n",
       " '/Users/tushi/PRJ/WikidataParsing/wd_16\\\\wikidata.20220220-172216.csv',\n",
       " '/Users/tushi/PRJ/WikidataParsing/wd_16\\\\wikidata.20220220-172624.csv',\n",
       " '/Users/tushi/PRJ/WikidataParsing/wd_16\\\\wikidata.20220220-173020.csv',\n",
       " '/Users/tushi/PRJ/WikidataParsing/wd_16\\\\wikidata.20220220-173351.csv',\n",
       " '/Users/tushi/PRJ/WikidataParsing/wd_16\\\\wikidata.20220220-173930.csv']"
      ]
     },
     "execution_count": 18,
     "metadata": {},
     "output_type": "execute_result"
    }
   ],
   "source": [
    "glob.glob('/Users/tushi/PRJ/WikidataParsing/wd_16/*.csv')"
   ]
  },
  {
   "cell_type": "code",
   "execution_count": 19,
   "metadata": {},
   "outputs": [],
   "source": [
    "df1 = pd.read_csv('/Users/tushi/PRJ/WikidataParsing/wd_16\\\\wikidata-20220220-163104.csv')"
   ]
  },
  {
   "cell_type": "code",
   "execution_count": 20,
   "metadata": {},
   "outputs": [
    {
     "data": {
      "text/plain": [
       "1000000"
      ]
     },
     "execution_count": 20,
     "metadata": {},
     "output_type": "execute_result"
    }
   ],
   "source": [
    "len(df1)"
   ]
  },
  {
   "cell_type": "code",
   "execution_count": 21,
   "metadata": {},
   "outputs": [
    {
     "name": "stdout",
     "output_type": "stream",
     "text": [
      "            pageid  pagetitle  revisionid             timestamp  \\\n",
      "0       27066474.0  Q25107319     71094.0  2016-10-01T00:48:17Z   \n",
      "1       27066474.0  Q25107319     71094.0  2016-10-01T07:25:51Z   \n",
      "2       27066474.0  Q25107319     71094.0  2016-12-24T14:56:40Z   \n",
      "3       27066515.0  Q25107359      7056.0  2016-12-08T06:20:38Z   \n",
      "4       27066517.0  Q25107362    247971.0  2016-11-06T17:25:13Z   \n",
      "...            ...        ...         ...                   ...   \n",
      "999995  28880603.0  Q26998996    133116.0  2016-11-14T05:33:52Z   \n",
      "999996  28880603.0  Q26998996    133116.0  2016-11-14T05:33:53Z   \n",
      "999997  28880603.0  Q26998996   1554155.0  2016-12-16T04:16:33Z   \n",
      "999998  28880603.0  Q26998996   1554155.0  2016-12-16T22:23:35Z   \n",
      "999999  28880604.0  Q26998997   1554155.0  2016-10-23T10:17:49Z   \n",
      "\n",
      "                                                  comment    type editentity  \\\n",
      "0       b'/* wbeditentity-update:0| */ BOT:Add labels ...  update      label   \n",
      "1       b'/* wbeditentity-update:0| */ BOT:Add categor...  update     entity   \n",
      "2       b'/* wbeditentity-update:0| */ BOT:Add categor...  update     entity   \n",
      "3       b'/* wbcreateclaim-create:1| */ [[Property:P97...  create      claim   \n",
      "4       b'/* wbcreateclaim-create:1| */ [[Property:P69...  create      claim   \n",
      "...                                                   ...     ...        ...   \n",
      "999995  b'/* wbcreateclaim-create:1| */ [[Property:P28...  create      claim   \n",
      "999996  b'/* wbsetreference-add:2| */ [[Property:P2860...     add  reference   \n",
      "999997  b'/* wbeditentity-update:0| */ sr description ...  update     entity   \n",
      "999998  b'/* wbeditentity-update:0| */ pt description ...  update     entity   \n",
      "999999  b'/* wbeditentity-update:0| */ nl-description,...  update     entity   \n",
      "\n",
      "           parentid     userid        username  \n",
      "0       377306603.0    71094.0   b'ValterVBot'  \n",
      "1       382789404.0    71094.0   b'ValterVBot'  \n",
      "2       382839233.0    71094.0   b'ValterVBot'  \n",
      "3       370465224.0     7056.0       b'Gareth'  \n",
      "4       370465206.0   247971.0     b'Teolemon'  \n",
      "...             ...        ...             ...  \n",
      "999995  405467403.0   133116.0        b'Harej'  \n",
      "999996  407097692.0   133116.0        b'Harej'  \n",
      "999997  407097703.0  1554155.0  b'Edoderoobot'  \n",
      "999998  416861115.0  1554155.0  b'Edoderoobot'  \n",
      "999999  379913014.0  1554155.0  b'Edoderoobot'  \n",
      "\n",
      "[1000000 rows x 10 columns]\n"
     ]
    }
   ],
   "source": [
    "print(df1)"
   ]
  },
  {
   "cell_type": "code",
   "execution_count": 22,
   "metadata": {},
   "outputs": [
    {
     "name": "stdout",
     "output_type": "stream",
     "text": [
      "Loading /Users/tushi/PRJ/WikidataParsing/wd_16\\wikidata-20220220-163104.csv\n",
      "1\n",
      "2.03125\n",
      "Loading /Users/tushi/PRJ/WikidataParsing/wd_16\\wikidata.20220220-165951.csv\n",
      "2\n",
      "4.03125\n",
      "Loading /Users/tushi/PRJ/WikidataParsing/wd_16\\wikidata.20220220-170740.csv\n",
      "3\n",
      "5.84375\n",
      "Loading /Users/tushi/PRJ/WikidataParsing/wd_16\\wikidata.20220220-171126.csv\n",
      "4\n",
      "7.640625\n",
      "Loading /Users/tushi/PRJ/WikidataParsing/wd_16\\wikidata.20220220-171536.csv\n",
      "5\n",
      "9.21875\n",
      "Loading /Users/tushi/PRJ/WikidataParsing/wd_16\\wikidata.20220220-171847.csv\n",
      "6\n",
      "10.796875\n",
      "Loading /Users/tushi/PRJ/WikidataParsing/wd_16\\wikidata.20220220-172216.csv\n",
      "7\n",
      "12.421875\n",
      "Loading /Users/tushi/PRJ/WikidataParsing/wd_16\\wikidata.20220220-172624.csv\n",
      "8\n",
      "14.1875\n",
      "Loading /Users/tushi/PRJ/WikidataParsing/wd_16\\wikidata.20220220-173020.csv\n",
      "9\n",
      "15.96875\n",
      "Loading /Users/tushi/PRJ/WikidataParsing/wd_16\\wikidata.20220220-173351.csv\n",
      "10\n",
      "17.796875\n",
      "Loading /Users/tushi/PRJ/WikidataParsing/wd_16\\wikidata.20220220-173930.csv\n",
      "11\n",
      "18.296875\n",
      "18.296875\n"
     ]
    }
   ],
   "source": [
    "all_dfs = []\n",
    "file_counter = 0\n",
    "start = time.process_time()\n",
    "for one_csv_file in glob.glob('/Users/tushi/PRJ/WikidataParsing/wd_16/*.csv'):\n",
    "    print(f'Loading {one_csv_file}')\n",
    "    new_df = pd.read_csv(one_csv_file)\n",
    "    all_dfs.append(new_df)\n",
    "    file_counter += 1\n",
    "    print(file_counter)\n",
    "    print(time.process_time() - start)\n",
    "    \n",
    "print(time.process_time() - start)"
   ]
  },
  {
   "cell_type": "code",
   "execution_count": 23,
   "metadata": {},
   "outputs": [
    {
     "data": {
      "text/plain": [
       "11"
      ]
     },
     "execution_count": 23,
     "metadata": {},
     "output_type": "execute_result"
    }
   ],
   "source": [
    "len(all_dfs)"
   ]
  },
  {
   "cell_type": "code",
   "execution_count": 24,
   "metadata": {},
   "outputs": [],
   "source": [
    "df = pd.concat(all_dfs)"
   ]
  },
  {
   "cell_type": "code",
   "execution_count": 25,
   "metadata": {},
   "outputs": [
    {
     "data": {
      "text/plain": [
       "(10226788, 10)"
      ]
     },
     "execution_count": 25,
     "metadata": {},
     "output_type": "execute_result"
    }
   ],
   "source": [
    "df.shape"
   ]
  },
  {
   "cell_type": "code",
   "execution_count": 27,
   "metadata": {},
   "outputs": [],
   "source": [
    "(df['pagetitle'].value_counts()).to_csv('sample_no_of_edits.csv')"
   ]
  },
  {
   "cell_type": "code",
   "execution_count": null,
   "metadata": {},
   "outputs": [],
   "source": []
  }
 ],
 "metadata": {
  "kernelspec": {
   "display_name": "Python 3",
   "language": "python",
   "name": "python3"
  },
  "language_info": {
   "codemirror_mode": {
    "name": "ipython",
    "version": 3
   },
   "file_extension": ".py",
   "mimetype": "text/x-python",
   "name": "python",
   "nbconvert_exporter": "python",
   "pygments_lexer": "ipython3",
   "version": "3.8.3"
  }
 },
 "nbformat": 4,
 "nbformat_minor": 4
}
