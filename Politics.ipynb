{
 "cells": [
  {
   "cell_type": "code",
   "execution_count": 2,
   "metadata": {},
   "outputs": [
    {
     "name": "stdout",
     "output_type": "stream",
     "text": [
      "Collecting SPARQLWrapper\n",
      "  Using cached SPARQLWrapper-1.8.5-py3-none-any.whl (26 kB)\n",
      "Collecting rdflib>=4.0\n",
      "  Using cached rdflib-6.1.1-py3-none-any.whl (482 kB)\n",
      "Collecting isodate\n",
      "  Using cached isodate-0.6.1-py2.py3-none-any.whl (41 kB)\n",
      "Requirement already satisfied: pyparsing in c:\\users\\tushi\\anaconda3\\lib\\site-packages (from rdflib>=4.0->SPARQLWrapper) (2.4.7)\n",
      "Requirement already satisfied: setuptools in c:\\users\\tushi\\anaconda3\\lib\\site-packages (from rdflib>=4.0->SPARQLWrapper) (49.2.0.post20200714)\n",
      "Requirement already satisfied: six in c:\\users\\tushi\\anaconda3\\lib\\site-packages (from isodate->rdflib>=4.0->SPARQLWrapper) (1.15.0)\n",
      "Installing collected packages: isodate, rdflib, SPARQLWrapper\n",
      "Successfully installed SPARQLWrapper-1.8.5 isodate-0.6.1 rdflib-6.1.1\n"
     ]
    }
   ],
   "source": [
    "# ! pip install SPARQLWrapper\n",
    "# TODO: Remember to mention in documentation"
   ]
  },
  {
   "cell_type": "code",
   "execution_count": 39,
   "metadata": {},
   "outputs": [],
   "source": [
    "import pandas as pd\n",
    "import matplotlib.pyplot as plt\n",
    "import numpy as np\n",
    "import time\n",
    "from SPARQLWrapper import SPARQLWrapper, JSON\n",
    "\n",
    "%matplotlib inline"
   ]
  },
  {
   "cell_type": "code",
   "execution_count": 2,
   "metadata": {},
   "outputs": [],
   "source": [
    "# Reading the data from politics revisions\n",
    "# Contains the revisions for all the selected items\n",
    "revisions = pd.read_csv('/Users/tushi/PRJ/WikidataParsing/topics/data_with_revisions/politics_revisions.csv')\n",
    "items = pd.read_csv('/Users/tushi/PRJ/WikidataParsing/topics/data/politics.csv')"
   ]
  },
  {
   "cell_type": "code",
   "execution_count": 3,
   "metadata": {},
   "outputs": [
    {
     "data": {
      "text/plain": [
       "(3915164, 12)"
      ]
     },
     "execution_count": 3,
     "metadata": {},
     "output_type": "execute_result"
    }
   ],
   "source": [
    "revisions.shape"
   ]
  },
  {
   "cell_type": "code",
   "execution_count": 4,
   "metadata": {},
   "outputs": [
    {
     "data": {
      "text/plain": [
       "(414463, 3)"
      ]
     },
     "execution_count": 4,
     "metadata": {},
     "output_type": "execute_result"
    }
   ],
   "source": [
    "items.shape"
   ]
  },
  {
   "cell_type": "markdown",
   "metadata": {},
   "source": [
    "Using SPARQL to retrieve the labels for all the items by using the corresponding qids"
   ]
  },
  {
   "cell_type": "code",
   "execution_count": 12,
   "metadata": {},
   "outputs": [],
   "source": [
    "# Specifying the Wikidata SPARQL endpoint\n",
    "sparql = SPARQLWrapper(\"https://query.wikidata.org/sparql\")"
   ]
  },
  {
   "cell_type": "code",
   "execution_count": 45,
   "metadata": {},
   "outputs": [
    {
     "name": "stdout",
     "output_type": "stream",
     "text": [
      "{'head': {'vars': ['label']}, 'results': {'bindings': [{'label': {'xml:lang': 'af', 'type': 'literal', 'value': 'Albrecht Schläger'}}]}}\n"
     ]
    }
   ],
   "source": [
    "# Query to access the label for the wikidata item\n",
    "sparql.setQuery(\"\"\"\n",
    "    SELECT ?label \n",
    "    WHERE {\n",
    "      wd:Q109321 rdfs:label ?label . \n",
    "      SERVICE wikibase:label { bd:serviceParam wikibase:language \"en\". }\n",
    "      }\n",
    "    LIMIT 1\n",
    "\"\"\")\n",
    "\n",
    "# Converting result to JSON format\n",
    "sparql.setReturnFormat(JSON)\n",
    "result = sparql.query().convert()\n",
    "print(result)"
   ]
  },
  {
   "cell_type": "code",
   "execution_count": 36,
   "metadata": {},
   "outputs": [
    {
     "name": "stdout",
     "output_type": "stream",
     "text": [
      "[{'label': {'xml:lang': 'af', 'type': 'literal', 'value': 'Albrecht Schläger'}}]\n",
      "{'label': {'xml:lang': 'af', 'type': 'literal', 'value': 'Albrecht Schläger'}}\n",
      "{'xml:lang': 'af', 'type': 'literal', 'value': 'Albrecht Schläger'}\n"
     ]
    }
   ],
   "source": [
    "print(result[\"results\"][\"bindings\"])\n",
    "print(result[\"results\"][\"bindings\"][0])\n",
    "print(result[\"results\"][\"bindings\"][0][\"label\"])"
   ]
  },
  {
   "cell_type": "code",
   "execution_count": 37,
   "metadata": {},
   "outputs": [
    {
     "name": "stdout",
     "output_type": "stream",
     "text": [
      "Albrecht Schläger\n"
     ]
    }
   ],
   "source": [
    "print(result[\"results\"][\"bindings\"][0][\"label\"][\"value\"])"
   ]
  },
  {
   "cell_type": "code",
   "execution_count": 109,
   "metadata": {},
   "outputs": [],
   "source": [
    "def get_item_label(qid):\n",
    "    try:        \n",
    "        # Specifying the Wikidata SPARQL endpoint\n",
    "        sparql = SPARQLWrapper(\"https://query.wikidata.org/sparql\")\n",
    "        \n",
    "        # Query to access the label for the wikidata item\n",
    "        sparql.setQuery('PREFIX rdfs: <http://www.w3.org/2000/01/rdf-schema#> SELECT ?label WHERE {wd:' + qid + ' rdfs:label ?label . SERVICE wikibase:label { bd:serviceParam wikibase:language \"en\". } } LIMIT 1')\n",
    "        \n",
    "        # Converting result to JSON format\n",
    "        sparql.setReturnFormat(JSON)\n",
    "        result = sparql.query().convert()\n",
    "        \n",
    "        # result is in the form of \"bindings\" which are a list of dictionaries\n",
    "        # Accessing the value of the label \n",
    "        itemLabel = result[\"results\"][\"bindings\"][0][\"label\"][\"value\"]\n",
    "        \n",
    "        return itemLabel\n",
    "    except Exception as ex:\n",
    "        print(ex)\n",
    "        return('')"
   ]
  },
  {
   "cell_type": "code",
   "execution_count": 111,
   "metadata": {},
   "outputs": [
    {
     "name": "stdout",
     "output_type": "stream",
     "text": [
      "Donald Trump\n",
      "0.046875\n"
     ]
    }
   ],
   "source": [
    "start = time.process_time()\n",
    "print(get_item_label(\"Q22686\"))\n",
    "print(time.process_time() - start)"
   ]
  },
  {
   "cell_type": "code",
   "execution_count": null,
   "metadata": {},
   "outputs": [
    {
     "name": "stdout",
     "output_type": "stream",
     "text": [
      "HTTP Error 429: Too Many Requests\n",
      "HTTP Error 429: Too Many Requests\n",
      "HTTP Error 429: Too Many Requests\n",
      "HTTP Error 429: Too Many Requests\n",
      "HTTP Error 429: Too Many Requests\n",
      "HTTP Error 429: Too Many Requests\n",
      "<urlopen error [WinError 10065] A socket operation was attempted to an unreachable host>\n",
      "<urlopen error [Errno 11001] getaddrinfo failed>\n",
      "<urlopen error [Errno 11001] getaddrinfo failed>\n",
      "<urlopen error [Errno 11001] getaddrinfo failed>\n",
      "<urlopen error [Errno 11001] getaddrinfo failed>\n",
      "<urlopen error [Errno 11001] getaddrinfo failed>\n",
      "<urlopen error [Errno 11001] getaddrinfo failed>\n",
      "<urlopen error [Errno 11001] getaddrinfo failed>\n",
      "<urlopen error [Errno 11001] getaddrinfo failed>\n",
      "<urlopen error [Errno 11001] getaddrinfo failed>\n",
      "<urlopen error [Errno 11001] getaddrinfo failed>\n",
      "<urlopen error [Errno 11001] getaddrinfo failed>\n",
      "<urlopen error [Errno 11001] getaddrinfo failed>\n",
      "<urlopen error [Errno 11001] getaddrinfo failed>\n",
      "<urlopen error [Errno 11001] getaddrinfo failed>\n",
      "<urlopen error [Errno 11001] getaddrinfo failed>\n",
      "<urlopen error [Errno 11001] getaddrinfo failed>\n",
      "<urlopen error [Errno 11001] getaddrinfo failed>\n",
      "<urlopen error [Errno 11001] getaddrinfo failed>\n",
      "<urlopen error [Errno 11001] getaddrinfo failed>\n",
      "<urlopen error [Errno 11001] getaddrinfo failed>\n",
      "<urlopen error [Errno 11001] getaddrinfo failed>\n",
      "<urlopen error [Errno 11001] getaddrinfo failed>\n",
      "<urlopen error [Errno 11001] getaddrinfo failed>\n",
      "<urlopen error [Errno 11001] getaddrinfo failed>\n",
      "<urlopen error [Errno 11001] getaddrinfo failed>\n",
      "<urlopen error [Errno 11001] getaddrinfo failed>\n",
      "<urlopen error [Errno 11001] getaddrinfo failed>\n",
      "<urlopen error [Errno 11001] getaddrinfo failed>\n",
      "<urlopen error [Errno 11001] getaddrinfo failed>\n",
      "<urlopen error [Errno 11001] getaddrinfo failed>\n",
      "<urlopen error [Errno 11001] getaddrinfo failed>\n",
      "<urlopen error [Errno 11001] getaddrinfo failed>\n",
      "<urlopen error [Errno 11001] getaddrinfo failed>\n",
      "<urlopen error [Errno 11001] getaddrinfo failed>\n",
      "<urlopen error [Errno 11001] getaddrinfo failed>\n",
      "<urlopen error [Errno 11001] getaddrinfo failed>\n",
      "<urlopen error [Errno 11001] getaddrinfo failed>\n",
      "<urlopen error [Errno 11001] getaddrinfo failed>\n",
      "<urlopen error [Errno 11001] getaddrinfo failed>\n",
      "<urlopen error [Errno 11001] getaddrinfo failed>\n",
      "<urlopen error [Errno 11001] getaddrinfo failed>\n",
      "<urlopen error [Errno 11001] getaddrinfo failed>\n",
      "<urlopen error [Errno 11001] getaddrinfo failed>\n",
      "<urlopen error [Errno 11001] getaddrinfo failed>\n",
      "<urlopen error [Errno 11001] getaddrinfo failed>\n",
      "<urlopen error [Errno 11001] getaddrinfo failed>\n",
      "<urlopen error [Errno 11001] getaddrinfo failed>\n",
      "<urlopen error [Errno 11001] getaddrinfo failed>\n",
      "<urlopen error [Errno 11001] getaddrinfo failed>\n",
      "<urlopen error [Errno 11001] getaddrinfo failed>\n",
      "<urlopen error [Errno 11001] getaddrinfo failed>\n",
      "<urlopen error [Errno 11001] getaddrinfo failed>\n",
      "<urlopen error [Errno 11001] getaddrinfo failed>\n",
      "<urlopen error [Errno 11001] getaddrinfo failed>\n",
      "<urlopen error [Errno 11001] getaddrinfo failed>\n",
      "<urlopen error [Errno 11001] getaddrinfo failed>\n",
      "<urlopen error [Errno 11001] getaddrinfo failed>\n",
      "<urlopen error [Errno 11001] getaddrinfo failed>\n"
     ]
    }
   ],
   "source": [
    "# Retrieiving labels for the items dataframe first \n",
    "# This will make the process quicker as compared to doing it for all revisions\n",
    "items['label'] = [get_item_label(qid) for qid in items['qid']]"
   ]
  },
  {
   "cell_type": "markdown",
   "metadata": {},
   "source": [
    "# Data Cleaning"
   ]
  },
  {
   "cell_type": "markdown",
   "metadata": {},
   "source": [
    "What all needs to be done?\n",
    "\n",
    "1. The edit type needs to be redone as multiple edge cases were discovered during thedata parsing and collection stage which were not known beforehand or from sampling 10000 revisions.\n",
    "\n",
    "- Comment - check for type such as if it is a revert, undo or if it is a predefined edit action like wbsetlabel - add:\n",
    "\n",
    "- If of type wbset...:..../.. break the string up at the first occurrence of the colon :\n",
    "\n",
    "- Then look at whether it is part of the edge cases wbsetlabeldescriptionaliases, .. etc and if not then it must be of type wbsetlabel- add, then look at the text before and after the dash. \n",
    "\n",
    "- this can probably be done by defining a method which takes in the comment, analyses it with a series of if statements, uses regex to break up the text etc and then returns 1 value for edit type or two values in a tuple for edit type and edit entity which can then be added to the dataframe using [0] and [1]\n",
    "\n",
    "2. Remove items and their respective revisions with editcount below a certain value - need to research, find a paper on edits and do it.\n",
    "\n",
    "3. Idea: could also lable the edits based on contributors - research paper whih categorised contributors into registered, anonymous and bots (already have a list of bots - just need to verify the data) \n",
    "\n",
    "4. Remove items with edits only from bots.\n",
    "\n",
    "5. Drop unecessary rows (pageid) userid might be needed to see if the contributors are the same or not - will not need if i can confirm that usernames are unique on wikidata\n",
    "\n",
    "6. Last or possibly at a later stage - convert the timestamp to a datetime object"
   ]
  },
  {
   "cell_type": "code",
   "execution_count": 5,
   "metadata": {},
   "outputs": [],
   "source": [
    "# Dropping unecessary columns from the revisions dataframe\n",
    "rev = revisions.drop(['pageid', 'type', 'editentity', 'parentid'], axis=1)"
   ]
  },
  {
   "cell_type": "code",
   "execution_count": 6,
   "metadata": {},
   "outputs": [],
   "source": [
    "def get_edit_type(comment):\n",
    "    # Decoding the comment from a bytes object to a string\n",
    "    # Converting the comment to lowercase\n",
    "    # c = comment.decode(\"utf-8\").lower()\n",
    "    c = comment.lower()\n",
    "    #print(c)\n",
    "    editType = '' \n",
    "    \n",
    "    if c == '':\n",
    "        return editType\n",
    "    \n",
    "    if \"|\" in c:\n",
    "        # Comments which have |\n",
    "        cc = c.split(\"|\")[0].replace(\"/* \", \"\")\n",
    "        if 'undo' in cc:\n",
    "            editType = 'undo'\n",
    "            return editType\n",
    "        elif 'restore' in cc:\n",
    "            editType = 'restore'\n",
    "            return editType\n",
    "        elif 'wbsetclaimvalue' in cc:\n",
    "            editType = 'set'\n",
    "            return editType\n",
    "        elif 'wbsetlabeldescriptionaliases' in cc:\n",
    "            editType = 'set'\n",
    "            return editType\n",
    "        elif 'wbcreateredirect' in cc:\n",
    "            editType = 'create'\n",
    "            return editType\n",
    "        elif 'merge' in cc:\n",
    "            editType = 'merge'\n",
    "            return editType\n",
    "        elif '-' in cc:\n",
    "            ccc = cc.split(\"-\")[1]\n",
    "            if 'create' in ccc:\n",
    "                editType = 'create'\n",
    "                return editType\n",
    "            elif 'add' in ccc:\n",
    "                editType = 'add'\n",
    "                return editType\n",
    "            elif 'set' in ccc:\n",
    "                editType = 'set'\n",
    "                return editType\n",
    "            elif 'update' in ccc:\n",
    "                editType = 'update'\n",
    "                return editType\n",
    "            elif 'remove' in ccc:\n",
    "                editType = 'remove'\n",
    "                return editType\n",
    "    if 'revert' in c: \n",
    "        editType = 'revert'\n",
    "        return editType  \n",
    "    elif 'protect' in c:\n",
    "        editType = 'protect'\n",
    "        return editType  \n",
    "    elif 'undid' in c:\n",
    "        editType = 'undo'\n",
    "        return editType      \n",
    "    return editType\n",
    "        "
   ]
  },
  {
   "cell_type": "code",
   "execution_count": 7,
   "metadata": {},
   "outputs": [],
   "source": [
    "rev['type'] = [get_edit_type(comment) for comment in rev['comment']]"
   ]
  },
  {
   "cell_type": "code",
   "execution_count": 8,
   "metadata": {},
   "outputs": [],
   "source": [
    "# rev.to_csv('/Users/tushi/PRJ/WikidataParsing/topics/data_with_revisions/revisions_type.csv')"
   ]
  },
  {
   "cell_type": "code",
   "execution_count": 12,
   "metadata": {},
   "outputs": [],
   "source": [
    "# Counting the value of the number of proxies that exist in the dataset\n",
    "type_stats = rev['type'].value_counts()"
   ]
  },
  {
   "cell_type": "code",
   "execution_count": 15,
   "metadata": {},
   "outputs": [],
   "source": [
    "# converting a series to a dataframe\n",
    "type_s = pd.DataFrame({'type':type_stats.index, 'count':type_stats.values})\n",
    "ts = type_s.set_index('type')"
   ]
  },
  {
   "cell_type": "code",
   "execution_count": 16,
   "metadata": {},
   "outputs": [
    {
     "name": "stdout",
     "output_type": "stream",
     "text": [
      "           count\n",
      "type            \n",
      "add      2860493\n",
      "create    622289\n",
      "update    286812\n",
      "remove     81037\n",
      "set        40207\n",
      "           17761\n",
      "merge       3090\n",
      "undo        1470\n",
      "revert      1434\n",
      "restore      547\n",
      "protect       24\n"
     ]
    }
   ],
   "source": [
    "print(ts)"
   ]
  },
  {
   "cell_type": "code",
   "execution_count": 17,
   "metadata": {},
   "outputs": [],
   "source": [
    "tss = ts.rename(index={'': 'no type'})"
   ]
  },
  {
   "cell_type": "code",
   "execution_count": 43,
   "metadata": {},
   "outputs": [
    {
     "data": {
      "image/png": "[encoded data removed]",
      "text/plain": [
       "<Figure size 432x288 with 1 Axes>"
      ]
     },
     "metadata": {
      "needs_background": "light"
     },
     "output_type": "display_data"
    }
   ],
   "source": [
    "# ax = tss.plot.barh()\n",
    "ax = tss.plot.bar()\n",
    "\n",
    "plt.title('Types of Edits')\n",
    "plt.xlabel('Number of Edits')\n",
    "plt.ylabel('Types')\n",
    "\n",
    "plt.xticks(rotation=45)\n",
    "\n",
    "# ax.invert_yaxis()\n",
    "\n",
    "plt.show()"
   ]
  },
  {
   "cell_type": "markdown",
   "metadata": {},
   "source": [
    "According to the bar plot the proxy with the highest occurrence is add followed by create, update, remove, set and those with no types specified (those without any comments). \n",
    "\n",
    "This was expected behaviour as this infers that editors are adding a lot of information to wikidata over a period of time. As we are exploring controversies in wikidata, the remaining edits namely - reverts, undos, removes, merges, restores and protect will be more useful thus we will visualise those."
   ]
  },
  {
   "cell_type": "markdown",
   "metadata": {},
   "source": [
    "Proxies\n",
    "\n",
    "The follwoing are those that we are interested in as they would give us more information controversial edits:\n",
    "\n",
    "- remove\n",
    "- restore\n",
    "- revert\n",
    "- merge\n",
    "- undo \n",
    "- protected (these are in cases of vandalism - read docs and consider whether to include)\n",
    "\n",
    "The remaining will give us general information about content being added or updated:\n",
    "\n",
    "- create\n",
    "- add\n",
    "- set\n",
    "- update"
   ]
  },
  {
   "cell_type": "code",
   "execution_count": 34,
   "metadata": {},
   "outputs": [],
   "source": [
    "#  extracting only select proxies\n",
    "controversial_proxies = tss.iloc[[3, 6, 7, 8, 9, 10]]\n",
    "# tss.loc[['revert', 'merge', 'restore']]"
   ]
  },
  {
   "cell_type": "code",
   "execution_count": 44,
   "metadata": {},
   "outputs": [
    {
     "data": {
      "image/png": "[encoded data removed]",
      "text/plain": [
       "<Figure size 432x288 with 1 Axes>"
      ]
     },
     "metadata": {
      "needs_background": "light"
     },
     "output_type": "display_data"
    }
   ],
   "source": [
    "# ax = tss.plot.barh()\n",
    "ax = controversial_proxies.plot.bar()\n",
    "\n",
    "plt.title('Types of Edits')\n",
    "plt.xlabel('Number of Edits')\n",
    "plt.ylabel('Types')\n",
    "\n",
    "plt.xticks(rotation=45)\n",
    "\n",
    "# ax.invert_yaxis()\n",
    "\n",
    "plt.show()"
   ]
  },
  {
   "cell_type": "markdown",
   "metadata": {},
   "source": [
    "Edits with proxy type remove are still very high that is > 80,000 wheras all the remaning are less that 10,000. This shows the disparity between the different types of edits being made. Reverts, merges, undos, restores and protects form a very small portion of the data. "
   ]
  },
  {
   "cell_type": "code",
   "execution_count": null,
   "metadata": {},
   "outputs": [],
   "source": []
  },
  {
   "cell_type": "code",
   "execution_count": 15,
   "metadata": {},
   "outputs": [
    {
     "data": {
      "text/html": [
       "<div>\n",
       "<style scoped>\n",
       "    .dataframe tbody tr th:only-of-type {\n",
       "        vertical-align: middle;\n",
       "    }\n",
       "\n",
       "    .dataframe tbody tr th {\n",
       "        vertical-align: top;\n",
       "    }\n",
       "\n",
       "    .dataframe thead th {\n",
       "        text-align: right;\n",
       "    }\n",
       "</style>\n",
       "<table border=\"1\" class=\"dataframe\">\n",
       "  <thead>\n",
       "    <tr style=\"text-align: right;\">\n",
       "      <th></th>\n",
       "      <th>Unnamed: 0</th>\n",
       "      <th>qid</th>\n",
       "      <th>revisionid</th>\n",
       "      <th>timestamp</th>\n",
       "      <th>comment</th>\n",
       "      <th>userid</th>\n",
       "      <th>username</th>\n",
       "      <th>editscount</th>\n",
       "      <th>type</th>\n",
       "    </tr>\n",
       "  </thead>\n",
       "  <tbody>\n",
       "    <tr>\n",
       "      <th>0</th>\n",
       "      <td>0</td>\n",
       "      <td>Q2123572</td>\n",
       "      <td>1920126.0</td>\n",
       "      <td>2016-10-10T16:02:04Z</td>\n",
       "      <td>b'/* wbcreateclaim-create:1| */ [[Property:P77...</td>\n",
       "      <td>1920126.0</td>\n",
       "      <td>b'NikkiBot'</td>\n",
       "      <td>3</td>\n",
       "      <td>create</td>\n",
       "    </tr>\n",
       "    <tr>\n",
       "      <th>1</th>\n",
       "      <td>1</td>\n",
       "      <td>Q2123572</td>\n",
       "      <td>1920126.0</td>\n",
       "      <td>2016-10-10T16:02:05Z</td>\n",
       "      <td>b'/* wbsetreference-add:2| */ [[Property:P774]...</td>\n",
       "      <td>1920126.0</td>\n",
       "      <td>b'NikkiBot'</td>\n",
       "      <td>3</td>\n",
       "      <td>add</td>\n",
       "    </tr>\n",
       "    <tr>\n",
       "      <th>2</th>\n",
       "      <td>2</td>\n",
       "      <td>Q2123572</td>\n",
       "      <td>1787420.0</td>\n",
       "      <td>2016-12-29T18:42:09Z</td>\n",
       "      <td>b'/* wbsetdescription-add:1|he */ \\xd7\\xa2\\xd7...</td>\n",
       "      <td>1787420.0</td>\n",
       "      <td>b'Mikey641'</td>\n",
       "      <td>3</td>\n",
       "      <td>add</td>\n",
       "    </tr>\n",
       "    <tr>\n",
       "      <th>3</th>\n",
       "      <td>3</td>\n",
       "      <td>Q2123580</td>\n",
       "      <td>110062.0</td>\n",
       "      <td>2016-10-12T14:37:53Z</td>\n",
       "      <td>b'/* wbcreateclaim-create:1| */ [[Property:P41...</td>\n",
       "      <td>110062.0</td>\n",
       "      <td>b'Thierry Caro'</td>\n",
       "      <td>7</td>\n",
       "      <td>create</td>\n",
       "    </tr>\n",
       "    <tr>\n",
       "      <th>4</th>\n",
       "      <td>4</td>\n",
       "      <td>Q2123580</td>\n",
       "      <td>110062.0</td>\n",
       "      <td>2016-10-12T14:37:55Z</td>\n",
       "      <td>b'/* wbsetreference-add:2| */ [[Property:P41]]...</td>\n",
       "      <td>110062.0</td>\n",
       "      <td>b'Thierry Caro'</td>\n",
       "      <td>7</td>\n",
       "      <td>add</td>\n",
       "    </tr>\n",
       "  </tbody>\n",
       "</table>\n",
       "</div>"
      ],
      "text/plain": [
       "   Unnamed: 0       qid  revisionid             timestamp  \\\n",
       "0           0  Q2123572   1920126.0  2016-10-10T16:02:04Z   \n",
       "1           1  Q2123572   1920126.0  2016-10-10T16:02:05Z   \n",
       "2           2  Q2123572   1787420.0  2016-12-29T18:42:09Z   \n",
       "3           3  Q2123580    110062.0  2016-10-12T14:37:53Z   \n",
       "4           4  Q2123580    110062.0  2016-10-12T14:37:55Z   \n",
       "\n",
       "                                             comment     userid  \\\n",
       "0  b'/* wbcreateclaim-create:1| */ [[Property:P77...  1920126.0   \n",
       "1  b'/* wbsetreference-add:2| */ [[Property:P774]...  1920126.0   \n",
       "2  b'/* wbsetdescription-add:1|he */ \\xd7\\xa2\\xd7...  1787420.0   \n",
       "3  b'/* wbcreateclaim-create:1| */ [[Property:P41...   110062.0   \n",
       "4  b'/* wbsetreference-add:2| */ [[Property:P41]]...   110062.0   \n",
       "\n",
       "          username  editscount    type  \n",
       "0      b'NikkiBot'           3  create  \n",
       "1      b'NikkiBot'           3     add  \n",
       "2      b'Mikey641'           3     add  \n",
       "3  b'Thierry Caro'           7  create  \n",
       "4  b'Thierry Caro'           7     add  "
      ]
     },
     "execution_count": 15,
     "metadata": {},
     "output_type": "execute_result"
    }
   ],
   "source": [
    "rev.head()"
   ]
  },
  {
   "cell_type": "code",
   "execution_count": 46,
   "metadata": {
    "scrolled": true
   },
   "outputs": [
    {
     "data": {
      "text/plain": [
       "Unnamed: 0      int64\n",
       "qid            object\n",
       "revisionid    float64\n",
       "timestamp      object\n",
       "comment        object\n",
       "userid        float64\n",
       "username       object\n",
       "editscount      int64\n",
       "type           object\n",
       "dtype: object"
      ]
     },
     "execution_count": 46,
     "metadata": {},
     "output_type": "execute_result"
    }
   ],
   "source": [
    "rev.dtypes"
   ]
  },
  {
   "cell_type": "code",
   "execution_count": 47,
   "metadata": {},
   "outputs": [],
   "source": [
    "bots = pd.read_csv('/Users/tushi/PRJ/WikidataParsing/wikidata_bots.csv')"
   ]
  },
  {
   "cell_type": "code",
   "execution_count": 48,
   "metadata": {},
   "outputs": [
    {
     "data": {
      "text/plain": [
       "(335, 1)"
      ]
     },
     "execution_count": 48,
     "metadata": {},
     "output_type": "execute_result"
    }
   ],
   "source": [
    "bots.shape"
   ]
  },
  {
   "cell_type": "code",
   "execution_count": 49,
   "metadata": {},
   "outputs": [
    {
     "data": {
      "text/plain": [
       "bot_name    object\n",
       "dtype: object"
      ]
     },
     "execution_count": 49,
     "metadata": {},
     "output_type": "execute_result"
    }
   ],
   "source": [
    "bots.dtypes"
   ]
  },
  {
   "cell_type": "code",
   "execution_count": 50,
   "metadata": {},
   "outputs": [
    {
     "data": {
      "text/plain": [
       "Index(['Unnamed: 0', 'qid', 'revisionid', 'timestamp', 'comment', 'userid',\n",
       "       'username', 'editscount', 'type'],\n",
       "      dtype='object')"
      ]
     },
     "execution_count": 50,
     "metadata": {},
     "output_type": "execute_result"
    }
   ],
   "source": [
    "rev.columns"
   ]
  },
  {
   "cell_type": "markdown",
   "metadata": {},
   "source": [
    "Labelling the Contributors into the following 3 types:\n",
    "\n",
    "- Registered users: Editors with an account and user name.\n",
    "- Anonymous Users: Editors without a user account but with an IP address.\n",
    "- Bots\n",
    "\n",
    "Assumptions:\n",
    "\n",
    "- Empty contributors are ones who are using an ip address thus will be called anonymous users\n",
    "- Contributors part of the bots list will be labelled as bots\n",
    "- All remaining contributors with a username will be called Registered Users\n",
    "\n",
    "Ref: When Humans and Machines Collaborate: Cross-lingual Label Editing in Wikidata\n"
   ]
  },
  {
   "cell_type": "code",
   "execution_count": 51,
   "metadata": {},
   "outputs": [],
   "source": [
    "def get_user_type(user):\n",
    "    \n",
    "    u = user[1:].replace(\"'\", \"\")\n",
    "    \n",
    "    userType = ''\n",
    "    \n",
    "    if u == \"\":\n",
    "        userType = 'Anonymous'\n",
    "        return userType\n",
    "    elif u in bots.values:\n",
    "        userType = 'Bot'\n",
    "        return userType\n",
    "    else: \n",
    "        userType = 'Registered'\n",
    "        return userType\n",
    "    return userType\n",
    "    "
   ]
  },
  {
   "cell_type": "code",
   "execution_count": 52,
   "metadata": {},
   "outputs": [],
   "source": [
    "rev['usertype'] = [get_user_type(user) for user in rev['username']]"
   ]
  },
  {
   "cell_type": "code",
   "execution_count": 53,
   "metadata": {},
   "outputs": [],
   "source": [
    "# rev.to_csv('/Users/tushi/PRJ/WikidataParsing/topics/data_with_revisions/revisions_user_type.csv')"
   ]
  },
  {
   "cell_type": "code",
   "execution_count": 54,
   "metadata": {},
   "outputs": [
    {
     "data": {
      "text/plain": [
       "Registered    3246374\n",
       "Bot            649238\n",
       "Anonymous       19552\n",
       "Name: usertype, dtype: int64"
      ]
     },
     "execution_count": 54,
     "metadata": {},
     "output_type": "execute_result"
    }
   ],
   "source": [
    "rev['usertype'].value_counts()"
   ]
  },
  {
   "cell_type": "code",
   "execution_count": 55,
   "metadata": {},
   "outputs": [
    {
     "data": {
      "text/plain": [
       "0              b'NikkiBot'\n",
       "1              b'NikkiBot'\n",
       "2              b'Mikey641'\n",
       "3          b'Thierry Caro'\n",
       "4          b'Thierry Caro'\n",
       "                ...       \n",
       "3915159     b'Tagishsimon'\n",
       "3915160     b'Tagishsimon'\n",
       "3915161     b'Tagishsimon'\n",
       "3915162     b'Tagishsimon'\n",
       "3915163     b'Tagishsimon'\n",
       "Name: username, Length: 3915164, dtype: object"
      ]
     },
     "execution_count": 55,
     "metadata": {},
     "output_type": "execute_result"
    }
   ],
   "source": [
    "rev['username']"
   ]
  },
  {
   "cell_type": "markdown",
   "metadata": {},
   "source": [
    "As we are interested only in wikidata items that are highly edited within the given time span, items with an editcount <= 5 will be removed from the dataset."
   ]
  },
  {
   "cell_type": "code",
   "execution_count": 56,
   "metadata": {},
   "outputs": [
    {
     "data": {
      "text/plain": [
       "0           True\n",
       "1           True\n",
       "2           True\n",
       "3          False\n",
       "4          False\n",
       "           ...  \n",
       "3915159     True\n",
       "3915160     True\n",
       "3915161     True\n",
       "3915162     True\n",
       "3915163     True\n",
       "Name: editscount, Length: 3915164, dtype: bool"
      ]
     },
     "execution_count": 56,
     "metadata": {},
     "output_type": "execute_result"
    }
   ],
   "source": [
    "# Removing items with editcount <=5\n",
    "rev['editscount'] < 5"
   ]
  },
  {
   "cell_type": "code",
   "execution_count": 57,
   "metadata": {},
   "outputs": [],
   "source": [
    "to_remove = rev[rev['editscount'] <= 5].index"
   ]
  },
  {
   "cell_type": "code",
   "execution_count": 58,
   "metadata": {},
   "outputs": [],
   "source": [
    "rev_highly_edited = rev.drop(to_remove)"
   ]
  },
  {
   "cell_type": "code",
   "execution_count": 59,
   "metadata": {},
   "outputs": [],
   "source": [
    "# rev_highly_edited.to_csv('/Users/tushi/PRJ/WikidataParsing/topics/data_with_revisions/revisions_highly_edited.csv')"
   ]
  },
  {
   "cell_type": "code",
   "execution_count": 60,
   "metadata": {},
   "outputs": [
    {
     "data": {
      "text/plain": [
       "(3297981, 10)"
      ]
     },
     "execution_count": 60,
     "metadata": {},
     "output_type": "execute_result"
    }
   ],
   "source": [
    "rev_highly_edited.shape"
   ]
  },
  {
   "cell_type": "code",
   "execution_count": 61,
   "metadata": {},
   "outputs": [],
   "source": [
    "# (rev_highly_edited['qid'].value_counts()).to_csv('/Users/tushi/PRJ/WikidataParsing/topics/data_with_revisions/revisions_highly_edited_qids.csv')"
   ]
  },
  {
   "cell_type": "code",
   "execution_count": 62,
   "metadata": {},
   "outputs": [],
   "source": [
    "highly_edited_items = rev_highly_edited['qid'].value_counts()"
   ]
  },
  {
   "cell_type": "code",
   "execution_count": 75,
   "metadata": {},
   "outputs": [
    {
     "data": {
      "text/plain": [
       "<matplotlib.axes._subplots.AxesSubplot at 0x2798e34b0a0>"
      ]
     },
     "execution_count": 75,
     "metadata": {},
     "output_type": "execute_result"
    },
    {
     "data": {
      "image/png": "[encoded data removed]",
      "text/plain": [
       "<Figure size 432x288 with 1 Axes>"
      ]
     },
     "metadata": {
      "needs_background": "light"
     },
     "output_type": "display_data"
    }
   ],
   "source": [
    "highly_edited_items.plot.line()"
   ]
  },
  {
   "cell_type": "code",
   "execution_count": 64,
   "metadata": {},
   "outputs": [],
   "source": [
    "items = highly_edited_items.index.to_numpy()\n",
    "editcounts = highly_edited_items.to_numpy()"
   ]
  },
  {
   "cell_type": "code",
   "execution_count": 122,
   "metadata": {},
   "outputs": [
    {
     "data": {
      "image/png": "[encoded data removed]",
      "text/plain": [
       "<Figure size 432x288 with 1 Axes>"
      ]
     },
     "metadata": {
      "needs_background": "light"
     },
     "output_type": "display_data"
    }
   ],
   "source": [
    "plt.plot(editcounts)\n",
    "\n",
    "plt.title(\"Overview of Items and Edits\")\n",
    "plt.xlabel(\"Number of Items\")\n",
    "plt.ylabel(\"No of Edits\")\n",
    "\n",
    "plt.show()"
   ]
  },
  {
   "cell_type": "markdown",
   "metadata": {},
   "source": [
    "Above plot shos that there are very few items with edist > 150/200. Most of the items within the dataset of more that a 140,000 items have edits that are verly low. Therefore a large perecentage of the dataset contains items with edits > 150 or > 200.\n",
    "\n",
    "What happens if we take a look at the highly edited items?\n",
    "\n",
    "Should probably have some statistical calculation to do this."
   ]
  },
  {
   "cell_type": "code",
   "execution_count": 78,
   "metadata": {},
   "outputs": [
    {
     "data": {
      "text/plain": [
       "count    142538.000000\n",
       "mean         23.137556\n",
       "std          25.184644\n",
       "min           6.000000\n",
       "25%           8.000000\n",
       "50%          12.000000\n",
       "75%          22.000000\n",
       "max        1437.000000\n",
       "Name: qid, dtype: float64"
      ]
     },
     "execution_count": 78,
     "metadata": {},
     "output_type": "execute_result"
    }
   ],
   "source": [
    "highly_edited_items.describe()"
   ]
  },
  {
   "cell_type": "markdown",
   "metadata": {},
   "source": [
    "From the above description of the highly edited items within this dataframe after data cleaning (before removing edits with empty comments - need to do that) we can see that about 75% of the items (106904 items) have their edits = to or below 22 edits. \n",
    "\n",
    "So let us look at the top 40,000 items in this dataset."
   ]
  },
  {
   "cell_type": "code",
   "execution_count": 84,
   "metadata": {},
   "outputs": [],
   "source": [
    "# converting a series to a dataframe\n",
    "top_40k = pd.DataFrame({'qid':highly_edited_items.index, 'editcount':highly_edited_items.values})"
   ]
  },
  {
   "cell_type": "code",
   "execution_count": 112,
   "metadata": {},
   "outputs": [],
   "source": [
    "top_1k = top_40k.head(200)"
   ]
  },
  {
   "cell_type": "code",
   "execution_count": 115,
   "metadata": {},
   "outputs": [
    {
     "data": {
      "text/plain": [
       "<matplotlib.axes._subplots.AxesSubplot at 0x2798dc46d00>"
      ]
     },
     "execution_count": 115,
     "metadata": {},
     "output_type": "execute_result"
    },
    {
     "data": {
      "image/png": "[encoded data removed]",
      "text/plain": [
       "<Figure size 432x288 with 1 Axes>"
      ]
     },
     "metadata": {
      "needs_background": "light"
     },
     "output_type": "display_data"
    }
   ],
   "source": [
    "top_1k.plot.line()"
   ]
  },
  {
   "cell_type": "markdown",
   "metadata": {},
   "source": [
    "Only very few items in the dataset with very large edit counts. This graph for only 20 items shows how many of them have edits above a certain value.\n",
    "Scatter plot might be better as it will show which points are the densest and how many items have edit counts as high as 1400."
   ]
  },
  {
   "cell_type": "code",
   "execution_count": 120,
   "metadata": {},
   "outputs": [
    {
     "data": {
      "text/plain": [
       "<matplotlib.axes._subplots.AxesSubplot at 0x2798f3348b0>"
      ]
     },
     "execution_count": 120,
     "metadata": {},
     "output_type": "execute_result"
    },
    {
     "data": {
      "image/png": "[encoded data removed]",
      "text/plain": [
       "<Figure size 432x288 with 1 Axes>"
      ]
     },
     "metadata": {
      "needs_background": "light"
     },
     "output_type": "display_data"
    }
   ],
   "source": [
    "top_1k.plot.scatter(x='qid', y='editcount', title=\"Scatter Plot of the editcounts for wikidata items\")"
   ]
  },
  {
   "cell_type": "markdown",
   "metadata": {},
   "source": [
    "1 item in 1400 range, 1 in 900 range, few in 600-800 range."
   ]
  },
  {
   "cell_type": "markdown",
   "metadata": {},
   "source": [
    "Note that very few items are in the higher ranges. Only 1 item in 1400 and 900, few between 600-800 and the remaining below 500.\n",
    "\n",
    "Can individually visualise the first few > 500 - can look at the no of reverts for each of them in one plot - look at the proxies - then look at the remainign items together - create a wordcloud, histogram."
   ]
  },
  {
   "cell_type": "code",
   "execution_count": 123,
   "metadata": {},
   "outputs": [
    {
     "data": {
      "text/plain": [
       "Index(['Q4115189', 'Q3642765', 'Q3964154', 'Q4504204', 'Q534197', 'Q1085',\n",
       "       'Q2627691', 'Q3955158', 'Q2627656', 'Q649',\n",
       "       ...\n",
       "       'Q6286291', 'Q15906584', 'Q1829243', 'Q5345397', 'Q468814', 'Q7527905',\n",
       "       'Q555373', 'Q3293898', 'Q674869', 'Q27662828'],\n",
       "      dtype='object', length=142538)"
      ]
     },
     "execution_count": 123,
     "metadata": {},
     "output_type": "execute_result"
    }
   ],
   "source": [
    "highly_edited_items.index"
   ]
  },
  {
   "cell_type": "code",
   "execution_count": null,
   "metadata": {},
   "outputs": [],
   "source": []
  }
 ],
 "metadata": {
  "kernelspec": {
   "display_name": "Python 3",
   "language": "python",
   "name": "python3"
  },
  "language_info": {
   "codemirror_mode": {
    "name": "ipython",
    "version": 3
   },
   "file_extension": ".py",
   "mimetype": "text/x-python",
   "name": "python",
   "nbconvert_exporter": "python",
   "pygments_lexer": "ipython3",
   "version": "3.8.3"
  }
 },
 "nbformat": 4,
 "nbformat_minor": 4
}
