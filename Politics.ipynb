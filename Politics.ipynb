{
 "cells": [
  {
   "cell_type": "code",
   "execution_count": 2,
   "metadata": {},
   "outputs": [
    {
     "name": "stdout",
     "output_type": "stream",
     "text": [
      "Collecting SPARQLWrapper\n",
      "  Using cached SPARQLWrapper-1.8.5-py3-none-any.whl (26 kB)\n",
      "Collecting rdflib>=4.0\n",
      "  Using cached rdflib-6.1.1-py3-none-any.whl (482 kB)\n",
      "Collecting isodate\n",
      "  Using cached isodate-0.6.1-py2.py3-none-any.whl (41 kB)\n",
      "Requirement already satisfied: pyparsing in c:\\users\\tushi\\anaconda3\\lib\\site-packages (from rdflib>=4.0->SPARQLWrapper) (2.4.7)\n",
      "Requirement already satisfied: setuptools in c:\\users\\tushi\\anaconda3\\lib\\site-packages (from rdflib>=4.0->SPARQLWrapper) (49.2.0.post20200714)\n",
      "Requirement already satisfied: six in c:\\users\\tushi\\anaconda3\\lib\\site-packages (from isodate->rdflib>=4.0->SPARQLWrapper) (1.15.0)\n",
      "Installing collected packages: isodate, rdflib, SPARQLWrapper\n",
      "Successfully installed SPARQLWrapper-1.8.5 isodate-0.6.1 rdflib-6.1.1\n"
     ]
    }
   ],
   "source": [
    "# ! pip install SPARQLWrapper\n",
    "# TODO: Remember to mention in documentation"
   ]
  },
  {
   "cell_type": "code",
   "execution_count": 4,
   "metadata": {},
   "outputs": [],
   "source": [
    "import pandas as pd\n",
    "from SPARQLWrapper import SPARQLWrapper, JSON"
   ]
  },
  {
   "cell_type": "code",
   "execution_count": 5,
   "metadata": {},
   "outputs": [],
   "source": [
    "# Reading the data from politics revisions\n",
    "# Contains the revisions for all the selected items\n",
    "df = pd.read_csv('/Users/tushi/PRJ/WikidataParsing/topics/data_with_revisions/politics_revisions.csv')"
   ]
  },
  {
   "cell_type": "code",
   "execution_count": 11,
   "metadata": {},
   "outputs": [
    {
     "data": {
      "text/plain": [
       "(3915164, 12)"
      ]
     },
     "execution_count": 11,
     "metadata": {},
     "output_type": "execute_result"
    }
   ],
   "source": [
    "df.shape"
   ]
  },
  {
   "cell_type": "markdown",
   "metadata": {},
   "source": [
    "Using SPARQL to retrieve the labels for all the items by using the corresponding qids"
   ]
  },
  {
   "cell_type": "code",
   "execution_count": 12,
   "metadata": {},
   "outputs": [],
   "source": [
    "# Specifying the Wikidata SPARQL endpoint\n",
    "sparql = SPARQLWrapper(\"https://query.wikidata.org/sparql\")"
   ]
  },
  {
   "cell_type": "code",
   "execution_count": 15,
   "metadata": {},
   "outputs": [
    {
     "name": "stdout",
     "output_type": "stream",
     "text": [
      "{'head': {'vars': ['label']}, 'results': {'bindings': [{'label': {'xml:lang': 'af', 'type': 'literal', 'value': 'Albrecht Schläger'}}]}}\n"
     ]
    }
   ],
   "source": [
    "# Query to access the label for the wikidata item\n",
    "sparql.setQuery(\"\"\"\n",
    "    SELECT ?label \n",
    "    WHERE {\n",
    "      wd:Q109321 rdfs:label ?label . \n",
    "      SERVICE wikibase:label { bd:serviceParam wikibase:language \"en\". }\n",
    "      }\n",
    "    LIMIT 1\n",
    "\"\"\")\n",
    "\n",
    "# Converting result to JSON format\n",
    "sparql.setReturnFormat(JSON)\n",
    "result = sparql.query().convert()\n",
    "print(result)"
   ]
  },
  {
   "cell_type": "code",
   "execution_count": 26,
   "metadata": {},
   "outputs": [
    {
     "name": "stdout",
     "output_type": "stream",
     "text": [
      "[{'label': {'xml:lang': 'af', 'type': 'literal', 'value': 'Albrecht Schläger'}}]\n",
      "{'label': {'xml:lang': 'af', 'type': 'literal', 'value': 'Albrecht Schläger'}}\n",
      "{'xml:lang': 'af', 'type': 'literal', 'value': 'Albrecht Schläger'}\n"
     ]
    }
   ],
   "source": [
    "print(result[\"results\"][\"bindings\"])\n",
    "print(result[\"results\"][\"bindings\"][0])\n",
    "print(result[\"results\"][\"bindings\"][0][\"label\"])"
   ]
  },
  {
   "cell_type": "code",
   "execution_count": 23,
   "metadata": {},
   "outputs": [
    {
     "name": "stdout",
     "output_type": "stream",
     "text": [
      "Albrecht Schläger\n"
     ]
    }
   ],
   "source": [
    "print(result[\"results\"][\"bindings\"][0][\"label\"][\"value\"])"
   ]
  },
  {
   "cell_type": "code",
   "execution_count": null,
   "metadata": {},
   "outputs": [],
   "source": []
  }
 ],
 "metadata": {
  "kernelspec": {
   "display_name": "Python 3",
   "language": "python",
   "name": "python3"
  },
  "language_info": {
   "codemirror_mode": {
    "name": "ipython",
    "version": 3
   },
   "file_extension": ".py",
   "mimetype": "text/x-python",
   "name": "python",
   "nbconvert_exporter": "python",
   "pygments_lexer": "ipython3",
   "version": "3.8.3"
  }
 },
 "nbformat": 4,
 "nbformat_minor": 4
}
