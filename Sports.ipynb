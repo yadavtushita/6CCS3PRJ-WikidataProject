{
 "cells": [
  {
   "cell_type": "markdown",
   "metadata": {},
   "source": [
    "# Sports\n",
    "\n",
    "- Data Cleaning\n",
    "- Data Visualisation\n",
    "- Data Analysis"
   ]
  },
  {
   "cell_type": "code",
   "execution_count": 1,
   "metadata": {},
   "outputs": [],
   "source": [
    "import pandas as pd\n",
    "import matplotlib.pyplot as plt\n",
    "import numpy as np\n",
    "import seaborn as sns\n",
    "import time\n",
    "from datetime import datetime\n",
    "from datetime import timezone\n",
    "from SPARQLWrapper import SPARQLWrapper, JSON\n",
    "\n",
    "%matplotlib inline"
   ]
  },
  {
   "cell_type": "code",
   "execution_count": 2,
   "metadata": {},
   "outputs": [],
   "source": [
    "# Reading the data from sports revisions\n",
    "# Contains the revisions for all the selected items\n",
    "revisions = pd.read_csv('/Users/tushi/PRJ/WikidataParsing/topics/data_with_revisions/sports_revisions.csv')\n",
    "items = pd.read_csv('/Users/tushi/PRJ/WikidataParsing/topics/data/sports.csv')"
   ]
  },
  {
   "cell_type": "code",
   "execution_count": 3,
   "metadata": {},
   "outputs": [
    {
     "name": "stdout",
     "output_type": "stream",
     "text": [
      "Number of Revisions in Sports Dataset\n",
      "(619242, 12)\n",
      "Number of Wikidata Items in Sports Dataset\n",
      "(154761, 3)\n"
     ]
    }
   ],
   "source": [
    "print(\"Number of Revisions in Sports Dataset\")\n",
    "print(revisions.shape)\n",
    "print(\"Number of Wikidata Items in Sports Dataset\")\n",
    "print(items.shape)"
   ]
  },
  {
   "cell_type": "markdown",
   "metadata": {},
   "source": [
    "# Data Cleaning\n",
    "\n",
    "- Drop uneccessary columns\n",
    "- Assign types for all edits\n",
    "- Assign user types for all edits\n",
    "- Remove rows with empty comments - better to remove after calculating the types in case there are some edge cases which have not been discovered\n",
    "- Convert timestamps to datetime objects\n",
    "- (Remove items that contain only bot edits)\n",
    "- Remove items with editcounts < (If removing rows with empty comments will need to recalculate the edit count and merge with dataset)"
   ]
  },
  {
   "cell_type": "code",
   "execution_count": 4,
   "metadata": {},
   "outputs": [],
   "source": [
    "# Dropping unecessary columns from the revisions dataframe\n",
    "rev = revisions.drop(['pageid', 'type', 'editentity', 'parentid'], axis=1)"
   ]
  },
  {
   "cell_type": "code",
   "execution_count": 5,
   "metadata": {},
   "outputs": [],
   "source": [
    "# Method to assign edit types to each revision by using the comment\n",
    "def get_edit_type(comment):\n",
    "    # Decoding the comment from a bytes object to a string\n",
    "    # Converting the comment to lowercase\n",
    "    # c = comment.decode(\"utf-8\").lower()\n",
    "    c = comment.lower()\n",
    "    # print(c)\n",
    "    editType = '' \n",
    "    \n",
    "    if c == '':\n",
    "        return editType\n",
    "    \n",
    "    if \"|\" in c:\n",
    "        # Comments which have |\n",
    "        cc = c.split(\"|\")[0].replace(\"/* \", \"\")\n",
    "        if 'undo' in cc:\n",
    "            editType = 'undo'\n",
    "            return editType\n",
    "        elif 'restore' in cc:\n",
    "            editType = 'restore'\n",
    "            return editType\n",
    "        elif 'wbsetclaimvalue' in cc:\n",
    "            editType = 'set'\n",
    "            return editType\n",
    "        elif 'wbsetlabeldescriptionaliases' in cc:\n",
    "            editType = 'set'\n",
    "            return editType\n",
    "        elif 'wbcreateredirect' in cc:\n",
    "            editType = 'create'\n",
    "            return editType\n",
    "        elif 'merge' in cc:\n",
    "            editType = 'merge'\n",
    "            return editType\n",
    "        elif '-' in cc:\n",
    "            ccc = cc.split(\"-\")[1]\n",
    "            if 'create' in ccc:\n",
    "                editType = 'create'\n",
    "                return editType\n",
    "            elif 'add' in ccc:\n",
    "                editType = 'add'\n",
    "                return editType\n",
    "            elif 'set' in ccc:\n",
    "                editType = 'set'\n",
    "                return editType\n",
    "            elif 'update' in ccc:\n",
    "                editType = 'update'\n",
    "                return editType\n",
    "            elif 'remove' in ccc:\n",
    "                editType = 'remove'\n",
    "                return editType\n",
    "    if 'revert' in c: \n",
    "        editType = 'revert'\n",
    "        return editType  \n",
    "    elif 'protect' in c:\n",
    "        editType = 'protect'\n",
    "        return editType  \n",
    "    elif 'undid' in c:\n",
    "        editType = 'undo'\n",
    "        return editType      \n",
    "    return editType\n",
    "        "
   ]
  },
  {
   "cell_type": "code",
   "execution_count": 6,
   "metadata": {},
   "outputs": [],
   "source": [
    "# Assigning edit types to each revision\n",
    "rev['type'] = [get_edit_type(comment) for comment in rev['comment']]"
   ]
  },
  {
   "cell_type": "code",
   "execution_count": 7,
   "metadata": {},
   "outputs": [
    {
     "data": {
      "text/plain": [
       "(619242, 9)"
      ]
     },
     "execution_count": 7,
     "metadata": {},
     "output_type": "execute_result"
    }
   ],
   "source": [
    "rev.shape"
   ]
  },
  {
   "cell_type": "code",
   "execution_count": 8,
   "metadata": {},
   "outputs": [],
   "source": [
    "# Removing revisions with empty types \n",
    "# Removing revisions that either had an empty comment or or an edge case\n",
    "to_remove = rev[rev['type'] == ''].index\n",
    "rev = rev.drop(to_remove)"
   ]
  },
  {
   "cell_type": "code",
   "execution_count": 9,
   "metadata": {},
   "outputs": [],
   "source": [
    "# Reading csv with bot names scraped from Wikidata\n",
    "bots = pd.read_csv('/Users/tushi/PRJ/WikidataParsing/wikidata_bots.csv')"
   ]
  },
  {
   "cell_type": "code",
   "execution_count": 10,
   "metadata": {},
   "outputs": [],
   "source": [
    "# Method to assign user types to revisions\n",
    "# 3 types: Registered, Anonymous, Bot\n",
    "def get_user_type(user):\n",
    "    \n",
    "    u = user[1:].replace(\"'\", \"\")\n",
    "    \n",
    "    userType = ''\n",
    "    \n",
    "    if u == \"\":\n",
    "        userType = 'Anonymous'\n",
    "        return userType\n",
    "    elif u in bots.values:\n",
    "        userType = 'Bot'\n",
    "        return userType\n",
    "    else: \n",
    "        userType = 'Registered'\n",
    "        return userType\n",
    "    return userType\n",
    "    "
   ]
  },
  {
   "cell_type": "code",
   "execution_count": 11,
   "metadata": {},
   "outputs": [],
   "source": [
    "# Assigning user types to revisions\n",
    "rev['usertype'] = [get_user_type(user) for user in rev['username']]"
   ]
  },
  {
   "cell_type": "code",
   "execution_count": 12,
   "metadata": {},
   "outputs": [],
   "source": [
    "# Need to recalculate editcount for the items\n",
    "# Drop old editcount column\n",
    "rev = rev.drop(['editscount'], axis=1)"
   ]
  },
  {
   "cell_type": "code",
   "execution_count": 13,
   "metadata": {},
   "outputs": [],
   "source": [
    "editscount = rev['qid'].value_counts()"
   ]
  },
  {
   "cell_type": "code",
   "execution_count": 14,
   "metadata": {},
   "outputs": [
    {
     "data": {
      "text/plain": [
       "count    154409.000000\n",
       "mean          3.989107\n",
       "std           6.828380\n",
       "min           1.000000\n",
       "25%           1.000000\n",
       "50%           2.000000\n",
       "75%           4.000000\n",
       "max         507.000000\n",
       "Name: qid, dtype: float64"
      ]
     },
     "execution_count": 14,
     "metadata": {},
     "output_type": "execute_result"
    }
   ],
   "source": [
    "editscount.describe()"
   ]
  },
  {
   "cell_type": "code",
   "execution_count": 15,
   "metadata": {},
   "outputs": [],
   "source": [
    "# Converting to a dataframe so that it can be compared/merged with original dataframe\n",
    "df_editscount = pd.DataFrame({'qid':editscount.index, 'editscount':editscount.values})"
   ]
  },
  {
   "cell_type": "code",
   "execution_count": 16,
   "metadata": {},
   "outputs": [
    {
     "name": "stdout",
     "output_type": "stream",
     "text": [
      "Items with No of Edits = 1\n",
      "56098\n",
      "Items with No of Edits = 2\n",
      "44262\n",
      "Items with No of Edits = 3\n",
      "14784\n",
      "Items with No of Edits = 4\n",
      "7920\n",
      "Items with No of Edits = 5\n",
      "4007\n",
      "Items with No of Edits <= 5\n",
      "127071\n"
     ]
    }
   ],
   "source": [
    "print('Items with No of Edits = 1')\n",
    "print(len(df_editscount[df_editscount['editscount'] == 1]))\n",
    "\n",
    "print('Items with No of Edits = 2')\n",
    "print(len(df_editscount[df_editscount['editscount'] == 2]))\n",
    "\n",
    "print('Items with No of Edits = 3')\n",
    "print(len(df_editscount[df_editscount['editscount'] == 3]))\n",
    "\n",
    "print('Items with No of Edits = 4')\n",
    "print(len(df_editscount[df_editscount['editscount'] == 4]))\n",
    "\n",
    "print('Items with No of Edits = 5')\n",
    "print(len(df_editscount[df_editscount['editscount'] == 5]))\n",
    "\n",
    "print('Items with No of Edits <= 5')\n",
    "print(len(df_editscount[df_editscount['editscount'] <= 5]))"
   ]
  },
  {
   "cell_type": "code",
   "execution_count": 17,
   "metadata": {},
   "outputs": [],
   "source": [
    "# Removing items with editscount <= 5 \n",
    "to_remove = df_editscount[df_editscount['editscount'] <= 5].index\n",
    "df_editscount = df_editscount.drop(to_remove)"
   ]
  },
  {
   "cell_type": "code",
   "execution_count": 18,
   "metadata": {},
   "outputs": [
    {
     "data": {
      "text/plain": [
       "(27338, 2)"
      ]
     },
     "execution_count": 18,
     "metadata": {},
     "output_type": "execute_result"
    }
   ],
   "source": [
    "df_editscount.shape"
   ]
  },
  {
   "cell_type": "code",
   "execution_count": 19,
   "metadata": {},
   "outputs": [],
   "source": [
    "# Removing all items with editscount <= 5 from revisions dataset\n",
    "# Removing by finding intersection on qid between bot sets\n",
    "rev = pd.merge(rev, df_editscount, how='inner', on=['qid'])"
   ]
  },
  {
   "cell_type": "code",
   "execution_count": 21,
   "metadata": {},
   "outputs": [],
   "source": [
    "# Converting the timestamps to datetime object\n",
    "rev['timestamp'] = pd.to_datetime(rev.timestamp, format='%Y-%m-%d %H:%M:%S')\n",
    "\n",
    "# Converting to datetime leaves the dates in form '2016-10-12 14:37:53+00:00'\n",
    "# Formatting timestamp to remove +00:00\n",
    "rev['timestamp'] = rev['timestamp'].dt.strftime('%Y-%m-%d %H:%M:%S')\n",
    "\n",
    "# strftime() returns a string object\n",
    "# Converting back to datetime\n",
    "rev['timestamp'] = pd.to_datetime(rev.timestamp, format='%Y-%m-%d %H:%M:%S')"
   ]
  },
  {
   "cell_type": "code",
   "execution_count": 22,
   "metadata": {},
   "outputs": [
    {
     "data": {
      "text/plain": [
       "Unnamed: 0             int64\n",
       "qid                   object\n",
       "revisionid           float64\n",
       "timestamp     datetime64[ns]\n",
       "comment               object\n",
       "userid               float64\n",
       "username              object\n",
       "type                  object\n",
       "usertype              object\n",
       "editscount             int64\n",
       "dtype: object"
      ]
     },
     "execution_count": 22,
     "metadata": {},
     "output_type": "execute_result"
    }
   ],
   "source": [
    "rev.dtypes"
   ]
  },
  {
   "cell_type": "code",
   "execution_count": 23,
   "metadata": {},
   "outputs": [],
   "source": [
    "# Sparql Query to get labels using Qids\n",
    "def get_item_label(qid):\n",
    "    try:        \n",
    "        # Specifying the Wikidata SPARQL endpoint\n",
    "        sparql = SPARQLWrapper(\"https://query.wikidata.org/sparql\")\n",
    "        \n",
    "        # Query to access the label for the wikidata item\n",
    "        sparql.setQuery('PREFIX rdfs: <http://www.w3.org/2000/01/rdf-schema#> SELECT ?label WHERE {wd:' + qid + ' rdfs:label ?label . SERVICE wikibase:label { bd:serviceParam wikibase:language \"en\". } } LIMIT 1')\n",
    "        \n",
    "        # Converting result to JSON format\n",
    "        sparql.setReturnFormat(JSON)\n",
    "        result = sparql.query().convert()\n",
    "        \n",
    "        # result is in the form of \"bindings\" which are a list of dictionaries\n",
    "        # Accessing the value of the label \n",
    "        itemLabel = result[\"results\"][\"bindings\"][0][\"label\"][\"value\"]\n",
    "        \n",
    "        return itemLabel\n",
    "    except Exception as ex:\n",
    "        print(ex)\n",
    "        return('')"
   ]
  },
  {
   "cell_type": "code",
   "execution_count": 24,
   "metadata": {},
   "outputs": [
    {
     "name": "stdout",
     "output_type": "stream",
     "text": [
      "        qid  editscount\n",
      "0   Q155965         507\n",
      "1   Q245970         388\n",
      "2   Q381121         320\n",
      "3  Q2186582         319\n",
      "4  Q1395335         315\n"
     ]
    }
   ],
   "source": [
    "print(df_editscount.head())"
   ]
  },
  {
   "cell_type": "markdown",
   "metadata": {},
   "source": [
    "# Descriptive Statistics"
   ]
  },
  {
   "cell_type": "code",
   "execution_count": 25,
   "metadata": {},
   "outputs": [
    {
     "data": {
      "text/plain": [
       "count    375265\n",
       "mean         24\n",
       "std          37\n",
       "min           6\n",
       "25%          10\n",
       "50%          15\n",
       "75%          24\n",
       "max         507\n",
       "Name: editscount, dtype: int32"
      ]
     },
     "execution_count": 25,
     "metadata": {},
     "output_type": "execute_result"
    }
   ],
   "source": [
    "rev['editscount'].describe().astype(int)"
   ]
  },
  {
   "cell_type": "code",
   "execution_count": 26,
   "metadata": {},
   "outputs": [
    {
     "data": {
      "text/plain": [
       "count     375265\n",
       "unique        10\n",
       "top       create\n",
       "freq      222149\n",
       "Name: type, dtype: object"
      ]
     },
     "execution_count": 26,
     "metadata": {},
     "output_type": "execute_result"
    }
   ],
   "source": [
    "rev['type'].describe()"
   ]
  },
  {
   "cell_type": "code",
   "execution_count": 27,
   "metadata": {},
   "outputs": [],
   "source": [
    "science_items = rev['qid'].value_counts()"
   ]
  },
  {
   "cell_type": "code",
   "execution_count": 28,
   "metadata": {},
   "outputs": [],
   "source": [
    "# converting a series to a dataframe\n",
    "s_items = pd.DataFrame({'type':science_items.index, 'count':science_items.values})"
   ]
  },
  {
   "cell_type": "code",
   "execution_count": 29,
   "metadata": {},
   "outputs": [
    {
     "data": {
      "text/html": [
       "<div>\n",
       "<style scoped>\n",
       "    .dataframe tbody tr th:only-of-type {\n",
       "        vertical-align: middle;\n",
       "    }\n",
       "\n",
       "    .dataframe tbody tr th {\n",
       "        vertical-align: top;\n",
       "    }\n",
       "\n",
       "    .dataframe thead th {\n",
       "        text-align: right;\n",
       "    }\n",
       "</style>\n",
       "<table border=\"1\" class=\"dataframe\">\n",
       "  <thead>\n",
       "    <tr style=\"text-align: right;\">\n",
       "      <th></th>\n",
       "      <th>type</th>\n",
       "      <th>count</th>\n",
       "    </tr>\n",
       "  </thead>\n",
       "  <tbody>\n",
       "    <tr>\n",
       "      <th>2348</th>\n",
       "      <td>Q27879411</td>\n",
       "      <td>24</td>\n",
       "    </tr>\n",
       "    <tr>\n",
       "      <th>2349</th>\n",
       "      <td>Q27880504</td>\n",
       "      <td>24</td>\n",
       "    </tr>\n",
       "    <tr>\n",
       "      <th>2350</th>\n",
       "      <td>Q27799375</td>\n",
       "      <td>24</td>\n",
       "    </tr>\n",
       "    <tr>\n",
       "      <th>2351</th>\n",
       "      <td>Q17483961</td>\n",
       "      <td>24</td>\n",
       "    </tr>\n",
       "    <tr>\n",
       "      <th>2352</th>\n",
       "      <td>Q27879124</td>\n",
       "      <td>24</td>\n",
       "    </tr>\n",
       "    <tr>\n",
       "      <th>...</th>\n",
       "      <td>...</td>\n",
       "      <td>...</td>\n",
       "    </tr>\n",
       "    <tr>\n",
       "      <th>8995</th>\n",
       "      <td>Q27866565</td>\n",
       "      <td>15</td>\n",
       "    </tr>\n",
       "    <tr>\n",
       "      <th>8996</th>\n",
       "      <td>Q27799555</td>\n",
       "      <td>15</td>\n",
       "    </tr>\n",
       "    <tr>\n",
       "      <th>8997</th>\n",
       "      <td>Q27799851</td>\n",
       "      <td>15</td>\n",
       "    </tr>\n",
       "    <tr>\n",
       "      <th>8998</th>\n",
       "      <td>Q27866752</td>\n",
       "      <td>15</td>\n",
       "    </tr>\n",
       "    <tr>\n",
       "      <th>8999</th>\n",
       "      <td>Q27799414</td>\n",
       "      <td>15</td>\n",
       "    </tr>\n",
       "  </tbody>\n",
       "</table>\n",
       "<p>6652 rows × 2 columns</p>\n",
       "</div>"
      ],
      "text/plain": [
       "           type  count\n",
       "2348  Q27879411     24\n",
       "2349  Q27880504     24\n",
       "2350  Q27799375     24\n",
       "2351  Q17483961     24\n",
       "2352  Q27879124     24\n",
       "...         ...    ...\n",
       "8995  Q27866565     15\n",
       "8996  Q27799555     15\n",
       "8997  Q27799851     15\n",
       "8998  Q27866752     15\n",
       "8999  Q27799414     15\n",
       "\n",
       "[6652 rows x 2 columns]"
      ]
     },
     "execution_count": 29,
     "metadata": {},
     "output_type": "execute_result"
    }
   ],
   "source": [
    "# Items between the median and 75th percentile\n",
    "s_items[(s_items['count'] >= 15) & (s_items['count'] <= 24)]"
   ]
  },
  {
   "cell_type": "markdown",
   "metadata": {},
   "source": [
    "# Statistics for Proxies"
   ]
  },
  {
   "cell_type": "code",
   "execution_count": 30,
   "metadata": {},
   "outputs": [],
   "source": [
    "# Counting the value of the number of proxies that exist in the dataset\n",
    "type_stats = rev['type'].value_counts()"
   ]
  },
  {
   "cell_type": "code",
   "execution_count": 31,
   "metadata": {},
   "outputs": [
    {
     "name": "stdout",
     "output_type": "stream",
     "text": [
      "          count\n",
      "type           \n",
      "create   222149\n",
      "add      127636\n",
      "update    16797\n",
      "remove     4444\n",
      "set        3433\n",
      "revert      321\n",
      "merge       186\n",
      "undo        181\n",
      "restore     112\n",
      "protect       6\n"
     ]
    }
   ],
   "source": [
    "# Converting a series to a Dataframe\n",
    "type_s = pd.DataFrame({'type':type_stats.index, 'count':type_stats.values})\n",
    "ts = type_s.set_index('type')\n",
    "print(ts)"
   ]
  },
  {
   "cell_type": "code",
   "execution_count": 32,
   "metadata": {},
   "outputs": [
    {
     "data": {
      "image/png": "[encoded data removed]",
      "text/plain": [
       "<Figure size 432x288 with 1 Axes>"
      ]
     },
     "metadata": {
      "needs_background": "light"
     },
     "output_type": "display_data"
    }
   ],
   "source": [
    "# Plotting the statistics for the proxies/types of edits in the data\n",
    "ax = ts.plot.bar()\n",
    "\n",
    "plt.title('Types of Edits')\n",
    "plt.xlabel('Number of Edits')\n",
    "plt.ylabel('Types')\n",
    "\n",
    "plt.xticks(rotation=45)\n",
    "\n",
    "plt.show()"
   ]
  },
  {
   "cell_type": "code",
   "execution_count": 33,
   "metadata": {},
   "outputs": [],
   "source": [
    "# Extracting select proxies: remove, restore, revert, merge, undo, protect\n",
    "controversial_proxies = ts.iloc[[3, 5, 6, 7, 8, 9]]\n",
    "# print(controversial_proxies)"
   ]
  },
  {
   "cell_type": "code",
   "execution_count": 34,
   "metadata": {},
   "outputs": [
    {
     "data": {
      "image/png": "[encoded data removed]",
      "text/plain": [
       "<Figure size 432x288 with 1 Axes>"
      ]
     },
     "metadata": {
      "needs_background": "light"
     },
     "output_type": "display_data"
    }
   ],
   "source": [
    "# Plotting select proxies\n",
    "ax = controversial_proxies.plot.bar()\n",
    "\n",
    "plt.title('Types of Edits')\n",
    "plt.xlabel('Number of Edits')\n",
    "plt.ylabel('Types')\n",
    "\n",
    "plt.xticks(rotation=45)\n",
    "\n",
    "# ax.invert_yaxis()\n",
    "\n",
    "plt.show()"
   ]
  },
  {
   "cell_type": "code",
   "execution_count": 35,
   "metadata": {},
   "outputs": [
    {
     "name": "stdout",
     "output_type": "stream",
     "text": [
      "         count\n",
      "type          \n",
      "revert     321\n",
      "merge      186\n",
      "undo       181\n",
      "restore    112\n",
      "protect      6\n"
     ]
    }
   ],
   "source": [
    "# Extracting select proxies: restore, revert, merge, undo, protect\n",
    "controversial_proxies_without_remove = ts.iloc[[5, 6, 7, 8, 9]]\n",
    "print(controversial_proxies_without_remove)"
   ]
  },
  {
   "cell_type": "code",
   "execution_count": 36,
   "metadata": {},
   "outputs": [
    {
     "data": {
      "image/png": "[encoded data removed]",
      "text/plain": [
       "<Figure size 432x288 with 1 Axes>"
      ]
     },
     "metadata": {
      "needs_background": "light"
     },
     "output_type": "display_data"
    }
   ],
   "source": [
    "# Plotting select proxies without remove\n",
    "ax = controversial_proxies_without_remove.plot.bar()\n",
    "\n",
    "plt.title('Types of Edits')\n",
    "plt.xlabel('Number of Edits')\n",
    "plt.ylabel('Types')\n",
    "\n",
    "plt.xticks(rotation=45)\n",
    "\n",
    "# ax.invert_yaxis()\n",
    "\n",
    "plt.show()"
   ]
  },
  {
   "cell_type": "markdown",
   "metadata": {},
   "source": [
    "# Statistics for No of Edits"
   ]
  },
  {
   "cell_type": "code",
   "execution_count": 37,
   "metadata": {},
   "outputs": [],
   "source": [
    "no_of_edits = science_items.to_numpy()"
   ]
  },
  {
   "cell_type": "code",
   "execution_count": 38,
   "metadata": {},
   "outputs": [
    {
     "data": {
      "image/png": "[encoded data removed]",
      "text/plain": [
       "<Figure size 432x288 with 1 Axes>"
      ]
     },
     "metadata": {
      "needs_background": "light"
     },
     "output_type": "display_data"
    }
   ],
   "source": [
    "# Plotting No of Edits for the Items in the dataset \n",
    "# Line Plot\n",
    "\n",
    "plt.plot(no_of_edits)\n",
    "\n",
    "plt.title(\"No of Edits vs No of Items\")\n",
    "plt.xlabel(\"Number of Items\")\n",
    "plt.ylabel(\"No of Edits\")\n",
    "\n",
    "plt.show()"
   ]
  },
  {
   "cell_type": "code",
   "execution_count": 39,
   "metadata": {},
   "outputs": [],
   "source": [
    "# Top 25% of the dataset"
   ]
  },
  {
   "cell_type": "markdown",
   "metadata": {},
   "source": [
    "# Grouping by Proxies"
   ]
  },
  {
   "cell_type": "code",
   "execution_count": 40,
   "metadata": {},
   "outputs": [],
   "source": [
    "reverts = rev[\"type\"].str.contains(\"revert\")\n",
    "revert_edits = reverts.groupby(rev[\"qid\"], sort=False).sum().astype(np.uintc)"
   ]
  },
  {
   "cell_type": "code",
   "execution_count": 41,
   "metadata": {},
   "outputs": [],
   "source": [
    "merges = rev[\"type\"].str.contains(\"merge\")\n",
    "merge_edits = merges.groupby(rev[\"qid\"], sort=False).sum().astype(np.uintc)"
   ]
  },
  {
   "cell_type": "code",
   "execution_count": 42,
   "metadata": {},
   "outputs": [],
   "source": [
    "undos = rev[\"type\"].str.contains(\"undo\")\n",
    "undo_edits = undos.groupby(rev[\"qid\"], sort=False).sum().astype(np.uintc)"
   ]
  },
  {
   "cell_type": "code",
   "execution_count": 43,
   "metadata": {},
   "outputs": [],
   "source": [
    "restores = rev[\"type\"].str.contains(\"restore\")\n",
    "restore_edits = restores.groupby(rev[\"qid\"], sort=False).sum().astype(np.uintc)"
   ]
  },
  {
   "cell_type": "code",
   "execution_count": 44,
   "metadata": {},
   "outputs": [],
   "source": [
    "protects = rev[\"type\"].str.contains(\"protect\")\n",
    "protect_edits = protects.groupby(rev[\"qid\"], sort=False).sum().astype(np.uintc)"
   ]
  },
  {
   "cell_type": "code",
   "execution_count": 45,
   "metadata": {},
   "outputs": [],
   "source": [
    "removes = rev[\"type\"].str.contains(\"remove\")\n",
    "remove_edits = removes.groupby(rev[\"qid\"], sort=False).sum().astype(np.uintc)"
   ]
  },
  {
   "cell_type": "code",
   "execution_count": 46,
   "metadata": {},
   "outputs": [],
   "source": [
    "# Creating a dataframe which will contain qids for items and no of each proxy\n",
    "proxies = pd.DataFrame({'revert': revert_edits, 'merge': merge_edits, 'undo': undo_edits, 'restore': restore_edits, \n",
    "                        'protect': protect_edits, 'remove': remove_edits})"
   ]
  },
  {
   "cell_type": "code",
   "execution_count": 47,
   "metadata": {},
   "outputs": [],
   "source": [
    "proxies = proxies.reset_index()"
   ]
  },
  {
   "cell_type": "code",
   "execution_count": 48,
   "metadata": {},
   "outputs": [
    {
     "data": {
      "text/plain": [
       "Index(['qid', 'revert', 'merge', 'undo', 'restore', 'protect', 'remove'], dtype='object')"
      ]
     },
     "execution_count": 48,
     "metadata": {},
     "output_type": "execute_result"
    }
   ],
   "source": [
    "proxies.columns"
   ]
  },
  {
   "cell_type": "code",
   "execution_count": 49,
   "metadata": {},
   "outputs": [
    {
     "data": {
      "text/plain": [
       "Index(['qid', 'editscount'], dtype='object')"
      ]
     },
     "execution_count": 49,
     "metadata": {},
     "output_type": "execute_result"
    }
   ],
   "source": [
    "df_editscount.columns"
   ]
  },
  {
   "cell_type": "code",
   "execution_count": 50,
   "metadata": {},
   "outputs": [],
   "source": [
    "# Adding editscount for each item \n",
    "proxies = pd.merge(proxies, df_editscount, how='inner', on=['qid'])"
   ]
  },
  {
   "cell_type": "code",
   "execution_count": 51,
   "metadata": {},
   "outputs": [],
   "source": [
    "# Counting the number of users per item that is userscount\n",
    "rev_users = rev.groupby('qid')['username'].nunique()\n",
    "# Converting to a dataframe so that it can be compared/merged \n",
    "df_userscount = pd.DataFrame({'qid':rev_users.index, 'userscount':rev_users.values})"
   ]
  },
  {
   "cell_type": "code",
   "execution_count": 52,
   "metadata": {},
   "outputs": [],
   "source": [
    "# Adding userscount for each item \n",
    "proxies = pd.merge(proxies, df_userscount, how='inner', on=['qid'])"
   ]
  },
  {
   "cell_type": "code",
   "execution_count": 54,
   "metadata": {},
   "outputs": [
    {
     "data": {
      "text/html": [
       "<div>\n",
       "<style scoped>\n",
       "    .dataframe tbody tr th:only-of-type {\n",
       "        vertical-align: middle;\n",
       "    }\n",
       "\n",
       "    .dataframe tbody tr th {\n",
       "        vertical-align: top;\n",
       "    }\n",
       "\n",
       "    .dataframe thead th {\n",
       "        text-align: right;\n",
       "    }\n",
       "</style>\n",
       "<table border=\"1\" class=\"dataframe\">\n",
       "  <thead>\n",
       "    <tr style=\"text-align: right;\">\n",
       "      <th></th>\n",
       "      <th>revert</th>\n",
       "      <th>merge</th>\n",
       "      <th>undo</th>\n",
       "      <th>restore</th>\n",
       "      <th>protect</th>\n",
       "      <th>remove</th>\n",
       "      <th>editscount</th>\n",
       "      <th>userscount</th>\n",
       "    </tr>\n",
       "  </thead>\n",
       "  <tbody>\n",
       "    <tr>\n",
       "      <th>count</th>\n",
       "      <td>27338.000000</td>\n",
       "      <td>27338.000000</td>\n",
       "      <td>27338.000000</td>\n",
       "      <td>27338.000000</td>\n",
       "      <td>27338.000000</td>\n",
       "      <td>27338.000000</td>\n",
       "      <td>27338.000000</td>\n",
       "      <td>27338.000000</td>\n",
       "    </tr>\n",
       "    <tr>\n",
       "      <th>mean</th>\n",
       "      <td>0.011742</td>\n",
       "      <td>0.006804</td>\n",
       "      <td>0.006621</td>\n",
       "      <td>0.004097</td>\n",
       "      <td>0.000219</td>\n",
       "      <td>0.162558</td>\n",
       "      <td>13.726864</td>\n",
       "      <td>2.004536</td>\n",
       "    </tr>\n",
       "    <tr>\n",
       "      <th>std</th>\n",
       "      <td>0.190035</td>\n",
       "      <td>0.083966</td>\n",
       "      <td>0.121236</td>\n",
       "      <td>0.077818</td>\n",
       "      <td>0.014813</td>\n",
       "      <td>0.887076</td>\n",
       "      <td>11.963085</td>\n",
       "      <td>1.778117</td>\n",
       "    </tr>\n",
       "    <tr>\n",
       "      <th>min</th>\n",
       "      <td>0.000000</td>\n",
       "      <td>0.000000</td>\n",
       "      <td>0.000000</td>\n",
       "      <td>0.000000</td>\n",
       "      <td>0.000000</td>\n",
       "      <td>0.000000</td>\n",
       "      <td>6.000000</td>\n",
       "      <td>1.000000</td>\n",
       "    </tr>\n",
       "    <tr>\n",
       "      <th>25%</th>\n",
       "      <td>0.000000</td>\n",
       "      <td>0.000000</td>\n",
       "      <td>0.000000</td>\n",
       "      <td>0.000000</td>\n",
       "      <td>0.000000</td>\n",
       "      <td>0.000000</td>\n",
       "      <td>8.000000</td>\n",
       "      <td>1.000000</td>\n",
       "    </tr>\n",
       "    <tr>\n",
       "      <th>50%</th>\n",
       "      <td>0.000000</td>\n",
       "      <td>0.000000</td>\n",
       "      <td>0.000000</td>\n",
       "      <td>0.000000</td>\n",
       "      <td>0.000000</td>\n",
       "      <td>0.000000</td>\n",
       "      <td>11.000000</td>\n",
       "      <td>1.000000</td>\n",
       "    </tr>\n",
       "    <tr>\n",
       "      <th>75%</th>\n",
       "      <td>0.000000</td>\n",
       "      <td>0.000000</td>\n",
       "      <td>0.000000</td>\n",
       "      <td>0.000000</td>\n",
       "      <td>0.000000</td>\n",
       "      <td>0.000000</td>\n",
       "      <td>16.000000</td>\n",
       "      <td>3.000000</td>\n",
       "    </tr>\n",
       "    <tr>\n",
       "      <th>max</th>\n",
       "      <td>14.000000</td>\n",
       "      <td>2.000000</td>\n",
       "      <td>10.000000</td>\n",
       "      <td>5.000000</td>\n",
       "      <td>1.000000</td>\n",
       "      <td>74.000000</td>\n",
       "      <td>507.000000</td>\n",
       "      <td>42.000000</td>\n",
       "    </tr>\n",
       "  </tbody>\n",
       "</table>\n",
       "</div>"
      ],
      "text/plain": [
       "             revert         merge          undo       restore       protect  \\\n",
       "count  27338.000000  27338.000000  27338.000000  27338.000000  27338.000000   \n",
       "mean       0.011742      0.006804      0.006621      0.004097      0.000219   \n",
       "std        0.190035      0.083966      0.121236      0.077818      0.014813   \n",
       "min        0.000000      0.000000      0.000000      0.000000      0.000000   \n",
       "25%        0.000000      0.000000      0.000000      0.000000      0.000000   \n",
       "50%        0.000000      0.000000      0.000000      0.000000      0.000000   \n",
       "75%        0.000000      0.000000      0.000000      0.000000      0.000000   \n",
       "max       14.000000      2.000000     10.000000      5.000000      1.000000   \n",
       "\n",
       "             remove    editscount    userscount  \n",
       "count  27338.000000  27338.000000  27338.000000  \n",
       "mean       0.162558     13.726864      2.004536  \n",
       "std        0.887076     11.963085      1.778117  \n",
       "min        0.000000      6.000000      1.000000  \n",
       "25%        0.000000      8.000000      1.000000  \n",
       "50%        0.000000     11.000000      1.000000  \n",
       "75%        0.000000     16.000000      3.000000  \n",
       "max       74.000000    507.000000     42.000000  "
      ]
     },
     "execution_count": 54,
     "metadata": {},
     "output_type": "execute_result"
    }
   ],
   "source": [
    "proxies.describe()"
   ]
  },
  {
   "cell_type": "code",
   "execution_count": 55,
   "metadata": {},
   "outputs": [
    {
     "data": {
      "text/plain": [
       "Text(0, 0.5, 'No of Edits')"
      ]
     },
     "execution_count": 55,
     "metadata": {},
     "output_type": "execute_result"
    },
    {
     "data": {
      "image/png": "[encoded data removed]",
      "text/plain": [
       "<Figure size 432x288 with 1 Axes>"
      ]
     },
     "metadata": {
      "needs_background": "light"
     },
     "output_type": "display_data"
    }
   ],
   "source": [
    "ax = sns.scatterplot(x=\"revert\", y=\"editscount\", data=proxies)\n",
    "ax.set_title(\"No of Reverts vs No of Edits\")\n",
    "ax.set_xlabel(\"No of Reverts\")\n",
    "ax.set_ylabel(\"No of Edits\")"
   ]
  },
  {
   "cell_type": "code",
   "execution_count": 56,
   "metadata": {},
   "outputs": [
    {
     "data": {
      "text/plain": [
       "<seaborn.axisgrid.FacetGrid at 0x1ef14d6d580>"
      ]
     },
     "execution_count": 56,
     "metadata": {},
     "output_type": "execute_result"
    },
    {
     "data": {
      "image/png": "[encoded data removed]",
      "text/plain": [
       "<Figure size 360x360 with 1 Axes>"
      ]
     },
     "metadata": {
      "needs_background": "light"
     },
     "output_type": "display_data"
    }
   ],
   "source": [
    "sns.lmplot(x=\"revert\", y=\"editscount\", data=proxies)"
   ]
  },
  {
   "cell_type": "code",
   "execution_count": 57,
   "metadata": {},
   "outputs": [
    {
     "data": {
      "text/html": [
       "<div>\n",
       "<style scoped>\n",
       "    .dataframe tbody tr th:only-of-type {\n",
       "        vertical-align: middle;\n",
       "    }\n",
       "\n",
       "    .dataframe tbody tr th {\n",
       "        vertical-align: top;\n",
       "    }\n",
       "\n",
       "    .dataframe thead th {\n",
       "        text-align: right;\n",
       "    }\n",
       "</style>\n",
       "<table border=\"1\" class=\"dataframe\">\n",
       "  <thead>\n",
       "    <tr style=\"text-align: right;\">\n",
       "      <th></th>\n",
       "      <th>revert</th>\n",
       "      <th>merge</th>\n",
       "      <th>undo</th>\n",
       "      <th>restore</th>\n",
       "      <th>protect</th>\n",
       "      <th>remove</th>\n",
       "      <th>editscount</th>\n",
       "      <th>userscount</th>\n",
       "    </tr>\n",
       "  </thead>\n",
       "  <tbody>\n",
       "    <tr>\n",
       "      <th>revert</th>\n",
       "      <td>1.000000</td>\n",
       "      <td>0.056891</td>\n",
       "      <td>0.236377</td>\n",
       "      <td>0.271322</td>\n",
       "      <td>0.194003</td>\n",
       "      <td>0.058116</td>\n",
       "      <td>0.038194</td>\n",
       "      <td>0.200767</td>\n",
       "    </tr>\n",
       "    <tr>\n",
       "      <th>merge</th>\n",
       "      <td>0.056891</td>\n",
       "      <td>1.000000</td>\n",
       "      <td>0.045883</td>\n",
       "      <td>0.118900</td>\n",
       "      <td>-0.001201</td>\n",
       "      <td>0.063238</td>\n",
       "      <td>-0.004523</td>\n",
       "      <td>0.144594</td>\n",
       "    </tr>\n",
       "    <tr>\n",
       "      <th>undo</th>\n",
       "      <td>0.236377</td>\n",
       "      <td>0.045883</td>\n",
       "      <td>1.000000</td>\n",
       "      <td>0.190995</td>\n",
       "      <td>0.039929</td>\n",
       "      <td>0.117885</td>\n",
       "      <td>0.065033</td>\n",
       "      <td>0.142231</td>\n",
       "    </tr>\n",
       "    <tr>\n",
       "      <th>restore</th>\n",
       "      <td>0.271322</td>\n",
       "      <td>0.118900</td>\n",
       "      <td>0.190995</td>\n",
       "      <td>1.000000</td>\n",
       "      <td>0.157888</td>\n",
       "      <td>0.169995</td>\n",
       "      <td>0.153899</td>\n",
       "      <td>0.117510</td>\n",
       "    </tr>\n",
       "    <tr>\n",
       "      <th>protect</th>\n",
       "      <td>0.194003</td>\n",
       "      <td>-0.001201</td>\n",
       "      <td>0.039929</td>\n",
       "      <td>0.157888</td>\n",
       "      <td>1.000000</td>\n",
       "      <td>0.011204</td>\n",
       "      <td>0.004880</td>\n",
       "      <td>0.031904</td>\n",
       "    </tr>\n",
       "    <tr>\n",
       "      <th>remove</th>\n",
       "      <td>0.058116</td>\n",
       "      <td>0.063238</td>\n",
       "      <td>0.117885</td>\n",
       "      <td>0.169995</td>\n",
       "      <td>0.011204</td>\n",
       "      <td>1.000000</td>\n",
       "      <td>0.260574</td>\n",
       "      <td>0.081120</td>\n",
       "    </tr>\n",
       "    <tr>\n",
       "      <th>editscount</th>\n",
       "      <td>0.038194</td>\n",
       "      <td>-0.004523</td>\n",
       "      <td>0.065033</td>\n",
       "      <td>0.153899</td>\n",
       "      <td>0.004880</td>\n",
       "      <td>0.260574</td>\n",
       "      <td>1.000000</td>\n",
       "      <td>-0.089200</td>\n",
       "    </tr>\n",
       "    <tr>\n",
       "      <th>userscount</th>\n",
       "      <td>0.200767</td>\n",
       "      <td>0.144594</td>\n",
       "      <td>0.142231</td>\n",
       "      <td>0.117510</td>\n",
       "      <td>0.031904</td>\n",
       "      <td>0.081120</td>\n",
       "      <td>-0.089200</td>\n",
       "      <td>1.000000</td>\n",
       "    </tr>\n",
       "  </tbody>\n",
       "</table>\n",
       "</div>"
      ],
      "text/plain": [
       "              revert     merge      undo   restore   protect    remove  \\\n",
       "revert      1.000000  0.056891  0.236377  0.271322  0.194003  0.058116   \n",
       "merge       0.056891  1.000000  0.045883  0.118900 -0.001201  0.063238   \n",
       "undo        0.236377  0.045883  1.000000  0.190995  0.039929  0.117885   \n",
       "restore     0.271322  0.118900  0.190995  1.000000  0.157888  0.169995   \n",
       "protect     0.194003 -0.001201  0.039929  0.157888  1.000000  0.011204   \n",
       "remove      0.058116  0.063238  0.117885  0.169995  0.011204  1.000000   \n",
       "editscount  0.038194 -0.004523  0.065033  0.153899  0.004880  0.260574   \n",
       "userscount  0.200767  0.144594  0.142231  0.117510  0.031904  0.081120   \n",
       "\n",
       "            editscount  userscount  \n",
       "revert        0.038194    0.200767  \n",
       "merge        -0.004523    0.144594  \n",
       "undo          0.065033    0.142231  \n",
       "restore       0.153899    0.117510  \n",
       "protect       0.004880    0.031904  \n",
       "remove        0.260574    0.081120  \n",
       "editscount    1.000000   -0.089200  \n",
       "userscount   -0.089200    1.000000  "
      ]
     },
     "execution_count": 57,
     "metadata": {},
     "output_type": "execute_result"
    }
   ],
   "source": [
    "corr_matrix = proxies.corr()\n",
    "corr_matrix"
   ]
  },
  {
   "cell_type": "code",
   "execution_count": 58,
   "metadata": {},
   "outputs": [
    {
     "data": {
      "text/plain": [
       "<matplotlib.axes._subplots.AxesSubplot at 0x1ef14dfb280>"
      ]
     },
     "execution_count": 58,
     "metadata": {},
     "output_type": "execute_result"
    },
    {
     "data": {
      "image/png": "[encoded data removed]",
      "text/plain": [
       "<Figure size 432x288 with 2 Axes>"
      ]
     },
     "metadata": {
      "needs_background": "light"
     },
     "output_type": "display_data"
    }
   ],
   "source": [
    "sns.heatmap(corr_matrix)"
   ]
  },
  {
   "cell_type": "code",
   "execution_count": 59,
   "metadata": {},
   "outputs": [
    {
     "data": {
      "text/plain": [
       "<seaborn.axisgrid.FacetGrid at 0x1ef14eb7970>"
      ]
     },
     "execution_count": 59,
     "metadata": {},
     "output_type": "execute_result"
    },
    {
     "data": {
      "image/png": "[encoded data removed]",
      "text/plain": [
       "<Figure size 648x432 with 1 Axes>"
      ]
     },
     "metadata": {
      "needs_background": "light"
     },
     "output_type": "display_data"
    }
   ],
   "source": [
    "sns.lmplot(x=\"revert\", y=\"restore\", data=proxies, height=6, aspect=1.5)"
   ]
  },
  {
   "cell_type": "code",
   "execution_count": 60,
   "metadata": {},
   "outputs": [
    {
     "data": {
      "text/plain": [
       "Text(0, 0.5, 'No of Edits')"
      ]
     },
     "execution_count": 60,
     "metadata": {},
     "output_type": "execute_result"
    },
    {
     "data": {
      "image/png": "[encoded data removed]",
      "text/plain": [
       "<Figure size 432x288 with 1 Axes>"
      ]
     },
     "metadata": {
      "needs_background": "light"
     },
     "output_type": "display_data"
    }
   ],
   "source": [
    "ax = sns.scatterplot(x=\"userscount\", y=\"editscount\", data=proxies)\n",
    "ax.set_title(\"No of Users vs No of Edits\")\n",
    "ax.set_xlabel(\"No of Users\")\n",
    "ax.set_ylabel(\"No of Edits\")"
   ]
  },
  {
   "cell_type": "code",
   "execution_count": 61,
   "metadata": {},
   "outputs": [
    {
     "data": {
      "text/plain": [
       "<seaborn.axisgrid.FacetGrid at 0x1ef15588c10>"
      ]
     },
     "execution_count": 61,
     "metadata": {},
     "output_type": "execute_result"
    },
    {
     "data": {
      "image/png": "[encoded data removed]",
      "text/plain": [
       "<Figure size 864x432 with 1 Axes>"
      ]
     },
     "metadata": {
      "needs_background": "light"
     },
     "output_type": "display_data"
    }
   ],
   "source": [
    "sns.lmplot(x=\"userscount\", y=\"editscount\", data=proxies, height=6, aspect=2)"
   ]
  },
  {
   "cell_type": "code",
   "execution_count": 62,
   "metadata": {},
   "outputs": [],
   "source": [
    "# Removing items with 0 reverts, merges, undos, restores, removes, protects\n",
    "# Removing items with editscount <= 5 \n",
    "to_remove = proxies[(proxies['revert'] == 0) & (proxies['merge'] == 0) & (proxies['undo'] == 0) & (proxies['restore'] == 0) & \n",
    "                   (proxies['remove'] == 0) & (proxies['protect'] == 0)].index\n",
    "proxies = proxies.drop(to_remove)"
   ]
  },
  {
   "cell_type": "code",
   "execution_count": 63,
   "metadata": {},
   "outputs": [
    {
     "data": {
      "text/plain": [
       "(2696, 9)"
      ]
     },
     "execution_count": 63,
     "metadata": {},
     "output_type": "execute_result"
    }
   ],
   "source": [
    "proxies.shape"
   ]
  },
  {
   "cell_type": "code",
   "execution_count": 64,
   "metadata": {},
   "outputs": [
    {
     "data": {
      "text/html": [
       "<div>\n",
       "<style scoped>\n",
       "    .dataframe tbody tr th:only-of-type {\n",
       "        vertical-align: middle;\n",
       "    }\n",
       "\n",
       "    .dataframe tbody tr th {\n",
       "        vertical-align: top;\n",
       "    }\n",
       "\n",
       "    .dataframe thead th {\n",
       "        text-align: right;\n",
       "    }\n",
       "</style>\n",
       "<table border=\"1\" class=\"dataframe\">\n",
       "  <thead>\n",
       "    <tr style=\"text-align: right;\">\n",
       "      <th></th>\n",
       "      <th>qid</th>\n",
       "      <th>revert</th>\n",
       "      <th>merge</th>\n",
       "      <th>undo</th>\n",
       "      <th>restore</th>\n",
       "      <th>protect</th>\n",
       "      <th>remove</th>\n",
       "      <th>editscount</th>\n",
       "      <th>userscount</th>\n",
       "    </tr>\n",
       "  </thead>\n",
       "  <tbody>\n",
       "    <tr>\n",
       "      <th>0</th>\n",
       "      <td>Q2124328</td>\n",
       "      <td>0</td>\n",
       "      <td>0</td>\n",
       "      <td>0</td>\n",
       "      <td>0</td>\n",
       "      <td>0</td>\n",
       "      <td>1</td>\n",
       "      <td>6</td>\n",
       "      <td>2</td>\n",
       "    </tr>\n",
       "    <tr>\n",
       "      <th>4</th>\n",
       "      <td>Q2132419</td>\n",
       "      <td>0</td>\n",
       "      <td>0</td>\n",
       "      <td>0</td>\n",
       "      <td>0</td>\n",
       "      <td>0</td>\n",
       "      <td>2</td>\n",
       "      <td>6</td>\n",
       "      <td>1</td>\n",
       "    </tr>\n",
       "    <tr>\n",
       "      <th>7</th>\n",
       "      <td>Q2143177</td>\n",
       "      <td>0</td>\n",
       "      <td>0</td>\n",
       "      <td>0</td>\n",
       "      <td>0</td>\n",
       "      <td>0</td>\n",
       "      <td>2</td>\n",
       "      <td>7</td>\n",
       "      <td>4</td>\n",
       "    </tr>\n",
       "    <tr>\n",
       "      <th>11</th>\n",
       "      <td>Q2164976</td>\n",
       "      <td>0</td>\n",
       "      <td>0</td>\n",
       "      <td>0</td>\n",
       "      <td>0</td>\n",
       "      <td>0</td>\n",
       "      <td>5</td>\n",
       "      <td>11</td>\n",
       "      <td>1</td>\n",
       "    </tr>\n",
       "    <tr>\n",
       "      <th>20</th>\n",
       "      <td>Q2186582</td>\n",
       "      <td>0</td>\n",
       "      <td>0</td>\n",
       "      <td>1</td>\n",
       "      <td>0</td>\n",
       "      <td>0</td>\n",
       "      <td>3</td>\n",
       "      <td>319</td>\n",
       "      <td>2</td>\n",
       "    </tr>\n",
       "  </tbody>\n",
       "</table>\n",
       "</div>"
      ],
      "text/plain": [
       "         qid  revert  merge  undo  restore  protect  remove  editscount  \\\n",
       "0   Q2124328       0      0     0        0        0       1           6   \n",
       "4   Q2132419       0      0     0        0        0       2           6   \n",
       "7   Q2143177       0      0     0        0        0       2           7   \n",
       "11  Q2164976       0      0     0        0        0       5          11   \n",
       "20  Q2186582       0      0     1        0        0       3         319   \n",
       "\n",
       "    userscount  \n",
       "0            2  \n",
       "4            1  \n",
       "7            4  \n",
       "11           1  \n",
       "20           2  "
      ]
     },
     "execution_count": 64,
     "metadata": {},
     "output_type": "execute_result"
    }
   ],
   "source": [
    "proxies.head()"
   ]
  },
  {
   "cell_type": "code",
   "execution_count": null,
   "metadata": {},
   "outputs": [],
   "source": []
  }
 ],
 "metadata": {
  "kernelspec": {
   "display_name": "Python 3",
   "language": "python",
   "name": "python3"
  },
  "language_info": {
   "codemirror_mode": {
    "name": "ipython",
    "version": 3
   },
   "file_extension": ".py",
   "mimetype": "text/x-python",
   "name": "python",
   "nbconvert_exporter": "python",
   "pygments_lexer": "ipython3",
   "version": "3.8.3"
  }
 },
 "nbformat": 4,
 "nbformat_minor": 4
}
