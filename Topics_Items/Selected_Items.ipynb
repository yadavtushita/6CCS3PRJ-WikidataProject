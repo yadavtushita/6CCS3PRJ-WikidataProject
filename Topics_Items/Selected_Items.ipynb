{
 "cells": [
  {
   "cell_type": "markdown",
   "metadata": {},
   "source": [
    "# Analysis of Selected Items under Politics\n",
    "\n",
    "- Donald Trump \n",
    "- Hillary Clinton\n",
    "- Fidel Castro\n",
    "- Yuri on Ice \n",
    "- Spain\n",
    "- Ruggero Pasquarelli\n",
    "\n",
    "- What kind of users are contributing to the edits? (Anonymous, Bots, Registered)\n",
    "- How many users are contributing to the different types of edits?"
   ]
  },
  {
   "cell_type": "code",
   "execution_count": 1,
   "metadata": {},
   "outputs": [],
   "source": [
    "import pandas as pd\n",
    "import matplotlib.pyplot as plt\n",
    "import numpy as np\n",
    "import seaborn as sns\n",
    "import time\n",
    "from datetime import datetime\n",
    "from datetime import timezone\n",
    "\n",
    "%matplotlib inline"
   ]
  },
  {
   "cell_type": "code",
   "execution_count": 21,
   "metadata": {},
   "outputs": [],
   "source": [
    "# Reading revisions of the selected items\n",
    "donald_trump = pd.read_csv('/Users/tushi/PRJ/WikidataParsing/topics/selected_items/politics/DonaldTrump_Q22686.csv')\n",
    "yuri_on_ice = pd.read_csv('/Users/tushi/PRJ/WikidataParsing/topics/selected_items/movies/YuriOnIce_Q25104182.csv')\n",
    "spain = pd.read_csv('/Users/tushi/PRJ/WikidataParsing/topics/selected_items/countries/Spain_Q29.csv')\n",
    "ruggero_Pasquarelli = pd.read_csv('/Users/tushi/PRJ/WikidataParsing/topics/selected_items/music/RuggeroPasquarelli_Q4120122.csv')\n",
    "hillary_clinton = pd.read_csv('/Users/tushi/PRJ/WikidataParsing/topics/selected_items/politics/HillaryClinton_Q6294.csv')\n",
    "fidel_castro = pd.read_csv('/Users/tushi/PRJ/WikidataParsing/topics/selected_items/politics/FidelCastro_Q11256.csv')"
   ]
  },
  {
   "cell_type": "markdown",
   "metadata": {},
   "source": [
    "# Donald Trump"
   ]
  },
  {
   "cell_type": "code",
   "execution_count": 3,
   "metadata": {},
   "outputs": [
    {
     "name": "stdout",
     "output_type": "stream",
     "text": [
      "No of Edits\n",
      "456\n",
      "No of Users\n",
      "122\n"
     ]
    }
   ],
   "source": [
    "print('No of Edits')\n",
    "print(donald_trump['editscount'].iloc[0])\n",
    "print('No of Users')\n",
    "print(donald_trump['username'].nunique())"
   ]
  },
  {
   "cell_type": "code",
   "execution_count": 4,
   "metadata": {},
   "outputs": [
    {
     "data": {
      "text/plain": [
       "usertype\n",
       "Anonymous       1\n",
       "Bot            15\n",
       "Registered    440\n",
       "Name: usertype, dtype: int64"
      ]
     },
     "execution_count": 4,
     "metadata": {},
     "output_type": "execute_result"
    }
   ],
   "source": [
    "donald_trump.groupby('usertype')['usertype'].count()"
   ]
  },
  {
   "cell_type": "code",
   "execution_count": 5,
   "metadata": {},
   "outputs": [],
   "source": [
    "edits_per_user = donald_trump.groupby('username')['username'].count()"
   ]
  },
  {
   "cell_type": "code",
   "execution_count": 8,
   "metadata": {},
   "outputs": [
    {
     "data": {
      "text/plain": [
       "count    122.000000\n",
       "mean       3.737705\n",
       "std       11.148734\n",
       "min        1.000000\n",
       "25%        1.000000\n",
       "50%        1.000000\n",
       "75%        2.000000\n",
       "max       95.000000\n",
       "Name: username, dtype: float64"
      ]
     },
     "execution_count": 8,
     "metadata": {},
     "output_type": "execute_result"
    }
   ],
   "source": [
    "edits_per_user.describe()"
   ]
  },
  {
   "cell_type": "code",
   "execution_count": 38,
   "metadata": {},
   "outputs": [],
   "source": [
    "type_of_edits = donald_trump.groupby('type')['type'].count()"
   ]
  },
  {
   "cell_type": "code",
   "execution_count": 39,
   "metadata": {},
   "outputs": [],
   "source": [
    "df_type_of_edits = pd.DataFrame({'type':type_of_edits.index, 'count':type_of_edits.values})"
   ]
  },
  {
   "cell_type": "code",
   "execution_count": 40,
   "metadata": {},
   "outputs": [
    {
     "data": {
      "text/plain": [
       "Text(0.5, 1.0, 'Types of Edits - Donald Trump (Q22686)')"
      ]
     },
     "execution_count": 40,
     "metadata": {},
     "output_type": "execute_result"
    },
    {
     "data": {
      "image/png": "[encoded data removed]",
      "text/plain": [
       "<Figure size 864x576 with 1 Axes>"
      ]
     },
     "metadata": {
      "needs_background": "light"
     },
     "output_type": "display_data"
    }
   ],
   "source": [
    "f, ax = plt.subplots(figsize=(12,8))\n",
    "\n",
    "for i, r in enumerate(df_type_of_edits['count']):\n",
    "    ax.text(i, r+0.75, str(r), horizontalalignment='center')\n",
    "    \n",
    "plt.bar(df_type_of_edits['type'], df_type_of_edits['count'])\n",
    "plt.xticks(rotation=45, ha='right', fontsize=12)\n",
    "plt.xlabel(\"Edit Type\", fontsize=14)\n",
    "plt.ylabel(\"Number of Edits\", fontsize=14)\n",
    "plt.title(\"Types of Edits - Donald Trump (Q22686)\", fontsize=14)"
   ]
  },
  {
   "cell_type": "code",
   "execution_count": 41,
   "metadata": {},
   "outputs": [],
   "source": [
    "adds = donald_trump[donald_trump['type'] == 'add']\n",
    "creates = donald_trump[donald_trump['type'] == 'create']\n",
    "merges = donald_trump[donald_trump['type'] == 'merge']\n",
    "removes = donald_trump[donald_trump['type'] == 'remove']\n",
    "restores = donald_trump[donald_trump['type'] == 'restore']\n",
    "reverts = donald_trump[donald_trump['type'] == 'revert']\n",
    "sets = donald_trump[donald_trump['type'] == 'set']\n",
    "undos = donald_trump[donald_trump['type'] == 'undo']\n",
    "updates = donald_trump[donald_trump['type'] == 'update']"
   ]
  },
  {
   "cell_type": "code",
   "execution_count": 42,
   "metadata": {},
   "outputs": [],
   "source": [
    "users_add = adds['username'].nunique()\n",
    "users_create = creates['username'].nunique()\n",
    "users_merge = merges['username'].nunique()\n",
    "users_remove = removes['username'].nunique()\n",
    "users_restore = restores['username'].nunique()\n",
    "users_revert = reverts['username'].nunique()\n",
    "users_set = sets['username'].nunique()\n",
    "users_undo = undos['username'].nunique()\n",
    "users_update = updates['username'].nunique()"
   ]
  },
  {
   "cell_type": "code",
   "execution_count": 43,
   "metadata": {},
   "outputs": [],
   "source": [
    "no_of_users_per_type = {'type':['add', 'create', 'merge', 'remove', 'restore', 'revert', 'set', 'undo', 'update'],\n",
    "                       'no_of_users':[users_add, users_create, users_merge, users_remove, users_restore, users_revert, users_set, users_undo, users_update]}"
   ]
  },
  {
   "cell_type": "code",
   "execution_count": 44,
   "metadata": {},
   "outputs": [
    {
     "name": "stdout",
     "output_type": "stream",
     "text": [
      "      type  no_of_users\n",
      "0      add           66\n",
      "1   create           23\n",
      "2    merge            1\n",
      "3   remove           20\n",
      "4  restore            2\n",
      "5   revert            1\n",
      "6      set           17\n",
      "7     undo            5\n",
      "8   update           37\n"
     ]
    }
   ],
   "source": [
    "df = pd.DataFrame(no_of_users_per_type)\n",
    "print(df)"
   ]
  },
  {
   "cell_type": "code",
   "execution_count": 45,
   "metadata": {},
   "outputs": [
    {
     "data": {
      "image/png": "[encoded data removed]",
      "text/plain": [
       "<Figure size 864x576 with 1 Axes>"
      ]
     },
     "metadata": {
      "needs_background": "light"
     },
     "output_type": "display_data"
    }
   ],
   "source": [
    "# Visualising all proxies\n",
    "f, ax = plt.subplots(figsize=(12,8))\n",
    "edit_type = ['add', 'create', 'merge', 'remove', 'restore', 'revert', 'set', 'undo', 'update']\n",
    "edit_count = df_type_of_edits['count'].values\n",
    "user_count = df['no_of_users'].values\n",
    "  \n",
    "x_axis = np.arange(len(edit_type))\n",
    "  \n",
    "plt.bar(x_axis - 0.2, edit_count, 0.4, label = 'No of Edits')\n",
    "plt.bar(x_axis + 0.2, user_count, 0.4, label = 'No of Users')\n",
    "  \n",
    "plt.xticks(x_axis, edit_type)\n",
    "plt.xlabel(\"Edit Type\")\n",
    "plt.ylabel(\"Number of edits\")\n",
    "plt.title(\"No of edits vs No of Users - Donald Trump (Q22686)\")\n",
    "plt.legend()\n",
    "plt.show()"
   ]
  },
  {
   "cell_type": "code",
   "execution_count": 15,
   "metadata": {},
   "outputs": [
    {
     "data": {
      "image/png": "[encoded data removed]",
      "text/plain": [
       "<Figure size 864x576 with 1 Axes>"
      ]
     },
     "metadata": {
      "needs_background": "light"
     },
     "output_type": "display_data"
    }
   ],
   "source": [
    "# Visualising controversial proxies\n",
    "f, ax = plt.subplots(figsize=(12,8))\n",
    "edit_type = ['merge', 'remove', 'restore', 'revert', 'undo']\n",
    "c_edit_count = [1, 28, 2, 5, 19]\n",
    "c_user_count = [users_merge, users_remove, users_restore, users_revert, users_undo]\n",
    "  \n",
    "x_axis = np.arange(len(edit_type))\n",
    "  \n",
    "plt.bar(x_axis - 0.2, c_edit_count, 0.4, label = 'No of Edits')\n",
    "plt.bar(x_axis + 0.2, c_user_count, 0.4, label = 'No of Users')\n",
    "  \n",
    "plt.xticks(x_axis, edit_type)\n",
    "plt.xlabel(\"Edit Type\", fontsize = 14)\n",
    "plt.ylabel(\"Value \", fontsize = 14)\n",
    "plt.title(\"No of Edits vs No of Users - Donald Trump (Q22686)\", fontsize = 14)\n",
    "plt.legend()\n",
    "plt.show()"
   ]
  },
  {
   "cell_type": "markdown",
   "metadata": {},
   "source": [
    "# Yuri On Ice"
   ]
  },
  {
   "cell_type": "code",
   "execution_count": 9,
   "metadata": {},
   "outputs": [
    {
     "name": "stdout",
     "output_type": "stream",
     "text": [
      "No of Edits\n",
      "108\n",
      "No of Users\n",
      "20\n"
     ]
    }
   ],
   "source": [
    "print('No of Edits')\n",
    "print(yuri_on_ice['editscount'].iloc[0])\n",
    "print('No of Users')\n",
    "print(yuri_on_ice['username'].nunique())"
   ]
  },
  {
   "cell_type": "code",
   "execution_count": 10,
   "metadata": {},
   "outputs": [
    {
     "data": {
      "text/plain": [
       "usertype\n",
       "Anonymous     62\n",
       "Bot            6\n",
       "Registered    40\n",
       "Name: usertype, dtype: int64"
      ]
     },
     "execution_count": 10,
     "metadata": {},
     "output_type": "execute_result"
    }
   ],
   "source": [
    "yuri_on_ice.groupby('usertype')['usertype'].count()"
   ]
  },
  {
   "cell_type": "code",
   "execution_count": 11,
   "metadata": {},
   "outputs": [],
   "source": [
    "edits_per_user = yuri_on_ice.groupby('username')['username'].count()"
   ]
  },
  {
   "cell_type": "code",
   "execution_count": 12,
   "metadata": {},
   "outputs": [
    {
     "data": {
      "text/plain": [
       "count    20.000000\n",
       "mean      5.400000\n",
       "std      13.476686\n",
       "min       1.000000\n",
       "25%       1.000000\n",
       "50%       1.500000\n",
       "75%       3.500000\n",
       "max      62.000000\n",
       "Name: username, dtype: float64"
      ]
     },
     "execution_count": 12,
     "metadata": {},
     "output_type": "execute_result"
    }
   ],
   "source": [
    "edits_per_user.describe()"
   ]
  },
  {
   "cell_type": "markdown",
   "metadata": {},
   "source": [
    "# Spain"
   ]
  },
  {
   "cell_type": "code",
   "execution_count": 13,
   "metadata": {},
   "outputs": [
    {
     "name": "stdout",
     "output_type": "stream",
     "text": [
      "No of Edits\n",
      "130\n",
      "No of Users\n",
      "37\n"
     ]
    }
   ],
   "source": [
    "print('No of Edits')\n",
    "print(spain['editscount'].iloc[0])\n",
    "print('No of Users')\n",
    "print(spain['username'].nunique())"
   ]
  },
  {
   "cell_type": "code",
   "execution_count": 14,
   "metadata": {},
   "outputs": [
    {
     "data": {
      "text/plain": [
       "usertype\n",
       "Anonymous     25\n",
       "Bot           10\n",
       "Registered    95\n",
       "Name: usertype, dtype: int64"
      ]
     },
     "execution_count": 14,
     "metadata": {},
     "output_type": "execute_result"
    }
   ],
   "source": [
    "spain.groupby('usertype')['usertype'].count()"
   ]
  },
  {
   "cell_type": "code",
   "execution_count": 15,
   "metadata": {},
   "outputs": [],
   "source": [
    "edits_per_user = spain.groupby('username')['username'].count()"
   ]
  },
  {
   "cell_type": "code",
   "execution_count": 16,
   "metadata": {},
   "outputs": [
    {
     "data": {
      "text/plain": [
       "count    37.000000\n",
       "mean      3.513514\n",
       "std       4.879786\n",
       "min       1.000000\n",
       "25%       1.000000\n",
       "50%       2.000000\n",
       "75%       4.000000\n",
       "max      25.000000\n",
       "Name: username, dtype: float64"
      ]
     },
     "execution_count": 16,
     "metadata": {},
     "output_type": "execute_result"
    }
   ],
   "source": [
    "edits_per_user.describe()"
   ]
  },
  {
   "cell_type": "markdown",
   "metadata": {},
   "source": [
    "# Ruggero Pasquarelli"
   ]
  },
  {
   "cell_type": "code",
   "execution_count": 17,
   "metadata": {},
   "outputs": [
    {
     "name": "stdout",
     "output_type": "stream",
     "text": [
      "No of Edits\n",
      "100\n",
      "No of Users\n",
      "10\n"
     ]
    }
   ],
   "source": [
    "print('No of Edits')\n",
    "print(ruggero_Pasquarelli['editscount'].iloc[0])\n",
    "print('No of Users')\n",
    "print(ruggero_Pasquarelli['username'].nunique())"
   ]
  },
  {
   "cell_type": "code",
   "execution_count": 18,
   "metadata": {},
   "outputs": [
    {
     "data": {
      "text/plain": [
       "usertype\n",
       "Anonymous     66\n",
       "Bot            1\n",
       "Registered    33\n",
       "Name: usertype, dtype: int64"
      ]
     },
     "execution_count": 18,
     "metadata": {},
     "output_type": "execute_result"
    }
   ],
   "source": [
    "ruggero_Pasquarelli.groupby('usertype')['usertype'].count()"
   ]
  },
  {
   "cell_type": "code",
   "execution_count": 19,
   "metadata": {},
   "outputs": [],
   "source": [
    "edits_per_user = ruggero_Pasquarelli.groupby('username')['username'].count()"
   ]
  },
  {
   "cell_type": "code",
   "execution_count": 20,
   "metadata": {},
   "outputs": [
    {
     "data": {
      "text/plain": [
       "count    10.000000\n",
       "mean     10.000000\n",
       "std      20.319668\n",
       "min       1.000000\n",
       "25%       2.000000\n",
       "50%       2.000000\n",
       "75%       3.000000\n",
       "max      66.000000\n",
       "Name: username, dtype: float64"
      ]
     },
     "execution_count": 20,
     "metadata": {},
     "output_type": "execute_result"
    }
   ],
   "source": [
    "edits_per_user.describe()"
   ]
  },
  {
   "cell_type": "markdown",
   "metadata": {},
   "source": [
    "# Hillary Clinton"
   ]
  },
  {
   "cell_type": "code",
   "execution_count": 22,
   "metadata": {},
   "outputs": [
    {
     "name": "stdout",
     "output_type": "stream",
     "text": [
      "No of Edits\n",
      "199\n",
      "No of Users\n",
      "52\n"
     ]
    }
   ],
   "source": [
    "print('No of Edits')\n",
    "print(hillary_clinton['editscount'].iloc[0])\n",
    "print('No of Users')\n",
    "print(hillary_clinton['username'].nunique())"
   ]
  },
  {
   "cell_type": "code",
   "execution_count": 23,
   "metadata": {},
   "outputs": [
    {
     "data": {
      "text/plain": [
       "usertype\n",
       "Anonymous      37\n",
       "Bot            10\n",
       "Registered    152\n",
       "Name: usertype, dtype: int64"
      ]
     },
     "execution_count": 23,
     "metadata": {},
     "output_type": "execute_result"
    }
   ],
   "source": [
    "hillary_clinton.groupby('usertype')['usertype'].count()"
   ]
  },
  {
   "cell_type": "code",
   "execution_count": 24,
   "metadata": {},
   "outputs": [],
   "source": [
    "edits_per_user = hillary_clinton.groupby('username')['username'].count()"
   ]
  },
  {
   "cell_type": "code",
   "execution_count": 25,
   "metadata": {},
   "outputs": [
    {
     "data": {
      "text/plain": [
       "count    52.000000\n",
       "mean      3.826923\n",
       "std       7.511354\n",
       "min       1.000000\n",
       "25%       1.000000\n",
       "50%       1.000000\n",
       "75%       2.250000\n",
       "max      39.000000\n",
       "Name: username, dtype: float64"
      ]
     },
     "execution_count": 25,
     "metadata": {},
     "output_type": "execute_result"
    }
   ],
   "source": [
    "edits_per_user.describe()"
   ]
  },
  {
   "cell_type": "markdown",
   "metadata": {},
   "source": [
    "# Fidel Castro"
   ]
  },
  {
   "cell_type": "code",
   "execution_count": 26,
   "metadata": {},
   "outputs": [
    {
     "name": "stdout",
     "output_type": "stream",
     "text": [
      "No of Edits\n",
      "164\n",
      "No of Users\n",
      "51\n"
     ]
    }
   ],
   "source": [
    "print('No of Edits')\n",
    "print(fidel_castro['editscount'].iloc[0])\n",
    "print('No of Users')\n",
    "print(fidel_castro['username'].nunique())"
   ]
  },
  {
   "cell_type": "code",
   "execution_count": 27,
   "metadata": {},
   "outputs": [
    {
     "data": {
      "text/plain": [
       "usertype\n",
       "Anonymous     67\n",
       "Bot            8\n",
       "Registered    89\n",
       "Name: usertype, dtype: int64"
      ]
     },
     "execution_count": 27,
     "metadata": {},
     "output_type": "execute_result"
    }
   ],
   "source": [
    "fidel_castro.groupby('usertype')['usertype'].count()"
   ]
  },
  {
   "cell_type": "code",
   "execution_count": 28,
   "metadata": {},
   "outputs": [],
   "source": [
    "edits_per_user = fidel_castro.groupby('username')['username'].count()"
   ]
  },
  {
   "cell_type": "code",
   "execution_count": 29,
   "metadata": {},
   "outputs": [
    {
     "data": {
      "text/plain": [
       "count    51.000000\n",
       "mean      3.215686\n",
       "std       9.291531\n",
       "min       1.000000\n",
       "25%       1.000000\n",
       "50%       1.000000\n",
       "75%       2.000000\n",
       "max      67.000000\n",
       "Name: username, dtype: float64"
      ]
     },
     "execution_count": 29,
     "metadata": {},
     "output_type": "execute_result"
    }
   ],
   "source": [
    "edits_per_user.describe()"
   ]
  },
  {
   "cell_type": "code",
   "execution_count": 37,
   "metadata": {},
   "outputs": [],
   "source": [
    "# Additional - Attempt at using timestamp to analyse\n",
    "# Highest Number of Edits for Donald Trump was on 9th November, 2016\n",
    "# Day of 2016 US Election Result"
   ]
  },
  {
   "cell_type": "code",
   "execution_count": 31,
   "metadata": {},
   "outputs": [],
   "source": [
    "donald_trump['timestamp'] = pd.to_datetime(donald_trump.timestamp, format='%Y-%m-%d %H:%M:%S')"
   ]
  },
  {
   "cell_type": "code",
   "execution_count": 33,
   "metadata": {},
   "outputs": [],
   "source": [
    "donald_trump['day/month'] = donald_trump['timestamp'].apply(lambda x: \"%d/%d\" % (x.day, x.month))"
   ]
  },
  {
   "cell_type": "code",
   "execution_count": 34,
   "metadata": {},
   "outputs": [],
   "source": [
    "edits_by_days = donald_trump.groupby(['day/month']).size()"
   ]
  },
  {
   "cell_type": "code",
   "execution_count": 35,
   "metadata": {},
   "outputs": [
    {
     "data": {
      "text/plain": [
       "<bound method NDFrame.head of day/month\n",
       "1/11       6\n",
       "1/12       3\n",
       "10/11     19\n",
       "11/10      1\n",
       "11/11     12\n",
       "11/12      2\n",
       "12/11     23\n",
       "13/11      6\n",
       "13/12      5\n",
       "14/10      4\n",
       "14/11     13\n",
       "15/11     17\n",
       "16/10      1\n",
       "16/11      6\n",
       "17/10      9\n",
       "17/11      4\n",
       "17/12      1\n",
       "18/11      2\n",
       "19/10      2\n",
       "19/11      1\n",
       "2/10       1\n",
       "2/11       3\n",
       "20/10      1\n",
       "20/11      6\n",
       "21/11      5\n",
       "22/10      1\n",
       "22/11      2\n",
       "23/10      1\n",
       "23/11      1\n",
       "23/12      3\n",
       "24/10      1\n",
       "24/11      1\n",
       "24/12      1\n",
       "25/11      3\n",
       "26/11      1\n",
       "27/12      1\n",
       "29/10      1\n",
       "29/12     25\n",
       "3/10       1\n",
       "3/11       1\n",
       "3/12       2\n",
       "4/10       4\n",
       "4/12       1\n",
       "5/10       2\n",
       "5/11       2\n",
       "6/11       1\n",
       "7/11      16\n",
       "7/12       5\n",
       "8/11      54\n",
       "9/10      11\n",
       "9/11     161\n",
       "dtype: int64>"
      ]
     },
     "execution_count": 35,
     "metadata": {},
     "output_type": "execute_result"
    }
   ],
   "source": [
    "edits_by_days.head"
   ]
  }
 ],
 "metadata": {
  "kernelspec": {
   "display_name": "Python 3",
   "language": "python",
   "name": "python3"
  },
  "language_info": {
   "codemirror_mode": {
    "name": "ipython",
    "version": 3
   },
   "file_extension": ".py",
   "mimetype": "text/x-python",
   "name": "python",
   "nbconvert_exporter": "python",
   "pygments_lexer": "ipython3",
   "version": "3.8.3"
  }
 },
 "nbformat": 4,
 "nbformat_minor": 4
}
