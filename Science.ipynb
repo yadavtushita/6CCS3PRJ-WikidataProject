{
 "cells": [
  {
   "cell_type": "markdown",
   "metadata": {},
   "source": [
    "# Science\n",
    "\n",
    "- Data Cleaning\n",
    "- Data Visualisation\n",
    "- Data Analysis"
   ]
  },
  {
   "cell_type": "code",
   "execution_count": 1,
   "metadata": {},
   "outputs": [],
   "source": [
    "import pandas as pd\n",
    "import matplotlib.pyplot as plt\n",
    "import numpy as np\n",
    "import seaborn as sns\n",
    "import time\n",
    "from datetime import datetime\n",
    "from datetime import timezone\n",
    "from SPARQLWrapper import SPARQLWrapper, JSON\n",
    "\n",
    "%matplotlib inline"
   ]
  },
  {
   "cell_type": "code",
   "execution_count": 2,
   "metadata": {},
   "outputs": [],
   "source": [
    "# Reading the data from science revisions\n",
    "# Contains the revisions for all the selected items\n",
    "revisions = pd.read_csv('/Users/tushi/PRJ/WikidataParsing/topics/data_with_revisions/science_revisions.csv')\n",
    "items = pd.read_csv('/Users/tushi/PRJ/WikidataParsing/topics/data/science.csv')"
   ]
  },
  {
   "cell_type": "code",
   "execution_count": 3,
   "metadata": {},
   "outputs": [
    {
     "name": "stdout",
     "output_type": "stream",
     "text": [
      "Number of Revisions in Science Dataset\n",
      "(44128, 12)\n",
      "Number of Wikidata Items in Science Dataset\n",
      "(14731, 3)\n"
     ]
    }
   ],
   "source": [
    "print(\"Number of Revisions in Science Dataset\")\n",
    "print(revisions.shape)\n",
    "print(\"Number of Wikidata Items in Science Dataset\")\n",
    "print(items.shape)"
   ]
  },
  {
   "cell_type": "markdown",
   "metadata": {},
   "source": [
    "# Data Cleaning\n",
    "\n",
    "- Drop uneccessary columns\n",
    "- Assign types for all edits\n",
    "- Assign user types for all edits\n",
    "- Remove rows with empty comments - better to remove after calculating the types in case there are some edge cases which have not been discovered\n",
    "- Convert timestamps to datetime objects\n",
    "- (Remove items that contain only bot edits)\n",
    "- Remove items with editcounts < (If removing rows with empty comments will need to recalculate the edit count and merge with dataset)"
   ]
  },
  {
   "cell_type": "code",
   "execution_count": 4,
   "metadata": {},
   "outputs": [],
   "source": [
    "# Dropping unecessary columns from the revisions dataframe\n",
    "rev = revisions.drop(['pageid', 'type', 'editentity', 'parentid'], axis=1)"
   ]
  },
  {
   "cell_type": "code",
   "execution_count": 5,
   "metadata": {},
   "outputs": [],
   "source": [
    "# Method to assign edit types to each revision by using the comment\n",
    "def get_edit_type(comment):\n",
    "    # Decoding the comment from a bytes object to a string\n",
    "    # Converting the comment to lowercase\n",
    "    # c = comment.decode(\"utf-8\").lower()\n",
    "    c = comment.lower()\n",
    "    # print(c)\n",
    "    editType = '' \n",
    "    \n",
    "    if c == '':\n",
    "        return editType\n",
    "    \n",
    "    if \"|\" in c:\n",
    "        # Comments which have |\n",
    "        cc = c.split(\"|\")[0].replace(\"/* \", \"\")\n",
    "        if 'undo' in cc:\n",
    "            editType = 'undo'\n",
    "            return editType\n",
    "        elif 'restore' in cc:\n",
    "            editType = 'restore'\n",
    "            return editType\n",
    "        elif 'wbsetclaimvalue' in cc:\n",
    "            editType = 'set'\n",
    "            return editType\n",
    "        elif 'wbsetlabeldescriptionaliases' in cc:\n",
    "            editType = 'set'\n",
    "            return editType\n",
    "        elif 'wbcreateredirect' in cc:\n",
    "            editType = 'create'\n",
    "            return editType\n",
    "        elif 'merge' in cc:\n",
    "            editType = 'merge'\n",
    "            return editType\n",
    "        elif '-' in cc:\n",
    "            ccc = cc.split(\"-\")[1]\n",
    "            if 'create' in ccc:\n",
    "                editType = 'create'\n",
    "                return editType\n",
    "            elif 'add' in ccc:\n",
    "                editType = 'add'\n",
    "                return editType\n",
    "            elif 'set' in ccc:\n",
    "                editType = 'set'\n",
    "                return editType\n",
    "            elif 'update' in ccc:\n",
    "                editType = 'update'\n",
    "                return editType\n",
    "            elif 'remove' in ccc:\n",
    "                editType = 'remove'\n",
    "                return editType\n",
    "    if 'revert' in c: \n",
    "        editType = 'revert'\n",
    "        return editType  \n",
    "    elif 'protect' in c:\n",
    "        editType = 'protect'\n",
    "        return editType  \n",
    "    elif 'undid' in c:\n",
    "        editType = 'undo'\n",
    "        return editType      \n",
    "    return editType\n",
    "        "
   ]
  },
  {
   "cell_type": "code",
   "execution_count": 6,
   "metadata": {},
   "outputs": [],
   "source": [
    "# Assigning edit types to each revision\n",
    "rev['type'] = [get_edit_type(comment) for comment in rev['comment']]"
   ]
  },
  {
   "cell_type": "code",
   "execution_count": 7,
   "metadata": {},
   "outputs": [
    {
     "data": {
      "text/plain": [
       "(44128, 9)"
      ]
     },
     "execution_count": 7,
     "metadata": {},
     "output_type": "execute_result"
    }
   ],
   "source": [
    "rev.shape"
   ]
  },
  {
   "cell_type": "code",
   "execution_count": 8,
   "metadata": {},
   "outputs": [],
   "source": [
    "# Removing revisions with empty types \n",
    "# Removing revisions that either had an empty comment or or an edge case\n",
    "to_remove = rev[rev['type'] == ''].index\n",
    "rev = rev.drop(to_remove)"
   ]
  },
  {
   "cell_type": "code",
   "execution_count": 9,
   "metadata": {},
   "outputs": [],
   "source": [
    "# Reading csv with bot names scraped from Wikidata\n",
    "bots = pd.read_csv('/Users/tushi/PRJ/WikidataParsing/wikidata_bots.csv')"
   ]
  },
  {
   "cell_type": "code",
   "execution_count": 10,
   "metadata": {},
   "outputs": [],
   "source": [
    "# Method to assign user types to revisions\n",
    "# 3 types: Registered, Anonymous, Bot\n",
    "def get_user_type(user):\n",
    "    \n",
    "    u = user[1:].replace(\"'\", \"\")\n",
    "    \n",
    "    userType = ''\n",
    "    \n",
    "    if u == \"\":\n",
    "        userType = 'Anonymous'\n",
    "        return userType\n",
    "    elif u in bots.values:\n",
    "        userType = 'Bot'\n",
    "        return userType\n",
    "    else: \n",
    "        userType = 'Registered'\n",
    "        return userType\n",
    "    return userType\n",
    "    "
   ]
  },
  {
   "cell_type": "code",
   "execution_count": 11,
   "metadata": {},
   "outputs": [],
   "source": [
    "# Assigning user types to revisions\n",
    "rev['usertype'] = [get_user_type(user) for user in rev['username']]"
   ]
  },
  {
   "cell_type": "code",
   "execution_count": 12,
   "metadata": {},
   "outputs": [],
   "source": [
    "# Need to recalculate editcount for the items\n",
    "# Drop old editcount column\n",
    "rev = rev.drop(['editscount'], axis=1)"
   ]
  },
  {
   "cell_type": "code",
   "execution_count": 13,
   "metadata": {},
   "outputs": [],
   "source": [
    "editscount = rev['qid'].value_counts()"
   ]
  },
  {
   "cell_type": "code",
   "execution_count": 14,
   "metadata": {},
   "outputs": [
    {
     "data": {
      "text/plain": [
       "count    14672.000000\n",
       "mean         2.988481\n",
       "std          4.477704\n",
       "min          1.000000\n",
       "25%          1.000000\n",
       "50%          1.000000\n",
       "75%          3.000000\n",
       "max        131.000000\n",
       "Name: qid, dtype: float64"
      ]
     },
     "execution_count": 14,
     "metadata": {},
     "output_type": "execute_result"
    }
   ],
   "source": [
    "editscount.describe()"
   ]
  },
  {
   "cell_type": "markdown",
   "metadata": {},
   "source": [
    "Removing edits <= 5 will remove more than 75% of the dataset\n",
    "Max number of edits is also not very high as compared to the previously seen topics"
   ]
  },
  {
   "cell_type": "code",
   "execution_count": 15,
   "metadata": {},
   "outputs": [],
   "source": [
    "# Converting to a dataframe so that it can be compared/merged with original dataframe\n",
    "df_editscount = pd.DataFrame({'qid':editscount.index, 'editscount':editscount.values})"
   ]
  },
  {
   "cell_type": "code",
   "execution_count": 16,
   "metadata": {},
   "outputs": [
    {
     "name": "stdout",
     "output_type": "stream",
     "text": [
      "Items with No of Edits = 1\n",
      "7856\n",
      "Items with No of Edits = 2\n",
      "1871\n",
      "Items with No of Edits = 3\n",
      "1622\n",
      "Items with No of Edits = 4\n",
      "733\n",
      "Items with No of Edits = 5\n",
      "589\n",
      "Items with No of Edits <= 5\n",
      "12671\n"
     ]
    }
   ],
   "source": [
    "print('Items with No of Edits = 1')\n",
    "print(len(df_editscount[df_editscount['editscount'] == 1]))\n",
    "\n",
    "print('Items with No of Edits = 2')\n",
    "print(len(df_editscount[df_editscount['editscount'] == 2]))\n",
    "\n",
    "print('Items with No of Edits = 3')\n",
    "print(len(df_editscount[df_editscount['editscount'] == 3]))\n",
    "\n",
    "print('Items with No of Edits = 4')\n",
    "print(len(df_editscount[df_editscount['editscount'] == 4]))\n",
    "\n",
    "print('Items with No of Edits = 5')\n",
    "print(len(df_editscount[df_editscount['editscount'] == 5]))\n",
    "\n",
    "print('Items with No of Edits <= 5')\n",
    "print(len(df_editscount[df_editscount['editscount'] <= 5]))"
   ]
  },
  {
   "cell_type": "code",
   "execution_count": 17,
   "metadata": {},
   "outputs": [],
   "source": [
    "# Removing items with editscount <= 5 \n",
    "to_remove = df_editscount[df_editscount['editscount'] <= 5].index\n",
    "df_editscount = df_editscount.drop(to_remove)"
   ]
  },
  {
   "cell_type": "code",
   "execution_count": 18,
   "metadata": {},
   "outputs": [
    {
     "data": {
      "text/plain": [
       "(2001, 2)"
      ]
     },
     "execution_count": 18,
     "metadata": {},
     "output_type": "execute_result"
    }
   ],
   "source": [
    "df_editscount.shape"
   ]
  },
  {
   "cell_type": "code",
   "execution_count": 20,
   "metadata": {},
   "outputs": [],
   "source": [
    "# Removing all items with editscount <= 5 from revisions dataset\n",
    "# Removing by finding intersection on qid between bot sets\n",
    "rev = pd.merge(rev, df_editscount, how='inner', on=['qid'])"
   ]
  },
  {
   "cell_type": "code",
   "execution_count": 21,
   "metadata": {},
   "outputs": [],
   "source": [
    "# Converting the timestamps to datetime object\n",
    "rev['timestamp'] = pd.to_datetime(rev.timestamp, format='%Y-%m-%d %H:%M:%S')\n",
    "\n",
    "# Converting to datetime leaves the dates in form '2016-10-12 14:37:53+00:00'\n",
    "# Formatting timestamp to remove +00:00\n",
    "rev['timestamp'] = rev['timestamp'].dt.strftime('%Y-%m-%d %H:%M:%S')\n",
    "\n",
    "# strftime() returns a string object\n",
    "# Converting back to datetime\n",
    "rev['timestamp'] = pd.to_datetime(rev.timestamp, format='%Y-%m-%d %H:%M:%S')"
   ]
  },
  {
   "cell_type": "code",
   "execution_count": 22,
   "metadata": {},
   "outputs": [
    {
     "data": {
      "text/plain": [
       "Unnamed: 0             int64\n",
       "qid                   object\n",
       "revisionid           float64\n",
       "timestamp     datetime64[ns]\n",
       "comment               object\n",
       "userid               float64\n",
       "username              object\n",
       "type                  object\n",
       "usertype              object\n",
       "editscount             int64\n",
       "dtype: object"
      ]
     },
     "execution_count": 22,
     "metadata": {},
     "output_type": "execute_result"
    }
   ],
   "source": [
    "rev.dtypes"
   ]
  },
  {
   "cell_type": "code",
   "execution_count": 23,
   "metadata": {},
   "outputs": [],
   "source": [
    "# Sparql Query to get labels using Qids\n",
    "def get_item_label(qid):\n",
    "    try:        \n",
    "        # Specifying the Wikidata SPARQL endpoint\n",
    "        sparql = SPARQLWrapper(\"https://query.wikidata.org/sparql\")\n",
    "        \n",
    "        # Query to access the label for the wikidata item\n",
    "        sparql.setQuery('PREFIX rdfs: <http://www.w3.org/2000/01/rdf-schema#> SELECT ?label WHERE {wd:' + qid + ' rdfs:label ?label . SERVICE wikibase:label { bd:serviceParam wikibase:language \"en\". } } LIMIT 1')\n",
    "        \n",
    "        # Converting result to JSON format\n",
    "        sparql.setReturnFormat(JSON)\n",
    "        result = sparql.query().convert()\n",
    "        \n",
    "        # result is in the form of \"bindings\" which are a list of dictionaries\n",
    "        # Accessing the value of the label \n",
    "        itemLabel = result[\"results\"][\"bindings\"][0][\"label\"][\"value\"]\n",
    "        \n",
    "        return itemLabel\n",
    "    except Exception as ex:\n",
    "        print(ex)\n",
    "        return('')"
   ]
  },
  {
   "cell_type": "code",
   "execution_count": 24,
   "metadata": {},
   "outputs": [
    {
     "name": "stdout",
     "output_type": "stream",
     "text": [
      "         qid  editscount\n",
      "0  Q25706608         131\n",
      "1        Q52         126\n",
      "2   Q1276073         105\n",
      "3    Q207902         101\n",
      "4     Q39286          76\n",
      "Wikipedia\n"
     ]
    }
   ],
   "source": [
    "print(df_editscount.head())\n",
    "# Discovered item about wikipedia\n",
    "print(get_item_label('Q52'))"
   ]
  },
  {
   "cell_type": "code",
   "execution_count": 25,
   "metadata": {},
   "outputs": [],
   "source": [
    "# Removing wikipedia item from editscount and rev\n",
    "to_remove = df_editscount[df_editscount['qid'] == 'Q52'].index\n",
    "df_editscount = df_editscount.drop(to_remove)\n",
    "# Removing item from dataset of revisions\n",
    "to_remove_from_rev = rev[rev['qid'] == 'Q52'].index\n",
    "rev = rev.drop(to_remove_from_rev)"
   ]
  },
  {
   "cell_type": "code",
   "execution_count": 26,
   "metadata": {},
   "outputs": [
    {
     "name": "stdout",
     "output_type": "stream",
     "text": [
      "         qid  editscount\n",
      "0  Q25706608         131\n",
      "2   Q1276073         105\n",
      "3    Q207902         101\n",
      "4     Q39286          76\n",
      "5     Q14116          73\n",
      "Empty DataFrame\n",
      "Columns: [Unnamed: 0, qid, revisionid, timestamp, comment, userid, username, type, usertype, editscount]\n",
      "Index: []\n"
     ]
    }
   ],
   "source": [
    "print(df_editscount.head())\n",
    "print(rev[rev['qid'] == 'Q52'])"
   ]
  },
  {
   "cell_type": "markdown",
   "metadata": {},
   "source": [
    "# Descriptive Statistics"
   ]
  },
  {
   "cell_type": "code",
   "execution_count": 27,
   "metadata": {},
   "outputs": [
    {
     "data": {
      "text/plain": [
       "count    21380\n",
       "mean        16\n",
       "std         16\n",
       "min          6\n",
       "25%          8\n",
       "50%         10\n",
       "75%         20\n",
       "max        131\n",
       "Name: editscount, dtype: int32"
      ]
     },
     "execution_count": 27,
     "metadata": {},
     "output_type": "execute_result"
    }
   ],
   "source": [
    "rev['editscount'].describe().astype(int)"
   ]
  },
  {
   "cell_type": "code",
   "execution_count": 28,
   "metadata": {},
   "outputs": [
    {
     "data": {
      "text/plain": [
       "count      21380\n",
       "unique        10\n",
       "top       create\n",
       "freq       10026\n",
       "Name: type, dtype: object"
      ]
     },
     "execution_count": 28,
     "metadata": {},
     "output_type": "execute_result"
    }
   ],
   "source": [
    "rev['type'].describe()"
   ]
  },
  {
   "cell_type": "code",
   "execution_count": 29,
   "metadata": {},
   "outputs": [],
   "source": [
    "science_items = rev['qid'].value_counts()"
   ]
  },
  {
   "cell_type": "code",
   "execution_count": 30,
   "metadata": {},
   "outputs": [],
   "source": [
    "# converting a series to a dataframe\n",
    "s_items = pd.DataFrame({'type':science_items.index, 'count':science_items.values})"
   ]
  },
  {
   "cell_type": "code",
   "execution_count": 31,
   "metadata": {},
   "outputs": [
    {
     "data": {
      "text/html": [
       "<div>\n",
       "<style scoped>\n",
       "    .dataframe tbody tr th:only-of-type {\n",
       "        vertical-align: middle;\n",
       "    }\n",
       "\n",
       "    .dataframe tbody tr th {\n",
       "        vertical-align: top;\n",
       "    }\n",
       "\n",
       "    .dataframe thead th {\n",
       "        text-align: right;\n",
       "    }\n",
       "</style>\n",
       "<table border=\"1\" class=\"dataframe\">\n",
       "  <thead>\n",
       "    <tr style=\"text-align: right;\">\n",
       "      <th></th>\n",
       "      <th>type</th>\n",
       "      <th>count</th>\n",
       "    </tr>\n",
       "  </thead>\n",
       "  <tbody>\n",
       "    <tr>\n",
       "      <th>159</th>\n",
       "      <td>Q27702608</td>\n",
       "      <td>20</td>\n",
       "    </tr>\n",
       "    <tr>\n",
       "      <th>160</th>\n",
       "      <td>Q27732576</td>\n",
       "      <td>20</td>\n",
       "    </tr>\n",
       "    <tr>\n",
       "      <th>161</th>\n",
       "      <td>Q27868404</td>\n",
       "      <td>20</td>\n",
       "    </tr>\n",
       "    <tr>\n",
       "      <th>162</th>\n",
       "      <td>Q27225795</td>\n",
       "      <td>20</td>\n",
       "    </tr>\n",
       "    <tr>\n",
       "      <th>163</th>\n",
       "      <td>Q27145269</td>\n",
       "      <td>20</td>\n",
       "    </tr>\n",
       "    <tr>\n",
       "      <th>...</th>\n",
       "      <td>...</td>\n",
       "      <td>...</td>\n",
       "    </tr>\n",
       "    <tr>\n",
       "      <th>756</th>\n",
       "      <td>Q27866059</td>\n",
       "      <td>10</td>\n",
       "    </tr>\n",
       "    <tr>\n",
       "      <th>757</th>\n",
       "      <td>Q420705</td>\n",
       "      <td>10</td>\n",
       "    </tr>\n",
       "    <tr>\n",
       "      <th>758</th>\n",
       "      <td>Q27792616</td>\n",
       "      <td>10</td>\n",
       "    </tr>\n",
       "    <tr>\n",
       "      <th>759</th>\n",
       "      <td>Q3647640</td>\n",
       "      <td>10</td>\n",
       "    </tr>\n",
       "    <tr>\n",
       "      <th>760</th>\n",
       "      <td>Q7114715</td>\n",
       "      <td>10</td>\n",
       "    </tr>\n",
       "  </tbody>\n",
       "</table>\n",
       "<p>602 rows × 2 columns</p>\n",
       "</div>"
      ],
      "text/plain": [
       "          type  count\n",
       "159  Q27702608     20\n",
       "160  Q27732576     20\n",
       "161  Q27868404     20\n",
       "162  Q27225795     20\n",
       "163  Q27145269     20\n",
       "..         ...    ...\n",
       "756  Q27866059     10\n",
       "757    Q420705     10\n",
       "758  Q27792616     10\n",
       "759   Q3647640     10\n",
       "760   Q7114715     10\n",
       "\n",
       "[602 rows x 2 columns]"
      ]
     },
     "execution_count": 31,
     "metadata": {},
     "output_type": "execute_result"
    }
   ],
   "source": [
    "# Items between the median and 75th percentile\n",
    "s_items[(s_items['count'] >= 10) & (s_items['count'] <= 20)]"
   ]
  },
  {
   "cell_type": "markdown",
   "metadata": {},
   "source": [
    "# Statistics for Proxies"
   ]
  },
  {
   "cell_type": "code",
   "execution_count": 32,
   "metadata": {},
   "outputs": [],
   "source": [
    "# Counting the value of the number of proxies that exist in the dataset\n",
    "type_stats = rev['type'].value_counts()"
   ]
  },
  {
   "cell_type": "code",
   "execution_count": 33,
   "metadata": {},
   "outputs": [
    {
     "name": "stdout",
     "output_type": "stream",
     "text": [
      "         count\n",
      "type          \n",
      "create   10026\n",
      "add       6544\n",
      "update    2588\n",
      "set       1198\n",
      "remove     822\n",
      "revert      74\n",
      "merge       55\n",
      "undo        43\n",
      "restore     29\n",
      "protect      1\n"
     ]
    }
   ],
   "source": [
    "# Converting a series to a Dataframe\n",
    "type_s = pd.DataFrame({'type':type_stats.index, 'count':type_stats.values})\n",
    "ts = type_s.set_index('type')\n",
    "print(ts)"
   ]
  },
  {
   "cell_type": "code",
   "execution_count": 34,
   "metadata": {},
   "outputs": [
    {
     "data": {
      "image/png": "[encoded data removed]",
      "text/plain": [
       "<Figure size 432x288 with 1 Axes>"
      ]
     },
     "metadata": {
      "needs_background": "light"
     },
     "output_type": "display_data"
    }
   ],
   "source": [
    "# Plotting the statistics for the proxies/types of edits in the data\n",
    "ax = ts.plot.bar()\n",
    "\n",
    "plt.title('Types of Edits')\n",
    "plt.xlabel('Number of Edits')\n",
    "plt.ylabel('Types')\n",
    "\n",
    "plt.xticks(rotation=45)\n",
    "\n",
    "plt.show()"
   ]
  },
  {
   "cell_type": "code",
   "execution_count": 36,
   "metadata": {},
   "outputs": [],
   "source": [
    "# Extracting select proxies: remove, restore, revert, merge, undo, protect\n",
    "controversial_proxies = ts.iloc[[4, 5, 6, 7, 8, 9]]\n",
    "# print(controversial_proxies)"
   ]
  },
  {
   "cell_type": "code",
   "execution_count": 37,
   "metadata": {},
   "outputs": [
    {
     "data": {
      "image/png": "[encoded data removed]",
      "text/plain": [
       "<Figure size 432x288 with 1 Axes>"
      ]
     },
     "metadata": {
      "needs_background": "light"
     },
     "output_type": "display_data"
    }
   ],
   "source": [
    "# Plotting select proxies\n",
    "ax = controversial_proxies.plot.bar()\n",
    "\n",
    "plt.title('Types of Edits')\n",
    "plt.xlabel('Number of Edits')\n",
    "plt.ylabel('Types')\n",
    "\n",
    "plt.xticks(rotation=45)\n",
    "\n",
    "# ax.invert_yaxis()\n",
    "\n",
    "plt.show()"
   ]
  },
  {
   "cell_type": "code",
   "execution_count": 38,
   "metadata": {},
   "outputs": [
    {
     "name": "stdout",
     "output_type": "stream",
     "text": [
      "         count\n",
      "type          \n",
      "revert      74\n",
      "merge       55\n",
      "undo        43\n",
      "restore     29\n",
      "protect      1\n"
     ]
    }
   ],
   "source": [
    "# Extracting select proxies: restore, revert, merge, undo, protect\n",
    "controversial_proxies_without_remove = ts.iloc[[5, 6, 7, 8, 9]]\n",
    "print(controversial_proxies_without_remove)"
   ]
  },
  {
   "cell_type": "code",
   "execution_count": 39,
   "metadata": {},
   "outputs": [
    {
     "data": {
      "image/png": "[encoded data removed]",
      "text/plain": [
       "<Figure size 432x288 with 1 Axes>"
      ]
     },
     "metadata": {
      "needs_background": "light"
     },
     "output_type": "display_data"
    }
   ],
   "source": [
    "# Plotting select proxies without remove\n",
    "ax = controversial_proxies_without_remove.plot.bar()\n",
    "\n",
    "plt.title('Types of Edits')\n",
    "plt.xlabel('Number of Edits')\n",
    "plt.ylabel('Types')\n",
    "\n",
    "plt.xticks(rotation=45)\n",
    "\n",
    "# ax.invert_yaxis()\n",
    "\n",
    "plt.show()"
   ]
  },
  {
   "cell_type": "markdown",
   "metadata": {},
   "source": [
    "# Statistics for No of Edits"
   ]
  },
  {
   "cell_type": "code",
   "execution_count": 40,
   "metadata": {},
   "outputs": [],
   "source": [
    "no_of_edits = science_items.to_numpy()"
   ]
  },
  {
   "cell_type": "code",
   "execution_count": 41,
   "metadata": {},
   "outputs": [
    {
     "data": {
      "image/png": "[encoded data removed]",
      "text/plain": [
       "<Figure size 432x288 with 1 Axes>"
      ]
     },
     "metadata": {
      "needs_background": "light"
     },
     "output_type": "display_data"
    }
   ],
   "source": [
    "# Plotting No of Edits for the Items in the dataset \n",
    "# Line Plot\n",
    "\n",
    "plt.plot(no_of_edits)\n",
    "\n",
    "plt.title(\"No of Edits vs No of Items\")\n",
    "plt.xlabel(\"Number of Items\")\n",
    "plt.ylabel(\"No of Edits\")\n",
    "\n",
    "plt.show()"
   ]
  },
  {
   "cell_type": "code",
   "execution_count": 42,
   "metadata": {},
   "outputs": [],
   "source": [
    "# the ranges on this plot are very small compared to those seen previously"
   ]
  },
  {
   "cell_type": "code",
   "execution_count": 43,
   "metadata": {},
   "outputs": [],
   "source": [
    "# top 25% of the dataset"
   ]
  },
  {
   "cell_type": "markdown",
   "metadata": {},
   "source": [
    "# Grouping by Proxies"
   ]
  },
  {
   "cell_type": "code",
   "execution_count": 44,
   "metadata": {},
   "outputs": [],
   "source": [
    "reverts = rev[\"type\"].str.contains(\"revert\")\n",
    "revert_edits = reverts.groupby(rev[\"qid\"], sort=False).sum().astype(np.uintc)"
   ]
  },
  {
   "cell_type": "code",
   "execution_count": 45,
   "metadata": {},
   "outputs": [],
   "source": [
    "merges = rev[\"type\"].str.contains(\"merge\")\n",
    "merge_edits = merges.groupby(rev[\"qid\"], sort=False).sum().astype(np.uintc)"
   ]
  },
  {
   "cell_type": "code",
   "execution_count": 46,
   "metadata": {},
   "outputs": [],
   "source": [
    "undos = rev[\"type\"].str.contains(\"undo\")\n",
    "undo_edits = undos.groupby(rev[\"qid\"], sort=False).sum().astype(np.uintc)"
   ]
  },
  {
   "cell_type": "code",
   "execution_count": 47,
   "metadata": {},
   "outputs": [],
   "source": [
    "restores = rev[\"type\"].str.contains(\"restore\")\n",
    "restore_edits = restores.groupby(rev[\"qid\"], sort=False).sum().astype(np.uintc)"
   ]
  },
  {
   "cell_type": "code",
   "execution_count": 48,
   "metadata": {},
   "outputs": [],
   "source": [
    "protects = rev[\"type\"].str.contains(\"protect\")\n",
    "protect_edits = protects.groupby(rev[\"qid\"], sort=False).sum().astype(np.uintc)"
   ]
  },
  {
   "cell_type": "code",
   "execution_count": 49,
   "metadata": {},
   "outputs": [],
   "source": [
    "removes = rev[\"type\"].str.contains(\"remove\")\n",
    "remove_edits = removes.groupby(rev[\"qid\"], sort=False).sum().astype(np.uintc)"
   ]
  },
  {
   "cell_type": "code",
   "execution_count": 50,
   "metadata": {},
   "outputs": [],
   "source": [
    "# Creating a dataframe which will contain qids for items and no of each proxy\n",
    "proxies = pd.DataFrame({'revert': revert_edits, 'merge': merge_edits, 'undo': undo_edits, 'restore': restore_edits, \n",
    "                        'protect': protect_edits, 'remove': remove_edits})"
   ]
  },
  {
   "cell_type": "code",
   "execution_count": 51,
   "metadata": {},
   "outputs": [],
   "source": [
    "proxies = proxies.reset_index()"
   ]
  },
  {
   "cell_type": "code",
   "execution_count": 52,
   "metadata": {},
   "outputs": [
    {
     "data": {
      "text/plain": [
       "Index(['qid', 'revert', 'merge', 'undo', 'restore', 'protect', 'remove'], dtype='object')"
      ]
     },
     "execution_count": 52,
     "metadata": {},
     "output_type": "execute_result"
    }
   ],
   "source": [
    "proxies.columns"
   ]
  },
  {
   "cell_type": "code",
   "execution_count": 53,
   "metadata": {},
   "outputs": [
    {
     "data": {
      "text/plain": [
       "Index(['qid', 'editscount'], dtype='object')"
      ]
     },
     "execution_count": 53,
     "metadata": {},
     "output_type": "execute_result"
    }
   ],
   "source": [
    "df_editscount.columns"
   ]
  },
  {
   "cell_type": "code",
   "execution_count": 54,
   "metadata": {},
   "outputs": [],
   "source": [
    "# Adding editscount for each item \n",
    "proxies = pd.merge(proxies, df_editscount, how='inner', on=['qid'])"
   ]
  },
  {
   "cell_type": "code",
   "execution_count": 55,
   "metadata": {},
   "outputs": [],
   "source": [
    "# Counting the number of users per item that is userscount\n",
    "rev_users = rev.groupby('qid')['username'].nunique()\n",
    "# Converting to a dataframe so that it can be compared/merged \n",
    "df_userscount = pd.DataFrame({'qid':rev_users.index, 'userscount':rev_users.values})"
   ]
  },
  {
   "cell_type": "code",
   "execution_count": 56,
   "metadata": {},
   "outputs": [],
   "source": [
    "# Adding userscount for each item \n",
    "proxies = pd.merge(proxies, df_userscount, how='inner', on=['qid'])"
   ]
  },
  {
   "cell_type": "code",
   "execution_count": 57,
   "metadata": {},
   "outputs": [
    {
     "data": {
      "text/html": [
       "<div>\n",
       "<style scoped>\n",
       "    .dataframe tbody tr th:only-of-type {\n",
       "        vertical-align: middle;\n",
       "    }\n",
       "\n",
       "    .dataframe tbody tr th {\n",
       "        vertical-align: top;\n",
       "    }\n",
       "\n",
       "    .dataframe thead th {\n",
       "        text-align: right;\n",
       "    }\n",
       "</style>\n",
       "<table border=\"1\" class=\"dataframe\">\n",
       "  <thead>\n",
       "    <tr style=\"text-align: right;\">\n",
       "      <th></th>\n",
       "      <th>revert</th>\n",
       "      <th>merge</th>\n",
       "      <th>undo</th>\n",
       "      <th>restore</th>\n",
       "      <th>protect</th>\n",
       "      <th>remove</th>\n",
       "      <th>editscount</th>\n",
       "      <th>userscount</th>\n",
       "    </tr>\n",
       "  </thead>\n",
       "  <tbody>\n",
       "    <tr>\n",
       "      <th>count</th>\n",
       "      <td>2000.000000</td>\n",
       "      <td>2000.000000</td>\n",
       "      <td>2000.000000</td>\n",
       "      <td>2000.000000</td>\n",
       "      <td>2000.000000</td>\n",
       "      <td>2000.000000</td>\n",
       "      <td>2000.000000</td>\n",
       "      <td>2000.000000</td>\n",
       "    </tr>\n",
       "    <tr>\n",
       "      <th>mean</th>\n",
       "      <td>0.037000</td>\n",
       "      <td>0.027500</td>\n",
       "      <td>0.021500</td>\n",
       "      <td>0.014500</td>\n",
       "      <td>0.000500</td>\n",
       "      <td>0.411000</td>\n",
       "      <td>10.690000</td>\n",
       "      <td>2.666500</td>\n",
       "    </tr>\n",
       "    <tr>\n",
       "      <th>std</th>\n",
       "      <td>0.252315</td>\n",
       "      <td>0.169582</td>\n",
       "      <td>0.176219</td>\n",
       "      <td>0.127663</td>\n",
       "      <td>0.022361</td>\n",
       "      <td>1.878522</td>\n",
       "      <td>7.887649</td>\n",
       "      <td>2.485431</td>\n",
       "    </tr>\n",
       "    <tr>\n",
       "      <th>min</th>\n",
       "      <td>0.000000</td>\n",
       "      <td>0.000000</td>\n",
       "      <td>0.000000</td>\n",
       "      <td>0.000000</td>\n",
       "      <td>0.000000</td>\n",
       "      <td>0.000000</td>\n",
       "      <td>6.000000</td>\n",
       "      <td>1.000000</td>\n",
       "    </tr>\n",
       "    <tr>\n",
       "      <th>25%</th>\n",
       "      <td>0.000000</td>\n",
       "      <td>0.000000</td>\n",
       "      <td>0.000000</td>\n",
       "      <td>0.000000</td>\n",
       "      <td>0.000000</td>\n",
       "      <td>0.000000</td>\n",
       "      <td>7.000000</td>\n",
       "      <td>1.000000</td>\n",
       "    </tr>\n",
       "    <tr>\n",
       "      <th>50%</th>\n",
       "      <td>0.000000</td>\n",
       "      <td>0.000000</td>\n",
       "      <td>0.000000</td>\n",
       "      <td>0.000000</td>\n",
       "      <td>0.000000</td>\n",
       "      <td>0.000000</td>\n",
       "      <td>8.000000</td>\n",
       "      <td>1.000000</td>\n",
       "    </tr>\n",
       "    <tr>\n",
       "      <th>75%</th>\n",
       "      <td>0.000000</td>\n",
       "      <td>0.000000</td>\n",
       "      <td>0.000000</td>\n",
       "      <td>0.000000</td>\n",
       "      <td>0.000000</td>\n",
       "      <td>0.000000</td>\n",
       "      <td>11.000000</td>\n",
       "      <td>4.000000</td>\n",
       "    </tr>\n",
       "    <tr>\n",
       "      <th>max</th>\n",
       "      <td>4.000000</td>\n",
       "      <td>2.000000</td>\n",
       "      <td>3.000000</td>\n",
       "      <td>2.000000</td>\n",
       "      <td>1.000000</td>\n",
       "      <td>58.000000</td>\n",
       "      <td>131.000000</td>\n",
       "      <td>33.000000</td>\n",
       "    </tr>\n",
       "  </tbody>\n",
       "</table>\n",
       "</div>"
      ],
      "text/plain": [
       "            revert        merge         undo      restore      protect  \\\n",
       "count  2000.000000  2000.000000  2000.000000  2000.000000  2000.000000   \n",
       "mean      0.037000     0.027500     0.021500     0.014500     0.000500   \n",
       "std       0.252315     0.169582     0.176219     0.127663     0.022361   \n",
       "min       0.000000     0.000000     0.000000     0.000000     0.000000   \n",
       "25%       0.000000     0.000000     0.000000     0.000000     0.000000   \n",
       "50%       0.000000     0.000000     0.000000     0.000000     0.000000   \n",
       "75%       0.000000     0.000000     0.000000     0.000000     0.000000   \n",
       "max       4.000000     2.000000     3.000000     2.000000     1.000000   \n",
       "\n",
       "            remove   editscount   userscount  \n",
       "count  2000.000000  2000.000000  2000.000000  \n",
       "mean      0.411000    10.690000     2.666500  \n",
       "std       1.878522     7.887649     2.485431  \n",
       "min       0.000000     6.000000     1.000000  \n",
       "25%       0.000000     7.000000     1.000000  \n",
       "50%       0.000000     8.000000     1.000000  \n",
       "75%       0.000000    11.000000     4.000000  \n",
       "max      58.000000   131.000000    33.000000  "
      ]
     },
     "execution_count": 57,
     "metadata": {},
     "output_type": "execute_result"
    }
   ],
   "source": [
    "proxies.describe()"
   ]
  },
  {
   "cell_type": "code",
   "execution_count": 58,
   "metadata": {},
   "outputs": [
    {
     "data": {
      "text/plain": [
       "Text(0, 0.5, 'No of Edits')"
      ]
     },
     "execution_count": 58,
     "metadata": {},
     "output_type": "execute_result"
    },
    {
     "data": {
      "image/png": "[encoded data removed]",
      "text/plain": [
       "<Figure size 432x288 with 1 Axes>"
      ]
     },
     "metadata": {
      "needs_background": "light"
     },
     "output_type": "display_data"
    }
   ],
   "source": [
    "ax = sns.scatterplot(x=\"revert\", y=\"editscount\", data=proxies)\n",
    "ax.set_title(\"No of Reverts vs No of Edits\")\n",
    "ax.set_xlabel(\"No of Reverts\")\n",
    "ax.set_ylabel(\"No of Edits\")\n",
    "# No of reverts are very low for highly edited items"
   ]
  },
  {
   "cell_type": "code",
   "execution_count": 59,
   "metadata": {},
   "outputs": [
    {
     "data": {
      "text/plain": [
       "<seaborn.axisgrid.FacetGrid at 0x2571aa91c70>"
      ]
     },
     "execution_count": 59,
     "metadata": {},
     "output_type": "execute_result"
    },
    {
     "data": {
      "image/png": "[encoded data removed]",
      "text/plain": [
       "<Figure size 360x360 with 1 Axes>"
      ]
     },
     "metadata": {
      "needs_background": "light"
     },
     "output_type": "display_data"
    }
   ],
   "source": [
    "sns.lmplot(x=\"revert\", y=\"editscount\", data=proxies)"
   ]
  },
  {
   "cell_type": "code",
   "execution_count": 60,
   "metadata": {},
   "outputs": [
    {
     "data": {
      "text/html": [
       "<div>\n",
       "<style scoped>\n",
       "    .dataframe tbody tr th:only-of-type {\n",
       "        vertical-align: middle;\n",
       "    }\n",
       "\n",
       "    .dataframe tbody tr th {\n",
       "        vertical-align: top;\n",
       "    }\n",
       "\n",
       "    .dataframe thead th {\n",
       "        text-align: right;\n",
       "    }\n",
       "</style>\n",
       "<table border=\"1\" class=\"dataframe\">\n",
       "  <thead>\n",
       "    <tr style=\"text-align: right;\">\n",
       "      <th></th>\n",
       "      <th>revert</th>\n",
       "      <th>merge</th>\n",
       "      <th>undo</th>\n",
       "      <th>restore</th>\n",
       "      <th>protect</th>\n",
       "      <th>remove</th>\n",
       "      <th>editscount</th>\n",
       "      <th>userscount</th>\n",
       "    </tr>\n",
       "  </thead>\n",
       "  <tbody>\n",
       "    <tr>\n",
       "      <th>revert</th>\n",
       "      <td>1.000000</td>\n",
       "      <td>0.058047</td>\n",
       "      <td>0.218370</td>\n",
       "      <td>0.262881</td>\n",
       "      <td>0.262719</td>\n",
       "      <td>0.148378</td>\n",
       "      <td>0.089218</td>\n",
       "      <td>0.265380</td>\n",
       "    </tr>\n",
       "    <tr>\n",
       "      <th>merge</th>\n",
       "      <td>0.058047</td>\n",
       "      <td>1.000000</td>\n",
       "      <td>0.013685</td>\n",
       "      <td>-0.018428</td>\n",
       "      <td>-0.003628</td>\n",
       "      <td>0.033597</td>\n",
       "      <td>0.033678</td>\n",
       "      <td>0.102478</td>\n",
       "    </tr>\n",
       "    <tr>\n",
       "      <th>undo</th>\n",
       "      <td>0.218370</td>\n",
       "      <td>0.013685</td>\n",
       "      <td>1.000000</td>\n",
       "      <td>0.141791</td>\n",
       "      <td>0.124225</td>\n",
       "      <td>0.110811</td>\n",
       "      <td>0.101252</td>\n",
       "      <td>0.226539</td>\n",
       "    </tr>\n",
       "    <tr>\n",
       "      <th>restore</th>\n",
       "      <td>0.262881</td>\n",
       "      <td>-0.018428</td>\n",
       "      <td>0.141791</td>\n",
       "      <td>1.000000</td>\n",
       "      <td>0.347942</td>\n",
       "      <td>0.089865</td>\n",
       "      <td>0.064578</td>\n",
       "      <td>0.183944</td>\n",
       "    </tr>\n",
       "    <tr>\n",
       "      <th>protect</th>\n",
       "      <td>0.262719</td>\n",
       "      <td>-0.003628</td>\n",
       "      <td>0.124225</td>\n",
       "      <td>0.347942</td>\n",
       "      <td>1.000000</td>\n",
       "      <td>0.007015</td>\n",
       "      <td>0.023570</td>\n",
       "      <td>0.066010</td>\n",
       "    </tr>\n",
       "    <tr>\n",
       "      <th>remove</th>\n",
       "      <td>0.148378</td>\n",
       "      <td>0.033597</td>\n",
       "      <td>0.110811</td>\n",
       "      <td>0.089865</td>\n",
       "      <td>0.007015</td>\n",
       "      <td>1.000000</td>\n",
       "      <td>0.408442</td>\n",
       "      <td>0.200589</td>\n",
       "    </tr>\n",
       "    <tr>\n",
       "      <th>editscount</th>\n",
       "      <td>0.089218</td>\n",
       "      <td>0.033678</td>\n",
       "      <td>0.101252</td>\n",
       "      <td>0.064578</td>\n",
       "      <td>0.023570</td>\n",
       "      <td>0.408442</td>\n",
       "      <td>1.000000</td>\n",
       "      <td>0.151452</td>\n",
       "    </tr>\n",
       "    <tr>\n",
       "      <th>userscount</th>\n",
       "      <td>0.265380</td>\n",
       "      <td>0.102478</td>\n",
       "      <td>0.226539</td>\n",
       "      <td>0.183944</td>\n",
       "      <td>0.066010</td>\n",
       "      <td>0.200589</td>\n",
       "      <td>0.151452</td>\n",
       "      <td>1.000000</td>\n",
       "    </tr>\n",
       "  </tbody>\n",
       "</table>\n",
       "</div>"
      ],
      "text/plain": [
       "              revert     merge      undo   restore   protect    remove  \\\n",
       "revert      1.000000  0.058047  0.218370  0.262881  0.262719  0.148378   \n",
       "merge       0.058047  1.000000  0.013685 -0.018428 -0.003628  0.033597   \n",
       "undo        0.218370  0.013685  1.000000  0.141791  0.124225  0.110811   \n",
       "restore     0.262881 -0.018428  0.141791  1.000000  0.347942  0.089865   \n",
       "protect     0.262719 -0.003628  0.124225  0.347942  1.000000  0.007015   \n",
       "remove      0.148378  0.033597  0.110811  0.089865  0.007015  1.000000   \n",
       "editscount  0.089218  0.033678  0.101252  0.064578  0.023570  0.408442   \n",
       "userscount  0.265380  0.102478  0.226539  0.183944  0.066010  0.200589   \n",
       "\n",
       "            editscount  userscount  \n",
       "revert        0.089218    0.265380  \n",
       "merge         0.033678    0.102478  \n",
       "undo          0.101252    0.226539  \n",
       "restore       0.064578    0.183944  \n",
       "protect       0.023570    0.066010  \n",
       "remove        0.408442    0.200589  \n",
       "editscount    1.000000    0.151452  \n",
       "userscount    0.151452    1.000000  "
      ]
     },
     "execution_count": 60,
     "metadata": {},
     "output_type": "execute_result"
    }
   ],
   "source": [
    "corr_matrix = proxies.corr()\n",
    "corr_matrix"
   ]
  },
  {
   "cell_type": "code",
   "execution_count": 61,
   "metadata": {},
   "outputs": [
    {
     "data": {
      "text/plain": [
       "<matplotlib.axes._subplots.AxesSubplot at 0x2571ab2a310>"
      ]
     },
     "execution_count": 61,
     "metadata": {},
     "output_type": "execute_result"
    },
    {
     "data": {
      "image/png": "[encoded data removed]",
      "text/plain": [
       "<Figure size 432x288 with 2 Axes>"
      ]
     },
     "metadata": {
      "needs_background": "light"
     },
     "output_type": "display_data"
    }
   ],
   "source": [
    "sns.heatmap(corr_matrix)"
   ]
  },
  {
   "cell_type": "code",
   "execution_count": 62,
   "metadata": {},
   "outputs": [
    {
     "data": {
      "text/plain": [
       "<seaborn.axisgrid.FacetGrid at 0x2571aba50a0>"
      ]
     },
     "execution_count": 62,
     "metadata": {},
     "output_type": "execute_result"
    },
    {
     "data": {
      "image/png": "[encoded data removed]",
      "text/plain": [
       "<Figure size 648x432 with 1 Axes>"
      ]
     },
     "metadata": {
      "needs_background": "light"
     },
     "output_type": "display_data"
    }
   ],
   "source": [
    "sns.lmplot(x=\"revert\", y=\"restore\", data=proxies, height=6, aspect=1.5)"
   ]
  },
  {
   "cell_type": "code",
   "execution_count": 63,
   "metadata": {},
   "outputs": [
    {
     "data": {
      "text/plain": [
       "Text(0, 0.5, 'No of Edits')"
      ]
     },
     "execution_count": 63,
     "metadata": {},
     "output_type": "execute_result"
    },
    {
     "data": {
      "image/png": "[encoded data removed]",
      "text/plain": [
       "<Figure size 432x288 with 1 Axes>"
      ]
     },
     "metadata": {
      "needs_background": "light"
     },
     "output_type": "display_data"
    }
   ],
   "source": [
    "ax = sns.scatterplot(x=\"userscount\", y=\"editscount\", data=proxies)\n",
    "ax.set_title(\"No of Users vs No of Edits\")\n",
    "ax.set_xlabel(\"No of Users\")\n",
    "ax.set_ylabel(\"No of Edits\")"
   ]
  },
  {
   "cell_type": "code",
   "execution_count": 64,
   "metadata": {},
   "outputs": [
    {
     "data": {
      "text/plain": [
       "<seaborn.axisgrid.FacetGrid at 0x2571beb66d0>"
      ]
     },
     "execution_count": 64,
     "metadata": {},
     "output_type": "execute_result"
    },
    {
     "data": {
      "image/png": "[encoded data removed]",
      "text/plain": [
       "<Figure size 864x432 with 1 Axes>"
      ]
     },
     "metadata": {
      "needs_background": "light"
     },
     "output_type": "display_data"
    }
   ],
   "source": [
    "sns.lmplot(x=\"userscount\", y=\"editscount\", data=proxies, height=6, aspect=2)"
   ]
  },
  {
   "cell_type": "code",
   "execution_count": 65,
   "metadata": {},
   "outputs": [],
   "source": [
    "# Removing items with 0 reverts, merges, undos, restores, removes, protects\n",
    "# Removing items with editscount <= 5 \n",
    "to_remove = proxies[(proxies['revert'] == 0) & (proxies['merge'] == 0) & (proxies['undo'] == 0) & (proxies['restore'] == 0) & \n",
    "                   (proxies['remove'] == 0) & (proxies['protect'] == 0)].index\n",
    "proxies = proxies.drop(to_remove)"
   ]
  },
  {
   "cell_type": "code",
   "execution_count": 66,
   "metadata": {},
   "outputs": [
    {
     "data": {
      "text/plain": [
       "(457, 9)"
      ]
     },
     "execution_count": 66,
     "metadata": {},
     "output_type": "execute_result"
    }
   ],
   "source": [
    "proxies.shape"
   ]
  },
  {
   "cell_type": "code",
   "execution_count": 67,
   "metadata": {},
   "outputs": [
    {
     "data": {
      "text/html": [
       "<div>\n",
       "<style scoped>\n",
       "    .dataframe tbody tr th:only-of-type {\n",
       "        vertical-align: middle;\n",
       "    }\n",
       "\n",
       "    .dataframe tbody tr th {\n",
       "        vertical-align: top;\n",
       "    }\n",
       "\n",
       "    .dataframe thead th {\n",
       "        text-align: right;\n",
       "    }\n",
       "</style>\n",
       "<table border=\"1\" class=\"dataframe\">\n",
       "  <thead>\n",
       "    <tr style=\"text-align: right;\">\n",
       "      <th></th>\n",
       "      <th>qid</th>\n",
       "      <th>revert</th>\n",
       "      <th>merge</th>\n",
       "      <th>undo</th>\n",
       "      <th>restore</th>\n",
       "      <th>protect</th>\n",
       "      <th>remove</th>\n",
       "      <th>editscount</th>\n",
       "      <th>userscount</th>\n",
       "    </tr>\n",
       "  </thead>\n",
       "  <tbody>\n",
       "    <tr>\n",
       "      <th>0</th>\n",
       "      <td>Q2152210</td>\n",
       "      <td>0</td>\n",
       "      <td>0</td>\n",
       "      <td>0</td>\n",
       "      <td>0</td>\n",
       "      <td>0</td>\n",
       "      <td>3</td>\n",
       "      <td>16</td>\n",
       "      <td>4</td>\n",
       "    </tr>\n",
       "    <tr>\n",
       "      <th>12</th>\n",
       "      <td>Q2307855</td>\n",
       "      <td>0</td>\n",
       "      <td>0</td>\n",
       "      <td>0</td>\n",
       "      <td>0</td>\n",
       "      <td>0</td>\n",
       "      <td>1</td>\n",
       "      <td>9</td>\n",
       "      <td>6</td>\n",
       "    </tr>\n",
       "    <tr>\n",
       "      <th>15</th>\n",
       "      <td>Q2328609</td>\n",
       "      <td>0</td>\n",
       "      <td>0</td>\n",
       "      <td>0</td>\n",
       "      <td>0</td>\n",
       "      <td>0</td>\n",
       "      <td>1</td>\n",
       "      <td>6</td>\n",
       "      <td>1</td>\n",
       "    </tr>\n",
       "    <tr>\n",
       "      <th>17</th>\n",
       "      <td>Q2356448</td>\n",
       "      <td>0</td>\n",
       "      <td>1</td>\n",
       "      <td>0</td>\n",
       "      <td>0</td>\n",
       "      <td>0</td>\n",
       "      <td>0</td>\n",
       "      <td>9</td>\n",
       "      <td>5</td>\n",
       "    </tr>\n",
       "    <tr>\n",
       "      <th>18</th>\n",
       "      <td>Q2363050</td>\n",
       "      <td>0</td>\n",
       "      <td>0</td>\n",
       "      <td>0</td>\n",
       "      <td>0</td>\n",
       "      <td>0</td>\n",
       "      <td>1</td>\n",
       "      <td>12</td>\n",
       "      <td>2</td>\n",
       "    </tr>\n",
       "  </tbody>\n",
       "</table>\n",
       "</div>"
      ],
      "text/plain": [
       "         qid  revert  merge  undo  restore  protect  remove  editscount  \\\n",
       "0   Q2152210       0      0     0        0        0       3          16   \n",
       "12  Q2307855       0      0     0        0        0       1           9   \n",
       "15  Q2328609       0      0     0        0        0       1           6   \n",
       "17  Q2356448       0      1     0        0        0       0           9   \n",
       "18  Q2363050       0      0     0        0        0       1          12   \n",
       "\n",
       "    userscount  \n",
       "0            4  \n",
       "12           6  \n",
       "15           1  \n",
       "17           5  \n",
       "18           2  "
      ]
     },
     "execution_count": 67,
     "metadata": {},
     "output_type": "execute_result"
    }
   ],
   "source": [
    "proxies.head()"
   ]
  },
  {
   "cell_type": "code",
   "execution_count": 68,
   "metadata": {},
   "outputs": [],
   "source": [
    "# remove items with 0 in all proxies except remove"
   ]
  },
  {
   "cell_type": "code",
   "execution_count": null,
   "metadata": {},
   "outputs": [],
   "source": []
  }
 ],
 "metadata": {
  "kernelspec": {
   "display_name": "Python 3",
   "language": "python",
   "name": "python3"
  },
  "language_info": {
   "codemirror_mode": {
    "name": "ipython",
    "version": 3
   },
   "file_extension": ".py",
   "mimetype": "text/x-python",
   "name": "python",
   "nbconvert_exporter": "python",
   "pygments_lexer": "ipython3",
   "version": "3.8.3"
  }
 },
 "nbformat": 4,
 "nbformat_minor": 4
}
