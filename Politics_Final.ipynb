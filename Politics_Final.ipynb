{
 "cells": [
  {
   "cell_type": "markdown",
   "metadata": {},
   "source": [
    "# Politics\n",
    "\n",
    "- Data Cleaning\n",
    "- Data Visualisation\n",
    "- Data Analysis"
   ]
  },
  {
   "cell_type": "code",
   "execution_count": 1,
   "metadata": {},
   "outputs": [],
   "source": [
    "import pandas as pd\n",
    "import matplotlib.pyplot as plt\n",
    "import numpy as np\n",
    "import seaborn as sns\n",
    "import time\n",
    "from datetime import datetime\n",
    "from datetime import timezone\n",
    "from SPARQLWrapper import SPARQLWrapper, JSON\n",
    "\n",
    "%matplotlib inline"
   ]
  },
  {
   "cell_type": "code",
   "execution_count": 2,
   "metadata": {},
   "outputs": [],
   "source": [
    "# Reading the data from politics revisions\n",
    "# Contains the revisions for all the selected items\n",
    "revisions = pd.read_csv('/Users/tushi/PRJ/WikidataParsing/topics/data_with_revisions/politics_revisions.csv')\n",
    "items = pd.read_csv('/Users/tushi/PRJ/WikidataParsing/topics/data/politics.csv')"
   ]
  },
  {
   "cell_type": "code",
   "execution_count": 3,
   "metadata": {},
   "outputs": [
    {
     "name": "stdout",
     "output_type": "stream",
     "text": [
      "Number of Revisions in Politics Dataset\n",
      "(3915164, 12)\n",
      "Number of Wikidata Items in Politics Dataset\n",
      "(414463, 3)\n"
     ]
    }
   ],
   "source": [
    "print(\"Number of Revisions in Politics Dataset\")\n",
    "print(revisions.shape)\n",
    "print(\"Number of Wikidata Items in Politics Dataset\")\n",
    "print(items.shape)"
   ]
  },
  {
   "cell_type": "markdown",
   "metadata": {},
   "source": [
    "# Data Cleaning\n",
    "\n",
    "- Drop uneccessary columns\n",
    "- Assign types for all edits\n",
    "- Assign user types for all edits\n",
    "- Remove rows with empty comments - better to remove after calculating the types in case there are some edge cases which have not been discovered\n",
    "- Convert timestamps to datetime objects\n",
    "- (Remove items that contain only bot edits)\n",
    "- Remove items with editcounts < (If removing rows with empty comments will need to recalculate the edit count and merge with dataset)"
   ]
  },
  {
   "cell_type": "code",
   "execution_count": 4,
   "metadata": {},
   "outputs": [],
   "source": [
    "# Dropping unecessary columns from the revisions dataframe\n",
    "rev = revisions.drop(['pageid', 'type', 'editentity', 'parentid'], axis=1)"
   ]
  },
  {
   "cell_type": "code",
   "execution_count": 5,
   "metadata": {},
   "outputs": [],
   "source": [
    "# Method to assign edit types to each revision by using the comment\n",
    "def get_edit_type(comment):\n",
    "    # Decoding the comment from a bytes object to a string\n",
    "    # Converting the comment to lowercase\n",
    "    # c = comment.decode(\"utf-8\").lower()\n",
    "    c = comment.lower()\n",
    "    # print(c)\n",
    "    editType = '' \n",
    "    \n",
    "    if c == '':\n",
    "        return editType\n",
    "    \n",
    "    if \"|\" in c:\n",
    "        # Comments which have |\n",
    "        cc = c.split(\"|\")[0].replace(\"/* \", \"\")\n",
    "        if 'undo' in cc:\n",
    "            editType = 'undo'\n",
    "            return editType\n",
    "        elif 'restore' in cc:\n",
    "            editType = 'restore'\n",
    "            return editType\n",
    "        elif 'wbsetclaimvalue' in cc:\n",
    "            editType = 'set'\n",
    "            return editType\n",
    "        elif 'wbsetlabeldescriptionaliases' in cc:\n",
    "            editType = 'set'\n",
    "            return editType\n",
    "        elif 'wbcreateredirect' in cc:\n",
    "            editType = 'create'\n",
    "            return editType\n",
    "        elif 'merge' in cc:\n",
    "            editType = 'merge'\n",
    "            return editType\n",
    "        elif '-' in cc:\n",
    "            ccc = cc.split(\"-\")[1]\n",
    "            if 'create' in ccc:\n",
    "                editType = 'create'\n",
    "                return editType\n",
    "            elif 'add' in ccc:\n",
    "                editType = 'add'\n",
    "                return editType\n",
    "            elif 'set' in ccc:\n",
    "                editType = 'set'\n",
    "                return editType\n",
    "            elif 'update' in ccc:\n",
    "                editType = 'update'\n",
    "                return editType\n",
    "            elif 'remove' in ccc:\n",
    "                editType = 'remove'\n",
    "                return editType\n",
    "    if 'revert' in c: \n",
    "        editType = 'revert'\n",
    "        return editType  \n",
    "    elif 'protect' in c:\n",
    "        editType = 'protect'\n",
    "        return editType  \n",
    "    elif 'undid' in c:\n",
    "        editType = 'undo'\n",
    "        return editType      \n",
    "    return editType\n",
    "        "
   ]
  },
  {
   "cell_type": "code",
   "execution_count": 6,
   "metadata": {},
   "outputs": [],
   "source": [
    "# Assigning edit types to each revision\n",
    "rev['type'] = [get_edit_type(comment) for comment in rev['comment']]"
   ]
  },
  {
   "cell_type": "code",
   "execution_count": 7,
   "metadata": {},
   "outputs": [
    {
     "data": {
      "text/plain": [
       "(3915164, 9)"
      ]
     },
     "execution_count": 7,
     "metadata": {},
     "output_type": "execute_result"
    }
   ],
   "source": [
    "rev.shape"
   ]
  },
  {
   "cell_type": "code",
   "execution_count": 8,
   "metadata": {},
   "outputs": [],
   "source": [
    "# Removing revisions with empty types \n",
    "# Removing revisions that either had an empty comment or or an edge case\n",
    "to_remove = rev[rev['type'] == ''].index\n",
    "rev = rev.drop(to_remove)"
   ]
  },
  {
   "cell_type": "code",
   "execution_count": 9,
   "metadata": {},
   "outputs": [],
   "source": [
    "# Reading csv with bot names scraped from Wikidata\n",
    "bots = pd.read_csv('/Users/tushi/PRJ/WikidataParsing/wikidata_bots.csv')"
   ]
  },
  {
   "cell_type": "code",
   "execution_count": 10,
   "metadata": {},
   "outputs": [],
   "source": [
    "# Method to assign user types to revisions\n",
    "# 3 types: Registered, Anonymous, Bot\n",
    "def get_user_type(user):\n",
    "    \n",
    "    u = user[1:].replace(\"'\", \"\")\n",
    "    \n",
    "    userType = ''\n",
    "    \n",
    "    if u == \"\":\n",
    "        userType = 'Anonymous'\n",
    "        return userType\n",
    "    elif u in bots.values:\n",
    "        userType = 'Bot'\n",
    "        return userType\n",
    "    else: \n",
    "        userType = 'Registered'\n",
    "        return userType\n",
    "    return userType\n",
    "    "
   ]
  },
  {
   "cell_type": "code",
   "execution_count": 11,
   "metadata": {},
   "outputs": [],
   "source": [
    "# Assigning user types to revisions\n",
    "rev['usertype'] = [get_user_type(user) for user in rev['username']]"
   ]
  },
  {
   "cell_type": "code",
   "execution_count": 12,
   "metadata": {},
   "outputs": [],
   "source": [
    "# Need to recalculate editcount for the items\n",
    "# Drop old editcount column\n",
    "rev = rev.drop(['editscount'], axis=1)"
   ]
  },
  {
   "cell_type": "code",
   "execution_count": 13,
   "metadata": {},
   "outputs": [],
   "source": [
    "editscount = rev['qid'].value_counts()"
   ]
  },
  {
   "cell_type": "code",
   "execution_count": 14,
   "metadata": {},
   "outputs": [
    {
     "data": {
      "text/plain": [
       "count    413848.000000\n",
       "mean          9.417475\n",
       "std          17.753846\n",
       "min           1.000000\n",
       "25%           2.000000\n",
       "50%           3.000000\n",
       "75%           8.000000\n",
       "max        1431.000000\n",
       "Name: qid, dtype: float64"
      ]
     },
     "execution_count": 14,
     "metadata": {},
     "output_type": "execute_result"
    }
   ],
   "source": [
    "editscount.describe()"
   ]
  },
  {
   "cell_type": "markdown",
   "metadata": {},
   "source": [
    "Rationale for Removing edits <= 5\n",
    "\n",
    "- Research\n",
    "- Range of edits is very large\n",
    "- Median value that is the 50th percentile is 3 edits that is more than half the dataset has items that would not be very interesting to the research as we are interested in highly edited items\n",
    "- Items in the 75th percentile have an editcount of 8 showing that only a small percentage of items - slightly greater than 25% of the items are those that can be deemed interesting\n",
    "- Also important to note that given these values, the data could also contain a reasonable number of outliers - items which are highly edited but do not add value to the research - for example they do not contain reverts or they are sandbox items"
   ]
  },
  {
   "cell_type": "code",
   "execution_count": 15,
   "metadata": {},
   "outputs": [],
   "source": [
    "# Converting to a dataframe so that it can be compared/merged with original dataframe\n",
    "df_editscount = pd.DataFrame({'qid':editscount.index, 'editscount':editscount.values})"
   ]
  },
  {
   "cell_type": "code",
   "execution_count": 16,
   "metadata": {},
   "outputs": [
    {
     "name": "stdout",
     "output_type": "stream",
     "text": [
      "Items with No of Edits = 1\n",
      "100579\n",
      "Items with No of Edits = 2\n",
      "75742\n",
      "Items with No of Edits = 3\n",
      "40352\n",
      "Items with No of Edits = 4\n",
      "32317\n",
      "Items with No of Edits = 5\n",
      "22804\n",
      "Items with No of Edits <= 5\n",
      "271794\n"
     ]
    }
   ],
   "source": [
    "print('Items with No of Edits = 1')\n",
    "print(len(df_editscount[df_editscount['editscount'] == 1]))\n",
    "\n",
    "print('Items with No of Edits = 2')\n",
    "print(len(df_editscount[df_editscount['editscount'] == 2]))\n",
    "\n",
    "print('Items with No of Edits = 3')\n",
    "print(len(df_editscount[df_editscount['editscount'] == 3]))\n",
    "\n",
    "print('Items with No of Edits = 4')\n",
    "print(len(df_editscount[df_editscount['editscount'] == 4]))\n",
    "\n",
    "print('Items with No of Edits = 5')\n",
    "print(len(df_editscount[df_editscount['editscount'] == 5]))\n",
    "\n",
    "print('Items with No of Edits <= 5')\n",
    "print(len(df_editscount[df_editscount['editscount'] <= 5]))"
   ]
  },
  {
   "cell_type": "code",
   "execution_count": 17,
   "metadata": {},
   "outputs": [],
   "source": [
    "# Removing items with editscount <= 5 \n",
    "to_remove = df_editscount[df_editscount['editscount'] <= 5].index\n",
    "df_editscount = df_editscount.drop(to_remove)"
   ]
  },
  {
   "cell_type": "code",
   "execution_count": 18,
   "metadata": {},
   "outputs": [
    {
     "data": {
      "text/plain": [
       "(142054, 2)"
      ]
     },
     "execution_count": 18,
     "metadata": {},
     "output_type": "execute_result"
    }
   ],
   "source": [
    "df_editscount.shape"
   ]
  },
  {
   "cell_type": "code",
   "execution_count": 19,
   "metadata": {},
   "outputs": [],
   "source": [
    "# Removing all items with editscount <= 5 from revisions dataset\n",
    "# Removing by finding intersection on qid between bot sets\n",
    "rev = pd.merge(rev, df_editscount, how='inner', on=['qid'])"
   ]
  },
  {
   "cell_type": "code",
   "execution_count": 20,
   "metadata": {},
   "outputs": [],
   "source": [
    "# Converting the timestamps to datetime object\n",
    "rev['timestamp'] = pd.to_datetime(rev.timestamp, format='%Y-%m-%d %H:%M:%S')\n",
    "\n",
    "# Converting to datetime leaves the dates in form '2016-10-12 14:37:53+00:00'\n",
    "# Formatting timestamp to remove +00:00\n",
    "rev['timestamp'] = rev['timestamp'].dt.strftime('%Y-%m-%d %H:%M:%S')\n",
    "\n",
    "# strftime() returns a string object\n",
    "# Converting back to datetime\n",
    "rev['timestamp'] = pd.to_datetime(rev.timestamp, format='%Y-%m-%d %H:%M:%S')"
   ]
  },
  {
   "cell_type": "code",
   "execution_count": 21,
   "metadata": {},
   "outputs": [],
   "source": [
    "# To query info based on datetime remember to input dates in complete formatting\n",
    "# rev[rev['timestamp'] >= '2016-10-01 00:00:00']"
   ]
  },
  {
   "cell_type": "markdown",
   "metadata": {},
   "source": [
    "Imp to parse timestamps as you would potentially be interested in looking at the time difference between edits in the future, difference between datetime objects can be found using timedelta from datetime."
   ]
  },
  {
   "cell_type": "code",
   "execution_count": 22,
   "metadata": {},
   "outputs": [
    {
     "data": {
      "text/plain": [
       "Unnamed: 0             int64\n",
       "qid                   object\n",
       "revisionid           float64\n",
       "timestamp     datetime64[ns]\n",
       "comment               object\n",
       "userid               float64\n",
       "username              object\n",
       "type                  object\n",
       "usertype              object\n",
       "editscount             int64\n",
       "dtype: object"
      ]
     },
     "execution_count": 22,
     "metadata": {},
     "output_type": "execute_result"
    }
   ],
   "source": [
    "rev.dtypes"
   ]
  },
  {
   "cell_type": "code",
   "execution_count": 23,
   "metadata": {},
   "outputs": [],
   "source": [
    "# Sparql Query to get labels using Qids\n",
    "def get_item_label(qid):\n",
    "    try:        \n",
    "        # Specifying the Wikidata SPARQL endpoint\n",
    "        sparql = SPARQLWrapper(\"https://query.wikidata.org/sparql\")\n",
    "        \n",
    "        # Query to access the label for the wikidata item\n",
    "        sparql.setQuery('PREFIX rdfs: <http://www.w3.org/2000/01/rdf-schema#> SELECT ?label WHERE {wd:' + qid + ' rdfs:label ?label . SERVICE wikibase:label { bd:serviceParam wikibase:language \"en\". } } LIMIT 1')\n",
    "        \n",
    "        # Converting result to JSON format\n",
    "        sparql.setReturnFormat(JSON)\n",
    "        result = sparql.query().convert()\n",
    "        \n",
    "        # result is in the form of \"bindings\" which are a list of dictionaries\n",
    "        # Accessing the value of the label \n",
    "        itemLabel = result[\"results\"][\"bindings\"][0][\"label\"][\"value\"]\n",
    "        \n",
    "        return itemLabel\n",
    "    except Exception as ex:\n",
    "        print(ex)\n",
    "        return('')"
   ]
  },
  {
   "cell_type": "code",
   "execution_count": 24,
   "metadata": {},
   "outputs": [
    {
     "name": "stdout",
     "output_type": "stream",
     "text": [
      "        qid  editscount\n",
      "0  Q4115189        1431\n",
      "1  Q3642765         917\n",
      "2  Q3964154         743\n",
      "3  Q4504204         726\n",
      "4   Q534197         702\n",
      "Викиданные:Песочница\n"
     ]
    }
   ],
   "source": [
    "print(df_editscount.head())\n",
    "# Discovered sandbox item within data with editscount = 1431\n",
    "print(get_item_label('Q4115189'))"
   ]
  },
  {
   "cell_type": "code",
   "execution_count": 25,
   "metadata": {},
   "outputs": [],
   "source": [
    "# Removing sandbox item from editscount and rev\n",
    "to_remove = df_editscount[df_editscount['qid'] == 'Q4115189'].index\n",
    "df_editscount = df_editscount.drop(to_remove)\n",
    "# Removing item from dataset of revisions\n",
    "to_remove_from_rev = rev[rev['qid'] == 'Q4115189'].index\n",
    "rev = rev.drop(to_remove_from_rev)"
   ]
  },
  {
   "cell_type": "code",
   "execution_count": 26,
   "metadata": {},
   "outputs": [
    {
     "name": "stdout",
     "output_type": "stream",
     "text": [
      "        qid  editscount\n",
      "1  Q3642765         917\n",
      "2  Q3964154         743\n",
      "3  Q4504204         726\n",
      "4   Q534197         702\n",
      "5     Q1085         657\n",
      "Empty DataFrame\n",
      "Columns: [Unnamed: 0, qid, revisionid, timestamp, comment, userid, username, type, usertype, editscount]\n",
      "Index: []\n"
     ]
    }
   ],
   "source": [
    "print(df_editscount.head())\n",
    "print(rev[rev['qid'] == 'Q4115189'])"
   ]
  },
  {
   "cell_type": "markdown",
   "metadata": {},
   "source": [
    "# Descriptive Statistics"
   ]
  },
  {
   "cell_type": "code",
   "execution_count": 27,
   "metadata": {},
   "outputs": [
    {
     "data": {
      "text/plain": [
       "count    3279565\n",
       "mean          49\n",
       "std           49\n",
       "min            6\n",
       "25%           16\n",
       "50%           63\n",
       "75%           65\n",
       "max          917\n",
       "Name: editscount, dtype: int32"
      ]
     },
     "execution_count": 27,
     "metadata": {},
     "output_type": "execute_result"
    }
   ],
   "source": [
    "rev['editscount'].describe().astype(int)"
   ]
  },
  {
   "cell_type": "code",
   "execution_count": 28,
   "metadata": {},
   "outputs": [
    {
     "data": {
      "text/plain": [
       "count     3279565\n",
       "unique         10\n",
       "top           add\n",
       "freq      2606418\n",
       "Name: type, dtype: object"
      ]
     },
     "execution_count": 28,
     "metadata": {},
     "output_type": "execute_result"
    }
   ],
   "source": [
    "rev['type'].describe()"
   ]
  },
  {
   "cell_type": "code",
   "execution_count": 29,
   "metadata": {},
   "outputs": [],
   "source": [
    "# TODO: Calculate number of items in different ranges and plot in bar chart"
   ]
  },
  {
   "cell_type": "code",
   "execution_count": 30,
   "metadata": {},
   "outputs": [],
   "source": [
    "politics_items = rev['qid'].value_counts()"
   ]
  },
  {
   "cell_type": "code",
   "execution_count": 31,
   "metadata": {},
   "outputs": [],
   "source": [
    "# converting a series to a dataframe\n",
    "p_items = pd.DataFrame({'type':politics_items.index, 'count':politics_items.values})"
   ]
  },
  {
   "cell_type": "code",
   "execution_count": 32,
   "metadata": {},
   "outputs": [
    {
     "data": {
      "text/html": [
       "<div>\n",
       "<style scoped>\n",
       "    .dataframe tbody tr th:only-of-type {\n",
       "        vertical-align: middle;\n",
       "    }\n",
       "\n",
       "    .dataframe tbody tr th {\n",
       "        vertical-align: top;\n",
       "    }\n",
       "\n",
       "    .dataframe thead th {\n",
       "        text-align: right;\n",
       "    }\n",
       "</style>\n",
       "<table border=\"1\" class=\"dataframe\">\n",
       "  <thead>\n",
       "    <tr style=\"text-align: right;\">\n",
       "      <th></th>\n",
       "      <th>type</th>\n",
       "      <th>count</th>\n",
       "    </tr>\n",
       "  </thead>\n",
       "  <tbody>\n",
       "    <tr>\n",
       "      <th>9434</th>\n",
       "      <td>Q1427532</td>\n",
       "      <td>65</td>\n",
       "    </tr>\n",
       "    <tr>\n",
       "      <th>9435</th>\n",
       "      <td>Q1095825</td>\n",
       "      <td>65</td>\n",
       "    </tr>\n",
       "    <tr>\n",
       "      <th>9436</th>\n",
       "      <td>Q1070017</td>\n",
       "      <td>65</td>\n",
       "    </tr>\n",
       "    <tr>\n",
       "      <th>9437</th>\n",
       "      <td>Q276521</td>\n",
       "      <td>65</td>\n",
       "    </tr>\n",
       "    <tr>\n",
       "      <th>9438</th>\n",
       "      <td>Q1095532</td>\n",
       "      <td>65</td>\n",
       "    </tr>\n",
       "    <tr>\n",
       "      <th>...</th>\n",
       "      <td>...</td>\n",
       "      <td>...</td>\n",
       "    </tr>\n",
       "    <tr>\n",
       "      <th>23983</th>\n",
       "      <td>Q185452</td>\n",
       "      <td>63</td>\n",
       "    </tr>\n",
       "    <tr>\n",
       "      <th>23984</th>\n",
       "      <td>Q632117</td>\n",
       "      <td>63</td>\n",
       "    </tr>\n",
       "    <tr>\n",
       "      <th>23985</th>\n",
       "      <td>Q741684</td>\n",
       "      <td>63</td>\n",
       "    </tr>\n",
       "    <tr>\n",
       "      <th>23986</th>\n",
       "      <td>Q547244</td>\n",
       "      <td>63</td>\n",
       "    </tr>\n",
       "    <tr>\n",
       "      <th>23987</th>\n",
       "      <td>Q1007171</td>\n",
       "      <td>63</td>\n",
       "    </tr>\n",
       "  </tbody>\n",
       "</table>\n",
       "<p>14554 rows × 2 columns</p>\n",
       "</div>"
      ],
      "text/plain": [
       "           type  count\n",
       "9434   Q1427532     65\n",
       "9435   Q1095825     65\n",
       "9436   Q1070017     65\n",
       "9437    Q276521     65\n",
       "9438   Q1095532     65\n",
       "...         ...    ...\n",
       "23983   Q185452     63\n",
       "23984   Q632117     63\n",
       "23985   Q741684     63\n",
       "23986   Q547244     63\n",
       "23987  Q1007171     63\n",
       "\n",
       "[14554 rows x 2 columns]"
      ]
     },
     "execution_count": 32,
     "metadata": {},
     "output_type": "execute_result"
    }
   ],
   "source": [
    "# Items between the median and 75th percentile\n",
    "p_items[(p_items['count'] >= 63) & (p_items['count'] <= 65)]"
   ]
  },
  {
   "cell_type": "markdown",
   "metadata": {},
   "source": [
    "# Statistics for Proxies"
   ]
  },
  {
   "cell_type": "code",
   "execution_count": 33,
   "metadata": {},
   "outputs": [],
   "source": [
    "# Counting the value of the number of proxies that exist in the dataset\n",
    "type_stats = rev['type'].value_counts()"
   ]
  },
  {
   "cell_type": "code",
   "execution_count": 34,
   "metadata": {},
   "outputs": [
    {
     "name": "stdout",
     "output_type": "stream",
     "text": [
      "           count\n",
      "type            \n",
      "add      2606418\n",
      "create    381609\n",
      "update    195605\n",
      "remove     64054\n",
      "set        28473\n",
      "undo        1075\n",
      "revert      1041\n",
      "merge        851\n",
      "restore      415\n",
      "protect       24\n"
     ]
    }
   ],
   "source": [
    "# Converting a series to a Dataframe\n",
    "type_s = pd.DataFrame({'type':type_stats.index, 'count':type_stats.values})\n",
    "ts = type_s.set_index('type')\n",
    "print(ts)"
   ]
  },
  {
   "cell_type": "code",
   "execution_count": 35,
   "metadata": {},
   "outputs": [
    {
     "data": {
      "image/png": "[encoded data removed]",
      "text/plain": [
       "<Figure size 432x288 with 1 Axes>"
      ]
     },
     "metadata": {
      "needs_background": "light"
     },
     "output_type": "display_data"
    }
   ],
   "source": [
    "# Plotting the statistics for the proxies/types of edits in the data\n",
    "ax = ts.plot.bar()\n",
    "\n",
    "plt.title('Types of Edits')\n",
    "plt.xlabel('Number of Edits')\n",
    "plt.ylabel('Types')\n",
    "\n",
    "plt.xticks(rotation=45)\n",
    "\n",
    "plt.show()"
   ]
  },
  {
   "cell_type": "markdown",
   "metadata": {},
   "source": [
    "According to the bar plot the proxy with the highest occurrence is add followed by create, update, remove, set and those with no types specified (those without any comments). \n",
    "\n",
    "This was expected behaviour as this infers that editors are adding a lot of information to wikidata over a period of time. As we are exploring controversies in wikidata, the remaining edits namely - reverts, undos, removes, merges, restores and protect will be more useful thus we will visualise those."
   ]
  },
  {
   "cell_type": "code",
   "execution_count": 36,
   "metadata": {},
   "outputs": [],
   "source": [
    "# Extracting select proxies: remove, restore, revert, merge, undo, protect\n",
    "controversial_proxies = ts.iloc[[3, 5, 6, 7, 8, 9]]\n",
    "# print(controversial_proxies)"
   ]
  },
  {
   "cell_type": "code",
   "execution_count": 37,
   "metadata": {},
   "outputs": [
    {
     "data": {
      "image/png": "[encoded data removed]",
      "text/plain": [
       "<Figure size 432x288 with 1 Axes>"
      ]
     },
     "metadata": {
      "needs_background": "light"
     },
     "output_type": "display_data"
    }
   ],
   "source": [
    "# Plotting select proxies\n",
    "ax = controversial_proxies.plot.bar()\n",
    "\n",
    "plt.title('Types of Edits')\n",
    "plt.xlabel('Number of Edits')\n",
    "plt.ylabel('Types')\n",
    "\n",
    "plt.xticks(rotation=45)\n",
    "\n",
    "# ax.invert_yaxis()\n",
    "\n",
    "plt.show()"
   ]
  },
  {
   "cell_type": "markdown",
   "metadata": {},
   "source": [
    "Remove is very high as compared to the others to better understand them, let's plot these reverts itself [Can remove later]"
   ]
  },
  {
   "cell_type": "code",
   "execution_count": 38,
   "metadata": {},
   "outputs": [
    {
     "name": "stdout",
     "output_type": "stream",
     "text": [
      "         count\n",
      "type          \n",
      "undo      1075\n",
      "revert    1041\n",
      "merge      851\n",
      "restore    415\n",
      "protect     24\n"
     ]
    }
   ],
   "source": [
    "# Extracting select proxies: restore, revert, merge, undo, protect\n",
    "controversial_proxies_without_remove = ts.iloc[[5, 6, 7, 8, 9]]\n",
    "print(controversial_proxies_without_remove)"
   ]
  },
  {
   "cell_type": "code",
   "execution_count": 39,
   "metadata": {},
   "outputs": [
    {
     "data": {
      "image/png": "[encoded data removed]",
      "text/plain": [
       "<Figure size 432x288 with 1 Axes>"
      ]
     },
     "metadata": {
      "needs_background": "light"
     },
     "output_type": "display_data"
    }
   ],
   "source": [
    "# Plotting select proxies without remove\n",
    "ax = controversial_proxies_without_remove.plot.bar()\n",
    "\n",
    "plt.title('Types of Edits')\n",
    "plt.xlabel('Number of Edits')\n",
    "plt.ylabel('Types')\n",
    "\n",
    "plt.xticks(rotation=45)\n",
    "\n",
    "# ax.invert_yaxis()\n",
    "\n",
    "plt.show()"
   ]
  },
  {
   "cell_type": "markdown",
   "metadata": {},
   "source": [
    "Interesting to observe that the number of undos is greater that reverts. What could be the reason for this? What could be the potential impact? Could we consider undos as important as reverts? Undoing an edit, reverting to a previous edit. What value do they hold?"
   ]
  },
  {
   "cell_type": "markdown",
   "metadata": {},
   "source": [
    "# Statistics for No of Edits"
   ]
  },
  {
   "cell_type": "code",
   "execution_count": 40,
   "metadata": {},
   "outputs": [],
   "source": [
    "# # Plotting No of Edits for the Items in the dataset \n",
    "# # Scatter Plot\n",
    "\n",
    "# plt.scatter(politics_items.index, politics_items.values)\n",
    "\n",
    "# plt.title(\"No of Edits vs No of Items\")\n",
    "# plt.xlabel(\"Number of Items\")\n",
    "# plt.ylabel(\"No of Edits\")\n",
    "\n",
    "# plt.show()"
   ]
  },
  {
   "cell_type": "code",
   "execution_count": 41,
   "metadata": {},
   "outputs": [],
   "source": [
    "no_of_edits = politics_items.to_numpy()"
   ]
  },
  {
   "cell_type": "code",
   "execution_count": 42,
   "metadata": {},
   "outputs": [
    {
     "data": {
      "image/png": "[encoded data removed]",
      "text/plain": [
       "<Figure size 432x288 with 1 Axes>"
      ]
     },
     "metadata": {
      "needs_background": "light"
     },
     "output_type": "display_data"
    }
   ],
   "source": [
    "# Plotting No of Edits for the Items in the dataset \n",
    "# Line Plot\n",
    "\n",
    "plt.plot(no_of_edits)\n",
    "\n",
    "plt.title(\"No of Edits vs No of Items\")\n",
    "plt.xlabel(\"Number of Items\")\n",
    "plt.ylabel(\"No of Edits\")\n",
    "\n",
    "plt.show()"
   ]
  },
  {
   "cell_type": "markdown",
   "metadata": {},
   "source": [
    "Very few items have a high number of edits as compared to the rest of the dataset."
   ]
  },
  {
   "cell_type": "markdown",
   "metadata": {},
   "source": [
    "# Top 25% of the Dataset\n",
    "\n",
    "As we want to get a closer look at the highly edited items, we are using the statistics obtained from the main dataset to look at the top 25% of items which had no of edits > 65"
   ]
  },
  {
   "cell_type": "code",
   "execution_count": 43,
   "metadata": {},
   "outputs": [],
   "source": [
    "# # Items that fall in the top 25% of the dataset\n",
    "# top_25_percent = p_items[p_items['count'] > 65]\n",
    "# top_25_per = top_25_percent.rename(columns = {'type':'qid'})"
   ]
  },
  {
   "cell_type": "code",
   "execution_count": 44,
   "metadata": {},
   "outputs": [],
   "source": [
    "# top_25_per.describe"
   ]
  },
  {
   "cell_type": "code",
   "execution_count": 45,
   "metadata": {},
   "outputs": [],
   "source": [
    "# # No of items \n",
    "\n",
    "# print('Between 66 and 99')\n",
    "# print(top_25_percent[(top_25_percent['count'] >= 66) & (top_25_percent['count'] < 100)])\n",
    "# print('Between 100 and 199')\n",
    "# print(top_25_percent[(top_25_percent['count'] >= 100) & (top_25_percent['count'] < 200)])\n",
    "# print('Between 200 and 299')\n",
    "# print(top_25_percent[(top_25_percent['count'] >= 200) & (top_25_percent['count'] < 300)])\n",
    "# print('Between 300 and 399')\n",
    "# print(top_25_percent[(top_25_percent['count'] >= 300) & (top_25_percent['count'] < 400)])\n",
    "# print('Between 400 and 499')\n",
    "# print(top_25_percent[(top_25_percent['count'] >= 400) & (top_25_percent['count'] < 500)])\n",
    "# print('Between 500 and 599')\n",
    "# print(top_25_percent[(top_25_percent['count'] >= 500) & (top_25_percent['count'] < 600)])\n",
    "# print('Between 600 and 699')\n",
    "# print(top_25_percent[(top_25_percent['count'] >= 600) & (top_25_percent['count'] < 700)])\n",
    "# print('Between 700 and 799')\n",
    "# print(top_25_percent[(top_25_percent['count'] >= 700) & (top_25_percent['count'] < 800)])\n",
    "# print('Between 800 and 899')\n",
    "# print(top_25_percent[(top_25_percent['count'] >= 800) & (top_25_percent['count'] < 900)])\n",
    "# print('> than 900')\n",
    "# print(top_25_percent[top_25_percent['count'] >= 900])"
   ]
  },
  {
   "cell_type": "markdown",
   "metadata": {},
   "source": [
    "# Grouping by Proxies"
   ]
  },
  {
   "cell_type": "code",
   "execution_count": 46,
   "metadata": {},
   "outputs": [],
   "source": [
    "reverts = rev[\"type\"].str.contains(\"revert\")\n",
    "revert_edits = reverts.groupby(rev[\"qid\"], sort=False).sum().astype(np.uintc)"
   ]
  },
  {
   "cell_type": "code",
   "execution_count": 47,
   "metadata": {},
   "outputs": [],
   "source": [
    "merges = rev[\"type\"].str.contains(\"merge\")\n",
    "merge_edits = merges.groupby(rev[\"qid\"], sort=False).sum().astype(np.uintc)"
   ]
  },
  {
   "cell_type": "code",
   "execution_count": 48,
   "metadata": {},
   "outputs": [],
   "source": [
    "undos = rev[\"type\"].str.contains(\"undo\")\n",
    "undo_edits = undos.groupby(rev[\"qid\"], sort=False).sum().astype(np.uintc)"
   ]
  },
  {
   "cell_type": "code",
   "execution_count": 49,
   "metadata": {},
   "outputs": [],
   "source": [
    "restores = rev[\"type\"].str.contains(\"restore\")\n",
    "restore_edits = restores.groupby(rev[\"qid\"], sort=False).sum().astype(np.uintc)"
   ]
  },
  {
   "cell_type": "code",
   "execution_count": 50,
   "metadata": {},
   "outputs": [],
   "source": [
    "protects = rev[\"type\"].str.contains(\"protect\")\n",
    "protect_edits = protects.groupby(rev[\"qid\"], sort=False).sum().astype(np.uintc)"
   ]
  },
  {
   "cell_type": "code",
   "execution_count": 51,
   "metadata": {},
   "outputs": [],
   "source": [
    "removes = rev[\"type\"].str.contains(\"remove\")\n",
    "remove_edits = removes.groupby(rev[\"qid\"], sort=False).sum().astype(np.uintc)"
   ]
  },
  {
   "cell_type": "code",
   "execution_count": 94,
   "metadata": {},
   "outputs": [],
   "source": [
    "# Creating a dataframe which will contain qids for items and no of each proxy\n",
    "proxies = pd.DataFrame({'revert': revert_edits, 'merge': merge_edits, 'undo': undo_edits, 'restore': restore_edits, \n",
    "                        'protect': protect_edits, 'remove': remove_edits})"
   ]
  },
  {
   "cell_type": "code",
   "execution_count": 95,
   "metadata": {},
   "outputs": [],
   "source": [
    "proxies = proxies.reset_index()"
   ]
  },
  {
   "cell_type": "code",
   "execution_count": 96,
   "metadata": {},
   "outputs": [
    {
     "data": {
      "text/plain": [
       "Index(['qid', 'revert', 'merge', 'undo', 'restore', 'protect', 'remove'], dtype='object')"
      ]
     },
     "execution_count": 96,
     "metadata": {},
     "output_type": "execute_result"
    }
   ],
   "source": [
    "proxies.columns"
   ]
  },
  {
   "cell_type": "code",
   "execution_count": 55,
   "metadata": {},
   "outputs": [
    {
     "data": {
      "text/plain": [
       "Index(['qid', 'editscount'], dtype='object')"
      ]
     },
     "execution_count": 55,
     "metadata": {},
     "output_type": "execute_result"
    }
   ],
   "source": [
    "df_editscount.columns"
   ]
  },
  {
   "cell_type": "code",
   "execution_count": 97,
   "metadata": {},
   "outputs": [],
   "source": [
    "# Adding editscount for each item \n",
    "proxies = pd.merge(proxies, df_editscount, how='inner', on=['qid'])"
   ]
  },
  {
   "cell_type": "code",
   "execution_count": 102,
   "metadata": {},
   "outputs": [],
   "source": [
    "# Counting the number of users per item that is userscount\n",
    "rev_users = rev.groupby('qid')['username'].nunique()\n",
    "# Converting to a dataframe so that it can be compared/merged \n",
    "df_userscount = pd.DataFrame({'qid':rev_users.index, 'userscount':rev_users.values})"
   ]
  },
  {
   "cell_type": "code",
   "execution_count": 106,
   "metadata": {},
   "outputs": [],
   "source": [
    "# Adding userscount for each item \n",
    "proxies = pd.merge(proxies, df_userscount, how='inner', on=['qid'])"
   ]
  },
  {
   "cell_type": "code",
   "execution_count": 107,
   "metadata": {},
   "outputs": [
    {
     "data": {
      "text/html": [
       "<div>\n",
       "<style scoped>\n",
       "    .dataframe tbody tr th:only-of-type {\n",
       "        vertical-align: middle;\n",
       "    }\n",
       "\n",
       "    .dataframe tbody tr th {\n",
       "        vertical-align: top;\n",
       "    }\n",
       "\n",
       "    .dataframe thead th {\n",
       "        text-align: right;\n",
       "    }\n",
       "</style>\n",
       "<table border=\"1\" class=\"dataframe\">\n",
       "  <thead>\n",
       "    <tr style=\"text-align: right;\">\n",
       "      <th></th>\n",
       "      <th>revert</th>\n",
       "      <th>merge</th>\n",
       "      <th>undo</th>\n",
       "      <th>restore</th>\n",
       "      <th>protect</th>\n",
       "      <th>remove</th>\n",
       "      <th>editscount</th>\n",
       "      <th>userscount</th>\n",
       "    </tr>\n",
       "  </thead>\n",
       "  <tbody>\n",
       "    <tr>\n",
       "      <th>count</th>\n",
       "      <td>142053.000000</td>\n",
       "      <td>142053.000000</td>\n",
       "      <td>142053.000000</td>\n",
       "      <td>142053.000000</td>\n",
       "      <td>142053.000000</td>\n",
       "      <td>142053.000000</td>\n",
       "      <td>142053.000000</td>\n",
       "      <td>142053.000000</td>\n",
       "    </tr>\n",
       "    <tr>\n",
       "      <th>mean</th>\n",
       "      <td>0.007328</td>\n",
       "      <td>0.005991</td>\n",
       "      <td>0.007568</td>\n",
       "      <td>0.002921</td>\n",
       "      <td>0.000169</td>\n",
       "      <td>0.450916</td>\n",
       "      <td>23.086911</td>\n",
       "      <td>2.570076</td>\n",
       "    </tr>\n",
       "    <tr>\n",
       "      <th>std</th>\n",
       "      <td>0.142866</td>\n",
       "      <td>0.081774</td>\n",
       "      <td>0.134320</td>\n",
       "      <td>0.073805</td>\n",
       "      <td>0.012997</td>\n",
       "      <td>1.505710</td>\n",
       "      <td>24.823199</td>\n",
       "      <td>1.841794</td>\n",
       "    </tr>\n",
       "    <tr>\n",
       "      <th>min</th>\n",
       "      <td>0.000000</td>\n",
       "      <td>0.000000</td>\n",
       "      <td>0.000000</td>\n",
       "      <td>0.000000</td>\n",
       "      <td>0.000000</td>\n",
       "      <td>0.000000</td>\n",
       "      <td>6.000000</td>\n",
       "      <td>1.000000</td>\n",
       "    </tr>\n",
       "    <tr>\n",
       "      <th>25%</th>\n",
       "      <td>0.000000</td>\n",
       "      <td>0.000000</td>\n",
       "      <td>0.000000</td>\n",
       "      <td>0.000000</td>\n",
       "      <td>0.000000</td>\n",
       "      <td>0.000000</td>\n",
       "      <td>8.000000</td>\n",
       "      <td>1.000000</td>\n",
       "    </tr>\n",
       "    <tr>\n",
       "      <th>50%</th>\n",
       "      <td>0.000000</td>\n",
       "      <td>0.000000</td>\n",
       "      <td>0.000000</td>\n",
       "      <td>0.000000</td>\n",
       "      <td>0.000000</td>\n",
       "      <td>0.000000</td>\n",
       "      <td>12.000000</td>\n",
       "      <td>2.000000</td>\n",
       "    </tr>\n",
       "    <tr>\n",
       "      <th>75%</th>\n",
       "      <td>0.000000</td>\n",
       "      <td>0.000000</td>\n",
       "      <td>0.000000</td>\n",
       "      <td>0.000000</td>\n",
       "      <td>0.000000</td>\n",
       "      <td>0.000000</td>\n",
       "      <td>22.000000</td>\n",
       "      <td>3.000000</td>\n",
       "    </tr>\n",
       "    <tr>\n",
       "      <th>max</th>\n",
       "      <td>15.000000</td>\n",
       "      <td>4.000000</td>\n",
       "      <td>19.000000</td>\n",
       "      <td>8.000000</td>\n",
       "      <td>1.000000</td>\n",
       "      <td>137.000000</td>\n",
       "      <td>917.000000</td>\n",
       "      <td>122.000000</td>\n",
       "    </tr>\n",
       "  </tbody>\n",
       "</table>\n",
       "</div>"
      ],
      "text/plain": [
       "              revert          merge           undo        restore  \\\n",
       "count  142053.000000  142053.000000  142053.000000  142053.000000   \n",
       "mean        0.007328       0.005991       0.007568       0.002921   \n",
       "std         0.142866       0.081774       0.134320       0.073805   \n",
       "min         0.000000       0.000000       0.000000       0.000000   \n",
       "25%         0.000000       0.000000       0.000000       0.000000   \n",
       "50%         0.000000       0.000000       0.000000       0.000000   \n",
       "75%         0.000000       0.000000       0.000000       0.000000   \n",
       "max        15.000000       4.000000      19.000000       8.000000   \n",
       "\n",
       "             protect         remove     editscount     userscount  \n",
       "count  142053.000000  142053.000000  142053.000000  142053.000000  \n",
       "mean        0.000169       0.450916      23.086911       2.570076  \n",
       "std         0.012997       1.505710      24.823199       1.841794  \n",
       "min         0.000000       0.000000       6.000000       1.000000  \n",
       "25%         0.000000       0.000000       8.000000       1.000000  \n",
       "50%         0.000000       0.000000      12.000000       2.000000  \n",
       "75%         0.000000       0.000000      22.000000       3.000000  \n",
       "max         1.000000     137.000000     917.000000     122.000000  "
      ]
     },
     "execution_count": 107,
     "metadata": {},
     "output_type": "execute_result"
    }
   ],
   "source": [
    "proxies.describe()"
   ]
  },
  {
   "cell_type": "markdown",
   "metadata": {},
   "source": [
    "Observations:\n",
    "- Proxies do not exist for a lot of items\n",
    "- Mean is very low\n",
    "- Median is 0 for all proxies, 75th percentile is also 0\n",
    "- Remove has the highest value in the dataset, followed by undo, revert, restore, merge, protected\n",
    "- Dataset has shown that it contains a high number remove edits however assumptions that reverts an undo would be useful can be deemed true as the dataset contains more of them\n",
    "- New Assumption: revert, undo, restore will be most useful to look at"
   ]
  },
  {
   "cell_type": "code",
   "execution_count": 108,
   "metadata": {},
   "outputs": [
    {
     "data": {
      "text/plain": [
       "Text(0, 0.5, 'No of Edits')"
      ]
     },
     "execution_count": 108,
     "metadata": {},
     "output_type": "execute_result"
    },
    {
     "data": {
      "image/png": "[encoded data removed]",
      "text/plain": [
       "<Figure size 432x288 with 1 Axes>"
      ]
     },
     "metadata": {
      "needs_background": "light"
     },
     "output_type": "display_data"
    }
   ],
   "source": [
    "ax = sns.scatterplot(x=\"revert\", y=\"editscount\", data=proxies)\n",
    "ax.set_title(\"No of Reverts vs No of Edits\")\n",
    "ax.set_xlabel(\"No of Reverts\")\n",
    "ax.set_ylabel(\"No of Edits\")\n",
    "# No of reverts are very low for highly edited items"
   ]
  },
  {
   "cell_type": "code",
   "execution_count": 109,
   "metadata": {},
   "outputs": [
    {
     "data": {
      "text/plain": [
       "<seaborn.axisgrid.FacetGrid at 0x1e59a074850>"
      ]
     },
     "execution_count": 109,
     "metadata": {},
     "output_type": "execute_result"
    },
    {
     "data": {
      "image/png": "[encoded data removed]",
      "text/plain": [
       "<Figure size 360x360 with 1 Axes>"
      ]
     },
     "metadata": {
      "needs_background": "light"
     },
     "output_type": "display_data"
    }
   ],
   "source": [
    "sns.lmplot(x=\"revert\", y=\"editscount\", data=proxies)"
   ]
  },
  {
   "cell_type": "code",
   "execution_count": 110,
   "metadata": {},
   "outputs": [
    {
     "data": {
      "text/html": [
       "<div>\n",
       "<style scoped>\n",
       "    .dataframe tbody tr th:only-of-type {\n",
       "        vertical-align: middle;\n",
       "    }\n",
       "\n",
       "    .dataframe tbody tr th {\n",
       "        vertical-align: top;\n",
       "    }\n",
       "\n",
       "    .dataframe thead th {\n",
       "        text-align: right;\n",
       "    }\n",
       "</style>\n",
       "<table border=\"1\" class=\"dataframe\">\n",
       "  <thead>\n",
       "    <tr style=\"text-align: right;\">\n",
       "      <th></th>\n",
       "      <th>revert</th>\n",
       "      <th>merge</th>\n",
       "      <th>undo</th>\n",
       "      <th>restore</th>\n",
       "      <th>protect</th>\n",
       "      <th>remove</th>\n",
       "      <th>editscount</th>\n",
       "      <th>userscount</th>\n",
       "    </tr>\n",
       "  </thead>\n",
       "  <tbody>\n",
       "    <tr>\n",
       "      <th>revert</th>\n",
       "      <td>1.000000</td>\n",
       "      <td>0.046256</td>\n",
       "      <td>0.370927</td>\n",
       "      <td>0.459971</td>\n",
       "      <td>0.336752</td>\n",
       "      <td>0.061543</td>\n",
       "      <td>0.026817</td>\n",
       "      <td>0.274668</td>\n",
       "    </tr>\n",
       "    <tr>\n",
       "      <th>merge</th>\n",
       "      <td>0.046256</td>\n",
       "      <td>1.000000</td>\n",
       "      <td>0.059323</td>\n",
       "      <td>0.060086</td>\n",
       "      <td>0.025542</td>\n",
       "      <td>0.041695</td>\n",
       "      <td>-0.023738</td>\n",
       "      <td>0.100346</td>\n",
       "    </tr>\n",
       "    <tr>\n",
       "      <th>undo</th>\n",
       "      <td>0.370927</td>\n",
       "      <td>0.059323</td>\n",
       "      <td>1.000000</td>\n",
       "      <td>0.310929</td>\n",
       "      <td>0.180728</td>\n",
       "      <td>0.078361</td>\n",
       "      <td>0.036428</td>\n",
       "      <td>0.302605</td>\n",
       "    </tr>\n",
       "    <tr>\n",
       "      <th>restore</th>\n",
       "      <td>0.459971</td>\n",
       "      <td>0.060086</td>\n",
       "      <td>0.310929</td>\n",
       "      <td>1.000000</td>\n",
       "      <td>0.226986</td>\n",
       "      <td>0.097356</td>\n",
       "      <td>0.037709</td>\n",
       "      <td>0.218616</td>\n",
       "    </tr>\n",
       "    <tr>\n",
       "      <th>protect</th>\n",
       "      <td>0.336752</td>\n",
       "      <td>0.025542</td>\n",
       "      <td>0.180728</td>\n",
       "      <td>0.226986</td>\n",
       "      <td>1.000000</td>\n",
       "      <td>0.013014</td>\n",
       "      <td>0.011017</td>\n",
       "      <td>0.085377</td>\n",
       "    </tr>\n",
       "    <tr>\n",
       "      <th>remove</th>\n",
       "      <td>0.061543</td>\n",
       "      <td>0.041695</td>\n",
       "      <td>0.078361</td>\n",
       "      <td>0.097356</td>\n",
       "      <td>0.013014</td>\n",
       "      <td>1.000000</td>\n",
       "      <td>0.190348</td>\n",
       "      <td>0.036126</td>\n",
       "    </tr>\n",
       "    <tr>\n",
       "      <th>editscount</th>\n",
       "      <td>0.026817</td>\n",
       "      <td>-0.023738</td>\n",
       "      <td>0.036428</td>\n",
       "      <td>0.037709</td>\n",
       "      <td>0.011017</td>\n",
       "      <td>0.190348</td>\n",
       "      <td>1.000000</td>\n",
       "      <td>-0.134439</td>\n",
       "    </tr>\n",
       "    <tr>\n",
       "      <th>userscount</th>\n",
       "      <td>0.274668</td>\n",
       "      <td>0.100346</td>\n",
       "      <td>0.302605</td>\n",
       "      <td>0.218616</td>\n",
       "      <td>0.085377</td>\n",
       "      <td>0.036126</td>\n",
       "      <td>-0.134439</td>\n",
       "      <td>1.000000</td>\n",
       "    </tr>\n",
       "  </tbody>\n",
       "</table>\n",
       "</div>"
      ],
      "text/plain": [
       "              revert     merge      undo   restore   protect    remove  \\\n",
       "revert      1.000000  0.046256  0.370927  0.459971  0.336752  0.061543   \n",
       "merge       0.046256  1.000000  0.059323  0.060086  0.025542  0.041695   \n",
       "undo        0.370927  0.059323  1.000000  0.310929  0.180728  0.078361   \n",
       "restore     0.459971  0.060086  0.310929  1.000000  0.226986  0.097356   \n",
       "protect     0.336752  0.025542  0.180728  0.226986  1.000000  0.013014   \n",
       "remove      0.061543  0.041695  0.078361  0.097356  0.013014  1.000000   \n",
       "editscount  0.026817 -0.023738  0.036428  0.037709  0.011017  0.190348   \n",
       "userscount  0.274668  0.100346  0.302605  0.218616  0.085377  0.036126   \n",
       "\n",
       "            editscount  userscount  \n",
       "revert        0.026817    0.274668  \n",
       "merge        -0.023738    0.100346  \n",
       "undo          0.036428    0.302605  \n",
       "restore       0.037709    0.218616  \n",
       "protect       0.011017    0.085377  \n",
       "remove        0.190348    0.036126  \n",
       "editscount    1.000000   -0.134439  \n",
       "userscount   -0.134439    1.000000  "
      ]
     },
     "execution_count": 110,
     "metadata": {},
     "output_type": "execute_result"
    }
   ],
   "source": [
    "corr_matrix = proxies.corr()\n",
    "corr_matrix\n",
    "# merge and editscount have a negative correlation"
   ]
  },
  {
   "cell_type": "code",
   "execution_count": 111,
   "metadata": {},
   "outputs": [
    {
     "data": {
      "text/plain": [
       "<matplotlib.axes._subplots.AxesSubplot at 0x1e5920834f0>"
      ]
     },
     "execution_count": 111,
     "metadata": {},
     "output_type": "execute_result"
    },
    {
     "data": {
      "image/png": "[encoded data removed]",
      "text/plain": [
       "<Figure size 432x288 with 2 Axes>"
      ]
     },
     "metadata": {
      "needs_background": "light"
     },
     "output_type": "display_data"
    }
   ],
   "source": [
    "sns.heatmap(corr_matrix)"
   ]
  },
  {
   "cell_type": "code",
   "execution_count": 65,
   "metadata": {},
   "outputs": [
    {
     "data": {
      "text/plain": [
       "<seaborn.axisgrid.FacetGrid at 0x1e5967c0c40>"
      ]
     },
     "execution_count": 65,
     "metadata": {},
     "output_type": "execute_result"
    },
    {
     "data": {
      "image/png": "[encoded data removed]",
      "text/plain": [
       "<Figure size 648x432 with 1 Axes>"
      ]
     },
     "metadata": {
      "needs_background": "light"
     },
     "output_type": "display_data"
    }
   ],
   "source": [
    "# restore and revert have some correlation - weak positive\n",
    "sns.lmplot(x=\"revert\", y=\"restore\", data=proxies, height=6, aspect=1.5)"
   ]
  },
  {
   "cell_type": "code",
   "execution_count": 113,
   "metadata": {},
   "outputs": [
    {
     "data": {
      "text/plain": [
       "Text(0, 0.5, 'No of Edits')"
      ]
     },
     "execution_count": 113,
     "metadata": {},
     "output_type": "execute_result"
    },
    {
     "data": {
      "image/png": "[encoded data removed]",
      "text/plain": [
       "<Figure size 432x288 with 1 Axes>"
      ]
     },
     "metadata": {
      "needs_background": "light"
     },
     "output_type": "display_data"
    }
   ],
   "source": [
    "# userscount and editscount have a weak negative correlation - although not very high - it is much higher than others\n",
    "ax = sns.scatterplot(x=\"userscount\", y=\"editscount\", data=proxies)\n",
    "ax.set_title(\"No of Users vs No of Edits\")\n",
    "ax.set_xlabel(\"No of Users\")\n",
    "ax.set_ylabel(\"No of Edits\")"
   ]
  },
  {
   "cell_type": "code",
   "execution_count": 119,
   "metadata": {},
   "outputs": [
    {
     "data": {
      "text/plain": [
       "<seaborn.axisgrid.FacetGrid at 0x1e59dad0b20>"
      ]
     },
     "execution_count": 119,
     "metadata": {},
     "output_type": "execute_result"
    },
    {
     "data": {
      "image/png": "[encoded data removed]",
      "text/plain": [
       "<Figure size 864x432 with 1 Axes>"
      ]
     },
     "metadata": {
      "needs_background": "light"
     },
     "output_type": "display_data"
    }
   ],
   "source": [
    "sns.lmplot(x=\"userscount\", y=\"editscount\", data=proxies, height=6, aspect=2)"
   ]
  },
  {
   "cell_type": "code",
   "execution_count": 132,
   "metadata": {},
   "outputs": [],
   "source": [
    "# (proxies[proxies['userscount'] == 1]).to_csv('/Users/tushi/PRJ/WikidataParsing/test_user_1.csv')"
   ]
  },
  {
   "cell_type": "code",
   "execution_count": 135,
   "metadata": {},
   "outputs": [],
   "source": [
    "# Removing items with 0 reverts, merges, undos, restores, removes, protects\n",
    "# Removing items with editscount <= 5 \n",
    "to_remove = proxies[(proxies['revert'] == 0) & (proxies['merge'] == 0) & (proxies['undo'] == 0) & (proxies['restore'] == 0) & \n",
    "                   (proxies['remove'] == 0) & (proxies['protect'] == 0)].index\n",
    "proxies = proxies.drop(to_remove)"
   ]
  },
  {
   "cell_type": "code",
   "execution_count": 139,
   "metadata": {},
   "outputs": [],
   "source": [
    "# proxies.to_csv('/Users/tushi/PRJ/WikidataParsing/test_proxies.csv')"
   ]
  },
  {
   "cell_type": "code",
   "execution_count": 140,
   "metadata": {},
   "outputs": [
    {
     "data": {
      "text/plain": [
       "(22102, 9)"
      ]
     },
     "execution_count": 140,
     "metadata": {},
     "output_type": "execute_result"
    }
   ],
   "source": [
    "proxies.shape"
   ]
  },
  {
   "cell_type": "code",
   "execution_count": null,
   "metadata": {},
   "outputs": [],
   "source": []
  }
 ],
 "metadata": {
  "kernelspec": {
   "display_name": "Python 3",
   "language": "python",
   "name": "python3"
  },
  "language_info": {
   "codemirror_mode": {
    "name": "ipython",
    "version": 3
   },
   "file_extension": ".py",
   "mimetype": "text/x-python",
   "name": "python",
   "nbconvert_exporter": "python",
   "pygments_lexer": "ipython3",
   "version": "3.8.3"
  }
 },
 "nbformat": 4,
 "nbformat_minor": 4
}
