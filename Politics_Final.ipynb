{
 "cells": [
  {
   "cell_type": "markdown",
   "metadata": {},
   "source": [
    "# Politics\n",
    "\n",
    "- Data Cleaning\n",
    "- Data Visualisation\n",
    "- Data Analysis"
   ]
  },
  {
   "cell_type": "code",
   "execution_count": 32,
   "metadata": {},
   "outputs": [],
   "source": [
    "import pandas as pd\n",
    "import matplotlib.pyplot as plt\n",
    "import numpy as np\n",
    "import time\n",
    "from datetime import datetime\n",
    "from datetime import timezone\n",
    "\n",
    "%matplotlib inline"
   ]
  },
  {
   "cell_type": "code",
   "execution_count": 2,
   "metadata": {},
   "outputs": [],
   "source": [
    "# Reading the data from politics revisions\n",
    "# Contains the revisions for all the selected items\n",
    "revisions = pd.read_csv('/Users/tushi/PRJ/WikidataParsing/topics/data_with_revisions/politics_revisions.csv')\n",
    "items = pd.read_csv('/Users/tushi/PRJ/WikidataParsing/topics/data/politics.csv')"
   ]
  },
  {
   "cell_type": "code",
   "execution_count": 3,
   "metadata": {},
   "outputs": [
    {
     "name": "stdout",
     "output_type": "stream",
     "text": [
      "Number of Revisions in Politics Dataset\n",
      "(3915164, 12)\n",
      "Number of Wikidata Items in Politics Dataset\n",
      "(414463, 3)\n"
     ]
    }
   ],
   "source": [
    "print(\"Number of Revisions in Politics Dataset\")\n",
    "print(revisions.shape)\n",
    "print(\"Number of Wikidata Items in Politics Dataset\")\n",
    "print(items.shape)"
   ]
  },
  {
   "cell_type": "markdown",
   "metadata": {},
   "source": [
    "# Data Cleaning\n",
    "\n",
    "- Drop uneccessary columns\n",
    "- Assign types for all edits\n",
    "- Assign user types for all edits\n",
    "- Remove rows with empty comments - better to remove after calculating the types in case there are some edge cases which have not been discovered\n",
    "- Convert timestamps to datetime objects\n",
    "- (Remove items that contain only bot edits)\n",
    "- Remove items with editcounts < (If removing rows with empty comments will need to recalculate the edit count and merge with dataset)"
   ]
  },
  {
   "cell_type": "code",
   "execution_count": 4,
   "metadata": {},
   "outputs": [],
   "source": [
    "# Dropping unecessary columns from the revisions dataframe\n",
    "rev = revisions.drop(['pageid', 'type', 'editentity', 'parentid'], axis=1)"
   ]
  },
  {
   "cell_type": "code",
   "execution_count": 5,
   "metadata": {},
   "outputs": [],
   "source": [
    "# Method to assign edit types to each revision by using the comment\n",
    "def get_edit_type(comment):\n",
    "    # Decoding the comment from a bytes object to a string\n",
    "    # Converting the comment to lowercase\n",
    "    # c = comment.decode(\"utf-8\").lower()\n",
    "    c = comment.lower()\n",
    "    #print(c)\n",
    "    editType = '' \n",
    "    \n",
    "    if c == '':\n",
    "        return editType\n",
    "    \n",
    "    if \"|\" in c:\n",
    "        # Comments which have |\n",
    "        cc = c.split(\"|\")[0].replace(\"/* \", \"\")\n",
    "        if 'undo' in cc:\n",
    "            editType = 'undo'\n",
    "            return editType\n",
    "        elif 'restore' in cc:\n",
    "            editType = 'restore'\n",
    "            return editType\n",
    "        elif 'wbsetclaimvalue' in cc:\n",
    "            editType = 'set'\n",
    "            return editType\n",
    "        elif 'wbsetlabeldescriptionaliases' in cc:\n",
    "            editType = 'set'\n",
    "            return editType\n",
    "        elif 'wbcreateredirect' in cc:\n",
    "            editType = 'create'\n",
    "            return editType\n",
    "        elif 'merge' in cc:\n",
    "            editType = 'merge'\n",
    "            return editType\n",
    "        elif '-' in cc:\n",
    "            ccc = cc.split(\"-\")[1]\n",
    "            if 'create' in ccc:\n",
    "                editType = 'create'\n",
    "                return editType\n",
    "            elif 'add' in ccc:\n",
    "                editType = 'add'\n",
    "                return editType\n",
    "            elif 'set' in ccc:\n",
    "                editType = 'set'\n",
    "                return editType\n",
    "            elif 'update' in ccc:\n",
    "                editType = 'update'\n",
    "                return editType\n",
    "            elif 'remove' in ccc:\n",
    "                editType = 'remove'\n",
    "                return editType\n",
    "    if 'revert' in c: \n",
    "        editType = 'revert'\n",
    "        return editType  \n",
    "    elif 'protect' in c:\n",
    "        editType = 'protect'\n",
    "        return editType  \n",
    "    elif 'undid' in c:\n",
    "        editType = 'undo'\n",
    "        return editType      \n",
    "    return editType\n",
    "        "
   ]
  },
  {
   "cell_type": "code",
   "execution_count": 6,
   "metadata": {},
   "outputs": [],
   "source": [
    "# Assigning edit types to each revision\n",
    "rev['type'] = [get_edit_type(comment) for comment in rev['comment']]"
   ]
  },
  {
   "cell_type": "code",
   "execution_count": 7,
   "metadata": {},
   "outputs": [
    {
     "data": {
      "text/plain": [
       "(3915164, 9)"
      ]
     },
     "execution_count": 7,
     "metadata": {},
     "output_type": "execute_result"
    }
   ],
   "source": [
    "rev.shape"
   ]
  },
  {
   "cell_type": "code",
   "execution_count": 8,
   "metadata": {},
   "outputs": [],
   "source": [
    "# Removing revisions with empty types \n",
    "# Removing revisions that either had an empty comment or or an edge case\n",
    "to_remove = rev[rev['type'] == ''].index\n",
    "rev = rev.drop(to_remove)"
   ]
  },
  {
   "cell_type": "code",
   "execution_count": 9,
   "metadata": {},
   "outputs": [],
   "source": [
    "# Reading csv with bot names scraped from Wikidata\n",
    "bots = pd.read_csv('/Users/tushi/PRJ/WikidataParsing/wikidata_bots.csv')"
   ]
  },
  {
   "cell_type": "code",
   "execution_count": 10,
   "metadata": {},
   "outputs": [],
   "source": [
    "# Method to assign user types to revisions\n",
    "# 3 types: Registeres, Anonymous, Bot\n",
    "def get_user_type(user):\n",
    "    \n",
    "    u = user[1:].replace(\"'\", \"\")\n",
    "    \n",
    "    userType = ''\n",
    "    \n",
    "    if u == \"\":\n",
    "        userType = 'Anonymous'\n",
    "        return userType\n",
    "    elif u in bots.values:\n",
    "        userType = 'Bot'\n",
    "        return userType\n",
    "    else: \n",
    "        userType = 'Registered'\n",
    "        return userType\n",
    "    return userType\n",
    "    "
   ]
  },
  {
   "cell_type": "code",
   "execution_count": 11,
   "metadata": {},
   "outputs": [],
   "source": [
    "# Assigning user types to revisions\n",
    "rev['usertype'] = [get_user_type(user) for user in rev['username']]"
   ]
  },
  {
   "cell_type": "code",
   "execution_count": 12,
   "metadata": {},
   "outputs": [],
   "source": [
    "# Need to recalculate editcount for the items\n",
    "# Drop old editcount column\n",
    "rev = rev.drop(['editscount'], axis=1)"
   ]
  },
  {
   "cell_type": "code",
   "execution_count": 13,
   "metadata": {},
   "outputs": [],
   "source": [
    "editscount = rev['qid'].value_counts()"
   ]
  },
  {
   "cell_type": "code",
   "execution_count": 14,
   "metadata": {},
   "outputs": [
    {
     "data": {
      "text/plain": [
       "count    413848.000000\n",
       "mean          9.417475\n",
       "std          17.753846\n",
       "min           1.000000\n",
       "25%           2.000000\n",
       "50%           3.000000\n",
       "75%           8.000000\n",
       "max        1431.000000\n",
       "Name: qid, dtype: float64"
      ]
     },
     "execution_count": 14,
     "metadata": {},
     "output_type": "execute_result"
    }
   ],
   "source": [
    "editscount.describe()"
   ]
  },
  {
   "cell_type": "markdown",
   "metadata": {},
   "source": [
    "Rationale for Removing edits <= 5\n",
    "\n",
    "- Research\n",
    "- Range of edits is very large\n",
    "- Median value that is the 50th percentile is 3 edits that is more than half the dataset has items that would not be very interesting to the research as we are interested in highly edited items\n",
    "- Items in the 75th percentile have an editcount of 8 showing that only a small percentage of items - slightly greater than 25% of the items are those that can be deemed interesting\n",
    "- Also important to note that given these values, the data could also contain a reasonable number of outliers - items which are highly edited but do not add value to the research - for example they do not contain reverts or they are sandbox items"
   ]
  },
  {
   "cell_type": "code",
   "execution_count": 15,
   "metadata": {},
   "outputs": [],
   "source": [
    "# Converting to a dataframe so that it can be compared/merged with original dataframe\n",
    "df_editscount = pd.DataFrame({'qid':editscount.index, 'editscount':editscount.values})"
   ]
  },
  {
   "cell_type": "code",
   "execution_count": 16,
   "metadata": {},
   "outputs": [
    {
     "name": "stdout",
     "output_type": "stream",
     "text": [
      "Items with No of Edits = 1\n",
      "100579\n",
      "Items with No of Edits = 2\n",
      "75742\n",
      "Items with No of Edits = 3\n",
      "40352\n",
      "Items with No of Edits = 4\n",
      "32317\n",
      "Items with No of Edits = 5\n",
      "22804\n"
     ]
    }
   ],
   "source": [
    "print('Items with No of Edits = 1')\n",
    "print(len(df_editscount[df_editscount['editscount'] == 1]))\n",
    "\n",
    "print('Items with No of Edits = 2')\n",
    "print(len(df_editscount[df_editscount['editscount'] == 2]))\n",
    "\n",
    "print('Items with No of Edits = 3')\n",
    "print(len(df_editscount[df_editscount['editscount'] == 3]))\n",
    "\n",
    "print('Items with No of Edits = 4')\n",
    "print(len(df_editscount[df_editscount['editscount'] == 4]))\n",
    "\n",
    "print('Items with No of Edits = 5')\n",
    "print(len(df_editscount[df_editscount['editscount'] == 5]))"
   ]
  },
  {
   "cell_type": "code",
   "execution_count": 17,
   "metadata": {},
   "outputs": [],
   "source": [
    "# Removing items with editscount <= 5 \n",
    "to_remove = df_editscount[df_editscount['editscount'] <= 5].index\n",
    "df_editscount = df_editscount.drop(to_remove)"
   ]
  },
  {
   "cell_type": "code",
   "execution_count": 18,
   "metadata": {},
   "outputs": [
    {
     "data": {
      "text/plain": [
       "(142054, 2)"
      ]
     },
     "execution_count": 18,
     "metadata": {},
     "output_type": "execute_result"
    }
   ],
   "source": [
    "df_editscount.shape"
   ]
  },
  {
   "cell_type": "code",
   "execution_count": 19,
   "metadata": {},
   "outputs": [
    {
     "data": {
      "text/plain": [
       "<bound method NDFrame.head of          Unnamed: 0        qid  revisionid             timestamp  \\\n",
       "0                 0   Q2123572   1920126.0  2016-10-10T16:02:04Z   \n",
       "1                 1   Q2123572   1920126.0  2016-10-10T16:02:05Z   \n",
       "2                 2   Q2123572   1787420.0  2016-12-29T18:42:09Z   \n",
       "3                 3   Q2123580    110062.0  2016-10-12T14:37:53Z   \n",
       "4                 4   Q2123580    110062.0  2016-10-12T14:37:55Z   \n",
       "...             ...        ...         ...                   ...   \n",
       "3915159     3915159  Q28094241    850514.0  2016-12-31T23:53:39Z   \n",
       "3915160     3915160  Q28094241    850514.0  2016-12-31T23:53:43Z   \n",
       "3915161     3915161  Q28094262    850514.0  2016-12-31T23:56:00Z   \n",
       "3915162     3915162  Q28094262    850514.0  2016-12-31T23:56:04Z   \n",
       "3915163     3915163  Q28094262    850514.0  2016-12-31T23:56:08Z   \n",
       "\n",
       "                                                   comment     userid  \\\n",
       "0        b'/* wbcreateclaim-create:1| */ [[Property:P77...  1920126.0   \n",
       "1        b'/* wbsetreference-add:2| */ [[Property:P774]...  1920126.0   \n",
       "2        b'/* wbsetdescription-add:1|he */ \\xd7\\xa2\\xd7...  1787420.0   \n",
       "3        b'/* wbcreateclaim-create:1| */ [[Property:P41...   110062.0   \n",
       "4        b'/* wbsetreference-add:2| */ [[Property:P41]]...   110062.0   \n",
       "...                                                    ...        ...   \n",
       "3915159  b'/* wbcreateclaim-create:1| */ [[Property:P31...   850514.0   \n",
       "3915160  b'/* wbcreateclaim-create:1| */ [[Property:P21...   850514.0   \n",
       "3915161           b'/* wbeditentity-create:0| */ #petscan'   850514.0   \n",
       "3915162  b'/* wbcreateclaim-create:1| */ [[Property:P31...   850514.0   \n",
       "3915163  b'/* wbcreateclaim-create:1| */ [[Property:P21...   850514.0   \n",
       "\n",
       "                username    type    usertype  \n",
       "0            b'NikkiBot'  create         Bot  \n",
       "1            b'NikkiBot'     add         Bot  \n",
       "2            b'Mikey641'     add  Registered  \n",
       "3        b'Thierry Caro'  create  Registered  \n",
       "4        b'Thierry Caro'     add  Registered  \n",
       "...                  ...     ...         ...  \n",
       "3915159   b'Tagishsimon'  create  Registered  \n",
       "3915160   b'Tagishsimon'  create  Registered  \n",
       "3915161   b'Tagishsimon'  create  Registered  \n",
       "3915162   b'Tagishsimon'  create  Registered  \n",
       "3915163   b'Tagishsimon'  create  Registered  \n",
       "\n",
       "[3897403 rows x 9 columns]>"
      ]
     },
     "execution_count": 19,
     "metadata": {},
     "output_type": "execute_result"
    }
   ],
   "source": [
    "rev.head"
   ]
  },
  {
   "cell_type": "code",
   "execution_count": 20,
   "metadata": {},
   "outputs": [],
   "source": [
    "# Removing all items with editscount <= 5 from revisions dataset\n",
    "# Removing by finding intersection on qid between bot sets\n",
    "rev = pd.merge(rev, df_editscount, how='inner', on=['qid'])"
   ]
  },
  {
   "cell_type": "code",
   "execution_count": 21,
   "metadata": {},
   "outputs": [
    {
     "data": {
      "text/plain": [
       "<bound method NDFrame.head of          Unnamed: 0        qid  revisionid             timestamp  \\\n",
       "0                 3   Q2123580    110062.0  2016-10-12T14:37:53Z   \n",
       "1                 4   Q2123580    110062.0  2016-10-12T14:37:55Z   \n",
       "2                 5   Q2123580    110062.0  2016-10-12T14:39:57Z   \n",
       "3                 6   Q2123580    110062.0  2016-10-12T14:39:58Z   \n",
       "4                 7   Q2123580     69059.0  2016-11-10T12:37:43Z   \n",
       "...             ...        ...         ...                   ...   \n",
       "3280991     3915142  Q28092862    263846.0  2016-12-31T18:09:07Z   \n",
       "3280992     3915143  Q28092862    263846.0  2016-12-31T18:09:14Z   \n",
       "3280993     3915144  Q28092862    263846.0  2016-12-31T18:09:16Z   \n",
       "3280994     3915145  Q28092862    263846.0  2016-12-31T18:09:17Z   \n",
       "3280995     3915146  Q28092862    263846.0  2016-12-31T18:09:18Z   \n",
       "\n",
       "                                                   comment    userid  \\\n",
       "0        b'/* wbcreateclaim-create:1| */ [[Property:P41...  110062.0   \n",
       "1        b'/* wbsetreference-add:2| */ [[Property:P41]]...  110062.0   \n",
       "2        b'/* wbcreateclaim-create:1| */ [[Property:P94...  110062.0   \n",
       "3        b'/* wbsetreference-add:2| */ [[Property:P94]]...  110062.0   \n",
       "4        b'/* wbsetlabel-add:1|ru */ \\xd0\\x9a\\xd0\\xb8\\x...   69059.0   \n",
       "...                                                    ...       ...   \n",
       "3280991  b\"/* wbcreateclaim-create:1| */ [[Property:P31...  263846.0   \n",
       "3280992  b'/* wbcreateclaim-create:1| */ [[Property:P21...  263846.0   \n",
       "3280993  b'/* wbcreateclaim-create:1| */ [[Property:P10...  263846.0   \n",
       "3280994  b'/* wbcreateclaim-create:1| */ [[Property:P39...  263846.0   \n",
       "3280995  b'/* wbcreateclaim-create:1| */ [[Property:P27...  263846.0   \n",
       "\n",
       "                username    type    usertype  editscount  \n",
       "0        b'Thierry Caro'  create  Registered           7  \n",
       "1        b'Thierry Caro'     add  Registered           7  \n",
       "2        b'Thierry Caro'  create  Registered           7  \n",
       "3        b'Thierry Caro'     add  Registered           7  \n",
       "4              b'Llecco'     add  Registered           7  \n",
       "...                  ...     ...         ...         ...  \n",
       "3280991      b'Authueil'  create  Registered           9  \n",
       "3280992      b'Authueil'  create  Registered           9  \n",
       "3280993      b'Authueil'  create  Registered           9  \n",
       "3280994      b'Authueil'  create  Registered           9  \n",
       "3280995      b'Authueil'  create  Registered           9  \n",
       "\n",
       "[3280996 rows x 10 columns]>"
      ]
     },
     "execution_count": 21,
     "metadata": {},
     "output_type": "execute_result"
    }
   ],
   "source": [
    "rev.head"
   ]
  },
  {
   "cell_type": "code",
   "execution_count": 85,
   "metadata": {},
   "outputs": [],
   "source": [
    "# Converting the timestamps to datetime object\n",
    "rev['timestamp'] = pd.to_datetime(rev.timestamp, format='%Y-%m-%d %H:%M:%S')\n",
    "\n",
    "# Converting to datetime leaves the dates in form '2016-10-12 14:37:53+00:00'\n",
    "# Formatting timestamp to remove +00:00\n",
    "rev['timestamp'] = rev['timestamp'].dt.strftime('%Y-%m-%d %H:%M:%S')\n",
    "\n",
    "# strftime() returns a string object\n",
    "# Converting back to datetime\n",
    "rev['timestamp'] = pd.to_datetime(rev.timestamp, format='%Y-%m-%d %H:%M:%S')"
   ]
  },
  {
   "cell_type": "code",
   "execution_count": 97,
   "metadata": {},
   "outputs": [],
   "source": [
    "# To query info based on datetime remember to input dates in complete formatting\n",
    "# rev[rev['timestamp'] >= '2016-10-01 00:00:00']"
   ]
  },
  {
   "cell_type": "markdown",
   "metadata": {},
   "source": [
    "Imp to parse timestamps as you would potentially be interested in looking at the time difference between edits in the future, difference between datetime objects can be found using timedelta from datetime."
   ]
  },
  {
   "cell_type": "code",
   "execution_count": 99,
   "metadata": {},
   "outputs": [
    {
     "data": {
      "text/plain": [
       "Unnamed: 0             int64\n",
       "qid                   object\n",
       "revisionid           float64\n",
       "timestamp     datetime64[ns]\n",
       "comment               object\n",
       "userid               float64\n",
       "username              object\n",
       "type                  object\n",
       "usertype              object\n",
       "editscount             int64\n",
       "dtype: object"
      ]
     },
     "execution_count": 99,
     "metadata": {},
     "output_type": "execute_result"
    }
   ],
   "source": [
    "rev.dtypes"
   ]
  },
  {
   "cell_type": "code",
   "execution_count": null,
   "metadata": {},
   "outputs": [],
   "source": [
    "# TODO: Calculate number of items in different ranges and plot in bar chart"
   ]
  },
  {
   "cell_type": "code",
   "execution_count": null,
   "metadata": {},
   "outputs": [],
   "source": []
  },
  {
   "cell_type": "code",
   "execution_count": null,
   "metadata": {},
   "outputs": [],
   "source": []
  },
  {
   "cell_type": "code",
   "execution_count": null,
   "metadata": {},
   "outputs": [],
   "source": []
  },
  {
   "cell_type": "code",
   "execution_count": null,
   "metadata": {},
   "outputs": [],
   "source": []
  }
 ],
 "metadata": {
  "kernelspec": {
   "display_name": "Python 3",
   "language": "python",
   "name": "python3"
  },
  "language_info": {
   "codemirror_mode": {
    "name": "ipython",
    "version": 3
   },
   "file_extension": ".py",
   "mimetype": "text/x-python",
   "name": "python",
   "nbconvert_exporter": "python",
   "pygments_lexer": "ipython3",
   "version": "3.8.3"
  }
 },
 "nbformat": 4,
 "nbformat_minor": 4
}
