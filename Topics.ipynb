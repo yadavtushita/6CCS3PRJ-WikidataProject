{
 "cells": [
  {
   "cell_type": "code",
   "execution_count": 82,
   "metadata": {},
   "outputs": [],
   "source": [
    "import numpy as np\n",
    "import pandas as pd\n",
    "from pandas import DataFrame\n",
    "import glob"
   ]
  },
  {
   "cell_type": "code",
   "execution_count": 83,
   "metadata": {},
   "outputs": [],
   "source": [
    "data = pd.read_csv('/Users/tushi/PRJ/WikidataParsing/no_of_edits_all.csv')\n",
    "# data = pd.read_csv('/Users/tushi/PRJ/WikidataParsing/no_of_edits_all.csv', usecols=[0])"
   ]
  },
  {
   "cell_type": "code",
   "execution_count": 84,
   "metadata": {},
   "outputs": [
    {
     "data": {
      "text/plain": [
       "(8365814, 2)"
      ]
     },
     "execution_count": 84,
     "metadata": {},
     "output_type": "execute_result"
    }
   ],
   "source": [
    "data.shape"
   ]
  },
  {
   "cell_type": "code",
   "execution_count": 85,
   "metadata": {},
   "outputs": [
    {
     "data": {
      "text/html": [
       "<div>\n",
       "<style scoped>\n",
       "    .dataframe tbody tr th:only-of-type {\n",
       "        vertical-align: middle;\n",
       "    }\n",
       "\n",
       "    .dataframe tbody tr th {\n",
       "        vertical-align: top;\n",
       "    }\n",
       "\n",
       "    .dataframe thead th {\n",
       "        text-align: right;\n",
       "    }\n",
       "</style>\n",
       "<table border=\"1\" class=\"dataframe\">\n",
       "  <thead>\n",
       "    <tr style=\"text-align: right;\">\n",
       "      <th></th>\n",
       "      <th>Unnamed: 0</th>\n",
       "      <th>pagetitle</th>\n",
       "    </tr>\n",
       "  </thead>\n",
       "  <tbody>\n",
       "    <tr>\n",
       "      <th>0</th>\n",
       "      <td>Q27335409</td>\n",
       "      <td>4231</td>\n",
       "    </tr>\n",
       "    <tr>\n",
       "      <th>1</th>\n",
       "      <td>Q27335792</td>\n",
       "      <td>4096</td>\n",
       "    </tr>\n",
       "    <tr>\n",
       "      <th>2</th>\n",
       "      <td>Q27336022</td>\n",
       "      <td>4042</td>\n",
       "    </tr>\n",
       "    <tr>\n",
       "      <th>3</th>\n",
       "      <td>Q27336098</td>\n",
       "      <td>4007</td>\n",
       "    </tr>\n",
       "    <tr>\n",
       "      <th>4</th>\n",
       "      <td>Q27336831</td>\n",
       "      <td>3874</td>\n",
       "    </tr>\n",
       "  </tbody>\n",
       "</table>\n",
       "</div>"
      ],
      "text/plain": [
       "  Unnamed: 0  pagetitle\n",
       "0  Q27335409       4231\n",
       "1  Q27335792       4096\n",
       "2  Q27336022       4042\n",
       "3  Q27336098       4007\n",
       "4  Q27336831       3874"
      ]
     },
     "execution_count": 85,
     "metadata": {},
     "output_type": "execute_result"
    }
   ],
   "source": [
    "data.head()"
   ]
  },
  {
   "cell_type": "markdown",
   "metadata": {},
   "source": [
    "TODO: \n",
    "\n",
    "Read column 1 from all the csv files collected on Politics - remember to mention in documentation why we are reading only 1 column - some csvs don't have labels due to SPARQL timeout. - done\n",
    "\n",
    "Parse to keep only the Qids - done\n",
    "\n",
    "Verify the data - done\n",
    "\n",
    "Use unique to keep only unique qids - done\n",
    "\n",
    "Output statistics from the data - done\n",
    "\n",
    "Write code/algorithm/for loop to take data from the original parsed data and keep only those qids which belong to this datatset for Politics as retrieved from SPARQL endpoint(This can/should probably be done in the original Jupyter Notebook)\n",
    "\n",
    "Remove unecessary head and tail statements"
   ]
  },
  {
   "cell_type": "code",
   "execution_count": 86,
   "metadata": {},
   "outputs": [
    {
     "data": {
      "text/plain": [
       "Index(['Unnamed: 0', 'pagetitle'], dtype='object')"
      ]
     },
     "execution_count": 86,
     "metadata": {},
     "output_type": "execute_result"
    }
   ],
   "source": [
    "data.columns"
   ]
  },
  {
   "cell_type": "code",
   "execution_count": 87,
   "metadata": {},
   "outputs": [
    {
     "data": {
      "text/plain": [
       "['/Users/tushi/PRJ/WikidataParsing/topics/politics\\\\corruption_scandal.csv',\n",
       " '/Users/tushi/PRJ/WikidataParsing/topics/politics\\\\political_event.csv',\n",
       " '/Users/tushi/PRJ/WikidataParsing/topics/politics\\\\political_ideology.csv',\n",
       " '/Users/tushi/PRJ/WikidataParsing/topics/politics\\\\political_movement.csv',\n",
       " '/Users/tushi/PRJ/WikidataParsing/topics/politics\\\\political_organisations_withoutlabels.csv',\n",
       " '/Users/tushi/PRJ/WikidataParsing/topics/politics\\\\political_scandal.csv',\n",
       " '/Users/tushi/PRJ/WikidataParsing/topics/politics\\\\politicians_withoutlabels.csv',\n",
       " '/Users/tushi/PRJ/WikidataParsing/topics/politics\\\\politics_instance_subclass.csv',\n",
       " '/Users/tushi/PRJ/WikidataParsing/topics/politics\\\\politics_instance_subclass_facet.csv',\n",
       " '/Users/tushi/PRJ/WikidataParsing/topics/politics\\\\social_movement_withoutlabels.csv']"
      ]
     },
     "execution_count": 87,
     "metadata": {},
     "output_type": "execute_result"
    }
   ],
   "source": [
    "glob.glob('/Users/tushi/PRJ/WikidataParsing/topics/politics/*.csv')"
   ]
  },
  {
   "cell_type": "markdown",
   "metadata": {},
   "source": [
    "Instance subclass and instance subclass facet, facet clearly has more items in it, even if we process both we are only keeping unique values thus the question of which one to use might not matter"
   ]
  },
  {
   "cell_type": "code",
   "execution_count": 88,
   "metadata": {},
   "outputs": [
    {
     "name": "stdout",
     "output_type": "stream",
     "text": [
      "Loading /Users/tushi/PRJ/WikidataParsing/topics/politics\\corruption_scandal.csv\n",
      "1\n",
      "Loading /Users/tushi/PRJ/WikidataParsing/topics/politics\\political_event.csv\n",
      "2\n",
      "Loading /Users/tushi/PRJ/WikidataParsing/topics/politics\\political_ideology.csv\n",
      "3\n",
      "Loading /Users/tushi/PRJ/WikidataParsing/topics/politics\\political_movement.csv\n",
      "4\n",
      "Loading /Users/tushi/PRJ/WikidataParsing/topics/politics\\political_organisations_withoutlabels.csv\n",
      "5\n",
      "Loading /Users/tushi/PRJ/WikidataParsing/topics/politics\\political_scandal.csv\n",
      "6\n",
      "Loading /Users/tushi/PRJ/WikidataParsing/topics/politics\\politicians_withoutlabels.csv\n",
      "7\n",
      "Loading /Users/tushi/PRJ/WikidataParsing/topics/politics\\politics_instance_subclass.csv\n",
      "8\n",
      "Loading /Users/tushi/PRJ/WikidataParsing/topics/politics\\politics_instance_subclass_facet.csv\n",
      "9\n",
      "Loading /Users/tushi/PRJ/WikidataParsing/topics/politics\\social_movement_withoutlabels.csv\n",
      "10\n"
     ]
    }
   ],
   "source": [
    "all_dfs = []\n",
    "file_counter = 0\n",
    "for one_csv_file in glob.glob('/Users/tushi/PRJ/WikidataParsing/topics/politics/*.csv'):\n",
    "    print(f'Loading {one_csv_file}')\n",
    "    new_df = pd.read_csv(one_csv_file, usecols=['item'])\n",
    "    all_dfs.append(new_df)\n",
    "    file_counter += 1\n",
    "    print(file_counter)"
   ]
  },
  {
   "cell_type": "code",
   "execution_count": 89,
   "metadata": {},
   "outputs": [
    {
     "data": {
      "text/plain": [
       "10"
      ]
     },
     "execution_count": 89,
     "metadata": {},
     "output_type": "execute_result"
    }
   ],
   "source": [
    "len(all_dfs)"
   ]
  },
  {
   "cell_type": "code",
   "execution_count": 90,
   "metadata": {},
   "outputs": [
    {
     "data": {
      "text/plain": [
       "(1465142, 1)"
      ]
     },
     "execution_count": 90,
     "metadata": {},
     "output_type": "execute_result"
    }
   ],
   "source": [
    "df = pd.concat(all_dfs)\n",
    "df.shape"
   ]
  },
  {
   "cell_type": "code",
   "execution_count": 91,
   "metadata": {},
   "outputs": [
    {
     "data": {
      "text/html": [
       "<div>\n",
       "<style scoped>\n",
       "    .dataframe tbody tr th:only-of-type {\n",
       "        vertical-align: middle;\n",
       "    }\n",
       "\n",
       "    .dataframe tbody tr th {\n",
       "        vertical-align: top;\n",
       "    }\n",
       "\n",
       "    .dataframe thead th {\n",
       "        text-align: right;\n",
       "    }\n",
       "</style>\n",
       "<table border=\"1\" class=\"dataframe\">\n",
       "  <thead>\n",
       "    <tr style=\"text-align: right;\">\n",
       "      <th></th>\n",
       "      <th>item</th>\n",
       "    </tr>\n",
       "  </thead>\n",
       "  <tbody>\n",
       "    <tr>\n",
       "      <th>0</th>\n",
       "      <td>http://www.wikidata.org/entity/Q11509566</td>\n",
       "    </tr>\n",
       "    <tr>\n",
       "      <th>1</th>\n",
       "      <td>http://www.wikidata.org/entity/Q7064145</td>\n",
       "    </tr>\n",
       "    <tr>\n",
       "      <th>2</th>\n",
       "      <td>http://www.wikidata.org/entity/Q20058819</td>\n",
       "    </tr>\n",
       "    <tr>\n",
       "      <th>3</th>\n",
       "      <td>http://www.wikidata.org/entity/Q20059126</td>\n",
       "    </tr>\n",
       "    <tr>\n",
       "      <th>4</th>\n",
       "      <td>http://www.wikidata.org/entity/Q20103919</td>\n",
       "    </tr>\n",
       "  </tbody>\n",
       "</table>\n",
       "</div>"
      ],
      "text/plain": [
       "                                       item\n",
       "0  http://www.wikidata.org/entity/Q11509566\n",
       "1   http://www.wikidata.org/entity/Q7064145\n",
       "2  http://www.wikidata.org/entity/Q20058819\n",
       "3  http://www.wikidata.org/entity/Q20059126\n",
       "4  http://www.wikidata.org/entity/Q20103919"
      ]
     },
     "execution_count": 91,
     "metadata": {},
     "output_type": "execute_result"
    }
   ],
   "source": [
    "df.head()"
   ]
  },
  {
   "cell_type": "code",
   "execution_count": 92,
   "metadata": {},
   "outputs": [
    {
     "data": {
      "text/html": [
       "<div>\n",
       "<style scoped>\n",
       "    .dataframe tbody tr th:only-of-type {\n",
       "        vertical-align: middle;\n",
       "    }\n",
       "\n",
       "    .dataframe tbody tr th {\n",
       "        vertical-align: top;\n",
       "    }\n",
       "\n",
       "    .dataframe thead th {\n",
       "        text-align: right;\n",
       "    }\n",
       "</style>\n",
       "<table border=\"1\" class=\"dataframe\">\n",
       "  <thead>\n",
       "    <tr style=\"text-align: right;\">\n",
       "      <th></th>\n",
       "      <th>item</th>\n",
       "    </tr>\n",
       "  </thead>\n",
       "  <tbody>\n",
       "    <tr>\n",
       "      <th>345434</th>\n",
       "      <td>http://www.wikidata.org/entity/Q108442068</td>\n",
       "    </tr>\n",
       "    <tr>\n",
       "      <th>345435</th>\n",
       "      <td>http://www.wikidata.org/entity/Q108455809</td>\n",
       "    </tr>\n",
       "    <tr>\n",
       "      <th>345436</th>\n",
       "      <td>http://www.wikidata.org/entity/Q108462476</td>\n",
       "    </tr>\n",
       "    <tr>\n",
       "      <th>345437</th>\n",
       "      <td>http://www.wikidata.org/entity/Q109332800</td>\n",
       "    </tr>\n",
       "    <tr>\n",
       "      <th>345438</th>\n",
       "      <td>http://www.wikidata.org/entity/Q111049844</td>\n",
       "    </tr>\n",
       "  </tbody>\n",
       "</table>\n",
       "</div>"
      ],
      "text/plain": [
       "                                             item\n",
       "345434  http://www.wikidata.org/entity/Q108442068\n",
       "345435  http://www.wikidata.org/entity/Q108455809\n",
       "345436  http://www.wikidata.org/entity/Q108462476\n",
       "345437  http://www.wikidata.org/entity/Q109332800\n",
       "345438  http://www.wikidata.org/entity/Q111049844"
      ]
     },
     "execution_count": 92,
     "metadata": {},
     "output_type": "execute_result"
    }
   ],
   "source": [
    "df.tail()"
   ]
  },
  {
   "cell_type": "code",
   "execution_count": 93,
   "metadata": {},
   "outputs": [
    {
     "data": {
      "text/html": [
       "<div>\n",
       "<style scoped>\n",
       "    .dataframe tbody tr th:only-of-type {\n",
       "        vertical-align: middle;\n",
       "    }\n",
       "\n",
       "    .dataframe tbody tr th {\n",
       "        vertical-align: top;\n",
       "    }\n",
       "\n",
       "    .dataframe thead th {\n",
       "        text-align: right;\n",
       "    }\n",
       "</style>\n",
       "<table border=\"1\" class=\"dataframe\">\n",
       "  <thead>\n",
       "    <tr style=\"text-align: right;\">\n",
       "      <th></th>\n",
       "      <th>item</th>\n",
       "    </tr>\n",
       "  </thead>\n",
       "  <tbody>\n",
       "    <tr>\n",
       "      <th>count</th>\n",
       "      <td>1465142</td>\n",
       "    </tr>\n",
       "    <tr>\n",
       "      <th>unique</th>\n",
       "      <td>1462482</td>\n",
       "    </tr>\n",
       "    <tr>\n",
       "      <th>top</th>\n",
       "      <td>http://www.wikidata.org/entity/Q58446712</td>\n",
       "    </tr>\n",
       "    <tr>\n",
       "      <th>freq</th>\n",
       "      <td>4</td>\n",
       "    </tr>\n",
       "  </tbody>\n",
       "</table>\n",
       "</div>"
      ],
      "text/plain": [
       "                                            item\n",
       "count                                    1465142\n",
       "unique                                   1462482\n",
       "top     http://www.wikidata.org/entity/Q58446712\n",
       "freq                                           4"
      ]
     },
     "execution_count": 93,
     "metadata": {},
     "output_type": "execute_result"
    }
   ],
   "source": [
    "df.describe()"
   ]
  },
  {
   "cell_type": "code",
   "execution_count": 94,
   "metadata": {},
   "outputs": [
    {
     "name": "stdout",
     "output_type": "stream",
     "text": [
      "<class 'pandas.core.frame.DataFrame'>\n",
      "Int64Index: 1465142 entries, 0 to 345438\n",
      "Data columns (total 1 columns):\n",
      " #   Column  Non-Null Count    Dtype \n",
      "---  ------  --------------    ----- \n",
      " 0   item    1465142 non-null  object\n",
      "dtypes: object(1)\n",
      "memory usage: 22.4+ MB\n"
     ]
    }
   ],
   "source": [
    "df.info()"
   ]
  },
  {
   "cell_type": "code",
   "execution_count": 95,
   "metadata": {},
   "outputs": [],
   "source": [
    "politics_all = DataFrame.drop_duplicates(df)"
   ]
  },
  {
   "cell_type": "code",
   "execution_count": 96,
   "metadata": {},
   "outputs": [
    {
     "data": {
      "text/plain": [
       "(1462482, 1)"
      ]
     },
     "execution_count": 96,
     "metadata": {},
     "output_type": "execute_result"
    }
   ],
   "source": [
    "politics_all.shape"
   ]
  },
  {
   "cell_type": "code",
   "execution_count": 97,
   "metadata": {},
   "outputs": [
    {
     "name": "stdout",
     "output_type": "stream",
     "text": [
      "<class 'pandas.core.frame.DataFrame'>\n",
      "Int64Index: 1462482 entries, 0 to 345438\n",
      "Data columns (total 1 columns):\n",
      " #   Column  Non-Null Count    Dtype \n",
      "---  ------  --------------    ----- \n",
      " 0   item    1462482 non-null  object\n",
      "dtypes: object(1)\n",
      "memory usage: 22.3+ MB\n"
     ]
    }
   ],
   "source": [
    "politics_all.info()"
   ]
  },
  {
   "cell_type": "code",
   "execution_count": 98,
   "metadata": {},
   "outputs": [
    {
     "data": {
      "text/html": [
       "<div>\n",
       "<style scoped>\n",
       "    .dataframe tbody tr th:only-of-type {\n",
       "        vertical-align: middle;\n",
       "    }\n",
       "\n",
       "    .dataframe tbody tr th {\n",
       "        vertical-align: top;\n",
       "    }\n",
       "\n",
       "    .dataframe thead th {\n",
       "        text-align: right;\n",
       "    }\n",
       "</style>\n",
       "<table border=\"1\" class=\"dataframe\">\n",
       "  <thead>\n",
       "    <tr style=\"text-align: right;\">\n",
       "      <th></th>\n",
       "      <th>item</th>\n",
       "    </tr>\n",
       "  </thead>\n",
       "  <tbody>\n",
       "    <tr>\n",
       "      <th>count</th>\n",
       "      <td>1462482</td>\n",
       "    </tr>\n",
       "    <tr>\n",
       "      <th>unique</th>\n",
       "      <td>1462482</td>\n",
       "    </tr>\n",
       "    <tr>\n",
       "      <th>top</th>\n",
       "      <td>http://www.wikidata.org/entity/Q18235597</td>\n",
       "    </tr>\n",
       "    <tr>\n",
       "      <th>freq</th>\n",
       "      <td>1</td>\n",
       "    </tr>\n",
       "  </tbody>\n",
       "</table>\n",
       "</div>"
      ],
      "text/plain": [
       "                                            item\n",
       "count                                    1462482\n",
       "unique                                   1462482\n",
       "top     http://www.wikidata.org/entity/Q18235597\n",
       "freq                                           1"
      ]
     },
     "execution_count": 98,
     "metadata": {},
     "output_type": "execute_result"
    }
   ],
   "source": [
    "politics_all.describe()"
   ]
  },
  {
   "cell_type": "code",
   "execution_count": 99,
   "metadata": {},
   "outputs": [
    {
     "data": {
      "text/html": [
       "<div>\n",
       "<style scoped>\n",
       "    .dataframe tbody tr th:only-of-type {\n",
       "        vertical-align: middle;\n",
       "    }\n",
       "\n",
       "    .dataframe tbody tr th {\n",
       "        vertical-align: top;\n",
       "    }\n",
       "\n",
       "    .dataframe thead th {\n",
       "        text-align: right;\n",
       "    }\n",
       "</style>\n",
       "<table border=\"1\" class=\"dataframe\">\n",
       "  <thead>\n",
       "    <tr style=\"text-align: right;\">\n",
       "      <th></th>\n",
       "      <th>item</th>\n",
       "    </tr>\n",
       "  </thead>\n",
       "  <tbody>\n",
       "    <tr>\n",
       "      <th>0</th>\n",
       "      <td>http://www.wikidata.org/entity/Q11509566</td>\n",
       "    </tr>\n",
       "    <tr>\n",
       "      <th>1</th>\n",
       "      <td>http://www.wikidata.org/entity/Q7064145</td>\n",
       "    </tr>\n",
       "    <tr>\n",
       "      <th>2</th>\n",
       "      <td>http://www.wikidata.org/entity/Q20058819</td>\n",
       "    </tr>\n",
       "    <tr>\n",
       "      <th>3</th>\n",
       "      <td>http://www.wikidata.org/entity/Q20059126</td>\n",
       "    </tr>\n",
       "    <tr>\n",
       "      <th>4</th>\n",
       "      <td>http://www.wikidata.org/entity/Q20103919</td>\n",
       "    </tr>\n",
       "  </tbody>\n",
       "</table>\n",
       "</div>"
      ],
      "text/plain": [
       "                                       item\n",
       "0  http://www.wikidata.org/entity/Q11509566\n",
       "1   http://www.wikidata.org/entity/Q7064145\n",
       "2  http://www.wikidata.org/entity/Q20058819\n",
       "3  http://www.wikidata.org/entity/Q20059126\n",
       "4  http://www.wikidata.org/entity/Q20103919"
      ]
     },
     "execution_count": 99,
     "metadata": {},
     "output_type": "execute_result"
    }
   ],
   "source": [
    "politics_all.head()"
   ]
  },
  {
   "cell_type": "code",
   "execution_count": 100,
   "metadata": {},
   "outputs": [
    {
     "data": {
      "text/html": [
       "<div>\n",
       "<style scoped>\n",
       "    .dataframe tbody tr th:only-of-type {\n",
       "        vertical-align: middle;\n",
       "    }\n",
       "\n",
       "    .dataframe tbody tr th {\n",
       "        vertical-align: top;\n",
       "    }\n",
       "\n",
       "    .dataframe thead th {\n",
       "        text-align: right;\n",
       "    }\n",
       "</style>\n",
       "<table border=\"1\" class=\"dataframe\">\n",
       "  <thead>\n",
       "    <tr style=\"text-align: right;\">\n",
       "      <th></th>\n",
       "      <th>item</th>\n",
       "    </tr>\n",
       "  </thead>\n",
       "  <tbody>\n",
       "    <tr>\n",
       "      <th>345434</th>\n",
       "      <td>http://www.wikidata.org/entity/Q108442068</td>\n",
       "    </tr>\n",
       "    <tr>\n",
       "      <th>345435</th>\n",
       "      <td>http://www.wikidata.org/entity/Q108455809</td>\n",
       "    </tr>\n",
       "    <tr>\n",
       "      <th>345436</th>\n",
       "      <td>http://www.wikidata.org/entity/Q108462476</td>\n",
       "    </tr>\n",
       "    <tr>\n",
       "      <th>345437</th>\n",
       "      <td>http://www.wikidata.org/entity/Q109332800</td>\n",
       "    </tr>\n",
       "    <tr>\n",
       "      <th>345438</th>\n",
       "      <td>http://www.wikidata.org/entity/Q111049844</td>\n",
       "    </tr>\n",
       "  </tbody>\n",
       "</table>\n",
       "</div>"
      ],
      "text/plain": [
       "                                             item\n",
       "345434  http://www.wikidata.org/entity/Q108442068\n",
       "345435  http://www.wikidata.org/entity/Q108455809\n",
       "345436  http://www.wikidata.org/entity/Q108462476\n",
       "345437  http://www.wikidata.org/entity/Q109332800\n",
       "345438  http://www.wikidata.org/entity/Q111049844"
      ]
     },
     "execution_count": 100,
     "metadata": {},
     "output_type": "execute_result"
    }
   ],
   "source": [
    "politics_all.tail()"
   ]
  },
  {
   "cell_type": "code",
   "execution_count": 101,
   "metadata": {},
   "outputs": [],
   "source": [
    "# Extracting the qids\n",
    "# using substring/list comprehension now, can implement something using string slicing or regex later\n",
    "\n",
    "politics_with_qid = politics_all.copy()\n",
    "\n",
    "def extract_qid(item):\n",
    "    str = \"http://www.wikidata.org/entity/\"\n",
    "    if item.startswith(str): \n",
    "        qid = item[len(str):]\n",
    "        return qid\n",
    "\n",
    "politics_with_qid['qid'] = dfc['item'].apply(extract_qid)"
   ]
  },
  {
   "cell_type": "code",
   "execution_count": 102,
   "metadata": {},
   "outputs": [
    {
     "data": {
      "text/plain": [
       "(1462482, 2)"
      ]
     },
     "execution_count": 102,
     "metadata": {},
     "output_type": "execute_result"
    }
   ],
   "source": [
    "politics_with_qid.shape"
   ]
  },
  {
   "cell_type": "code",
   "execution_count": 103,
   "metadata": {},
   "outputs": [
    {
     "data": {
      "text/html": [
       "<div>\n",
       "<style scoped>\n",
       "    .dataframe tbody tr th:only-of-type {\n",
       "        vertical-align: middle;\n",
       "    }\n",
       "\n",
       "    .dataframe tbody tr th {\n",
       "        vertical-align: top;\n",
       "    }\n",
       "\n",
       "    .dataframe thead th {\n",
       "        text-align: right;\n",
       "    }\n",
       "</style>\n",
       "<table border=\"1\" class=\"dataframe\">\n",
       "  <thead>\n",
       "    <tr style=\"text-align: right;\">\n",
       "      <th></th>\n",
       "      <th>item</th>\n",
       "      <th>qid</th>\n",
       "    </tr>\n",
       "  </thead>\n",
       "  <tbody>\n",
       "    <tr>\n",
       "      <th>0</th>\n",
       "      <td>http://www.wikidata.org/entity/Q11509566</td>\n",
       "      <td>Q11509566</td>\n",
       "    </tr>\n",
       "    <tr>\n",
       "      <th>1</th>\n",
       "      <td>http://www.wikidata.org/entity/Q7064145</td>\n",
       "      <td>Q7064145</td>\n",
       "    </tr>\n",
       "    <tr>\n",
       "      <th>2</th>\n",
       "      <td>http://www.wikidata.org/entity/Q20058819</td>\n",
       "      <td>Q20058819</td>\n",
       "    </tr>\n",
       "    <tr>\n",
       "      <th>3</th>\n",
       "      <td>http://www.wikidata.org/entity/Q20059126</td>\n",
       "      <td>Q20059126</td>\n",
       "    </tr>\n",
       "    <tr>\n",
       "      <th>4</th>\n",
       "      <td>http://www.wikidata.org/entity/Q20103919</td>\n",
       "      <td>Q20103919</td>\n",
       "    </tr>\n",
       "  </tbody>\n",
       "</table>\n",
       "</div>"
      ],
      "text/plain": [
       "                                       item        qid\n",
       "0  http://www.wikidata.org/entity/Q11509566  Q11509566\n",
       "1   http://www.wikidata.org/entity/Q7064145   Q7064145\n",
       "2  http://www.wikidata.org/entity/Q20058819  Q20058819\n",
       "3  http://www.wikidata.org/entity/Q20059126  Q20059126\n",
       "4  http://www.wikidata.org/entity/Q20103919  Q20103919"
      ]
     },
     "execution_count": 103,
     "metadata": {},
     "output_type": "execute_result"
    }
   ],
   "source": [
    "politics_with_qid.head()"
   ]
  },
  {
   "cell_type": "code",
   "execution_count": 104,
   "metadata": {},
   "outputs": [
    {
     "data": {
      "text/html": [
       "<div>\n",
       "<style scoped>\n",
       "    .dataframe tbody tr th:only-of-type {\n",
       "        vertical-align: middle;\n",
       "    }\n",
       "\n",
       "    .dataframe tbody tr th {\n",
       "        vertical-align: top;\n",
       "    }\n",
       "\n",
       "    .dataframe thead th {\n",
       "        text-align: right;\n",
       "    }\n",
       "</style>\n",
       "<table border=\"1\" class=\"dataframe\">\n",
       "  <thead>\n",
       "    <tr style=\"text-align: right;\">\n",
       "      <th></th>\n",
       "      <th>item</th>\n",
       "      <th>qid</th>\n",
       "    </tr>\n",
       "  </thead>\n",
       "  <tbody>\n",
       "    <tr>\n",
       "      <th>345434</th>\n",
       "      <td>http://www.wikidata.org/entity/Q108442068</td>\n",
       "      <td>Q108442068</td>\n",
       "    </tr>\n",
       "    <tr>\n",
       "      <th>345435</th>\n",
       "      <td>http://www.wikidata.org/entity/Q108455809</td>\n",
       "      <td>Q108455809</td>\n",
       "    </tr>\n",
       "    <tr>\n",
       "      <th>345436</th>\n",
       "      <td>http://www.wikidata.org/entity/Q108462476</td>\n",
       "      <td>Q108462476</td>\n",
       "    </tr>\n",
       "    <tr>\n",
       "      <th>345437</th>\n",
       "      <td>http://www.wikidata.org/entity/Q109332800</td>\n",
       "      <td>Q109332800</td>\n",
       "    </tr>\n",
       "    <tr>\n",
       "      <th>345438</th>\n",
       "      <td>http://www.wikidata.org/entity/Q111049844</td>\n",
       "      <td>Q111049844</td>\n",
       "    </tr>\n",
       "  </tbody>\n",
       "</table>\n",
       "</div>"
      ],
      "text/plain": [
       "                                             item         qid\n",
       "345434  http://www.wikidata.org/entity/Q108442068  Q108442068\n",
       "345435  http://www.wikidata.org/entity/Q108455809  Q108455809\n",
       "345436  http://www.wikidata.org/entity/Q108462476  Q108462476\n",
       "345437  http://www.wikidata.org/entity/Q109332800  Q109332800\n",
       "345438  http://www.wikidata.org/entity/Q111049844  Q111049844"
      ]
     },
     "execution_count": 104,
     "metadata": {},
     "output_type": "execute_result"
    }
   ],
   "source": [
    "politics_with_qid.tail()"
   ]
  },
  {
   "cell_type": "code",
   "execution_count": 105,
   "metadata": {},
   "outputs": [
    {
     "name": "stdout",
     "output_type": "stream",
     "text": [
      "<class 'pandas.core.frame.DataFrame'>\n",
      "Int64Index: 1462482 entries, 0 to 345438\n",
      "Data columns (total 2 columns):\n",
      " #   Column  Non-Null Count    Dtype \n",
      "---  ------  --------------    ----- \n",
      " 0   item    1462482 non-null  object\n",
      " 1   qid     1462482 non-null  object\n",
      "dtypes: object(2)\n",
      "memory usage: 33.5+ MB\n"
     ]
    }
   ],
   "source": [
    "politics_with_qid.info()"
   ]
  },
  {
   "cell_type": "code",
   "execution_count": 106,
   "metadata": {},
   "outputs": [
    {
     "data": {
      "text/html": [
       "<div>\n",
       "<style scoped>\n",
       "    .dataframe tbody tr th:only-of-type {\n",
       "        vertical-align: middle;\n",
       "    }\n",
       "\n",
       "    .dataframe tbody tr th {\n",
       "        vertical-align: top;\n",
       "    }\n",
       "\n",
       "    .dataframe thead th {\n",
       "        text-align: right;\n",
       "    }\n",
       "</style>\n",
       "<table border=\"1\" class=\"dataframe\">\n",
       "  <thead>\n",
       "    <tr style=\"text-align: right;\">\n",
       "      <th></th>\n",
       "      <th>item</th>\n",
       "      <th>qid</th>\n",
       "    </tr>\n",
       "  </thead>\n",
       "  <tbody>\n",
       "    <tr>\n",
       "      <th>count</th>\n",
       "      <td>1462482</td>\n",
       "      <td>1462482</td>\n",
       "    </tr>\n",
       "    <tr>\n",
       "      <th>unique</th>\n",
       "      <td>1462482</td>\n",
       "      <td>1462482</td>\n",
       "    </tr>\n",
       "    <tr>\n",
       "      <th>top</th>\n",
       "      <td>http://www.wikidata.org/entity/Q18235597</td>\n",
       "      <td>Q4867099</td>\n",
       "    </tr>\n",
       "    <tr>\n",
       "      <th>freq</th>\n",
       "      <td>1</td>\n",
       "      <td>1</td>\n",
       "    </tr>\n",
       "  </tbody>\n",
       "</table>\n",
       "</div>"
      ],
      "text/plain": [
       "                                            item       qid\n",
       "count                                    1462482   1462482\n",
       "unique                                   1462482   1462482\n",
       "top     http://www.wikidata.org/entity/Q18235597  Q4867099\n",
       "freq                                           1         1"
      ]
     },
     "execution_count": 106,
     "metadata": {},
     "output_type": "execute_result"
    }
   ],
   "source": [
    "politics_with_qid.describe()\n",
    "# Note to self: don't worry about top as it is selected arbitrarily in this case"
   ]
  },
  {
   "cell_type": "code",
   "execution_count": 108,
   "metadata": {},
   "outputs": [],
   "source": [
    "politics_with_qid.to_csv('/Users/tushi/PRJ/WikidataParsing/topics/topics_all/politics_all.csv')"
   ]
  }
 ],
 "metadata": {
  "kernelspec": {
   "display_name": "Python 3",
   "language": "python",
   "name": "python3"
  },
  "language_info": {
   "codemirror_mode": {
    "name": "ipython",
    "version": 3
   },
   "file_extension": ".py",
   "mimetype": "text/x-python",
   "name": "python",
   "nbconvert_exporter": "python",
   "pygments_lexer": "ipython3",
   "version": "3.8.3"
  }
 },
 "nbformat": 4,
 "nbformat_minor": 4
}
