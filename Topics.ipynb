{
 "cells": [
  {
   "cell_type": "code",
   "execution_count": 2,
   "metadata": {},
   "outputs": [],
   "source": [
    "import numpy as np\n",
    "import pandas as pd\n",
    "from pandas import DataFrame\n",
    "import glob"
   ]
  },
  {
   "cell_type": "markdown",
   "metadata": {},
   "source": [
    "- Read item column which contains the qid\n",
    "- Merge all csv files into 1 dataframe\n",
    "- Extract qid from Wikidata Item url\n",
    "- Convert topic dataframe to a CSV file"
   ]
  },
  {
   "cell_type": "markdown",
   "metadata": {},
   "source": [
    "# Politics"
   ]
  },
  {
   "cell_type": "code",
   "execution_count": 17,
   "metadata": {},
   "outputs": [
    {
     "data": {
      "text/plain": [
       "['/Users/tushi/PRJ/WikidataParsing/topics/politics\\\\corruption_scandal.csv',\n",
       " '/Users/tushi/PRJ/WikidataParsing/topics/politics\\\\political_event.csv',\n",
       " '/Users/tushi/PRJ/WikidataParsing/topics/politics\\\\political_ideology.csv',\n",
       " '/Users/tushi/PRJ/WikidataParsing/topics/politics\\\\political_movement.csv',\n",
       " '/Users/tushi/PRJ/WikidataParsing/topics/politics\\\\political_organisations_withoutlabels.csv',\n",
       " '/Users/tushi/PRJ/WikidataParsing/topics/politics\\\\political_scandal.csv',\n",
       " '/Users/tushi/PRJ/WikidataParsing/topics/politics\\\\politicians_withoutlabels.csv',\n",
       " '/Users/tushi/PRJ/WikidataParsing/topics/politics\\\\politics_instance_subclass.csv',\n",
       " '/Users/tushi/PRJ/WikidataParsing/topics/politics\\\\politics_instance_subclass_facet.csv',\n",
       " '/Users/tushi/PRJ/WikidataParsing/topics/politics\\\\social_movement_withoutlabels.csv']"
      ]
     },
     "execution_count": 17,
     "metadata": {},
     "output_type": "execute_result"
    }
   ],
   "source": [
    "glob.glob('/Users/tushi/PRJ/WikidataParsing/topics/politics/*.csv')"
   ]
  },
  {
   "cell_type": "code",
   "execution_count": 18,
   "metadata": {},
   "outputs": [
    {
     "name": "stdout",
     "output_type": "stream",
     "text": [
      "Loading /Users/tushi/PRJ/WikidataParsing/topics/politics\\corruption_scandal.csv\n",
      "1\n",
      "Loading /Users/tushi/PRJ/WikidataParsing/topics/politics\\political_event.csv\n",
      "2\n",
      "Loading /Users/tushi/PRJ/WikidataParsing/topics/politics\\political_ideology.csv\n",
      "3\n",
      "Loading /Users/tushi/PRJ/WikidataParsing/topics/politics\\political_movement.csv\n",
      "4\n",
      "Loading /Users/tushi/PRJ/WikidataParsing/topics/politics\\political_organisations_withoutlabels.csv\n",
      "5\n",
      "Loading /Users/tushi/PRJ/WikidataParsing/topics/politics\\political_scandal.csv\n",
      "6\n",
      "Loading /Users/tushi/PRJ/WikidataParsing/topics/politics\\politicians_withoutlabels.csv\n",
      "7\n",
      "Loading /Users/tushi/PRJ/WikidataParsing/topics/politics\\politics_instance_subclass.csv\n",
      "8\n",
      "Loading /Users/tushi/PRJ/WikidataParsing/topics/politics\\politics_instance_subclass_facet.csv\n",
      "9\n",
      "Loading /Users/tushi/PRJ/WikidataParsing/topics/politics\\social_movement_withoutlabels.csv\n",
      "10\n"
     ]
    }
   ],
   "source": [
    "all_dfs = []\n",
    "file_counter = 0\n",
    "for one_csv_file in glob.glob('/Users/tushi/PRJ/WikidataParsing/topics/politics/*.csv'):\n",
    "    print(f'Loading {one_csv_file}')\n",
    "    new_df = pd.read_csv(one_csv_file, usecols=['item'])\n",
    "    all_dfs.append(new_df)\n",
    "    file_counter += 1\n",
    "    print(file_counter)"
   ]
  },
  {
   "cell_type": "code",
   "execution_count": 20,
   "metadata": {},
   "outputs": [
    {
     "data": {
      "text/plain": [
       "(1465142, 1)"
      ]
     },
     "execution_count": 20,
     "metadata": {},
     "output_type": "execute_result"
    }
   ],
   "source": [
    "df = pd.concat(all_dfs)\n",
    "df.shape"
   ]
  },
  {
   "cell_type": "code",
   "execution_count": 25,
   "metadata": {},
   "outputs": [],
   "source": [
    "politics_all = DataFrame.drop_duplicates(df)"
   ]
  },
  {
   "cell_type": "code",
   "execution_count": 26,
   "metadata": {},
   "outputs": [
    {
     "data": {
      "text/plain": [
       "(1462482, 1)"
      ]
     },
     "execution_count": 26,
     "metadata": {},
     "output_type": "execute_result"
    }
   ],
   "source": [
    "politics_all.shape"
   ]
  },
  {
   "cell_type": "code",
   "execution_count": 32,
   "metadata": {},
   "outputs": [],
   "source": [
    "# Extracting the qids\n",
    "\n",
    "politics_with_qid = politics_all.copy()\n",
    "\n",
    "def extract_qid(item):\n",
    "    str = \"http://www.wikidata.org/entity/\"\n",
    "    if item.startswith(str): \n",
    "        qid = item[len(str):]\n",
    "        return qid\n",
    "\n",
    "politics_with_qid['qid'] = politics_with_qid['item'].apply(extract_qid)"
   ]
  },
  {
   "cell_type": "code",
   "execution_count": 33,
   "metadata": {},
   "outputs": [
    {
     "data": {
      "text/plain": [
       "(1462482, 2)"
      ]
     },
     "execution_count": 33,
     "metadata": {},
     "output_type": "execute_result"
    }
   ],
   "source": [
    "politics_with_qid.shape"
   ]
  },
  {
   "cell_type": "code",
   "execution_count": 37,
   "metadata": {},
   "outputs": [
    {
     "data": {
      "text/html": [
       "<div>\n",
       "<style scoped>\n",
       "    .dataframe tbody tr th:only-of-type {\n",
       "        vertical-align: middle;\n",
       "    }\n",
       "\n",
       "    .dataframe tbody tr th {\n",
       "        vertical-align: top;\n",
       "    }\n",
       "\n",
       "    .dataframe thead th {\n",
       "        text-align: right;\n",
       "    }\n",
       "</style>\n",
       "<table border=\"1\" class=\"dataframe\">\n",
       "  <thead>\n",
       "    <tr style=\"text-align: right;\">\n",
       "      <th></th>\n",
       "      <th>item</th>\n",
       "      <th>qid</th>\n",
       "    </tr>\n",
       "  </thead>\n",
       "  <tbody>\n",
       "    <tr>\n",
       "      <th>count</th>\n",
       "      <td>1462482</td>\n",
       "      <td>1462482</td>\n",
       "    </tr>\n",
       "    <tr>\n",
       "      <th>unique</th>\n",
       "      <td>1462482</td>\n",
       "      <td>1462482</td>\n",
       "    </tr>\n",
       "    <tr>\n",
       "      <th>top</th>\n",
       "      <td>http://www.wikidata.org/entity/Q7282300</td>\n",
       "      <td>Q6814044</td>\n",
       "    </tr>\n",
       "    <tr>\n",
       "      <th>freq</th>\n",
       "      <td>1</td>\n",
       "      <td>1</td>\n",
       "    </tr>\n",
       "  </tbody>\n",
       "</table>\n",
       "</div>"
      ],
      "text/plain": [
       "                                           item       qid\n",
       "count                                   1462482   1462482\n",
       "unique                                  1462482   1462482\n",
       "top     http://www.wikidata.org/entity/Q7282300  Q6814044\n",
       "freq                                          1         1"
      ]
     },
     "execution_count": 37,
     "metadata": {},
     "output_type": "execute_result"
    }
   ],
   "source": [
    "politics_with_qid.describe()"
   ]
  },
  {
   "cell_type": "code",
   "execution_count": 38,
   "metadata": {},
   "outputs": [],
   "source": [
    "politics_with_qid.to_csv('/Users/tushi/PRJ/WikidataParsing/topics/topics_all/politics_all.csv')"
   ]
  },
  {
   "cell_type": "markdown",
   "metadata": {},
   "source": [
    "# Countries"
   ]
  },
  {
   "cell_type": "code",
   "execution_count": 6,
   "metadata": {},
   "outputs": [
    {
     "data": {
      "text/plain": [
       "['/Users/tushi/PRJ/WikidataParsing/topics/countries\\\\city_town.csv',\n",
       " '/Users/tushi/PRJ/WikidataParsing/topics/countries\\\\countries.csv',\n",
       " '/Users/tushi/PRJ/WikidataParsing/topics/countries\\\\geographi_locations_2_5Mill.csv']"
      ]
     },
     "execution_count": 6,
     "metadata": {},
     "output_type": "execute_result"
    }
   ],
   "source": [
    "glob.glob('/Users/tushi/PRJ/WikidataParsing/topics/countries/*.csv')"
   ]
  },
  {
   "cell_type": "code",
   "execution_count": 7,
   "metadata": {},
   "outputs": [
    {
     "name": "stdout",
     "output_type": "stream",
     "text": [
      "Loading /Users/tushi/PRJ/WikidataParsing/topics/countries\\city_town.csv\n",
      "1\n",
      "Loading /Users/tushi/PRJ/WikidataParsing/topics/countries\\countries.csv\n",
      "2\n",
      "Loading /Users/tushi/PRJ/WikidataParsing/topics/countries\\geographi_locations_2_5Mill.csv\n",
      "3\n"
     ]
    }
   ],
   "source": [
    "all_dfs = []\n",
    "file_counter = 0\n",
    "for one_csv_file in glob.glob('/Users/tushi/PRJ/WikidataParsing/topics/countries/*.csv'):\n",
    "    print(f'Loading {one_csv_file}')\n",
    "    new_df = pd.read_csv(one_csv_file, usecols=['item'])\n",
    "    all_dfs.append(new_df)\n",
    "    file_counter += 1\n",
    "    print(file_counter)"
   ]
  },
  {
   "cell_type": "code",
   "execution_count": 9,
   "metadata": {},
   "outputs": [
    {
     "data": {
      "text/plain": [
       "(2583905, 1)"
      ]
     },
     "execution_count": 9,
     "metadata": {},
     "output_type": "execute_result"
    }
   ],
   "source": [
    "df = pd.concat(all_dfs)\n",
    "df.shape"
   ]
  },
  {
   "cell_type": "code",
   "execution_count": 12,
   "metadata": {},
   "outputs": [
    {
     "data": {
      "text/html": [
       "<div>\n",
       "<style scoped>\n",
       "    .dataframe tbody tr th:only-of-type {\n",
       "        vertical-align: middle;\n",
       "    }\n",
       "\n",
       "    .dataframe tbody tr th {\n",
       "        vertical-align: top;\n",
       "    }\n",
       "\n",
       "    .dataframe thead th {\n",
       "        text-align: right;\n",
       "    }\n",
       "</style>\n",
       "<table border=\"1\" class=\"dataframe\">\n",
       "  <thead>\n",
       "    <tr style=\"text-align: right;\">\n",
       "      <th></th>\n",
       "      <th>item</th>\n",
       "    </tr>\n",
       "  </thead>\n",
       "  <tbody>\n",
       "    <tr>\n",
       "      <th>count</th>\n",
       "      <td>2583905</td>\n",
       "    </tr>\n",
       "    <tr>\n",
       "      <th>unique</th>\n",
       "      <td>2561389</td>\n",
       "    </tr>\n",
       "    <tr>\n",
       "      <th>top</th>\n",
       "      <td>http://www.wikidata.org/entity/Q732801</td>\n",
       "    </tr>\n",
       "    <tr>\n",
       "      <th>freq</th>\n",
       "      <td>2</td>\n",
       "    </tr>\n",
       "  </tbody>\n",
       "</table>\n",
       "</div>"
      ],
      "text/plain": [
       "                                          item\n",
       "count                                  2583905\n",
       "unique                                 2561389\n",
       "top     http://www.wikidata.org/entity/Q732801\n",
       "freq                                         2"
      ]
     },
     "execution_count": 12,
     "metadata": {},
     "output_type": "execute_result"
    }
   ],
   "source": [
    "df.describe()"
   ]
  },
  {
   "cell_type": "code",
   "execution_count": 13,
   "metadata": {},
   "outputs": [],
   "source": [
    "countries_all = DataFrame.drop_duplicates(df)"
   ]
  },
  {
   "cell_type": "code",
   "execution_count": 14,
   "metadata": {},
   "outputs": [
    {
     "data": {
      "text/plain": [
       "(2561389, 1)"
      ]
     },
     "execution_count": 14,
     "metadata": {},
     "output_type": "execute_result"
    }
   ],
   "source": [
    "countries_all.shape"
   ]
  },
  {
   "cell_type": "code",
   "execution_count": 57,
   "metadata": {},
   "outputs": [
    {
     "data": {
      "text/plain": [
       "<bound method NDFrame.head of                                              item\n",
       "0          http://www.wikidata.org/entity/Q102350\n",
       "1          http://www.wikidata.org/entity/Q102397\n",
       "2          http://www.wikidata.org/entity/Q103011\n",
       "3          http://www.wikidata.org/entity/Q103217\n",
       "4          http://www.wikidata.org/entity/Q103717\n",
       "...                                           ...\n",
       "2499995  http://www.wikidata.org/entity/Q61260838\n",
       "2499996  http://www.wikidata.org/entity/Q61260837\n",
       "2499997  http://www.wikidata.org/entity/Q61260842\n",
       "2499998  http://www.wikidata.org/entity/Q61260841\n",
       "2499999  http://www.wikidata.org/entity/Q61260846\n",
       "\n",
       "[2561389 rows x 1 columns]>"
      ]
     },
     "execution_count": 57,
     "metadata": {},
     "output_type": "execute_result"
    }
   ],
   "source": [
    "countries_all.head"
   ]
  },
  {
   "cell_type": "code",
   "execution_count": 40,
   "metadata": {},
   "outputs": [],
   "source": [
    "# Extracting the qids\n",
    "# using substring/list comprehension now, can implement something using string slicing or regex later\n",
    "\n",
    "countries_with_qid = countries_all.copy()\n",
    "\n",
    "def extract_qid(item):\n",
    "    str = \"http://www.wikidata.org/entity/\"\n",
    "    if item.startswith(str): \n",
    "        qid = item[len(str):]\n",
    "        return qid\n",
    "\n",
    "countries_with_qid['qid'] = countries_with_qid['item'].apply(extract_qid)"
   ]
  },
  {
   "cell_type": "code",
   "execution_count": 50,
   "metadata": {},
   "outputs": [],
   "source": [
    "countries_with_qid.to_csv('/Users/tushi/PRJ/WikidataParsing/topics/topics_all/countries_all.csv')"
   ]
  },
  {
   "cell_type": "markdown",
   "metadata": {},
   "source": [
    "# Religion"
   ]
  },
  {
   "cell_type": "code",
   "execution_count": 58,
   "metadata": {},
   "outputs": [
    {
     "data": {
      "text/plain": [
       "['/Users/tushi/PRJ/WikidataParsing/topics/religion\\\\belief.csv',\n",
       " '/Users/tushi/PRJ/WikidataParsing/topics/religion\\\\cult_devotion.csv',\n",
       " '/Users/tushi/PRJ/WikidataParsing/topics/religion\\\\cult_social.csv',\n",
       " '/Users/tushi/PRJ/WikidataParsing/topics/religion\\\\religion.csv',\n",
       " '/Users/tushi/PRJ/WikidataParsing/topics/religion\\\\religion_or_world_view.csv',\n",
       " '/Users/tushi/PRJ/WikidataParsing/topics/religion\\\\religious_controversy.csv']"
      ]
     },
     "execution_count": 58,
     "metadata": {},
     "output_type": "execute_result"
    }
   ],
   "source": [
    "glob.glob('/Users/tushi/PRJ/WikidataParsing/topics/religion/*.csv')"
   ]
  },
  {
   "cell_type": "code",
   "execution_count": 59,
   "metadata": {},
   "outputs": [
    {
     "name": "stdout",
     "output_type": "stream",
     "text": [
      "Loading /Users/tushi/PRJ/WikidataParsing/topics/religion\\belief.csv\n",
      "1\n",
      "Loading /Users/tushi/PRJ/WikidataParsing/topics/religion\\cult_devotion.csv\n",
      "2\n",
      "Loading /Users/tushi/PRJ/WikidataParsing/topics/religion\\cult_social.csv\n",
      "3\n",
      "Loading /Users/tushi/PRJ/WikidataParsing/topics/religion\\religion.csv\n",
      "4\n",
      "Loading /Users/tushi/PRJ/WikidataParsing/topics/religion\\religion_or_world_view.csv\n",
      "5\n",
      "Loading /Users/tushi/PRJ/WikidataParsing/topics/religion\\religious_controversy.csv\n",
      "6\n"
     ]
    }
   ],
   "source": [
    "all_dfs = []\n",
    "file_counter = 0\n",
    "for one_csv_file in glob.glob('/Users/tushi/PRJ/WikidataParsing/topics/religion/*.csv'):\n",
    "    print(f'Loading {one_csv_file}')\n",
    "    new_df = pd.read_csv(one_csv_file, usecols=['item'])\n",
    "    all_dfs.append(new_df)\n",
    "    file_counter += 1\n",
    "    print(file_counter)"
   ]
  },
  {
   "cell_type": "code",
   "execution_count": 60,
   "metadata": {},
   "outputs": [
    {
     "data": {
      "text/plain": [
       "(710866, 1)"
      ]
     },
     "execution_count": 60,
     "metadata": {},
     "output_type": "execute_result"
    }
   ],
   "source": [
    "df = pd.concat(all_dfs)\n",
    "df.shape"
   ]
  },
  {
   "cell_type": "code",
   "execution_count": 61,
   "metadata": {},
   "outputs": [
    {
     "data": {
      "text/html": [
       "<div>\n",
       "<style scoped>\n",
       "    .dataframe tbody tr th:only-of-type {\n",
       "        vertical-align: middle;\n",
       "    }\n",
       "\n",
       "    .dataframe tbody tr th {\n",
       "        vertical-align: top;\n",
       "    }\n",
       "\n",
       "    .dataframe thead th {\n",
       "        text-align: right;\n",
       "    }\n",
       "</style>\n",
       "<table border=\"1\" class=\"dataframe\">\n",
       "  <thead>\n",
       "    <tr style=\"text-align: right;\">\n",
       "      <th></th>\n",
       "      <th>item</th>\n",
       "    </tr>\n",
       "  </thead>\n",
       "  <tbody>\n",
       "    <tr>\n",
       "      <th>count</th>\n",
       "      <td>710866</td>\n",
       "    </tr>\n",
       "    <tr>\n",
       "      <th>unique</th>\n",
       "      <td>360122</td>\n",
       "    </tr>\n",
       "    <tr>\n",
       "      <th>top</th>\n",
       "      <td>http://www.wikidata.org/entity/Q46788</td>\n",
       "    </tr>\n",
       "    <tr>\n",
       "      <th>freq</th>\n",
       "      <td>5</td>\n",
       "    </tr>\n",
       "  </tbody>\n",
       "</table>\n",
       "</div>"
      ],
      "text/plain": [
       "                                         item\n",
       "count                                  710866\n",
       "unique                                 360122\n",
       "top     http://www.wikidata.org/entity/Q46788\n",
       "freq                                        5"
      ]
     },
     "execution_count": 61,
     "metadata": {},
     "output_type": "execute_result"
    }
   ],
   "source": [
    "df.describe()"
   ]
  },
  {
   "cell_type": "code",
   "execution_count": 62,
   "metadata": {},
   "outputs": [
    {
     "data": {
      "text/plain": [
       "(360122, 1)"
      ]
     },
     "execution_count": 62,
     "metadata": {},
     "output_type": "execute_result"
    }
   ],
   "source": [
    "religion_all = DataFrame.drop_duplicates(df)\n",
    "religion_all.shape"
   ]
  },
  {
   "cell_type": "code",
   "execution_count": 63,
   "metadata": {},
   "outputs": [
    {
     "data": {
      "text/plain": [
       "<bound method NDFrame.head of                                         item\n",
       "0   http://www.wikidata.org/entity/Q24942375\n",
       "1   http://www.wikidata.org/entity/Q24947607\n",
       "2   http://www.wikidata.org/entity/Q24949992\n",
       "3   http://www.wikidata.org/entity/Q24950673\n",
       "4   http://www.wikidata.org/entity/Q24975354\n",
       "..                                       ...\n",
       "51  http://www.wikidata.org/entity/Q85719759\n",
       "52  http://www.wikidata.org/entity/Q96065241\n",
       "53     http://www.wikidata.org/entity/Q12562\n",
       "54     http://www.wikidata.org/entity/Q26189\n",
       "55     http://www.wikidata.org/entity/Q51648\n",
       "\n",
       "[360122 rows x 1 columns]>"
      ]
     },
     "execution_count": 63,
     "metadata": {},
     "output_type": "execute_result"
    }
   ],
   "source": [
    "religion_all.head"
   ]
  },
  {
   "cell_type": "code",
   "execution_count": 66,
   "metadata": {},
   "outputs": [],
   "source": [
    "# Extracting the qids\n",
    "# using substring/list comprehension now, can implement something using string slicing or regex later\n",
    "\n",
    "religion_with_qid = religion_all.copy()\n",
    "\n",
    "def extract_qid(item):\n",
    "    str = \"http://www.wikidata.org/entity/\"\n",
    "    if item.startswith(str): \n",
    "        qid = item[len(str):]\n",
    "        return qid\n",
    "\n",
    "religion_with_qid['qid'] = religion_with_qid['item'].apply(extract_qid)"
   ]
  },
  {
   "cell_type": "code",
   "execution_count": 67,
   "metadata": {},
   "outputs": [],
   "source": [
    "religion_with_qid.to_csv('/Users/tushi/PRJ/WikidataParsing/topics/topics_all/religion_all.csv')"
   ]
  },
  {
   "cell_type": "markdown",
   "metadata": {},
   "source": [
    "# History"
   ]
  },
  {
   "cell_type": "code",
   "execution_count": 69,
   "metadata": {},
   "outputs": [
    {
     "data": {
      "text/plain": [
       "['/Users/tushi/PRJ/WikidataParsing/topics/history\\\\aspect_of_history.csv',\n",
       " '/Users/tushi/PRJ/WikidataParsing/topics/history\\\\historian.csv',\n",
       " '/Users/tushi/PRJ/WikidataParsing/topics/history\\\\history.csv',\n",
       " '/Users/tushi/PRJ/WikidataParsing/topics/history\\\\human_history.csv']"
      ]
     },
     "execution_count": 69,
     "metadata": {},
     "output_type": "execute_result"
    }
   ],
   "source": [
    "glob.glob('/Users/tushi/PRJ/WikidataParsing/topics/history/*.csv')"
   ]
  },
  {
   "cell_type": "code",
   "execution_count": 70,
   "metadata": {},
   "outputs": [
    {
     "name": "stdout",
     "output_type": "stream",
     "text": [
      "Loading /Users/tushi/PRJ/WikidataParsing/topics/history\\aspect_of_history.csv\n",
      "1\n",
      "Loading /Users/tushi/PRJ/WikidataParsing/topics/history\\historian.csv\n",
      "2\n",
      "Loading /Users/tushi/PRJ/WikidataParsing/topics/history\\history.csv\n",
      "3\n",
      "Loading /Users/tushi/PRJ/WikidataParsing/topics/history\\human_history.csv\n",
      "4\n"
     ]
    }
   ],
   "source": [
    "all_dfs = []\n",
    "file_counter = 0\n",
    "for one_csv_file in glob.glob('/Users/tushi/PRJ/WikidataParsing/topics/history/*.csv'):\n",
    "    print(f'Loading {one_csv_file}')\n",
    "    new_df = pd.read_csv(one_csv_file, usecols=['item'])\n",
    "    all_dfs.append(new_df)\n",
    "    file_counter += 1\n",
    "    print(file_counter)"
   ]
  },
  {
   "cell_type": "code",
   "execution_count": 71,
   "metadata": {},
   "outputs": [
    {
     "data": {
      "text/plain": [
       "(279946, 1)"
      ]
     },
     "execution_count": 71,
     "metadata": {},
     "output_type": "execute_result"
    }
   ],
   "source": [
    "df = pd.concat(all_dfs)\n",
    "df.shape"
   ]
  },
  {
   "cell_type": "code",
   "execution_count": 73,
   "metadata": {},
   "outputs": [
    {
     "data": {
      "text/html": [
       "<div>\n",
       "<style scoped>\n",
       "    .dataframe tbody tr th:only-of-type {\n",
       "        vertical-align: middle;\n",
       "    }\n",
       "\n",
       "    .dataframe tbody tr th {\n",
       "        vertical-align: top;\n",
       "    }\n",
       "\n",
       "    .dataframe thead th {\n",
       "        text-align: right;\n",
       "    }\n",
       "</style>\n",
       "<table border=\"1\" class=\"dataframe\">\n",
       "  <thead>\n",
       "    <tr style=\"text-align: right;\">\n",
       "      <th></th>\n",
       "      <th>item</th>\n",
       "    </tr>\n",
       "  </thead>\n",
       "  <tbody>\n",
       "    <tr>\n",
       "      <th>count</th>\n",
       "      <td>279946</td>\n",
       "    </tr>\n",
       "    <tr>\n",
       "      <th>unique</th>\n",
       "      <td>267479</td>\n",
       "    </tr>\n",
       "    <tr>\n",
       "      <th>top</th>\n",
       "      <td>http://www.wikidata.org/entity/Q3300409</td>\n",
       "    </tr>\n",
       "    <tr>\n",
       "      <th>freq</th>\n",
       "      <td>3</td>\n",
       "    </tr>\n",
       "  </tbody>\n",
       "</table>\n",
       "</div>"
      ],
      "text/plain": [
       "                                           item\n",
       "count                                    279946\n",
       "unique                                   267479\n",
       "top     http://www.wikidata.org/entity/Q3300409\n",
       "freq                                          3"
      ]
     },
     "execution_count": 73,
     "metadata": {},
     "output_type": "execute_result"
    }
   ],
   "source": [
    "df.describe()"
   ]
  },
  {
   "cell_type": "code",
   "execution_count": 74,
   "metadata": {},
   "outputs": [
    {
     "data": {
      "text/plain": [
       "(267479, 1)"
      ]
     },
     "execution_count": 74,
     "metadata": {},
     "output_type": "execute_result"
    }
   ],
   "source": [
    "history_all = DataFrame.drop_duplicates(df)\n",
    "history_all.shape"
   ]
  },
  {
   "cell_type": "code",
   "execution_count": 75,
   "metadata": {},
   "outputs": [
    {
     "data": {
      "text/plain": [
       "<bound method NDFrame.head of                                        item\n",
       "0    http://www.wikidata.org/entity/Q232160\n",
       "1    http://www.wikidata.org/entity/Q316589\n",
       "2    http://www.wikidata.org/entity/Q321370\n",
       "3    http://www.wikidata.org/entity/Q481333\n",
       "4    http://www.wikidata.org/entity/Q662684\n",
       "..                                      ...\n",
       "339  http://www.wikidata.org/entity/Q238246\n",
       "340  http://www.wikidata.org/entity/Q238533\n",
       "341  http://www.wikidata.org/entity/Q240796\n",
       "342  http://www.wikidata.org/entity/Q243842\n",
       "343  http://www.wikidata.org/entity/Q243976\n",
       "\n",
       "[267479 rows x 1 columns]>"
      ]
     },
     "execution_count": 75,
     "metadata": {},
     "output_type": "execute_result"
    }
   ],
   "source": [
    "history_all.head"
   ]
  },
  {
   "cell_type": "code",
   "execution_count": 76,
   "metadata": {},
   "outputs": [],
   "source": [
    "# Extracting the qids\n",
    "# using substring/list comprehension now, can implement something using string slicing or regex later\n",
    "\n",
    "history_with_qid = history_all.copy()\n",
    "\n",
    "def extract_qid(item):\n",
    "    str = \"http://www.wikidata.org/entity/\"\n",
    "    if item.startswith(str): \n",
    "        qid = item[len(str):]\n",
    "        return qid\n",
    "\n",
    "history_with_qid['qid'] = history_with_qid['item'].apply(extract_qid)"
   ]
  },
  {
   "cell_type": "code",
   "execution_count": 78,
   "metadata": {},
   "outputs": [],
   "source": [
    "history_with_qid.to_csv('/Users/tushi/PRJ/WikidataParsing/topics/topics_all/history_all.csv')"
   ]
  },
  {
   "cell_type": "markdown",
   "metadata": {},
   "source": [
    "# Social & Environmental Issues"
   ]
  },
  {
   "cell_type": "code",
   "execution_count": 14,
   "metadata": {},
   "outputs": [
    {
     "data": {
      "text/plain": [
       "['/Users/tushi/PRJ/WikidataParsing/topics/social_environmental\\\\climate_change.csv',\n",
       " '/Users/tushi/PRJ/WikidataParsing/topics/social_environmental\\\\environment.csv',\n",
       " '/Users/tushi/PRJ/WikidataParsing/topics/social_environmental\\\\environmental_change.csv',\n",
       " '/Users/tushi/PRJ/WikidataParsing/topics/social_environmental\\\\environmental_issue.csv',\n",
       " '/Users/tushi/PRJ/WikidataParsing/topics/social_environmental\\\\gender.csv',\n",
       " '/Users/tushi/PRJ/WikidataParsing/topics/social_environmental\\\\human_impact_on_environment.csv',\n",
       " '/Users/tushi/PRJ/WikidataParsing/topics/social_environmental\\\\human_rights_activist.csv',\n",
       " '/Users/tushi/PRJ/WikidataParsing/topics/social_environmental\\\\identity.csv',\n",
       " '/Users/tushi/PRJ/WikidataParsing/topics/social_environmental\\\\meteorogical_phenomena.csv',\n",
       " '/Users/tushi/PRJ/WikidataParsing/topics/social_environmental\\\\physiological_condition.csv',\n",
       " '/Users/tushi/PRJ/WikidataParsing/topics/social_environmental\\\\social_groups.csv',\n",
       " '/Users/tushi/PRJ/WikidataParsing/topics/social_environmental\\\\social_movement.csv']"
      ]
     },
     "execution_count": 14,
     "metadata": {},
     "output_type": "execute_result"
    }
   ],
   "source": [
    "glob.glob('/Users/tushi/PRJ/WikidataParsing/topics/social_environmental/*.csv')"
   ]
  },
  {
   "cell_type": "code",
   "execution_count": 15,
   "metadata": {},
   "outputs": [
    {
     "name": "stdout",
     "output_type": "stream",
     "text": [
      "Loading /Users/tushi/PRJ/WikidataParsing/topics/social_environmental\\climate_change.csv\n",
      "1\n",
      "Loading /Users/tushi/PRJ/WikidataParsing/topics/social_environmental\\environment.csv\n",
      "2\n",
      "Loading /Users/tushi/PRJ/WikidataParsing/topics/social_environmental\\environmental_change.csv\n",
      "3\n",
      "Loading /Users/tushi/PRJ/WikidataParsing/topics/social_environmental\\environmental_issue.csv\n",
      "4\n",
      "Loading /Users/tushi/PRJ/WikidataParsing/topics/social_environmental\\gender.csv\n",
      "5\n",
      "Loading /Users/tushi/PRJ/WikidataParsing/topics/social_environmental\\human_impact_on_environment.csv\n",
      "6\n",
      "Loading /Users/tushi/PRJ/WikidataParsing/topics/social_environmental\\human_rights_activist.csv\n",
      "7\n",
      "Loading /Users/tushi/PRJ/WikidataParsing/topics/social_environmental\\identity.csv\n",
      "8\n",
      "Loading /Users/tushi/PRJ/WikidataParsing/topics/social_environmental\\meteorogical_phenomena.csv\n",
      "9\n",
      "Loading /Users/tushi/PRJ/WikidataParsing/topics/social_environmental\\physiological_condition.csv\n",
      "10\n",
      "Loading /Users/tushi/PRJ/WikidataParsing/topics/social_environmental\\social_groups.csv\n",
      "11\n",
      "Loading /Users/tushi/PRJ/WikidataParsing/topics/social_environmental\\social_movement.csv\n",
      "12\n"
     ]
    }
   ],
   "source": [
    "all_dfs = []\n",
    "file_counter = 0\n",
    "for one_csv_file in glob.glob('/Users/tushi/PRJ/WikidataParsing/topics/social_environmental/*.csv'):\n",
    "    print(f'Loading {one_csv_file}')\n",
    "    new_df = pd.read_csv(one_csv_file, usecols=['item'])\n",
    "    all_dfs.append(new_df)\n",
    "    file_counter += 1\n",
    "    print(file_counter)"
   ]
  },
  {
   "cell_type": "code",
   "execution_count": 16,
   "metadata": {},
   "outputs": [
    {
     "name": "stdout",
     "output_type": "stream",
     "text": [
      "(2871568, 1)\n",
      "                                          item\n",
      "count                                  2871568\n",
      "unique                                 2869965\n",
      "top     http://www.wikidata.org/entity/Q913640\n",
      "freq                                         4\n"
     ]
    }
   ],
   "source": [
    "df = pd.concat(all_dfs)\n",
    "print(df.shape)\n",
    "print(df.describe())"
   ]
  },
  {
   "cell_type": "code",
   "execution_count": 17,
   "metadata": {},
   "outputs": [
    {
     "name": "stdout",
     "output_type": "stream",
     "text": [
      "(2869965, 1)\n",
      "                                      item\n",
      "0   http://www.wikidata.org/entity/Q581103\n",
      "1  http://www.wikidata.org/entity/Q1291515\n",
      "2  http://www.wikidata.org/entity/Q1346260\n",
      "3  http://www.wikidata.org/entity/Q1785837\n",
      "4  http://www.wikidata.org/entity/Q5044049\n"
     ]
    }
   ],
   "source": [
    "social_environmental_all = DataFrame.drop_duplicates(df)\n",
    "print(social_environmental_all.shape)\n",
    "print(social_environmental_all.head())"
   ]
  },
  {
   "cell_type": "code",
   "execution_count": 18,
   "metadata": {},
   "outputs": [],
   "source": [
    "# Extracting the qids\n",
    "# using substring/list comprehension now, can implement something using string slicing or regex later\n",
    "\n",
    "social_environmental_with_qid = social_environmental_all.copy()\n",
    "\n",
    "def extract_qid(item):\n",
    "    str = \"http://www.wikidata.org/entity/\"\n",
    "    if item.startswith(str): \n",
    "        qid = item[len(str):]\n",
    "        return qid\n",
    "\n",
    "social_environmental_with_qid['qid'] = social_environmental_with_qid['item'].apply(extract_qid)"
   ]
  },
  {
   "cell_type": "code",
   "execution_count": 19,
   "metadata": {},
   "outputs": [],
   "source": [
    "social_environmental_with_qid.to_csv('/Users/tushi/PRJ/WikidataParsing/topics/topics_all/social_environmental_all.csv')"
   ]
  },
  {
   "cell_type": "markdown",
   "metadata": {},
   "source": [
    "# Science"
   ]
  },
  {
   "cell_type": "code",
   "execution_count": 21,
   "metadata": {},
   "outputs": [
    {
     "data": {
      "text/plain": [
       "['/Users/tushi/PRJ/WikidataParsing/topics/science\\\\artificial_intelligence.csv',\n",
       " '/Users/tushi/PRJ/WikidataParsing/topics/science\\\\invention.csv',\n",
       " '/Users/tushi/PRJ/WikidataParsing/topics/science\\\\science.csv',\n",
       " '/Users/tushi/PRJ/WikidataParsing/topics/science\\\\scientific_research.csv',\n",
       " '/Users/tushi/PRJ/WikidataParsing/topics/science\\\\technology.csv']"
      ]
     },
     "execution_count": 21,
     "metadata": {},
     "output_type": "execute_result"
    }
   ],
   "source": [
    "glob.glob('/Users/tushi/PRJ/WikidataParsing/topics/science/*.csv')"
   ]
  },
  {
   "cell_type": "code",
   "execution_count": 22,
   "metadata": {},
   "outputs": [
    {
     "name": "stdout",
     "output_type": "stream",
     "text": [
      "Loading /Users/tushi/PRJ/WikidataParsing/topics/science\\artificial_intelligence.csv\n",
      "1\n",
      "Loading /Users/tushi/PRJ/WikidataParsing/topics/science\\invention.csv\n",
      "2\n",
      "Loading /Users/tushi/PRJ/WikidataParsing/topics/science\\science.csv\n",
      "3\n",
      "Loading /Users/tushi/PRJ/WikidataParsing/topics/science\\scientific_research.csv\n",
      "4\n",
      "Loading /Users/tushi/PRJ/WikidataParsing/topics/science\\technology.csv\n",
      "5\n"
     ]
    }
   ],
   "source": [
    "all_dfs = []\n",
    "file_counter = 0\n",
    "for one_csv_file in glob.glob('/Users/tushi/PRJ/WikidataParsing/topics/science/*.csv'):\n",
    "    print(f'Loading {one_csv_file}')\n",
    "    new_df = pd.read_csv(one_csv_file, usecols=['item'])\n",
    "    all_dfs.append(new_df)\n",
    "    file_counter += 1\n",
    "    print(file_counter)"
   ]
  },
  {
   "cell_type": "code",
   "execution_count": 23,
   "metadata": {},
   "outputs": [
    {
     "name": "stdout",
     "output_type": "stream",
     "text": [
      "(597130, 1)\n",
      "                                             item\n",
      "count                                      597130\n",
      "unique                                     492726\n",
      "top     http://www.wikidata.org/entity/Q108724339\n",
      "freq                                            3\n"
     ]
    }
   ],
   "source": [
    "df = pd.concat(all_dfs)\n",
    "print(df.shape)\n",
    "print(df.describe())"
   ]
  },
  {
   "cell_type": "code",
   "execution_count": 24,
   "metadata": {},
   "outputs": [
    {
     "name": "stdout",
     "output_type": "stream",
     "text": [
      "(492726, 1)\n",
      "                                     item\n",
      "0  http://www.wikidata.org/entity/Q460851\n",
      "1  http://www.wikidata.org/entity/Q493743\n",
      "2  http://www.wikidata.org/entity/Q820272\n",
      "3  http://www.wikidata.org/entity/Q830527\n",
      "4  http://www.wikidata.org/entity/Q863783\n"
     ]
    }
   ],
   "source": [
    "science_all = DataFrame.drop_duplicates(df)\n",
    "print(science_all.shape)\n",
    "print(science_all.head())"
   ]
  },
  {
   "cell_type": "code",
   "execution_count": 25,
   "metadata": {},
   "outputs": [],
   "source": [
    "# Extracting the qids\n",
    "# using substring/list comprehension now, can implement something using string slicing or regex later\n",
    "\n",
    "science_with_qid = science_all.copy()\n",
    "\n",
    "def extract_qid(item):\n",
    "    str = \"http://www.wikidata.org/entity/\"\n",
    "    if item.startswith(str): \n",
    "        qid = item[len(str):]\n",
    "        return qid\n",
    "\n",
    "science_with_qid['qid'] = science_with_qid['item'].apply(extract_qid)"
   ]
  },
  {
   "cell_type": "code",
   "execution_count": 29,
   "metadata": {},
   "outputs": [],
   "source": [
    "science_with_qid.to_csv('/Users/tushi/PRJ/WikidataParsing/topics/topics_all/science_all.csv')"
   ]
  },
  {
   "cell_type": "markdown",
   "metadata": {},
   "source": [
    "# Sports"
   ]
  },
  {
   "cell_type": "code",
   "execution_count": 30,
   "metadata": {},
   "outputs": [
    {
     "data": {
      "text/plain": [
       "['/Users/tushi/PRJ/WikidataParsing/topics/sports\\\\association_football_players.csv',\n",
       " '/Users/tushi/PRJ/WikidataParsing/topics/sports\\\\basketball_player.csv',\n",
       " '/Users/tushi/PRJ/WikidataParsing/topics/sports\\\\sport.csv',\n",
       " '/Users/tushi/PRJ/WikidataParsing/topics/sports\\\\sporting_event.csv',\n",
       " '/Users/tushi/PRJ/WikidataParsing/topics/sports\\\\sportsperson.csv',\n",
       " '/Users/tushi/PRJ/WikidataParsing/topics/sports\\\\sports_club.csv',\n",
       " '/Users/tushi/PRJ/WikidataParsing/topics/sports\\\\sports_organisation.csv']"
      ]
     },
     "execution_count": 30,
     "metadata": {},
     "output_type": "execute_result"
    }
   ],
   "source": [
    "glob.glob('/Users/tushi/PRJ/WikidataParsing/topics/sports/*.csv')"
   ]
  },
  {
   "cell_type": "code",
   "execution_count": 31,
   "metadata": {},
   "outputs": [
    {
     "name": "stdout",
     "output_type": "stream",
     "text": [
      "Loading /Users/tushi/PRJ/WikidataParsing/topics/sports\\association_football_players.csv\n",
      "1\n",
      "Loading /Users/tushi/PRJ/WikidataParsing/topics/sports\\basketball_player.csv\n",
      "2\n",
      "Loading /Users/tushi/PRJ/WikidataParsing/topics/sports\\sport.csv\n",
      "3\n",
      "Loading /Users/tushi/PRJ/WikidataParsing/topics/sports\\sporting_event.csv\n",
      "4\n",
      "Loading /Users/tushi/PRJ/WikidataParsing/topics/sports\\sportsperson.csv\n",
      "5\n",
      "Loading /Users/tushi/PRJ/WikidataParsing/topics/sports\\sports_club.csv\n",
      "6\n",
      "Loading /Users/tushi/PRJ/WikidataParsing/topics/sports\\sports_organisation.csv\n",
      "7\n"
     ]
    }
   ],
   "source": [
    "all_dfs = []\n",
    "file_counter = 0\n",
    "for one_csv_file in glob.glob('/Users/tushi/PRJ/WikidataParsing/topics/sports/*.csv'):\n",
    "    print(f'Loading {one_csv_file}')\n",
    "    new_df = pd.read_csv(one_csv_file, usecols=['item'])\n",
    "    all_dfs.append(new_df)\n",
    "    file_counter += 1\n",
    "    print(file_counter)"
   ]
  },
  {
   "cell_type": "code",
   "execution_count": 32,
   "metadata": {},
   "outputs": [
    {
     "name": "stdout",
     "output_type": "stream",
     "text": [
      "(959104, 1)\n",
      "                                            item\n",
      "count                                     959104\n",
      "unique                                    850592\n",
      "top     http://www.wikidata.org/entity/Q88973502\n",
      "freq                                           3\n"
     ]
    }
   ],
   "source": [
    "df = pd.concat(all_dfs)\n",
    "print(df.shape)\n",
    "print(df.describe())"
   ]
  },
  {
   "cell_type": "code",
   "execution_count": 33,
   "metadata": {},
   "outputs": [
    {
     "name": "stdout",
     "output_type": "stream",
     "text": [
      "(850592, 1)\n",
      "                                    item\n",
      "0  http://www.wikidata.org/entity/Q67555\n",
      "1  http://www.wikidata.org/entity/Q67631\n",
      "2  http://www.wikidata.org/entity/Q67639\n",
      "3  http://www.wikidata.org/entity/Q67740\n",
      "4  http://www.wikidata.org/entity/Q67964\n"
     ]
    }
   ],
   "source": [
    "sports_all = DataFrame.drop_duplicates(df)\n",
    "print(sports_all.shape)\n",
    "print(sports_all.head())"
   ]
  },
  {
   "cell_type": "code",
   "execution_count": 34,
   "metadata": {},
   "outputs": [],
   "source": [
    "# Extracting the qids\n",
    "# using substring/list comprehension now, can implement something using string slicing or regex later\n",
    "\n",
    "sports_with_qid = sports_all.copy()\n",
    "\n",
    "def extract_qid(item):\n",
    "    str = \"http://www.wikidata.org/entity/\"\n",
    "    if item.startswith(str): \n",
    "        qid = item[len(str):]\n",
    "        return qid\n",
    "\n",
    "sports_with_qid['qid'] = sports_with_qid['item'].apply(extract_qid)"
   ]
  },
  {
   "cell_type": "code",
   "execution_count": 36,
   "metadata": {},
   "outputs": [],
   "source": [
    "sports_with_qid.to_csv('/Users/tushi/PRJ/WikidataParsing/topics/topics_all/sports_all.csv')"
   ]
  },
  {
   "cell_type": "markdown",
   "metadata": {},
   "source": [
    "# Literature"
   ]
  },
  {
   "cell_type": "code",
   "execution_count": 37,
   "metadata": {},
   "outputs": [
    {
     "data": {
      "text/plain": [
       "['/Users/tushi/PRJ/WikidataParsing/topics/literature\\\\author.csv',\n",
       " '/Users/tushi/PRJ/WikidataParsing/topics/literature\\\\journal.csv',\n",
       " '/Users/tushi/PRJ/WikidataParsing/topics/literature\\\\journalist.csv',\n",
       " '/Users/tushi/PRJ/WikidataParsing/topics/literature\\\\language_Q315.csv',\n",
       " '/Users/tushi/PRJ/WikidataParsing/topics/literature\\\\language_Q34770.csv',\n",
       " '/Users/tushi/PRJ/WikidataParsing/topics/literature\\\\literature_Q8242.csv',\n",
       " '/Users/tushi/PRJ/WikidataParsing/topics/literature\\\\news.csv',\n",
       " '/Users/tushi/PRJ/WikidataParsing/topics/literature\\\\newspaper.csv',\n",
       " '/Users/tushi/PRJ/WikidataParsing/topics/literature\\\\writer.csv']"
      ]
     },
     "execution_count": 37,
     "metadata": {},
     "output_type": "execute_result"
    }
   ],
   "source": [
    "glob.glob('/Users/tushi/PRJ/WikidataParsing/topics/literature/*.csv')"
   ]
  },
  {
   "cell_type": "code",
   "execution_count": 38,
   "metadata": {},
   "outputs": [
    {
     "name": "stdout",
     "output_type": "stream",
     "text": [
      "Loading /Users/tushi/PRJ/WikidataParsing/topics/literature\\author.csv\n",
      "1\n",
      "Loading /Users/tushi/PRJ/WikidataParsing/topics/literature\\journal.csv\n",
      "2\n",
      "Loading /Users/tushi/PRJ/WikidataParsing/topics/literature\\journalist.csv\n",
      "3\n",
      "Loading /Users/tushi/PRJ/WikidataParsing/topics/literature\\language_Q315.csv\n",
      "4\n",
      "Loading /Users/tushi/PRJ/WikidataParsing/topics/literature\\language_Q34770.csv\n",
      "5\n",
      "Loading /Users/tushi/PRJ/WikidataParsing/topics/literature\\literature_Q8242.csv\n",
      "6\n",
      "Loading /Users/tushi/PRJ/WikidataParsing/topics/literature\\news.csv\n",
      "7\n",
      "Loading /Users/tushi/PRJ/WikidataParsing/topics/literature\\newspaper.csv\n",
      "8\n",
      "Loading /Users/tushi/PRJ/WikidataParsing/topics/literature\\writer.csv\n",
      "9\n"
     ]
    }
   ],
   "source": [
    "all_dfs = []\n",
    "file_counter = 0\n",
    "for one_csv_file in glob.glob('/Users/tushi/PRJ/WikidataParsing/topics/literature/*.csv'):\n",
    "    print(f'Loading {one_csv_file}')\n",
    "    new_df = pd.read_csv(one_csv_file, usecols=['item'])\n",
    "    all_dfs.append(new_df)\n",
    "    file_counter += 1\n",
    "    print(file_counter)"
   ]
  },
  {
   "cell_type": "code",
   "execution_count": 39,
   "metadata": {},
   "outputs": [
    {
     "name": "stdout",
     "output_type": "stream",
     "text": [
      "(1563096, 1)\n",
      "                                           item\n",
      "count                                   1563096\n",
      "unique                                  1504683\n",
      "top     http://www.wikidata.org/entity/Q5616094\n",
      "freq                                          3\n"
     ]
    }
   ],
   "source": [
    "df = pd.concat(all_dfs)\n",
    "print(df.shape)\n",
    "print(df.describe())"
   ]
  },
  {
   "cell_type": "code",
   "execution_count": 40,
   "metadata": {},
   "outputs": [
    {
     "name": "stdout",
     "output_type": "stream",
     "text": [
      "(1504683, 1)\n",
      "                                    item\n",
      "0  http://www.wikidata.org/entity/Q96730\n",
      "1  http://www.wikidata.org/entity/Q96743\n",
      "2  http://www.wikidata.org/entity/Q96756\n",
      "3  http://www.wikidata.org/entity/Q96765\n",
      "4  http://www.wikidata.org/entity/Q96772\n"
     ]
    }
   ],
   "source": [
    "literature_all = DataFrame.drop_duplicates(df)\n",
    "print(literature_all.shape)\n",
    "print(literature_all.head())"
   ]
  },
  {
   "cell_type": "code",
   "execution_count": 44,
   "metadata": {},
   "outputs": [],
   "source": [
    "# Extracting the qids\n",
    "# using substring/list comprehension now, can implement something using string slicing or regex later\n",
    "\n",
    "literature_with_qid = literature_all.copy()\n",
    "\n",
    "def extract_qid(item):\n",
    "    str = \"http://www.wikidata.org/entity/\"\n",
    "    if item.startswith(str): \n",
    "        qid = item[len(str):]\n",
    "        return qid\n",
    "\n",
    "literature_with_qid['qid'] = literature_with_qid['item'].apply(extract_qid)"
   ]
  },
  {
   "cell_type": "code",
   "execution_count": 45,
   "metadata": {},
   "outputs": [],
   "source": [
    "literature_with_qid.to_csv('/Users/tushi/PRJ/WikidataParsing/topics/topics_all/literature_all.csv')"
   ]
  },
  {
   "cell_type": "markdown",
   "metadata": {},
   "source": [
    "# Movies"
   ]
  },
  {
   "cell_type": "code",
   "execution_count": 47,
   "metadata": {},
   "outputs": [
    {
     "data": {
      "text/plain": [
       "['/Users/tushi/PRJ/WikidataParsing/topics/movies\\\\actors.csv',\n",
       " '/Users/tushi/PRJ/WikidataParsing/topics/movies\\\\animated_film.csv',\n",
       " '/Users/tushi/PRJ/WikidataParsing/topics/movies\\\\directors.csv',\n",
       " '/Users/tushi/PRJ/WikidataParsing/topics/movies\\\\fictional_character.csv',\n",
       " '/Users/tushi/PRJ/WikidataParsing/topics/movies\\\\film.csv',\n",
       " '/Users/tushi/PRJ/WikidataParsing/topics/movies\\\\plays.csv',\n",
       " '/Users/tushi/PRJ/WikidataParsing/topics/movies\\\\theatre.csv',\n",
       " '/Users/tushi/PRJ/WikidataParsing/topics/movies\\\\tv_channel.csv',\n",
       " '/Users/tushi/PRJ/WikidataParsing/topics/movies\\\\tv_series.csv']"
      ]
     },
     "execution_count": 47,
     "metadata": {},
     "output_type": "execute_result"
    }
   ],
   "source": [
    "glob.glob('/Users/tushi/PRJ/WikidataParsing/topics/movies/*.csv')"
   ]
  },
  {
   "cell_type": "code",
   "execution_count": 48,
   "metadata": {},
   "outputs": [
    {
     "name": "stdout",
     "output_type": "stream",
     "text": [
      "Loading /Users/tushi/PRJ/WikidataParsing/topics/movies\\actors.csv\n",
      "1\n",
      "Loading /Users/tushi/PRJ/WikidataParsing/topics/movies\\animated_film.csv\n",
      "2\n",
      "Loading /Users/tushi/PRJ/WikidataParsing/topics/movies\\directors.csv\n",
      "3\n",
      "Loading /Users/tushi/PRJ/WikidataParsing/topics/movies\\fictional_character.csv\n",
      "4\n",
      "Loading /Users/tushi/PRJ/WikidataParsing/topics/movies\\film.csv\n",
      "5\n",
      "Loading /Users/tushi/PRJ/WikidataParsing/topics/movies\\plays.csv\n",
      "6\n",
      "Loading /Users/tushi/PRJ/WikidataParsing/topics/movies\\theatre.csv\n",
      "7\n",
      "Loading /Users/tushi/PRJ/WikidataParsing/topics/movies\\tv_channel.csv\n",
      "8\n",
      "Loading /Users/tushi/PRJ/WikidataParsing/topics/movies\\tv_series.csv\n",
      "9\n"
     ]
    }
   ],
   "source": [
    "all_dfs = []\n",
    "file_counter = 0\n",
    "for one_csv_file in glob.glob('/Users/tushi/PRJ/WikidataParsing/topics/movies/*.csv'):\n",
    "    print(f'Loading {one_csv_file}')\n",
    "    new_df = pd.read_csv(one_csv_file, usecols=['item'])\n",
    "    all_dfs.append(new_df)\n",
    "    file_counter += 1\n",
    "    print(file_counter)"
   ]
  },
  {
   "cell_type": "code",
   "execution_count": 49,
   "metadata": {},
   "outputs": [
    {
     "name": "stdout",
     "output_type": "stream",
     "text": [
      "(890707, 1)\n",
      "                                           item\n",
      "count                                    890707\n",
      "unique                                   864618\n",
      "top     http://www.wikidata.org/entity/Q1807449\n",
      "freq                                          4\n"
     ]
    }
   ],
   "source": [
    "df = pd.concat(all_dfs)\n",
    "print(df.shape)\n",
    "print(df.describe())"
   ]
  },
  {
   "cell_type": "code",
   "execution_count": 50,
   "metadata": {},
   "outputs": [
    {
     "name": "stdout",
     "output_type": "stream",
     "text": [
      "(864618, 1)\n",
      "                                    item\n",
      "0  http://www.wikidata.org/entity/Q67287\n",
      "1  http://www.wikidata.org/entity/Q67383\n",
      "2  http://www.wikidata.org/entity/Q67380\n",
      "3  http://www.wikidata.org/entity/Q67469\n",
      "4  http://www.wikidata.org/entity/Q67475\n"
     ]
    }
   ],
   "source": [
    "movies_all = DataFrame.drop_duplicates(df)\n",
    "print(movies_all.shape)\n",
    "print(movies_all.head())"
   ]
  },
  {
   "cell_type": "code",
   "execution_count": 53,
   "metadata": {},
   "outputs": [],
   "source": [
    "# Extracting the qids\n",
    "# using substring/list comprehension now, can implement something using string slicing or regex later\n",
    "\n",
    "movies_with_qid = movies_all.copy()\n",
    "\n",
    "def extract_qid(item):\n",
    "    str = \"http://www.wikidata.org/entity/\"\n",
    "    if item.startswith(str): \n",
    "        qid = item[len(str):]\n",
    "        return qid\n",
    "\n",
    "movies_with_qid['qid'] = movies_with_qid['item'].apply(extract_qid)"
   ]
  },
  {
   "cell_type": "code",
   "execution_count": 55,
   "metadata": {},
   "outputs": [],
   "source": [
    "movies_with_qid.to_csv('/Users/tushi/PRJ/WikidataParsing/topics/topics_all/movies_all.csv')"
   ]
  },
  {
   "cell_type": "markdown",
   "metadata": {},
   "source": [
    "# Music"
   ]
  },
  {
   "cell_type": "code",
   "execution_count": 57,
   "metadata": {},
   "outputs": [
    {
     "data": {
      "text/plain": [
       "['/Users/tushi/PRJ/WikidataParsing/topics/music\\\\music.csv',\n",
       " '/Users/tushi/PRJ/WikidataParsing/topics/music\\\\music_artists.csv',\n",
       " '/Users/tushi/PRJ/WikidataParsing/topics/music\\\\singers.csv',\n",
       " '/Users/tushi/PRJ/WikidataParsing/topics/music\\\\songs.csv']"
      ]
     },
     "execution_count": 57,
     "metadata": {},
     "output_type": "execute_result"
    }
   ],
   "source": [
    "glob.glob('/Users/tushi/PRJ/WikidataParsing/topics/music/*.csv')"
   ]
  },
  {
   "cell_type": "code",
   "execution_count": 58,
   "metadata": {},
   "outputs": [
    {
     "name": "stdout",
     "output_type": "stream",
     "text": [
      "Loading /Users/tushi/PRJ/WikidataParsing/topics/music\\music.csv\n",
      "1\n",
      "Loading /Users/tushi/PRJ/WikidataParsing/topics/music\\music_artists.csv\n",
      "2\n",
      "Loading /Users/tushi/PRJ/WikidataParsing/topics/music\\singers.csv\n",
      "3\n",
      "Loading /Users/tushi/PRJ/WikidataParsing/topics/music\\songs.csv\n",
      "4\n"
     ]
    }
   ],
   "source": [
    "all_dfs = []\n",
    "file_counter = 0\n",
    "for one_csv_file in glob.glob('/Users/tushi/PRJ/WikidataParsing/topics/music/*.csv'):\n",
    "    print(f'Loading {one_csv_file}')\n",
    "    new_df = pd.read_csv(one_csv_file, usecols=['item'])\n",
    "    all_dfs.append(new_df)\n",
    "    file_counter += 1\n",
    "    print(file_counter)"
   ]
  },
  {
   "cell_type": "code",
   "execution_count": 59,
   "metadata": {},
   "outputs": [
    {
     "name": "stdout",
     "output_type": "stream",
     "text": [
      "(153563, 1)\n",
      "                                           item\n",
      "count                                    153563\n",
      "unique                                   130194\n",
      "top     http://www.wikidata.org/entity/Q3608932\n",
      "freq                                          2\n"
     ]
    }
   ],
   "source": [
    "df = pd.concat(all_dfs)\n",
    "print(df.shape)\n",
    "print(df.describe())"
   ]
  },
  {
   "cell_type": "code",
   "execution_count": 60,
   "metadata": {},
   "outputs": [
    {
     "name": "stdout",
     "output_type": "stream",
     "text": [
      "(130194, 1)\n",
      "                                      item\n",
      "0  http://www.wikidata.org/entity/Q1025228\n",
      "1  http://www.wikidata.org/entity/Q1025631\n",
      "2  http://www.wikidata.org/entity/Q1026783\n",
      "3  http://www.wikidata.org/entity/Q1027103\n",
      "4  http://www.wikidata.org/entity/Q1027303\n"
     ]
    }
   ],
   "source": [
    "music_all = DataFrame.drop_duplicates(df)\n",
    "print(music_all.shape)\n",
    "print(music_all.head())"
   ]
  },
  {
   "cell_type": "code",
   "execution_count": 61,
   "metadata": {},
   "outputs": [],
   "source": [
    "# Extracting the qids\n",
    "# using substring/list comprehension now, can implement something using string slicing or regex later\n",
    "\n",
    "music_with_qid = music_all.copy()\n",
    "\n",
    "def extract_qid(item):\n",
    "    str = \"http://www.wikidata.org/entity/\"\n",
    "    if item.startswith(str): \n",
    "        qid = item[len(str):]\n",
    "        return qid\n",
    "\n",
    "music_with_qid['qid'] = music_with_qid['item'].apply(extract_qid)"
   ]
  },
  {
   "cell_type": "code",
   "execution_count": 63,
   "metadata": {},
   "outputs": [],
   "source": [
    "music_with_qid.to_csv('/Users/tushi/PRJ/WikidataParsing/topics/topics_all/music_all.csv')"
   ]
  }
 ],
 "metadata": {
  "kernelspec": {
   "display_name": "Python 3",
   "language": "python",
   "name": "python3"
  },
  "language_info": {
   "codemirror_mode": {
    "name": "ipython",
    "version": 3
   },
   "file_extension": ".py",
   "mimetype": "text/x-python",
   "name": "python",
   "nbconvert_exporter": "python",
   "pygments_lexer": "ipython3",
   "version": "3.8.3"
  }
 },
 "nbformat": 4,
 "nbformat_minor": 4
}
