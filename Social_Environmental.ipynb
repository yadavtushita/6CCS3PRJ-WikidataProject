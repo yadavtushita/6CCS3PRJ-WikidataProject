{
 "cells": [
  {
   "cell_type": "markdown",
   "metadata": {},
   "source": [
    "# Social and Environmental\n",
    "\n",
    "- Data Cleaning\n",
    "- Data Visualisation\n",
    "- Data Analysis"
   ]
  },
  {
   "cell_type": "code",
   "execution_count": 1,
   "metadata": {},
   "outputs": [],
   "source": [
    "import pandas as pd\n",
    "import matplotlib.pyplot as plt\n",
    "import numpy as np\n",
    "import seaborn as sns\n",
    "import time\n",
    "from datetime import datetime\n",
    "from datetime import timezone\n",
    "from SPARQLWrapper import SPARQLWrapper, JSON\n",
    "\n",
    "%matplotlib inline"
   ]
  },
  {
   "cell_type": "code",
   "execution_count": 2,
   "metadata": {},
   "outputs": [],
   "source": [
    "# Reading the data from social and environmental revisions\n",
    "# Contains the revisions for all the selected items\n",
    "revisions = pd.read_csv('/Users/tushi/PRJ/WikidataParsing/topics/data_with_revisions/social_environmental_revisions.csv')\n",
    "items = pd.read_csv('/Users/tushi/PRJ/WikidataParsing/topics/data/social_environmental.csv')"
   ]
  },
  {
   "cell_type": "code",
   "execution_count": 3,
   "metadata": {},
   "outputs": [
    {
     "name": "stdout",
     "output_type": "stream",
     "text": [
      "Number of Revisions in Social and Environmental Dataset\n",
      "(4883145, 12)\n",
      "Number of Wikidata Items in Social and Environmental Dataset\n",
      "(801486, 3)\n"
     ]
    }
   ],
   "source": [
    "print(\"Number of Revisions in Social and Environmental Dataset\")\n",
    "print(revisions.shape)\n",
    "print(\"Number of Wikidata Items in Social and Environmental Dataset\")\n",
    "print(items.shape)"
   ]
  },
  {
   "cell_type": "markdown",
   "metadata": {},
   "source": [
    "# Data Cleaning\n",
    "\n",
    "- Drop uneccessary columns\n",
    "- Assign types for all edits\n",
    "- Assign user types for all edits\n",
    "- Remove rows with empty comments - better to remove after calculating the types in case there are some edge cases which have not been discovered\n",
    "- Convert timestamps to datetime objects\n",
    "- (Remove items that contain only bot edits)\n",
    "- Remove items with editcounts < (If removing rows with empty comments will need to recalculate the edit count and merge with dataset)"
   ]
  },
  {
   "cell_type": "code",
   "execution_count": 4,
   "metadata": {},
   "outputs": [],
   "source": [
    "# Dropping unecessary columns from the revisions dataframe\n",
    "rev = revisions.drop(['pageid', 'type', 'editentity', 'parentid'], axis=1)"
   ]
  },
  {
   "cell_type": "code",
   "execution_count": 5,
   "metadata": {},
   "outputs": [],
   "source": [
    "# Method to assign edit types to each revision by using the comment\n",
    "def get_edit_type(comment):\n",
    "    # Decoding the comment from a bytes object to a string\n",
    "    # Converting the comment to lowercase\n",
    "    # c = comment.decode(\"utf-8\").lower()\n",
    "    c = comment.lower()\n",
    "    # print(c)\n",
    "    editType = '' \n",
    "    \n",
    "    if c == '':\n",
    "        return editType\n",
    "    \n",
    "    if \"|\" in c:\n",
    "        # Comments which have |\n",
    "        cc = c.split(\"|\")[0].replace(\"/* \", \"\")\n",
    "        if 'undo' in cc:\n",
    "            editType = 'undo'\n",
    "            return editType\n",
    "        elif 'restore' in cc:\n",
    "            editType = 'restore'\n",
    "            return editType\n",
    "        elif 'wbsetclaimvalue' in cc:\n",
    "            editType = 'set'\n",
    "            return editType\n",
    "        elif 'wbsetlabeldescriptionaliases' in cc:\n",
    "            editType = 'set'\n",
    "            return editType\n",
    "        elif 'wbcreateredirect' in cc:\n",
    "            editType = 'create'\n",
    "            return editType\n",
    "        elif 'merge' in cc:\n",
    "            editType = 'merge'\n",
    "            return editType\n",
    "        elif '-' in cc:\n",
    "            ccc = cc.split(\"-\")[1]\n",
    "            if 'create' in ccc:\n",
    "                editType = 'create'\n",
    "                return editType\n",
    "            elif 'add' in ccc:\n",
    "                editType = 'add'\n",
    "                return editType\n",
    "            elif 'set' in ccc:\n",
    "                editType = 'set'\n",
    "                return editType\n",
    "            elif 'update' in ccc:\n",
    "                editType = 'update'\n",
    "                return editType\n",
    "            elif 'remove' in ccc:\n",
    "                editType = 'remove'\n",
    "                return editType\n",
    "    if 'revert' in c: \n",
    "        editType = 'revert'\n",
    "        return editType  \n",
    "    elif 'protect' in c:\n",
    "        editType = 'protect'\n",
    "        return editType  \n",
    "    elif 'undid' in c:\n",
    "        editType = 'undo'\n",
    "        return editType      \n",
    "    return editType\n",
    "        "
   ]
  },
  {
   "cell_type": "code",
   "execution_count": 6,
   "metadata": {},
   "outputs": [],
   "source": [
    "# Assigning edit types to each revision\n",
    "rev['type'] = [get_edit_type(comment) for comment in rev['comment']]"
   ]
  },
  {
   "cell_type": "code",
   "execution_count": 7,
   "metadata": {},
   "outputs": [
    {
     "data": {
      "text/plain": [
       "(4883145, 9)"
      ]
     },
     "execution_count": 7,
     "metadata": {},
     "output_type": "execute_result"
    }
   ],
   "source": [
    "rev.shape"
   ]
  },
  {
   "cell_type": "code",
   "execution_count": 8,
   "metadata": {},
   "outputs": [],
   "source": [
    "# Removing revisions with empty types \n",
    "# Removing revisions that either had an empty comment or or an edge case\n",
    "to_remove = rev[rev['type'] == ''].index\n",
    "rev = rev.drop(to_remove)"
   ]
  },
  {
   "cell_type": "code",
   "execution_count": 10,
   "metadata": {},
   "outputs": [],
   "source": [
    "# Reading csv with bot names scraped from Wikidata\n",
    "bots = pd.read_csv('/Users/tushi/PRJ/WikidataParsing/wikidata_bots.csv')"
   ]
  },
  {
   "cell_type": "code",
   "execution_count": 11,
   "metadata": {},
   "outputs": [],
   "source": [
    "# Method to assign user types to revisions\n",
    "# 3 types: Registered, Anonymous, Bot\n",
    "def get_user_type(user):\n",
    "    \n",
    "    u = user[1:].replace(\"'\", \"\")\n",
    "    \n",
    "    userType = ''\n",
    "    \n",
    "    if u == \"\":\n",
    "        userType = 'Anonymous'\n",
    "        return userType\n",
    "    elif u in bots.values:\n",
    "        userType = 'Bot'\n",
    "        return userType\n",
    "    else: \n",
    "        userType = 'Registered'\n",
    "        return userType\n",
    "    return userType\n",
    "    "
   ]
  },
  {
   "cell_type": "code",
   "execution_count": 12,
   "metadata": {},
   "outputs": [],
   "source": [
    "# Assigning user types to revisions\n",
    "rev['usertype'] = [get_user_type(user) for user in rev['username']]"
   ]
  },
  {
   "cell_type": "code",
   "execution_count": 14,
   "metadata": {},
   "outputs": [],
   "source": [
    "# Need to recalculate editcount for the items\n",
    "# Drop old editcount column\n",
    "rev = rev.drop(['editscount'], axis=1)"
   ]
  },
  {
   "cell_type": "code",
   "execution_count": 15,
   "metadata": {},
   "outputs": [],
   "source": [
    "editscount = rev['qid'].value_counts()"
   ]
  },
  {
   "cell_type": "code",
   "execution_count": 16,
   "metadata": {},
   "outputs": [
    {
     "data": {
      "text/plain": [
       "count    799329.000000\n",
       "mean          6.079448\n",
       "std          13.261592\n",
       "min           1.000000\n",
       "25%           1.000000\n",
       "50%           2.000000\n",
       "75%           5.000000\n",
       "max         917.000000\n",
       "Name: qid, dtype: float64"
      ]
     },
     "execution_count": 16,
     "metadata": {},
     "output_type": "execute_result"
    }
   ],
   "source": [
    "editscount.describe()"
   ]
  },
  {
   "cell_type": "markdown",
   "metadata": {},
   "source": [
    "Removing edits <= 5 will remove more than half of this dataset leaving behind only the top 25%"
   ]
  },
  {
   "cell_type": "code",
   "execution_count": 17,
   "metadata": {},
   "outputs": [],
   "source": [
    "# Converting to a dataframe so that it can be compared/merged with original dataframe\n",
    "df_editscount = pd.DataFrame({'qid':editscount.index, 'editscount':editscount.values})"
   ]
  },
  {
   "cell_type": "code",
   "execution_count": 18,
   "metadata": {},
   "outputs": [
    {
     "name": "stdout",
     "output_type": "stream",
     "text": [
      "Items with No of Edits = 1\n",
      "305661\n",
      "Items with No of Edits = 2\n",
      "196500\n",
      "Items with No of Edits = 3\n",
      "69624\n",
      "Items with No of Edits = 4\n",
      "27647\n",
      "Items with No of Edits = 5\n",
      "30991\n",
      "Items with No of Edits <= 5\n",
      "630423\n"
     ]
    }
   ],
   "source": [
    "print('Items with No of Edits = 1')\n",
    "print(len(df_editscount[df_editscount['editscount'] == 1]))\n",
    "\n",
    "print('Items with No of Edits = 2')\n",
    "print(len(df_editscount[df_editscount['editscount'] == 2]))\n",
    "\n",
    "print('Items with No of Edits = 3')\n",
    "print(len(df_editscount[df_editscount['editscount'] == 3]))\n",
    "\n",
    "print('Items with No of Edits = 4')\n",
    "print(len(df_editscount[df_editscount['editscount'] == 4]))\n",
    "\n",
    "print('Items with No of Edits = 5')\n",
    "print(len(df_editscount[df_editscount['editscount'] == 5]))\n",
    "\n",
    "print('Items with No of Edits <= 5')\n",
    "print(len(df_editscount[df_editscount['editscount'] <= 5]))"
   ]
  },
  {
   "cell_type": "code",
   "execution_count": 19,
   "metadata": {},
   "outputs": [],
   "source": [
    "# Removing items with editscount <= 5 \n",
    "to_remove = df_editscount[df_editscount['editscount'] <= 5].index\n",
    "df_editscount = df_editscount.drop(to_remove)"
   ]
  },
  {
   "cell_type": "code",
   "execution_count": 20,
   "metadata": {},
   "outputs": [
    {
     "data": {
      "text/plain": [
       "(168906, 2)"
      ]
     },
     "execution_count": 20,
     "metadata": {},
     "output_type": "execute_result"
    }
   ],
   "source": [
    "df_editscount.shape"
   ]
  },
  {
   "cell_type": "code",
   "execution_count": 21,
   "metadata": {},
   "outputs": [],
   "source": [
    "# Removing all items with editscount <= 5 from revisions dataset\n",
    "# Removing by finding intersection on qid between bot sets\n",
    "rev = pd.merge(rev, df_editscount, how='inner', on=['qid'])"
   ]
  },
  {
   "cell_type": "code",
   "execution_count": 23,
   "metadata": {},
   "outputs": [],
   "source": [
    "# Converting the timestamps to datetime object\n",
    "rev['timestamp'] = pd.to_datetime(rev.timestamp, format='%Y-%m-%d %H:%M:%S')\n",
    "\n",
    "# Converting to datetime leaves the dates in form '2016-10-12 14:37:53+00:00'\n",
    "# Formatting timestamp to remove +00:00\n",
    "rev['timestamp'] = rev['timestamp'].dt.strftime('%Y-%m-%d %H:%M:%S')\n",
    "\n",
    "# strftime() returns a string object\n",
    "# Converting back to datetime\n",
    "rev['timestamp'] = pd.to_datetime(rev.timestamp, format='%Y-%m-%d %H:%M:%S')"
   ]
  },
  {
   "cell_type": "code",
   "execution_count": 24,
   "metadata": {},
   "outputs": [
    {
     "data": {
      "text/plain": [
       "Unnamed: 0             int64\n",
       "qid                   object\n",
       "revisionid           float64\n",
       "timestamp     datetime64[ns]\n",
       "comment               object\n",
       "userid               float64\n",
       "username              object\n",
       "type                  object\n",
       "usertype              object\n",
       "editscount             int64\n",
       "dtype: object"
      ]
     },
     "execution_count": 24,
     "metadata": {},
     "output_type": "execute_result"
    }
   ],
   "source": [
    "rev.dtypes"
   ]
  },
  {
   "cell_type": "code",
   "execution_count": 25,
   "metadata": {},
   "outputs": [],
   "source": [
    "# Sparql Query to get labels using Qids\n",
    "def get_item_label(qid):\n",
    "    try:        \n",
    "        # Specifying the Wikidata SPARQL endpoint\n",
    "        sparql = SPARQLWrapper(\"https://query.wikidata.org/sparql\")\n",
    "        \n",
    "        # Query to access the label for the wikidata item\n",
    "        sparql.setQuery('PREFIX rdfs: <http://www.w3.org/2000/01/rdf-schema#> SELECT ?label WHERE {wd:' + qid + ' rdfs:label ?label . SERVICE wikibase:label { bd:serviceParam wikibase:language \"en\". } } LIMIT 1')\n",
    "        \n",
    "        # Converting result to JSON format\n",
    "        sparql.setReturnFormat(JSON)\n",
    "        result = sparql.query().convert()\n",
    "        \n",
    "        # result is in the form of \"bindings\" which are a list of dictionaries\n",
    "        # Accessing the value of the label \n",
    "        itemLabel = result[\"results\"][\"bindings\"][0][\"label\"][\"value\"]\n",
    "        \n",
    "        return itemLabel\n",
    "    except Exception as ex:\n",
    "        print(ex)\n",
    "        return('')"
   ]
  },
  {
   "cell_type": "code",
   "execution_count": 26,
   "metadata": {},
   "outputs": [
    {
     "name": "stdout",
     "output_type": "stream",
     "text": [
      "        qid  editscount\n",
      "0  Q3642765         917\n",
      "1  Q3964154         743\n",
      "2  Q4504204         726\n",
      "3   Q534197         702\n",
      "4     Q1085         657\n"
     ]
    }
   ],
   "source": [
    "print(df_editscount.head())"
   ]
  },
  {
   "cell_type": "markdown",
   "metadata": {},
   "source": [
    "Need to remove social groups from initial dataset as we are getting communes such as russian or french communes/cities"
   ]
  },
  {
   "cell_type": "markdown",
   "metadata": {},
   "source": [
    "# Descriptive Statistics"
   ]
  },
  {
   "cell_type": "code",
   "execution_count": 28,
   "metadata": {},
   "outputs": [
    {
     "data": {
      "text/plain": [
       "count    3686403\n",
       "mean          45\n",
       "std           45\n",
       "min            6\n",
       "25%           16\n",
       "50%           54\n",
       "75%           65\n",
       "max          917\n",
       "Name: editscount, dtype: int32"
      ]
     },
     "execution_count": 28,
     "metadata": {},
     "output_type": "execute_result"
    }
   ],
   "source": [
    "rev['editscount'].describe().astype(int)"
   ]
  },
  {
   "cell_type": "code",
   "execution_count": 29,
   "metadata": {},
   "outputs": [
    {
     "data": {
      "text/plain": [
       "count     3686403\n",
       "unique         10\n",
       "top           add\n",
       "freq      2328954\n",
       "Name: type, dtype: object"
      ]
     },
     "execution_count": 29,
     "metadata": {},
     "output_type": "execute_result"
    }
   ],
   "source": [
    "rev['type'].describe()"
   ]
  },
  {
   "cell_type": "code",
   "execution_count": 30,
   "metadata": {},
   "outputs": [],
   "source": [
    "social_environmental_items = rev['qid'].value_counts()"
   ]
  },
  {
   "cell_type": "code",
   "execution_count": 31,
   "metadata": {},
   "outputs": [],
   "source": [
    "# converting a series to a dataframe\n",
    "se_items = pd.DataFrame({'type':social_environmental_items.index, 'count':social_environmental_items.values})"
   ]
  },
  {
   "cell_type": "code",
   "execution_count": 32,
   "metadata": {},
   "outputs": [
    {
     "data": {
      "text/html": [
       "<div>\n",
       "<style scoped>\n",
       "    .dataframe tbody tr th:only-of-type {\n",
       "        vertical-align: middle;\n",
       "    }\n",
       "\n",
       "    .dataframe tbody tr th {\n",
       "        vertical-align: top;\n",
       "    }\n",
       "\n",
       "    .dataframe thead th {\n",
       "        text-align: right;\n",
       "    }\n",
       "</style>\n",
       "<table border=\"1\" class=\"dataframe\">\n",
       "  <thead>\n",
       "    <tr style=\"text-align: right;\">\n",
       "      <th></th>\n",
       "      <th>type</th>\n",
       "      <th>count</th>\n",
       "    </tr>\n",
       "  </thead>\n",
       "  <tbody>\n",
       "    <tr>\n",
       "      <th>9335</th>\n",
       "      <td>Q1415047</td>\n",
       "      <td>65</td>\n",
       "    </tr>\n",
       "    <tr>\n",
       "      <th>9336</th>\n",
       "      <td>Q1340286</td>\n",
       "      <td>65</td>\n",
       "    </tr>\n",
       "    <tr>\n",
       "      <th>9337</th>\n",
       "      <td>Q1162289</td>\n",
       "      <td>65</td>\n",
       "    </tr>\n",
       "    <tr>\n",
       "      <th>9338</th>\n",
       "      <td>Q1425482</td>\n",
       "      <td>65</td>\n",
       "    </tr>\n",
       "    <tr>\n",
       "      <th>9339</th>\n",
       "      <td>Q258566</td>\n",
       "      <td>65</td>\n",
       "    </tr>\n",
       "    <tr>\n",
       "      <th>...</th>\n",
       "      <td>...</td>\n",
       "      <td>...</td>\n",
       "    </tr>\n",
       "    <tr>\n",
       "      <th>27282</th>\n",
       "      <td>Q14485867</td>\n",
       "      <td>54</td>\n",
       "    </tr>\n",
       "    <tr>\n",
       "      <th>27283</th>\n",
       "      <td>Q181955</td>\n",
       "      <td>54</td>\n",
       "    </tr>\n",
       "    <tr>\n",
       "      <th>27284</th>\n",
       "      <td>Q967</td>\n",
       "      <td>54</td>\n",
       "    </tr>\n",
       "    <tr>\n",
       "      <th>27285</th>\n",
       "      <td>Q14558856</td>\n",
       "      <td>54</td>\n",
       "    </tr>\n",
       "    <tr>\n",
       "      <th>27286</th>\n",
       "      <td>Q48958</td>\n",
       "      <td>54</td>\n",
       "    </tr>\n",
       "  </tbody>\n",
       "</table>\n",
       "<p>17952 rows × 2 columns</p>\n",
       "</div>"
      ],
      "text/plain": [
       "            type  count\n",
       "9335    Q1415047     65\n",
       "9336    Q1340286     65\n",
       "9337    Q1162289     65\n",
       "9338    Q1425482     65\n",
       "9339     Q258566     65\n",
       "...          ...    ...\n",
       "27282  Q14485867     54\n",
       "27283    Q181955     54\n",
       "27284       Q967     54\n",
       "27285  Q14558856     54\n",
       "27286     Q48958     54\n",
       "\n",
       "[17952 rows x 2 columns]"
      ]
     },
     "execution_count": 32,
     "metadata": {},
     "output_type": "execute_result"
    }
   ],
   "source": [
    "# Items between the median and 75th percentile\n",
    "se_items[(se_items['count'] >= 54) & (se_items['count'] <= 65)]"
   ]
  },
  {
   "cell_type": "markdown",
   "metadata": {},
   "source": [
    "Too many communes"
   ]
  },
  {
   "cell_type": "markdown",
   "metadata": {},
   "source": [
    "# Statistics for Proxies"
   ]
  },
  {
   "cell_type": "code",
   "execution_count": 33,
   "metadata": {},
   "outputs": [],
   "source": [
    "# Counting the value of the number of proxies that exist in the dataset\n",
    "type_stats = rev['type'].value_counts()"
   ]
  },
  {
   "cell_type": "code",
   "execution_count": 34,
   "metadata": {},
   "outputs": [
    {
     "name": "stdout",
     "output_type": "stream",
     "text": [
      "           count\n",
      "type            \n",
      "add      2328954\n",
      "update    625852\n",
      "remove    382428\n",
      "create    288080\n",
      "set        56325\n",
      "undo        2577\n",
      "merge       1286\n",
      "revert       591\n",
      "restore      304\n",
      "protect        6\n"
     ]
    }
   ],
   "source": [
    "# Converting a series to a Dataframe\n",
    "type_s = pd.DataFrame({'type':type_stats.index, 'count':type_stats.values})\n",
    "ts = type_s.set_index('type')\n",
    "print(ts)"
   ]
  },
  {
   "cell_type": "code",
   "execution_count": 35,
   "metadata": {},
   "outputs": [
    {
     "data": {
      "image/png": "[encoded data removed]",
      "text/plain": [
       "<Figure size 432x288 with 1 Axes>"
      ]
     },
     "metadata": {
      "needs_background": "light"
     },
     "output_type": "display_data"
    }
   ],
   "source": [
    "# Plotting the statistics for the proxies/types of edits in the data\n",
    "ax = ts.plot.bar()\n",
    "\n",
    "plt.title('Types of Edits')\n",
    "plt.xlabel('Number of Edits')\n",
    "plt.ylabel('Types')\n",
    "\n",
    "plt.xticks(rotation=45)\n",
    "\n",
    "plt.show()"
   ]
  },
  {
   "cell_type": "code",
   "execution_count": 38,
   "metadata": {},
   "outputs": [],
   "source": [
    "# Extracting select proxies: remove, restore, revert, merge, undo, protect\n",
    "controversial_proxies = ts.iloc[[2, 5, 6, 7, 8, 9]]\n",
    "# print(controversial_proxies)"
   ]
  },
  {
   "cell_type": "code",
   "execution_count": 39,
   "metadata": {},
   "outputs": [
    {
     "data": {
      "image/png": "[encoded data removed]",
      "text/plain": [
       "<Figure size 432x288 with 1 Axes>"
      ]
     },
     "metadata": {
      "needs_background": "light"
     },
     "output_type": "display_data"
    }
   ],
   "source": [
    "# Plotting select proxies\n",
    "ax = controversial_proxies.plot.bar()\n",
    "\n",
    "plt.title('Types of Edits')\n",
    "plt.xlabel('Number of Edits')\n",
    "plt.ylabel('Types')\n",
    "\n",
    "plt.xticks(rotation=45)\n",
    "\n",
    "# ax.invert_yaxis()\n",
    "\n",
    "plt.show()"
   ]
  },
  {
   "cell_type": "code",
   "execution_count": 43,
   "metadata": {},
   "outputs": [
    {
     "name": "stdout",
     "output_type": "stream",
     "text": [
      "         count\n",
      "type          \n",
      "undo      2577\n",
      "merge     1286\n",
      "revert     591\n",
      "restore    304\n",
      "protect      6\n"
     ]
    }
   ],
   "source": [
    "# Extracting select proxies: restore, revert, merge, undo, protect\n",
    "controversial_proxies_without_remove = ts.iloc[[5, 6, 7, 8, 9]]\n",
    "print(controversial_proxies_without_remove)"
   ]
  },
  {
   "cell_type": "code",
   "execution_count": 44,
   "metadata": {},
   "outputs": [
    {
     "data": {
      "image/png": "[encoded data removed]",
      "text/plain": [
       "<Figure size 432x288 with 1 Axes>"
      ]
     },
     "metadata": {
      "needs_background": "light"
     },
     "output_type": "display_data"
    }
   ],
   "source": [
    "# Plotting select proxies without remove\n",
    "ax = controversial_proxies_without_remove.plot.bar()\n",
    "\n",
    "plt.title('Types of Edits')\n",
    "plt.xlabel('Number of Edits')\n",
    "plt.ylabel('Types')\n",
    "\n",
    "plt.xticks(rotation=45)\n",
    "\n",
    "# ax.invert_yaxis()\n",
    "\n",
    "plt.show()"
   ]
  },
  {
   "cell_type": "markdown",
   "metadata": {},
   "source": [
    "# Statistics for No of Edits"
   ]
  },
  {
   "cell_type": "code",
   "execution_count": 45,
   "metadata": {},
   "outputs": [],
   "source": [
    "no_of_edits = social_environmental_items.to_numpy()"
   ]
  },
  {
   "cell_type": "code",
   "execution_count": 46,
   "metadata": {},
   "outputs": [
    {
     "data": {
      "image/png": "[encoded data removed]",
      "text/plain": [
       "<Figure size 432x288 with 1 Axes>"
      ]
     },
     "metadata": {
      "needs_background": "light"
     },
     "output_type": "display_data"
    }
   ],
   "source": [
    "# Plotting No of Edits for the Items in the dataset \n",
    "# Line Plot\n",
    "\n",
    "plt.plot(no_of_edits)\n",
    "\n",
    "plt.title(\"No of Edits vs No of Items\")\n",
    "plt.xlabel(\"Number of Items\")\n",
    "plt.ylabel(\"No of Edits\")\n",
    "\n",
    "plt.show()"
   ]
  },
  {
   "cell_type": "code",
   "execution_count": 47,
   "metadata": {},
   "outputs": [],
   "source": [
    "# Top 25% of dataset"
   ]
  },
  {
   "cell_type": "markdown",
   "metadata": {},
   "source": [
    "# Grouping by Proxies"
   ]
  },
  {
   "cell_type": "code",
   "execution_count": 48,
   "metadata": {},
   "outputs": [],
   "source": [
    "reverts = rev[\"type\"].str.contains(\"revert\")\n",
    "revert_edits = reverts.groupby(rev[\"qid\"], sort=False).sum().astype(np.uintc)"
   ]
  },
  {
   "cell_type": "code",
   "execution_count": 49,
   "metadata": {},
   "outputs": [],
   "source": [
    "merges = rev[\"type\"].str.contains(\"merge\")\n",
    "merge_edits = merges.groupby(rev[\"qid\"], sort=False).sum().astype(np.uintc)"
   ]
  },
  {
   "cell_type": "code",
   "execution_count": 50,
   "metadata": {},
   "outputs": [],
   "source": [
    "undos = rev[\"type\"].str.contains(\"undo\")\n",
    "undo_edits = undos.groupby(rev[\"qid\"], sort=False).sum().astype(np.uintc)"
   ]
  },
  {
   "cell_type": "code",
   "execution_count": 51,
   "metadata": {},
   "outputs": [],
   "source": [
    "restores = rev[\"type\"].str.contains(\"restore\")\n",
    "restore_edits = restores.groupby(rev[\"qid\"], sort=False).sum().astype(np.uintc)"
   ]
  },
  {
   "cell_type": "code",
   "execution_count": 52,
   "metadata": {},
   "outputs": [],
   "source": [
    "protects = rev[\"type\"].str.contains(\"protect\")\n",
    "protect_edits = protects.groupby(rev[\"qid\"], sort=False).sum().astype(np.uintc)"
   ]
  },
  {
   "cell_type": "code",
   "execution_count": 53,
   "metadata": {},
   "outputs": [],
   "source": [
    "removes = rev[\"type\"].str.contains(\"remove\")\n",
    "remove_edits = removes.groupby(rev[\"qid\"], sort=False).sum().astype(np.uintc)"
   ]
  },
  {
   "cell_type": "code",
   "execution_count": 54,
   "metadata": {},
   "outputs": [],
   "source": [
    "# Creating a dataframe which will contain qids for items and no of each proxy\n",
    "proxies = pd.DataFrame({'revert': revert_edits, 'merge': merge_edits, 'undo': undo_edits, 'restore': restore_edits, \n",
    "                        'protect': protect_edits, 'remove': remove_edits})"
   ]
  },
  {
   "cell_type": "code",
   "execution_count": 55,
   "metadata": {},
   "outputs": [],
   "source": [
    "proxies = proxies.reset_index()"
   ]
  },
  {
   "cell_type": "code",
   "execution_count": 56,
   "metadata": {},
   "outputs": [
    {
     "data": {
      "text/plain": [
       "Index(['qid', 'revert', 'merge', 'undo', 'restore', 'protect', 'remove'], dtype='object')"
      ]
     },
     "execution_count": 56,
     "metadata": {},
     "output_type": "execute_result"
    }
   ],
   "source": [
    "proxies.columns"
   ]
  },
  {
   "cell_type": "code",
   "execution_count": 57,
   "metadata": {},
   "outputs": [
    {
     "data": {
      "text/plain": [
       "Index(['qid', 'editscount'], dtype='object')"
      ]
     },
     "execution_count": 57,
     "metadata": {},
     "output_type": "execute_result"
    }
   ],
   "source": [
    "df_editscount.columns"
   ]
  },
  {
   "cell_type": "code",
   "execution_count": 58,
   "metadata": {},
   "outputs": [],
   "source": [
    "# Adding editscount for each item \n",
    "proxies = pd.merge(proxies, df_editscount, how='inner', on=['qid'])"
   ]
  },
  {
   "cell_type": "code",
   "execution_count": 59,
   "metadata": {},
   "outputs": [],
   "source": [
    "# Counting the number of users per item that is userscount\n",
    "rev_users = rev.groupby('qid')['username'].nunique()\n",
    "# Converting to a dataframe so that it can be compared/merged \n",
    "df_userscount = pd.DataFrame({'qid':rev_users.index, 'userscount':rev_users.values})"
   ]
  },
  {
   "cell_type": "code",
   "execution_count": 60,
   "metadata": {},
   "outputs": [],
   "source": [
    "# Adding userscount for each item \n",
    "proxies = pd.merge(proxies, df_userscount, how='inner', on=['qid'])"
   ]
  },
  {
   "cell_type": "code",
   "execution_count": 62,
   "metadata": {},
   "outputs": [
    {
     "data": {
      "text/html": [
       "<div>\n",
       "<style scoped>\n",
       "    .dataframe tbody tr th:only-of-type {\n",
       "        vertical-align: middle;\n",
       "    }\n",
       "\n",
       "    .dataframe tbody tr th {\n",
       "        vertical-align: top;\n",
       "    }\n",
       "\n",
       "    .dataframe thead th {\n",
       "        text-align: right;\n",
       "    }\n",
       "</style>\n",
       "<table border=\"1\" class=\"dataframe\">\n",
       "  <thead>\n",
       "    <tr style=\"text-align: right;\">\n",
       "      <th></th>\n",
       "      <th>revert</th>\n",
       "      <th>merge</th>\n",
       "      <th>undo</th>\n",
       "      <th>restore</th>\n",
       "      <th>protect</th>\n",
       "      <th>remove</th>\n",
       "      <th>editscount</th>\n",
       "      <th>userscount</th>\n",
       "    </tr>\n",
       "  </thead>\n",
       "  <tbody>\n",
       "    <tr>\n",
       "      <th>count</th>\n",
       "      <td>168906.000000</td>\n",
       "      <td>168906.000000</td>\n",
       "      <td>168906.000000</td>\n",
       "      <td>168906.000000</td>\n",
       "      <td>168906.000000</td>\n",
       "      <td>168906.000000</td>\n",
       "      <td>168906.000000</td>\n",
       "      <td>168906.000000</td>\n",
       "    </tr>\n",
       "    <tr>\n",
       "      <th>mean</th>\n",
       "      <td>0.003499</td>\n",
       "      <td>0.007614</td>\n",
       "      <td>0.015257</td>\n",
       "      <td>0.001800</td>\n",
       "      <td>0.000036</td>\n",
       "      <td>2.264147</td>\n",
       "      <td>21.825175</td>\n",
       "      <td>2.078541</td>\n",
       "    </tr>\n",
       "    <tr>\n",
       "      <th>std</th>\n",
       "      <td>0.091137</td>\n",
       "      <td>0.091890</td>\n",
       "      <td>0.163545</td>\n",
       "      <td>0.054596</td>\n",
       "      <td>0.005960</td>\n",
       "      <td>2.772841</td>\n",
       "      <td>22.660030</td>\n",
       "      <td>1.565215</td>\n",
       "    </tr>\n",
       "    <tr>\n",
       "      <th>min</th>\n",
       "      <td>0.000000</td>\n",
       "      <td>0.000000</td>\n",
       "      <td>0.000000</td>\n",
       "      <td>0.000000</td>\n",
       "      <td>0.000000</td>\n",
       "      <td>0.000000</td>\n",
       "      <td>6.000000</td>\n",
       "      <td>1.000000</td>\n",
       "    </tr>\n",
       "    <tr>\n",
       "      <th>25%</th>\n",
       "      <td>0.000000</td>\n",
       "      <td>0.000000</td>\n",
       "      <td>0.000000</td>\n",
       "      <td>0.000000</td>\n",
       "      <td>0.000000</td>\n",
       "      <td>0.000000</td>\n",
       "      <td>7.000000</td>\n",
       "      <td>1.000000</td>\n",
       "    </tr>\n",
       "    <tr>\n",
       "      <th>50%</th>\n",
       "      <td>0.000000</td>\n",
       "      <td>0.000000</td>\n",
       "      <td>0.000000</td>\n",
       "      <td>0.000000</td>\n",
       "      <td>0.000000</td>\n",
       "      <td>0.000000</td>\n",
       "      <td>15.000000</td>\n",
       "      <td>2.000000</td>\n",
       "    </tr>\n",
       "    <tr>\n",
       "      <th>75%</th>\n",
       "      <td>0.000000</td>\n",
       "      <td>0.000000</td>\n",
       "      <td>0.000000</td>\n",
       "      <td>0.000000</td>\n",
       "      <td>0.000000</td>\n",
       "      <td>4.000000</td>\n",
       "      <td>19.000000</td>\n",
       "      <td>3.000000</td>\n",
       "    </tr>\n",
       "    <tr>\n",
       "      <th>max</th>\n",
       "      <td>11.000000</td>\n",
       "      <td>4.000000</td>\n",
       "      <td>10.000000</td>\n",
       "      <td>6.000000</td>\n",
       "      <td>1.000000</td>\n",
       "      <td>137.000000</td>\n",
       "      <td>917.000000</td>\n",
       "      <td>51.000000</td>\n",
       "    </tr>\n",
       "  </tbody>\n",
       "</table>\n",
       "</div>"
      ],
      "text/plain": [
       "              revert          merge           undo        restore  \\\n",
       "count  168906.000000  168906.000000  168906.000000  168906.000000   \n",
       "mean        0.003499       0.007614       0.015257       0.001800   \n",
       "std         0.091137       0.091890       0.163545       0.054596   \n",
       "min         0.000000       0.000000       0.000000       0.000000   \n",
       "25%         0.000000       0.000000       0.000000       0.000000   \n",
       "50%         0.000000       0.000000       0.000000       0.000000   \n",
       "75%         0.000000       0.000000       0.000000       0.000000   \n",
       "max        11.000000       4.000000      10.000000       6.000000   \n",
       "\n",
       "             protect         remove     editscount     userscount  \n",
       "count  168906.000000  168906.000000  168906.000000  168906.000000  \n",
       "mean        0.000036       2.264147      21.825175       2.078541  \n",
       "std         0.005960       2.772841      22.660030       1.565215  \n",
       "min         0.000000       0.000000       6.000000       1.000000  \n",
       "25%         0.000000       0.000000       7.000000       1.000000  \n",
       "50%         0.000000       0.000000      15.000000       2.000000  \n",
       "75%         0.000000       4.000000      19.000000       3.000000  \n",
       "max         1.000000     137.000000     917.000000      51.000000  "
      ]
     },
     "execution_count": 62,
     "metadata": {},
     "output_type": "execute_result"
    }
   ],
   "source": [
    "proxies.describe()"
   ]
  },
  {
   "cell_type": "code",
   "execution_count": 63,
   "metadata": {},
   "outputs": [
    {
     "data": {
      "text/plain": [
       "Text(0, 0.5, 'No of Edits')"
      ]
     },
     "execution_count": 63,
     "metadata": {},
     "output_type": "execute_result"
    },
    {
     "data": {
      "image/png": "[encoded data removed]",
      "text/plain": [
       "<Figure size 432x288 with 1 Axes>"
      ]
     },
     "metadata": {
      "needs_background": "light"
     },
     "output_type": "display_data"
    }
   ],
   "source": [
    "ax = sns.scatterplot(x=\"revert\", y=\"editscount\", data=proxies)\n",
    "ax.set_title(\"No of Reverts vs No of Edits\")\n",
    "ax.set_xlabel(\"No of Reverts\")\n",
    "ax.set_ylabel(\"No of Edits\")\n",
    "# No of reverts are very low for highly edited items"
   ]
  },
  {
   "cell_type": "code",
   "execution_count": 64,
   "metadata": {},
   "outputs": [
    {
     "data": {
      "text/plain": [
       "<seaborn.axisgrid.FacetGrid at 0x2242865df10>"
      ]
     },
     "execution_count": 64,
     "metadata": {},
     "output_type": "execute_result"
    },
    {
     "data": {
      "image/png": "[encoded data removed]",
      "text/plain": [
       "<Figure size 360x360 with 1 Axes>"
      ]
     },
     "metadata": {
      "needs_background": "light"
     },
     "output_type": "display_data"
    }
   ],
   "source": [
    "sns.lmplot(x=\"revert\", y=\"editscount\", data=proxies)"
   ]
  },
  {
   "cell_type": "code",
   "execution_count": 65,
   "metadata": {},
   "outputs": [
    {
     "data": {
      "text/html": [
       "<div>\n",
       "<style scoped>\n",
       "    .dataframe tbody tr th:only-of-type {\n",
       "        vertical-align: middle;\n",
       "    }\n",
       "\n",
       "    .dataframe tbody tr th {\n",
       "        vertical-align: top;\n",
       "    }\n",
       "\n",
       "    .dataframe thead th {\n",
       "        text-align: right;\n",
       "    }\n",
       "</style>\n",
       "<table border=\"1\" class=\"dataframe\">\n",
       "  <thead>\n",
       "    <tr style=\"text-align: right;\">\n",
       "      <th></th>\n",
       "      <th>revert</th>\n",
       "      <th>merge</th>\n",
       "      <th>undo</th>\n",
       "      <th>restore</th>\n",
       "      <th>protect</th>\n",
       "      <th>remove</th>\n",
       "      <th>editscount</th>\n",
       "      <th>userscount</th>\n",
       "    </tr>\n",
       "  </thead>\n",
       "  <tbody>\n",
       "    <tr>\n",
       "      <th>revert</th>\n",
       "      <td>1.000000</td>\n",
       "      <td>0.026511</td>\n",
       "      <td>0.190656</td>\n",
       "      <td>0.348558</td>\n",
       "      <td>0.141467</td>\n",
       "      <td>0.001544</td>\n",
       "      <td>0.019392</td>\n",
       "      <td>0.242862</td>\n",
       "    </tr>\n",
       "    <tr>\n",
       "      <th>merge</th>\n",
       "      <td>0.026511</td>\n",
       "      <td>1.000000</td>\n",
       "      <td>0.020635</td>\n",
       "      <td>0.058635</td>\n",
       "      <td>0.010317</td>\n",
       "      <td>-0.022230</td>\n",
       "      <td>-0.033100</td>\n",
       "      <td>0.099451</td>\n",
       "    </tr>\n",
       "    <tr>\n",
       "      <th>undo</th>\n",
       "      <td>0.190656</td>\n",
       "      <td>0.020635</td>\n",
       "      <td>1.000000</td>\n",
       "      <td>0.163356</td>\n",
       "      <td>0.066258</td>\n",
       "      <td>-0.053237</td>\n",
       "      <td>-0.026421</td>\n",
       "      <td>0.135385</td>\n",
       "    </tr>\n",
       "    <tr>\n",
       "      <th>restore</th>\n",
       "      <td>0.348558</td>\n",
       "      <td>0.058635</td>\n",
       "      <td>0.163356</td>\n",
       "      <td>1.000000</td>\n",
       "      <td>0.145364</td>\n",
       "      <td>0.022398</td>\n",
       "      <td>0.021402</td>\n",
       "      <td>0.169544</td>\n",
       "    </tr>\n",
       "    <tr>\n",
       "      <th>protect</th>\n",
       "      <td>0.141467</td>\n",
       "      <td>0.010317</td>\n",
       "      <td>0.066258</td>\n",
       "      <td>0.145364</td>\n",
       "      <td>1.000000</td>\n",
       "      <td>-0.000926</td>\n",
       "      <td>0.010918</td>\n",
       "      <td>0.076494</td>\n",
       "    </tr>\n",
       "    <tr>\n",
       "      <th>remove</th>\n",
       "      <td>0.001544</td>\n",
       "      <td>-0.022230</td>\n",
       "      <td>-0.053237</td>\n",
       "      <td>0.022398</td>\n",
       "      <td>-0.000926</td>\n",
       "      <td>1.000000</td>\n",
       "      <td>-0.072347</td>\n",
       "      <td>-0.264462</td>\n",
       "    </tr>\n",
       "    <tr>\n",
       "      <th>editscount</th>\n",
       "      <td>0.019392</td>\n",
       "      <td>-0.033100</td>\n",
       "      <td>-0.026421</td>\n",
       "      <td>0.021402</td>\n",
       "      <td>0.010918</td>\n",
       "      <td>-0.072347</td>\n",
       "      <td>1.000000</td>\n",
       "      <td>-0.117494</td>\n",
       "    </tr>\n",
       "    <tr>\n",
       "      <th>userscount</th>\n",
       "      <td>0.242862</td>\n",
       "      <td>0.099451</td>\n",
       "      <td>0.135385</td>\n",
       "      <td>0.169544</td>\n",
       "      <td>0.076494</td>\n",
       "      <td>-0.264462</td>\n",
       "      <td>-0.117494</td>\n",
       "      <td>1.000000</td>\n",
       "    </tr>\n",
       "  </tbody>\n",
       "</table>\n",
       "</div>"
      ],
      "text/plain": [
       "              revert     merge      undo   restore   protect    remove  \\\n",
       "revert      1.000000  0.026511  0.190656  0.348558  0.141467  0.001544   \n",
       "merge       0.026511  1.000000  0.020635  0.058635  0.010317 -0.022230   \n",
       "undo        0.190656  0.020635  1.000000  0.163356  0.066258 -0.053237   \n",
       "restore     0.348558  0.058635  0.163356  1.000000  0.145364  0.022398   \n",
       "protect     0.141467  0.010317  0.066258  0.145364  1.000000 -0.000926   \n",
       "remove      0.001544 -0.022230 -0.053237  0.022398 -0.000926  1.000000   \n",
       "editscount  0.019392 -0.033100 -0.026421  0.021402  0.010918 -0.072347   \n",
       "userscount  0.242862  0.099451  0.135385  0.169544  0.076494 -0.264462   \n",
       "\n",
       "            editscount  userscount  \n",
       "revert        0.019392    0.242862  \n",
       "merge        -0.033100    0.099451  \n",
       "undo         -0.026421    0.135385  \n",
       "restore       0.021402    0.169544  \n",
       "protect       0.010918    0.076494  \n",
       "remove       -0.072347   -0.264462  \n",
       "editscount    1.000000   -0.117494  \n",
       "userscount   -0.117494    1.000000  "
      ]
     },
     "execution_count": 65,
     "metadata": {},
     "output_type": "execute_result"
    }
   ],
   "source": [
    "corr_matrix = proxies.corr()\n",
    "corr_matrix\n",
    "# merge and editscount have a negative correlation"
   ]
  },
  {
   "cell_type": "code",
   "execution_count": 66,
   "metadata": {},
   "outputs": [
    {
     "data": {
      "text/plain": [
       "<matplotlib.axes._subplots.AxesSubplot at 0x224288e02b0>"
      ]
     },
     "execution_count": 66,
     "metadata": {},
     "output_type": "execute_result"
    },
    {
     "data": {
      "image/png": "[encoded data removed]",
      "text/plain": [
       "<Figure size 432x288 with 2 Axes>"
      ]
     },
     "metadata": {
      "needs_background": "light"
     },
     "output_type": "display_data"
    }
   ],
   "source": [
    "sns.heatmap(corr_matrix)"
   ]
  },
  {
   "cell_type": "code",
   "execution_count": 67,
   "metadata": {},
   "outputs": [
    {
     "data": {
      "text/plain": [
       "<seaborn.axisgrid.FacetGrid at 0x224287e67f0>"
      ]
     },
     "execution_count": 67,
     "metadata": {},
     "output_type": "execute_result"
    },
    {
     "data": {
      "image/png": "[encoded data removed]",
      "text/plain": [
       "<Figure size 648x432 with 1 Axes>"
      ]
     },
     "metadata": {
      "needs_background": "light"
     },
     "output_type": "display_data"
    }
   ],
   "source": [
    "# restore and revert have some correlation - weak positive\n",
    "sns.lmplot(x=\"revert\", y=\"restore\", data=proxies, height=6, aspect=1.5)"
   ]
  },
  {
   "cell_type": "code",
   "execution_count": 68,
   "metadata": {},
   "outputs": [
    {
     "data": {
      "text/plain": [
       "Text(0, 0.5, 'No of Edits')"
      ]
     },
     "execution_count": 68,
     "metadata": {},
     "output_type": "execute_result"
    },
    {
     "data": {
      "image/png": "[encoded data removed]",
      "text/plain": [
       "<Figure size 432x288 with 1 Axes>"
      ]
     },
     "metadata": {
      "needs_background": "light"
     },
     "output_type": "display_data"
    }
   ],
   "source": [
    "# userscount and editscount have a weak negative correlation - although not very high - it is much higher than others\n",
    "ax = sns.scatterplot(x=\"userscount\", y=\"editscount\", data=proxies)\n",
    "ax.set_title(\"No of Users vs No of Edits\")\n",
    "ax.set_xlabel(\"No of Users\")\n",
    "ax.set_ylabel(\"No of Edits\")"
   ]
  },
  {
   "cell_type": "code",
   "execution_count": 69,
   "metadata": {},
   "outputs": [
    {
     "data": {
      "text/plain": [
       "<seaborn.axisgrid.FacetGrid at 0x224290aee50>"
      ]
     },
     "execution_count": 69,
     "metadata": {},
     "output_type": "execute_result"
    },
    {
     "data": {
      "image/png": "[encoded data removed]",
      "text/plain": [
       "<Figure size 864x432 with 1 Axes>"
      ]
     },
     "metadata": {
      "needs_background": "light"
     },
     "output_type": "display_data"
    }
   ],
   "source": [
    "sns.lmplot(x=\"userscount\", y=\"editscount\", data=proxies, height=6, aspect=2)"
   ]
  },
  {
   "cell_type": "code",
   "execution_count": 70,
   "metadata": {},
   "outputs": [],
   "source": [
    "# Removing items with 0 reverts, merges, undos, restores, removes, protects\n",
    "# Removing items with editscount <= 5 \n",
    "to_remove = proxies[(proxies['revert'] == 0) & (proxies['merge'] == 0) & (proxies['undo'] == 0) & (proxies['restore'] == 0) & \n",
    "                   (proxies['remove'] == 0) & (proxies['protect'] == 0)].index\n",
    "proxies = proxies.drop(to_remove)"
   ]
  },
  {
   "cell_type": "code",
   "execution_count": 71,
   "metadata": {},
   "outputs": [
    {
     "data": {
      "text/plain": [
       "(83085, 9)"
      ]
     },
     "execution_count": 71,
     "metadata": {},
     "output_type": "execute_result"
    }
   ],
   "source": [
    "proxies.shape"
   ]
  },
  {
   "cell_type": "code",
   "execution_count": null,
   "metadata": {},
   "outputs": [],
   "source": []
  }
 ],
 "metadata": {
  "kernelspec": {
   "display_name": "Python 3",
   "language": "python",
   "name": "python3"
  },
  "language_info": {
   "codemirror_mode": {
    "name": "ipython",
    "version": 3
   },
   "file_extension": ".py",
   "mimetype": "text/x-python",
   "name": "python",
   "nbconvert_exporter": "python",
   "pygments_lexer": "ipython3",
   "version": "3.8.3"
  }
 },
 "nbformat": 4,
 "nbformat_minor": 4
}
