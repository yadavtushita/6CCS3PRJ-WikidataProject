{
 "cells": [
  {
   "cell_type": "markdown",
   "metadata": {},
   "source": [
    "# Literature\n",
    "\n",
    "- Data Cleaning\n",
    "- Data Visualisation\n",
    "- Data Analysis"
   ]
  },
  {
   "cell_type": "code",
   "execution_count": 1,
   "metadata": {},
   "outputs": [],
   "source": [
    "import pandas as pd\n",
    "import matplotlib.pyplot as plt\n",
    "import numpy as np\n",
    "import seaborn as sns\n",
    "import time\n",
    "from datetime import datetime\n",
    "from datetime import timezone\n",
    "from SPARQLWrapper import SPARQLWrapper, JSON\n",
    "\n",
    "%matplotlib inline"
   ]
  },
  {
   "cell_type": "code",
   "execution_count": 2,
   "metadata": {},
   "outputs": [],
   "source": [
    "# Reading the data from literature revisions\n",
    "# Contains the revisions for all the selected items\n",
    "revisions = pd.read_csv('/Users/tushi/PRJ/WikidataParsing/topics/data_with_revisions/literature_revisions.csv')\n",
    "items = pd.read_csv('/Users/tushi/PRJ/WikidataParsing/topics/data/literature.csv')"
   ]
  },
  {
   "cell_type": "code",
   "execution_count": 3,
   "metadata": {},
   "outputs": [
    {
     "name": "stdout",
     "output_type": "stream",
     "text": [
      "Number of Revisions in Literature Dataset\n",
      "(620265, 12)\n",
      "Number of Wikidata Items in Literature Dataset\n",
      "(196536, 3)\n"
     ]
    }
   ],
   "source": [
    "print(\"Number of Revisions in Literature Dataset\")\n",
    "print(revisions.shape)\n",
    "print(\"Number of Wikidata Items in Literature Dataset\")\n",
    "print(items.shape)"
   ]
  },
  {
   "cell_type": "markdown",
   "metadata": {},
   "source": [
    "# Data Cleaning\n",
    "\n",
    "- Drop uneccessary columns\n",
    "- Assign types for all edits\n",
    "- Assign user types for all edits\n",
    "- Remove rows with empty comments - better to remove after calculating the types in case there are some edge cases which have not been discovered\n",
    "- Convert timestamps to datetime objects\n",
    "- (Remove items that contain only bot edits)\n",
    "- Remove items with editcounts < (If removing rows with empty comments will need to recalculate the edit count and merge with dataset)"
   ]
  },
  {
   "cell_type": "code",
   "execution_count": 4,
   "metadata": {},
   "outputs": [],
   "source": [
    "# Dropping unecessary columns from the revisions dataframe\n",
    "rev = revisions.drop(['pageid', 'type', 'editentity', 'parentid'], axis=1)"
   ]
  },
  {
   "cell_type": "code",
   "execution_count": 5,
   "metadata": {},
   "outputs": [],
   "source": [
    "# Method to assign edit types to each revision by using the comment\n",
    "def get_edit_type(comment):\n",
    "    # Decoding the comment from a bytes object to a string\n",
    "    # Converting the comment to lowercase\n",
    "    # c = comment.decode(\"utf-8\").lower()\n",
    "    c = comment.lower()\n",
    "    # print(c)\n",
    "    editType = '' \n",
    "    \n",
    "    if c == '':\n",
    "        return editType\n",
    "    \n",
    "    if \"|\" in c:\n",
    "        # Comments which have |\n",
    "        cc = c.split(\"|\")[0].replace(\"/* \", \"\")\n",
    "        if 'undo' in cc:\n",
    "            editType = 'undo'\n",
    "            return editType\n",
    "        elif 'restore' in cc:\n",
    "            editType = 'restore'\n",
    "            return editType\n",
    "        elif 'wbsetclaimvalue' in cc:\n",
    "            editType = 'set'\n",
    "            return editType\n",
    "        elif 'wbsetlabeldescriptionaliases' in cc:\n",
    "            editType = 'set'\n",
    "            return editType\n",
    "        elif 'wbcreateredirect' in cc:\n",
    "            editType = 'create'\n",
    "            return editType\n",
    "        elif 'merge' in cc:\n",
    "            editType = 'merge'\n",
    "            return editType\n",
    "        elif '-' in cc:\n",
    "            ccc = cc.split(\"-\")[1]\n",
    "            if 'create' in ccc:\n",
    "                editType = 'create'\n",
    "                return editType\n",
    "            elif 'add' in ccc:\n",
    "                editType = 'add'\n",
    "                return editType\n",
    "            elif 'set' in ccc:\n",
    "                editType = 'set'\n",
    "                return editType\n",
    "            elif 'update' in ccc:\n",
    "                editType = 'update'\n",
    "                return editType\n",
    "            elif 'remove' in ccc:\n",
    "                editType = 'remove'\n",
    "                return editType\n",
    "    if 'revert' in c: \n",
    "        editType = 'revert'\n",
    "        return editType  \n",
    "    elif 'protect' in c:\n",
    "        editType = 'protect'\n",
    "        return editType  \n",
    "    elif 'undid' in c:\n",
    "        editType = 'undo'\n",
    "        return editType      \n",
    "    return editType\n",
    "        "
   ]
  },
  {
   "cell_type": "code",
   "execution_count": 6,
   "metadata": {},
   "outputs": [],
   "source": [
    "# Assigning edit types to each revision\n",
    "rev['type'] = [get_edit_type(comment) for comment in rev['comment']]"
   ]
  },
  {
   "cell_type": "code",
   "execution_count": 7,
   "metadata": {},
   "outputs": [
    {
     "data": {
      "text/plain": [
       "(620265, 9)"
      ]
     },
     "execution_count": 7,
     "metadata": {},
     "output_type": "execute_result"
    }
   ],
   "source": [
    "rev.shape"
   ]
  },
  {
   "cell_type": "code",
   "execution_count": 8,
   "metadata": {},
   "outputs": [],
   "source": [
    "# Removing revisions with empty types \n",
    "# Removing revisions that either had an empty comment or or an edge case\n",
    "to_remove = rev[rev['type'] == ''].index\n",
    "rev = rev.drop(to_remove)"
   ]
  },
  {
   "cell_type": "code",
   "execution_count": 10,
   "metadata": {},
   "outputs": [],
   "source": [
    "# Reading csv with bot names scraped from Wikidata\n",
    "bots = pd.read_csv('/Users/tushi/PRJ/WikidataParsing/wikidata_bots.csv')"
   ]
  },
  {
   "cell_type": "code",
   "execution_count": 11,
   "metadata": {},
   "outputs": [],
   "source": [
    "# Method to assign user types to revisions\n",
    "# 3 types: Registered, Anonymous, Bot\n",
    "def get_user_type(user):\n",
    "    \n",
    "    u = user[1:].replace(\"'\", \"\")\n",
    "    \n",
    "    userType = ''\n",
    "    \n",
    "    if u == \"\":\n",
    "        userType = 'Anonymous'\n",
    "        return userType\n",
    "    elif u in bots.values:\n",
    "        userType = 'Bot'\n",
    "        return userType\n",
    "    else: \n",
    "        userType = 'Registered'\n",
    "        return userType\n",
    "    return userType\n",
    "    "
   ]
  },
  {
   "cell_type": "code",
   "execution_count": 12,
   "metadata": {},
   "outputs": [],
   "source": [
    "# Assigning user types to revisions\n",
    "rev['usertype'] = [get_user_type(user) for user in rev['username']]"
   ]
  },
  {
   "cell_type": "code",
   "execution_count": 15,
   "metadata": {},
   "outputs": [],
   "source": [
    "# Need to recalculate editcount for the items\n",
    "# Drop old editcount column\n",
    "rev = rev.drop(['editscount'], axis=1)"
   ]
  },
  {
   "cell_type": "code",
   "execution_count": 16,
   "metadata": {},
   "outputs": [],
   "source": [
    "editscount = rev['qid'].value_counts()"
   ]
  },
  {
   "cell_type": "code",
   "execution_count": 17,
   "metadata": {},
   "outputs": [
    {
     "data": {
      "text/plain": [
       "count    196056.000000\n",
       "mean          3.145729\n",
       "std           8.408573\n",
       "min           1.000000\n",
       "25%           1.000000\n",
       "50%           2.000000\n",
       "75%           3.000000\n",
       "max         456.000000\n",
       "Name: qid, dtype: float64"
      ]
     },
     "execution_count": 17,
     "metadata": {},
     "output_type": "execute_result"
    }
   ],
   "source": [
    "editscount.describe()"
   ]
  },
  {
   "cell_type": "code",
   "execution_count": 18,
   "metadata": {},
   "outputs": [],
   "source": [
    "# Converting to a dataframe so that it can be compared/merged with original dataframe\n",
    "df_editscount = pd.DataFrame({'qid':editscount.index, 'editscount':editscount.values})"
   ]
  },
  {
   "cell_type": "code",
   "execution_count": 19,
   "metadata": {},
   "outputs": [
    {
     "name": "stdout",
     "output_type": "stream",
     "text": [
      "Items with No of Edits = 1\n",
      "66831\n",
      "Items with No of Edits = 2\n",
      "64939\n",
      "Items with No of Edits = 3\n",
      "20478\n",
      "Items with No of Edits = 4\n",
      "17098\n",
      "Items with No of Edits = 5\n",
      "6373\n",
      "Items with No of Edits <= 5\n",
      "175719\n"
     ]
    }
   ],
   "source": [
    "print('Items with No of Edits = 1')\n",
    "print(len(df_editscount[df_editscount['editscount'] == 1]))\n",
    "\n",
    "print('Items with No of Edits = 2')\n",
    "print(len(df_editscount[df_editscount['editscount'] == 2]))\n",
    "\n",
    "print('Items with No of Edits = 3')\n",
    "print(len(df_editscount[df_editscount['editscount'] == 3]))\n",
    "\n",
    "print('Items with No of Edits = 4')\n",
    "print(len(df_editscount[df_editscount['editscount'] == 4]))\n",
    "\n",
    "print('Items with No of Edits = 5')\n",
    "print(len(df_editscount[df_editscount['editscount'] == 5]))\n",
    "\n",
    "print('Items with No of Edits <= 5')\n",
    "print(len(df_editscount[df_editscount['editscount'] <= 5]))"
   ]
  },
  {
   "cell_type": "code",
   "execution_count": 20,
   "metadata": {},
   "outputs": [],
   "source": [
    "# Removing items with editscount <= 5 \n",
    "to_remove = df_editscount[df_editscount['editscount'] <= 5].index\n",
    "df_editscount = df_editscount.drop(to_remove)"
   ]
  },
  {
   "cell_type": "code",
   "execution_count": 21,
   "metadata": {},
   "outputs": [
    {
     "data": {
      "text/plain": [
       "(20337, 2)"
      ]
     },
     "execution_count": 21,
     "metadata": {},
     "output_type": "execute_result"
    }
   ],
   "source": [
    "df_editscount.shape"
   ]
  },
  {
   "cell_type": "code",
   "execution_count": 22,
   "metadata": {},
   "outputs": [],
   "source": [
    "# Removing all items with editscount <= 5 from revisions dataset\n",
    "# Removing by finding intersection on qid between bot sets\n",
    "rev = pd.merge(rev, df_editscount, how='inner', on=['qid'])"
   ]
  },
  {
   "cell_type": "code",
   "execution_count": 24,
   "metadata": {},
   "outputs": [],
   "source": [
    "# Converting the timestamps to datetime object\n",
    "rev['timestamp'] = pd.to_datetime(rev.timestamp, format='%Y-%m-%d %H:%M:%S')\n",
    "\n",
    "# Converting to datetime leaves the dates in form '2016-10-12 14:37:53+00:00'\n",
    "# Formatting timestamp to remove +00:00\n",
    "rev['timestamp'] = rev['timestamp'].dt.strftime('%Y-%m-%d %H:%M:%S')\n",
    "\n",
    "# strftime() returns a string object\n",
    "# Converting back to datetime\n",
    "rev['timestamp'] = pd.to_datetime(rev.timestamp, format='%Y-%m-%d %H:%M:%S')"
   ]
  },
  {
   "cell_type": "code",
   "execution_count": 25,
   "metadata": {},
   "outputs": [
    {
     "data": {
      "text/plain": [
       "Unnamed: 0             int64\n",
       "qid                   object\n",
       "revisionid           float64\n",
       "timestamp     datetime64[ns]\n",
       "comment               object\n",
       "userid               float64\n",
       "username              object\n",
       "type                  object\n",
       "usertype              object\n",
       "editscount             int64\n",
       "dtype: object"
      ]
     },
     "execution_count": 25,
     "metadata": {},
     "output_type": "execute_result"
    }
   ],
   "source": [
    "rev.dtypes"
   ]
  },
  {
   "cell_type": "code",
   "execution_count": 26,
   "metadata": {},
   "outputs": [],
   "source": [
    "# Sparql Query to get labels using Qids\n",
    "def get_item_label(qid):\n",
    "    try:        \n",
    "        # Specifying the Wikidata SPARQL endpoint\n",
    "        sparql = SPARQLWrapper(\"https://query.wikidata.org/sparql\")\n",
    "        \n",
    "        # Query to access the label for the wikidata item\n",
    "        sparql.setQuery('PREFIX rdfs: <http://www.w3.org/2000/01/rdf-schema#> SELECT ?label WHERE {wd:' + qid + ' rdfs:label ?label . SERVICE wikibase:label { bd:serviceParam wikibase:language \"en\". } } LIMIT 1')\n",
    "        \n",
    "        # Converting result to JSON format\n",
    "        sparql.setReturnFormat(JSON)\n",
    "        result = sparql.query().convert()\n",
    "        \n",
    "        # result is in the form of \"bindings\" which are a list of dictionaries\n",
    "        # Accessing the value of the label \n",
    "        itemLabel = result[\"results\"][\"bindings\"][0][\"label\"][\"value\"]\n",
    "        \n",
    "        return itemLabel\n",
    "    except Exception as ex:\n",
    "        print(ex)\n",
    "        return('')"
   ]
  },
  {
   "cell_type": "code",
   "execution_count": 27,
   "metadata": {},
   "outputs": [
    {
     "name": "stdout",
     "output_type": "stream",
     "text": [
      "         qid  editscount\n",
      "0     Q22686         456\n",
      "1    Q131674         350\n",
      "2     Q28614         338\n",
      "3  Q27524867         334\n",
      "4  Q27530659         333\n"
     ]
    }
   ],
   "source": [
    "print(df_editscount.head())"
   ]
  },
  {
   "cell_type": "markdown",
   "metadata": {},
   "source": [
    "# Descriptive Statistics"
   ]
  },
  {
   "cell_type": "code",
   "execution_count": 28,
   "metadata": {},
   "outputs": [
    {
     "data": {
      "text/plain": [
       "count    258339\n",
       "mean         57\n",
       "std         103\n",
       "min           6\n",
       "25%           8\n",
       "50%          13\n",
       "75%          26\n",
       "max         456\n",
       "Name: editscount, dtype: int32"
      ]
     },
     "execution_count": 28,
     "metadata": {},
     "output_type": "execute_result"
    }
   ],
   "source": [
    "rev['editscount'].describe().astype(int)"
   ]
  },
  {
   "cell_type": "code",
   "execution_count": 29,
   "metadata": {},
   "outputs": [
    {
     "data": {
      "text/plain": [
       "count     258339\n",
       "unique        10\n",
       "top          add\n",
       "freq      101778\n",
       "Name: type, dtype: object"
      ]
     },
     "execution_count": 29,
     "metadata": {},
     "output_type": "execute_result"
    }
   ],
   "source": [
    "rev['type'].describe()"
   ]
  },
  {
   "cell_type": "code",
   "execution_count": 30,
   "metadata": {},
   "outputs": [],
   "source": [
    "literature_items = rev['qid'].value_counts()"
   ]
  },
  {
   "cell_type": "code",
   "execution_count": 31,
   "metadata": {},
   "outputs": [],
   "source": [
    "# converting a series to a dataframe\n",
    "l_items = pd.DataFrame({'type':literature_items.index, 'count':literature_items.values})"
   ]
  },
  {
   "cell_type": "code",
   "execution_count": 32,
   "metadata": {},
   "outputs": [
    {
     "data": {
      "text/html": [
       "<div>\n",
       "<style scoped>\n",
       "    .dataframe tbody tr th:only-of-type {\n",
       "        vertical-align: middle;\n",
       "    }\n",
       "\n",
       "    .dataframe tbody tr th {\n",
       "        vertical-align: top;\n",
       "    }\n",
       "\n",
       "    .dataframe thead th {\n",
       "        text-align: right;\n",
       "    }\n",
       "</style>\n",
       "<table border=\"1\" class=\"dataframe\">\n",
       "  <thead>\n",
       "    <tr style=\"text-align: right;\">\n",
       "      <th></th>\n",
       "      <th>type</th>\n",
       "      <th>count</th>\n",
       "    </tr>\n",
       "  </thead>\n",
       "  <tbody>\n",
       "    <tr>\n",
       "      <th>805</th>\n",
       "      <td>Q27927978</td>\n",
       "      <td>26</td>\n",
       "    </tr>\n",
       "    <tr>\n",
       "      <th>806</th>\n",
       "      <td>Q483325</td>\n",
       "      <td>26</td>\n",
       "    </tr>\n",
       "    <tr>\n",
       "      <th>807</th>\n",
       "      <td>Q27499760</td>\n",
       "      <td>26</td>\n",
       "    </tr>\n",
       "    <tr>\n",
       "      <th>808</th>\n",
       "      <td>Q5638712</td>\n",
       "      <td>26</td>\n",
       "    </tr>\n",
       "    <tr>\n",
       "      <th>809</th>\n",
       "      <td>Q27447785</td>\n",
       "      <td>26</td>\n",
       "    </tr>\n",
       "    <tr>\n",
       "      <th>...</th>\n",
       "      <td>...</td>\n",
       "      <td>...</td>\n",
       "    </tr>\n",
       "    <tr>\n",
       "      <th>4966</th>\n",
       "      <td>Q4508455</td>\n",
       "      <td>13</td>\n",
       "    </tr>\n",
       "    <tr>\n",
       "      <th>4967</th>\n",
       "      <td>Q27825410</td>\n",
       "      <td>13</td>\n",
       "    </tr>\n",
       "    <tr>\n",
       "      <th>4968</th>\n",
       "      <td>Q26828187</td>\n",
       "      <td>13</td>\n",
       "    </tr>\n",
       "    <tr>\n",
       "      <th>4969</th>\n",
       "      <td>Q57203</td>\n",
       "      <td>13</td>\n",
       "    </tr>\n",
       "    <tr>\n",
       "      <th>4970</th>\n",
       "      <td>Q240311</td>\n",
       "      <td>13</td>\n",
       "    </tr>\n",
       "  </tbody>\n",
       "</table>\n",
       "<p>4166 rows × 2 columns</p>\n",
       "</div>"
      ],
      "text/plain": [
       "           type  count\n",
       "805   Q27927978     26\n",
       "806     Q483325     26\n",
       "807   Q27499760     26\n",
       "808    Q5638712     26\n",
       "809   Q27447785     26\n",
       "...         ...    ...\n",
       "4966   Q4508455     13\n",
       "4967  Q27825410     13\n",
       "4968  Q26828187     13\n",
       "4969     Q57203     13\n",
       "4970    Q240311     13\n",
       "\n",
       "[4166 rows x 2 columns]"
      ]
     },
     "execution_count": 32,
     "metadata": {},
     "output_type": "execute_result"
    }
   ],
   "source": [
    "# Items between the median and 75th percentile\n",
    "l_items[(l_items['count'] >= 13) & (l_items['count'] <= 26)]"
   ]
  },
  {
   "cell_type": "markdown",
   "metadata": {},
   "source": [
    "# Statistics for Proxies"
   ]
  },
  {
   "cell_type": "code",
   "execution_count": 33,
   "metadata": {},
   "outputs": [],
   "source": [
    "# Counting the value of the number of proxies that exist in the dataset\n",
    "type_stats = rev['type'].value_counts()"
   ]
  },
  {
   "cell_type": "code",
   "execution_count": 34,
   "metadata": {},
   "outputs": [
    {
     "name": "stdout",
     "output_type": "stream",
     "text": [
      "          count\n",
      "type           \n",
      "add      101778\n",
      "create   100787\n",
      "update    38361\n",
      "remove     8433\n",
      "set        6805\n",
      "revert      987\n",
      "undo        552\n",
      "merge       330\n",
      "restore     283\n",
      "protect      23\n"
     ]
    }
   ],
   "source": [
    "# Converting a series to a Dataframe\n",
    "type_s = pd.DataFrame({'type':type_stats.index, 'count':type_stats.values})\n",
    "ts = type_s.set_index('type')\n",
    "print(ts)"
   ]
  },
  {
   "cell_type": "code",
   "execution_count": 35,
   "metadata": {},
   "outputs": [
    {
     "data": {
      "image/png": "[encoded data removed]",
      "text/plain": [
       "<Figure size 432x288 with 1 Axes>"
      ]
     },
     "metadata": {
      "needs_background": "light"
     },
     "output_type": "display_data"
    }
   ],
   "source": [
    "# Plotting the statistics for the proxies/types of edits in the data\n",
    "ax = ts.plot.bar()\n",
    "\n",
    "plt.title('Types of Edits')\n",
    "plt.xlabel('Number of Edits')\n",
    "plt.ylabel('Types')\n",
    "\n",
    "plt.xticks(rotation=45)\n",
    "\n",
    "plt.show()"
   ]
  },
  {
   "cell_type": "code",
   "execution_count": 39,
   "metadata": {},
   "outputs": [],
   "source": [
    "# Extracting select proxies: remove, restore, revert, merge, undo, protect\n",
    "controversial_proxies = ts.iloc[[3, 5, 6, 7, 8, 9]]\n",
    "# print(controversial_proxies)"
   ]
  },
  {
   "cell_type": "code",
   "execution_count": 40,
   "metadata": {},
   "outputs": [
    {
     "data": {
      "image/png": "[encoded data removed]",
      "text/plain": [
       "<Figure size 432x288 with 1 Axes>"
      ]
     },
     "metadata": {
      "needs_background": "light"
     },
     "output_type": "display_data"
    }
   ],
   "source": [
    "# Plotting select proxies\n",
    "ax = controversial_proxies.plot.bar()\n",
    "\n",
    "plt.title('Types of Edits')\n",
    "plt.xlabel('Number of Edits')\n",
    "plt.ylabel('Types')\n",
    "\n",
    "plt.xticks(rotation=45)\n",
    "\n",
    "# ax.invert_yaxis()\n",
    "\n",
    "plt.show()"
   ]
  },
  {
   "cell_type": "code",
   "execution_count": 41,
   "metadata": {},
   "outputs": [
    {
     "name": "stdout",
     "output_type": "stream",
     "text": [
      "         count\n",
      "type          \n",
      "revert     987\n",
      "undo       552\n",
      "merge      330\n",
      "restore    283\n",
      "protect     23\n"
     ]
    }
   ],
   "source": [
    "# Extracting select proxies: restore, revert, merge, undo, protect\n",
    "controversial_proxies_without_remove = ts.iloc[[5, 6, 7, 8, 9]]\n",
    "print(controversial_proxies_without_remove)"
   ]
  },
  {
   "cell_type": "code",
   "execution_count": 42,
   "metadata": {},
   "outputs": [
    {
     "data": {
      "image/png": "[encoded data removed]",
      "text/plain": [
       "<Figure size 432x288 with 1 Axes>"
      ]
     },
     "metadata": {
      "needs_background": "light"
     },
     "output_type": "display_data"
    }
   ],
   "source": [
    "# Plotting select proxies without remove\n",
    "ax = controversial_proxies_without_remove.plot.bar()\n",
    "\n",
    "plt.title('Types of Edits')\n",
    "plt.xlabel('Number of Edits')\n",
    "plt.ylabel('Types')\n",
    "\n",
    "plt.xticks(rotation=45)\n",
    "\n",
    "# ax.invert_yaxis()\n",
    "\n",
    "plt.show()"
   ]
  },
  {
   "cell_type": "markdown",
   "metadata": {},
   "source": [
    "# Statistics for No of Edits"
   ]
  },
  {
   "cell_type": "code",
   "execution_count": 43,
   "metadata": {},
   "outputs": [],
   "source": [
    "no_of_edits = literature_items.to_numpy()"
   ]
  },
  {
   "cell_type": "code",
   "execution_count": 44,
   "metadata": {},
   "outputs": [
    {
     "data": {
      "image/png": "[encoded data removed]",
      "text/plain": [
       "<Figure size 432x288 with 1 Axes>"
      ]
     },
     "metadata": {
      "needs_background": "light"
     },
     "output_type": "display_data"
    }
   ],
   "source": [
    "# Plotting No of Edits for the Items in the dataset \n",
    "# Line Plot\n",
    "\n",
    "plt.plot(no_of_edits)\n",
    "\n",
    "plt.title(\"No of Edits vs No of Items\")\n",
    "plt.xlabel(\"Number of Items\")\n",
    "plt.ylabel(\"No of Edits\")\n",
    "\n",
    "plt.show()"
   ]
  },
  {
   "cell_type": "code",
   "execution_count": 45,
   "metadata": {},
   "outputs": [],
   "source": [
    "# Top 25% of the dataset"
   ]
  },
  {
   "cell_type": "markdown",
   "metadata": {},
   "source": [
    "# Grouping by Proxies"
   ]
  },
  {
   "cell_type": "code",
   "execution_count": 46,
   "metadata": {},
   "outputs": [],
   "source": [
    "reverts = rev[\"type\"].str.contains(\"revert\")\n",
    "revert_edits = reverts.groupby(rev[\"qid\"], sort=False).sum().astype(np.uintc)"
   ]
  },
  {
   "cell_type": "code",
   "execution_count": 47,
   "metadata": {},
   "outputs": [],
   "source": [
    "merges = rev[\"type\"].str.contains(\"merge\")\n",
    "merge_edits = merges.groupby(rev[\"qid\"], sort=False).sum().astype(np.uintc)"
   ]
  },
  {
   "cell_type": "code",
   "execution_count": 48,
   "metadata": {},
   "outputs": [],
   "source": [
    "undos = rev[\"type\"].str.contains(\"undo\")\n",
    "undo_edits = undos.groupby(rev[\"qid\"], sort=False).sum().astype(np.uintc)"
   ]
  },
  {
   "cell_type": "code",
   "execution_count": 49,
   "metadata": {},
   "outputs": [],
   "source": [
    "restores = rev[\"type\"].str.contains(\"restore\")\n",
    "restore_edits = restores.groupby(rev[\"qid\"], sort=False).sum().astype(np.uintc)"
   ]
  },
  {
   "cell_type": "code",
   "execution_count": 50,
   "metadata": {},
   "outputs": [],
   "source": [
    "protects = rev[\"type\"].str.contains(\"protect\")\n",
    "protect_edits = protects.groupby(rev[\"qid\"], sort=False).sum().astype(np.uintc)"
   ]
  },
  {
   "cell_type": "code",
   "execution_count": 51,
   "metadata": {},
   "outputs": [],
   "source": [
    "removes = rev[\"type\"].str.contains(\"remove\")\n",
    "remove_edits = removes.groupby(rev[\"qid\"], sort=False).sum().astype(np.uintc)"
   ]
  },
  {
   "cell_type": "code",
   "execution_count": 52,
   "metadata": {},
   "outputs": [],
   "source": [
    "# Creating a dataframe which will contain qids for items and no of each proxy\n",
    "proxies = pd.DataFrame({'revert': revert_edits, 'merge': merge_edits, 'undo': undo_edits, 'restore': restore_edits, \n",
    "                        'protect': protect_edits, 'remove': remove_edits})"
   ]
  },
  {
   "cell_type": "code",
   "execution_count": 53,
   "metadata": {},
   "outputs": [],
   "source": [
    "proxies = proxies.reset_index()"
   ]
  },
  {
   "cell_type": "code",
   "execution_count": 54,
   "metadata": {},
   "outputs": [
    {
     "data": {
      "text/plain": [
       "Index(['qid', 'revert', 'merge', 'undo', 'restore', 'protect', 'remove'], dtype='object')"
      ]
     },
     "execution_count": 54,
     "metadata": {},
     "output_type": "execute_result"
    }
   ],
   "source": [
    "proxies.columns"
   ]
  },
  {
   "cell_type": "code",
   "execution_count": 55,
   "metadata": {},
   "outputs": [
    {
     "data": {
      "text/plain": [
       "Index(['qid', 'editscount'], dtype='object')"
      ]
     },
     "execution_count": 55,
     "metadata": {},
     "output_type": "execute_result"
    }
   ],
   "source": [
    "df_editscount.columns"
   ]
  },
  {
   "cell_type": "code",
   "execution_count": 56,
   "metadata": {},
   "outputs": [],
   "source": [
    "# Adding editscount for each item \n",
    "proxies = pd.merge(proxies, df_editscount, how='inner', on=['qid'])"
   ]
  },
  {
   "cell_type": "code",
   "execution_count": 57,
   "metadata": {},
   "outputs": [],
   "source": [
    "# Counting the number of users per item that is userscount\n",
    "rev_users = rev.groupby('qid')['username'].nunique()\n",
    "# Converting to a dataframe so that it can be compared/merged \n",
    "df_userscount = pd.DataFrame({'qid':rev_users.index, 'userscount':rev_users.values})"
   ]
  },
  {
   "cell_type": "code",
   "execution_count": 58,
   "metadata": {},
   "outputs": [],
   "source": [
    "# Adding userscount for each item \n",
    "proxies = pd.merge(proxies, df_userscount, how='inner', on=['qid'])"
   ]
  },
  {
   "cell_type": "code",
   "execution_count": 59,
   "metadata": {},
   "outputs": [
    {
     "data": {
      "text/html": [
       "<div>\n",
       "<style scoped>\n",
       "    .dataframe tbody tr th:only-of-type {\n",
       "        vertical-align: middle;\n",
       "    }\n",
       "\n",
       "    .dataframe tbody tr th {\n",
       "        vertical-align: top;\n",
       "    }\n",
       "\n",
       "    .dataframe thead th {\n",
       "        text-align: right;\n",
       "    }\n",
       "</style>\n",
       "<table border=\"1\" class=\"dataframe\">\n",
       "  <thead>\n",
       "    <tr style=\"text-align: right;\">\n",
       "      <th></th>\n",
       "      <th>revert</th>\n",
       "      <th>merge</th>\n",
       "      <th>undo</th>\n",
       "      <th>restore</th>\n",
       "      <th>protect</th>\n",
       "      <th>remove</th>\n",
       "      <th>editscount</th>\n",
       "      <th>userscount</th>\n",
       "    </tr>\n",
       "  </thead>\n",
       "  <tbody>\n",
       "    <tr>\n",
       "      <th>count</th>\n",
       "      <td>20337.000000</td>\n",
       "      <td>20337.000000</td>\n",
       "      <td>20337.000000</td>\n",
       "      <td>20337.000000</td>\n",
       "      <td>20337.000000</td>\n",
       "      <td>20337.000000</td>\n",
       "      <td>20337.000000</td>\n",
       "      <td>20337.000000</td>\n",
       "    </tr>\n",
       "    <tr>\n",
       "      <th>mean</th>\n",
       "      <td>0.048532</td>\n",
       "      <td>0.016227</td>\n",
       "      <td>0.027143</td>\n",
       "      <td>0.013916</td>\n",
       "      <td>0.001131</td>\n",
       "      <td>0.414663</td>\n",
       "      <td>12.702906</td>\n",
       "      <td>3.170772</td>\n",
       "    </tr>\n",
       "    <tr>\n",
       "      <th>std</th>\n",
       "      <td>0.419052</td>\n",
       "      <td>0.132801</td>\n",
       "      <td>0.392508</td>\n",
       "      <td>0.171060</td>\n",
       "      <td>0.035044</td>\n",
       "      <td>1.025207</td>\n",
       "      <td>23.859250</td>\n",
       "      <td>2.517542</td>\n",
       "    </tr>\n",
       "    <tr>\n",
       "      <th>min</th>\n",
       "      <td>0.000000</td>\n",
       "      <td>0.000000</td>\n",
       "      <td>0.000000</td>\n",
       "      <td>0.000000</td>\n",
       "      <td>0.000000</td>\n",
       "      <td>0.000000</td>\n",
       "      <td>6.000000</td>\n",
       "      <td>1.000000</td>\n",
       "    </tr>\n",
       "    <tr>\n",
       "      <th>25%</th>\n",
       "      <td>0.000000</td>\n",
       "      <td>0.000000</td>\n",
       "      <td>0.000000</td>\n",
       "      <td>0.000000</td>\n",
       "      <td>0.000000</td>\n",
       "      <td>0.000000</td>\n",
       "      <td>7.000000</td>\n",
       "      <td>2.000000</td>\n",
       "    </tr>\n",
       "    <tr>\n",
       "      <th>50%</th>\n",
       "      <td>0.000000</td>\n",
       "      <td>0.000000</td>\n",
       "      <td>0.000000</td>\n",
       "      <td>0.000000</td>\n",
       "      <td>0.000000</td>\n",
       "      <td>0.000000</td>\n",
       "      <td>9.000000</td>\n",
       "      <td>3.000000</td>\n",
       "    </tr>\n",
       "    <tr>\n",
       "      <th>75%</th>\n",
       "      <td>0.000000</td>\n",
       "      <td>0.000000</td>\n",
       "      <td>0.000000</td>\n",
       "      <td>0.000000</td>\n",
       "      <td>0.000000</td>\n",
       "      <td>0.000000</td>\n",
       "      <td>12.000000</td>\n",
       "      <td>4.000000</td>\n",
       "    </tr>\n",
       "    <tr>\n",
       "      <th>max</th>\n",
       "      <td>19.000000</td>\n",
       "      <td>3.000000</td>\n",
       "      <td>31.000000</td>\n",
       "      <td>8.000000</td>\n",
       "      <td>2.000000</td>\n",
       "      <td>32.000000</td>\n",
       "      <td>456.000000</td>\n",
       "      <td>122.000000</td>\n",
       "    </tr>\n",
       "  </tbody>\n",
       "</table>\n",
       "</div>"
      ],
      "text/plain": [
       "             revert         merge          undo       restore       protect  \\\n",
       "count  20337.000000  20337.000000  20337.000000  20337.000000  20337.000000   \n",
       "mean       0.048532      0.016227      0.027143      0.013916      0.001131   \n",
       "std        0.419052      0.132801      0.392508      0.171060      0.035044   \n",
       "min        0.000000      0.000000      0.000000      0.000000      0.000000   \n",
       "25%        0.000000      0.000000      0.000000      0.000000      0.000000   \n",
       "50%        0.000000      0.000000      0.000000      0.000000      0.000000   \n",
       "75%        0.000000      0.000000      0.000000      0.000000      0.000000   \n",
       "max       19.000000      3.000000     31.000000      8.000000      2.000000   \n",
       "\n",
       "             remove    editscount    userscount  \n",
       "count  20337.000000  20337.000000  20337.000000  \n",
       "mean       0.414663     12.702906      3.170772  \n",
       "std        1.025207     23.859250      2.517542  \n",
       "min        0.000000      6.000000      1.000000  \n",
       "25%        0.000000      7.000000      2.000000  \n",
       "50%        0.000000      9.000000      3.000000  \n",
       "75%        0.000000     12.000000      4.000000  \n",
       "max       32.000000    456.000000    122.000000  "
      ]
     },
     "execution_count": 59,
     "metadata": {},
     "output_type": "execute_result"
    }
   ],
   "source": [
    "proxies.describe()"
   ]
  },
  {
   "cell_type": "code",
   "execution_count": 60,
   "metadata": {},
   "outputs": [
    {
     "data": {
      "text/plain": [
       "Text(0, 0.5, 'No of Edits')"
      ]
     },
     "execution_count": 60,
     "metadata": {},
     "output_type": "execute_result"
    },
    {
     "data": {
      "image/png": "[encoded data removed]",
      "text/plain": [
       "<Figure size 432x288 with 1 Axes>"
      ]
     },
     "metadata": {
      "needs_background": "light"
     },
     "output_type": "display_data"
    }
   ],
   "source": [
    "ax = sns.scatterplot(x=\"revert\", y=\"editscount\", data=proxies)\n",
    "ax.set_title(\"No of Reverts vs No of Edits\")\n",
    "ax.set_xlabel(\"No of Reverts\")\n",
    "ax.set_ylabel(\"No of Edits\")"
   ]
  },
  {
   "cell_type": "code",
   "execution_count": 61,
   "metadata": {},
   "outputs": [
    {
     "data": {
      "text/plain": [
       "<seaborn.axisgrid.FacetGrid at 0x1fd8df8a970>"
      ]
     },
     "execution_count": 61,
     "metadata": {},
     "output_type": "execute_result"
    },
    {
     "data": {
      "image/png": "[encoded data removed]",
      "text/plain": [
       "<Figure size 360x360 with 1 Axes>"
      ]
     },
     "metadata": {
      "needs_background": "light"
     },
     "output_type": "display_data"
    }
   ],
   "source": [
    "sns.lmplot(x=\"revert\", y=\"editscount\", data=proxies)"
   ]
  },
  {
   "cell_type": "code",
   "execution_count": 62,
   "metadata": {},
   "outputs": [
    {
     "data": {
      "text/html": [
       "<div>\n",
       "<style scoped>\n",
       "    .dataframe tbody tr th:only-of-type {\n",
       "        vertical-align: middle;\n",
       "    }\n",
       "\n",
       "    .dataframe tbody tr th {\n",
       "        vertical-align: top;\n",
       "    }\n",
       "\n",
       "    .dataframe thead th {\n",
       "        text-align: right;\n",
       "    }\n",
       "</style>\n",
       "<table border=\"1\" class=\"dataframe\">\n",
       "  <thead>\n",
       "    <tr style=\"text-align: right;\">\n",
       "      <th></th>\n",
       "      <th>revert</th>\n",
       "      <th>merge</th>\n",
       "      <th>undo</th>\n",
       "      <th>restore</th>\n",
       "      <th>protect</th>\n",
       "      <th>remove</th>\n",
       "      <th>editscount</th>\n",
       "      <th>userscount</th>\n",
       "    </tr>\n",
       "  </thead>\n",
       "  <tbody>\n",
       "    <tr>\n",
       "      <th>revert</th>\n",
       "      <td>1.000000</td>\n",
       "      <td>0.043284</td>\n",
       "      <td>0.242223</td>\n",
       "      <td>0.438530</td>\n",
       "      <td>0.307676</td>\n",
       "      <td>0.134689</td>\n",
       "      <td>0.088588</td>\n",
       "      <td>0.376499</td>\n",
       "    </tr>\n",
       "    <tr>\n",
       "      <th>merge</th>\n",
       "      <td>0.043284</td>\n",
       "      <td>1.000000</td>\n",
       "      <td>0.075511</td>\n",
       "      <td>0.044176</td>\n",
       "      <td>0.038322</td>\n",
       "      <td>0.112746</td>\n",
       "      <td>0.014899</td>\n",
       "      <td>0.102905</td>\n",
       "    </tr>\n",
       "    <tr>\n",
       "      <th>undo</th>\n",
       "      <td>0.242223</td>\n",
       "      <td>0.075511</td>\n",
       "      <td>1.000000</td>\n",
       "      <td>0.240455</td>\n",
       "      <td>0.140768</td>\n",
       "      <td>0.191990</td>\n",
       "      <td>0.125553</td>\n",
       "      <td>0.355794</td>\n",
       "    </tr>\n",
       "    <tr>\n",
       "      <th>restore</th>\n",
       "      <td>0.438530</td>\n",
       "      <td>0.044176</td>\n",
       "      <td>0.240455</td>\n",
       "      <td>1.000000</td>\n",
       "      <td>0.358308</td>\n",
       "      <td>0.175431</td>\n",
       "      <td>0.111244</td>\n",
       "      <td>0.275491</td>\n",
       "    </tr>\n",
       "    <tr>\n",
       "      <th>protect</th>\n",
       "      <td>0.307676</td>\n",
       "      <td>0.038322</td>\n",
       "      <td>0.140768</td>\n",
       "      <td>0.358308</td>\n",
       "      <td>1.000000</td>\n",
       "      <td>0.119711</td>\n",
       "      <td>0.054921</td>\n",
       "      <td>0.149416</td>\n",
       "    </tr>\n",
       "    <tr>\n",
       "      <th>remove</th>\n",
       "      <td>0.134689</td>\n",
       "      <td>0.112746</td>\n",
       "      <td>0.191990</td>\n",
       "      <td>0.175431</td>\n",
       "      <td>0.119711</td>\n",
       "      <td>1.000000</td>\n",
       "      <td>0.127148</td>\n",
       "      <td>0.338080</td>\n",
       "    </tr>\n",
       "    <tr>\n",
       "      <th>editscount</th>\n",
       "      <td>0.088588</td>\n",
       "      <td>0.014899</td>\n",
       "      <td>0.125553</td>\n",
       "      <td>0.111244</td>\n",
       "      <td>0.054921</td>\n",
       "      <td>0.127148</td>\n",
       "      <td>1.000000</td>\n",
       "      <td>0.210123</td>\n",
       "    </tr>\n",
       "    <tr>\n",
       "      <th>userscount</th>\n",
       "      <td>0.376499</td>\n",
       "      <td>0.102905</td>\n",
       "      <td>0.355794</td>\n",
       "      <td>0.275491</td>\n",
       "      <td>0.149416</td>\n",
       "      <td>0.338080</td>\n",
       "      <td>0.210123</td>\n",
       "      <td>1.000000</td>\n",
       "    </tr>\n",
       "  </tbody>\n",
       "</table>\n",
       "</div>"
      ],
      "text/plain": [
       "              revert     merge      undo   restore   protect    remove  \\\n",
       "revert      1.000000  0.043284  0.242223  0.438530  0.307676  0.134689   \n",
       "merge       0.043284  1.000000  0.075511  0.044176  0.038322  0.112746   \n",
       "undo        0.242223  0.075511  1.000000  0.240455  0.140768  0.191990   \n",
       "restore     0.438530  0.044176  0.240455  1.000000  0.358308  0.175431   \n",
       "protect     0.307676  0.038322  0.140768  0.358308  1.000000  0.119711   \n",
       "remove      0.134689  0.112746  0.191990  0.175431  0.119711  1.000000   \n",
       "editscount  0.088588  0.014899  0.125553  0.111244  0.054921  0.127148   \n",
       "userscount  0.376499  0.102905  0.355794  0.275491  0.149416  0.338080   \n",
       "\n",
       "            editscount  userscount  \n",
       "revert        0.088588    0.376499  \n",
       "merge         0.014899    0.102905  \n",
       "undo          0.125553    0.355794  \n",
       "restore       0.111244    0.275491  \n",
       "protect       0.054921    0.149416  \n",
       "remove        0.127148    0.338080  \n",
       "editscount    1.000000    0.210123  \n",
       "userscount    0.210123    1.000000  "
      ]
     },
     "execution_count": 62,
     "metadata": {},
     "output_type": "execute_result"
    }
   ],
   "source": [
    "corr_matrix = proxies.corr()\n",
    "corr_matrix"
   ]
  },
  {
   "cell_type": "code",
   "execution_count": 63,
   "metadata": {},
   "outputs": [],
   "source": [
    "# no negative correlation?"
   ]
  },
  {
   "cell_type": "code",
   "execution_count": 64,
   "metadata": {},
   "outputs": [
    {
     "data": {
      "text/plain": [
       "<matplotlib.axes._subplots.AxesSubplot at 0x1fd8c834610>"
      ]
     },
     "execution_count": 64,
     "metadata": {},
     "output_type": "execute_result"
    },
    {
     "data": {
      "image/png": "[encoded data removed]",
      "text/plain": [
       "<Figure size 432x288 with 2 Axes>"
      ]
     },
     "metadata": {
      "needs_background": "light"
     },
     "output_type": "display_data"
    }
   ],
   "source": [
    "sns.heatmap(corr_matrix)"
   ]
  },
  {
   "cell_type": "code",
   "execution_count": 65,
   "metadata": {},
   "outputs": [
    {
     "data": {
      "text/plain": [
       "<seaborn.axisgrid.FacetGrid at 0x1fd8c8c1d30>"
      ]
     },
     "execution_count": 65,
     "metadata": {},
     "output_type": "execute_result"
    },
    {
     "data": {
      "image/png": "[encoded data removed]",
      "text/plain": [
       "<Figure size 648x432 with 1 Axes>"
      ]
     },
     "metadata": {
      "needs_background": "light"
     },
     "output_type": "display_data"
    }
   ],
   "source": [
    "sns.lmplot(x=\"revert\", y=\"restore\", data=proxies, height=6, aspect=1.5)"
   ]
  },
  {
   "cell_type": "code",
   "execution_count": 66,
   "metadata": {},
   "outputs": [
    {
     "data": {
      "text/plain": [
       "Text(0, 0.5, 'No of Edits')"
      ]
     },
     "execution_count": 66,
     "metadata": {},
     "output_type": "execute_result"
    },
    {
     "data": {
      "image/png": "[encoded data removed]",
      "text/plain": [
       "<Figure size 432x288 with 1 Axes>"
      ]
     },
     "metadata": {
      "needs_background": "light"
     },
     "output_type": "display_data"
    }
   ],
   "source": [
    "ax = sns.scatterplot(x=\"userscount\", y=\"editscount\", data=proxies)\n",
    "ax.set_title(\"No of Users vs No of Edits\")\n",
    "ax.set_xlabel(\"No of Users\")\n",
    "ax.set_ylabel(\"No of Edits\")"
   ]
  },
  {
   "cell_type": "code",
   "execution_count": 67,
   "metadata": {},
   "outputs": [],
   "source": [
    "# slightly different behaviour - look into this"
   ]
  },
  {
   "cell_type": "code",
   "execution_count": 68,
   "metadata": {},
   "outputs": [
    {
     "data": {
      "text/plain": [
       "<seaborn.axisgrid.FacetGrid at 0x1fd8cca56d0>"
      ]
     },
     "execution_count": 68,
     "metadata": {},
     "output_type": "execute_result"
    },
    {
     "data": {
      "image/png": "[encoded data removed]",
      "text/plain": [
       "<Figure size 864x432 with 1 Axes>"
      ]
     },
     "metadata": {
      "needs_background": "light"
     },
     "output_type": "display_data"
    }
   ],
   "source": [
    "sns.lmplot(x=\"userscount\", y=\"editscount\", data=proxies, height=6, aspect=2)"
   ]
  },
  {
   "cell_type": "code",
   "execution_count": 69,
   "metadata": {},
   "outputs": [],
   "source": [
    "# Removing items with 0 reverts, merges, undos, restores, removes, protects\n",
    "# Removing items with editscount <= 5 \n",
    "to_remove = proxies[(proxies['revert'] == 0) & (proxies['merge'] == 0) & (proxies['undo'] == 0) & (proxies['restore'] == 0) & \n",
    "                   (proxies['remove'] == 0) & (proxies['protect'] == 0)].index\n",
    "proxies = proxies.drop(to_remove)"
   ]
  },
  {
   "cell_type": "code",
   "execution_count": 70,
   "metadata": {},
   "outputs": [
    {
     "data": {
      "text/plain": [
       "(5411, 9)"
      ]
     },
     "execution_count": 70,
     "metadata": {},
     "output_type": "execute_result"
    }
   ],
   "source": [
    "proxies.shape"
   ]
  },
  {
   "cell_type": "code",
   "execution_count": 71,
   "metadata": {},
   "outputs": [
    {
     "data": {
      "text/html": [
       "<div>\n",
       "<style scoped>\n",
       "    .dataframe tbody tr th:only-of-type {\n",
       "        vertical-align: middle;\n",
       "    }\n",
       "\n",
       "    .dataframe tbody tr th {\n",
       "        vertical-align: top;\n",
       "    }\n",
       "\n",
       "    .dataframe thead th {\n",
       "        text-align: right;\n",
       "    }\n",
       "</style>\n",
       "<table border=\"1\" class=\"dataframe\">\n",
       "  <thead>\n",
       "    <tr style=\"text-align: right;\">\n",
       "      <th></th>\n",
       "      <th>qid</th>\n",
       "      <th>revert</th>\n",
       "      <th>merge</th>\n",
       "      <th>undo</th>\n",
       "      <th>restore</th>\n",
       "      <th>protect</th>\n",
       "      <th>remove</th>\n",
       "      <th>editscount</th>\n",
       "      <th>userscount</th>\n",
       "    </tr>\n",
       "  </thead>\n",
       "  <tbody>\n",
       "    <tr>\n",
       "      <th>45</th>\n",
       "      <td>Q2161317</td>\n",
       "      <td>0</td>\n",
       "      <td>0</td>\n",
       "      <td>0</td>\n",
       "      <td>0</td>\n",
       "      <td>0</td>\n",
       "      <td>1</td>\n",
       "      <td>6</td>\n",
       "      <td>2</td>\n",
       "    </tr>\n",
       "    <tr>\n",
       "      <th>49</th>\n",
       "      <td>Q2163773</td>\n",
       "      <td>0</td>\n",
       "      <td>0</td>\n",
       "      <td>0</td>\n",
       "      <td>0</td>\n",
       "      <td>0</td>\n",
       "      <td>2</td>\n",
       "      <td>6</td>\n",
       "      <td>3</td>\n",
       "    </tr>\n",
       "    <tr>\n",
       "      <th>53</th>\n",
       "      <td>Q2168474</td>\n",
       "      <td>0</td>\n",
       "      <td>0</td>\n",
       "      <td>0</td>\n",
       "      <td>0</td>\n",
       "      <td>0</td>\n",
       "      <td>3</td>\n",
       "      <td>8</td>\n",
       "      <td>2</td>\n",
       "    </tr>\n",
       "    <tr>\n",
       "      <th>55</th>\n",
       "      <td>Q2171566</td>\n",
       "      <td>0</td>\n",
       "      <td>0</td>\n",
       "      <td>0</td>\n",
       "      <td>0</td>\n",
       "      <td>0</td>\n",
       "      <td>1</td>\n",
       "      <td>9</td>\n",
       "      <td>5</td>\n",
       "    </tr>\n",
       "    <tr>\n",
       "      <th>67</th>\n",
       "      <td>Q2196866</td>\n",
       "      <td>0</td>\n",
       "      <td>0</td>\n",
       "      <td>0</td>\n",
       "      <td>0</td>\n",
       "      <td>0</td>\n",
       "      <td>1</td>\n",
       "      <td>21</td>\n",
       "      <td>2</td>\n",
       "    </tr>\n",
       "  </tbody>\n",
       "</table>\n",
       "</div>"
      ],
      "text/plain": [
       "         qid  revert  merge  undo  restore  protect  remove  editscount  \\\n",
       "45  Q2161317       0      0     0        0        0       1           6   \n",
       "49  Q2163773       0      0     0        0        0       2           6   \n",
       "53  Q2168474       0      0     0        0        0       3           8   \n",
       "55  Q2171566       0      0     0        0        0       1           9   \n",
       "67  Q2196866       0      0     0        0        0       1          21   \n",
       "\n",
       "    userscount  \n",
       "45           2  \n",
       "49           3  \n",
       "53           2  \n",
       "55           5  \n",
       "67           2  "
      ]
     },
     "execution_count": 71,
     "metadata": {},
     "output_type": "execute_result"
    }
   ],
   "source": [
    "proxies.head()"
   ]
  },
  {
   "cell_type": "code",
   "execution_count": null,
   "metadata": {},
   "outputs": [],
   "source": []
  }
 ],
 "metadata": {
  "kernelspec": {
   "display_name": "Python 3",
   "language": "python",
   "name": "python3"
  },
  "language_info": {
   "codemirror_mode": {
    "name": "ipython",
    "version": 3
   },
   "file_extension": ".py",
   "mimetype": "text/x-python",
   "name": "python",
   "nbconvert_exporter": "python",
   "pygments_lexer": "ipython3",
   "version": "3.8.3"
  }
 },
 "nbformat": 4,
 "nbformat_minor": 4
}
